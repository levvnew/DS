{
 "cells": [
  {
   "cell_type": "markdown",
   "metadata": {},
   "source": [
    "<div style=\"border:solid orange 2px; padding: 20px\"> <h7 style=\"color:black; margin-bottom:20px\">Привет! Меня зовут Хорин Роман. Я работаю наставником в Практикуме и пришел сегодня помогать команде ревьюеров проверять имеющиеся проекты. Если ты не против, давай общаться на \"ты\", так я думаю будет комфортнее и удобнее)\n",
    "Мои комментарии и замечания далее по тексту помечены различными цветами:\n",
    "    \n",
    "---    \n",
    "<div class=\"alert alert-danger\">\n",
    "<b>Комментарий ревьюера ❌:</b> Так выделены самые важные замечания. Без их отработки проект не будет принят. \n",
    "</div>\n",
    "\n",
    "<div class=\"alert alert-warning\">\n",
    "<b>Комментарий ревьюера ⚠️:</b> Так выделены небольшие замечания. Я надеюсь, что их ты тоже учтешь - твой проект от этого станет только лучше. Но настаивать на их отработке не буду.\n",
    "</div>\n",
    "\n",
    "<div class=\"alert alert-success\">\n",
    "<b>Комментарий ревьюера ✔️:</b> Так я выделяю все остальные комментарии.\n",
    "</div> \n",
    "    \n",
    "---\n",
    "\n",
    "Для меня главное, не просто указать на ошибки, а чтобы у тебя, в первую очередь, было понимание как это делается, подсказать в каких то моментах. Поэтому если возникнут вопросы по проекту или вопросы общего характера, то не стесняйся - задавай!)\n",
    "    \n",
    "Давай работать над проектом в диалоге: **если ты что-то меняешь в проекте или отвечаешь на мои комменатри — пиши об этом.** Мне будет легче отследить изменения, если ты выделишь свои комментарии:\n",
    "<div class=\"alert alert-info\"> <b>Комментарий студента:</b> Например, вот так.</div>\n",
    "\n",
    "Всё это поможет выполнить повторную проверку твоего проекта оперативнее.\n",
    "    \n",
    "Удачи!</h7>"
   ]
  },
  {
   "cell_type": "markdown",
   "metadata": {},
   "source": [
    "<div class=\"alert alert-warning\">\n",
    "<b>Комментарий ревьюера ⚠️:</b> Спасибо большое за первую версию проекта! Все выполнено практически правильно, но в некоторых местах есть небольшие ошибки, которые ты очень быстро исправишь (я в этом уверен).\n",
    "    \n",
    "Изучи мои комментарии и присылай работу на повторную проверку. Если будут какие-либо вопросы, также задавай :)\n",
    "</div>"
   ]
  },
  {
   "cell_type": "markdown",
   "metadata": {},
   "source": [
    "<div class=\"alert alert-info\"> <b>Комментарий студента:</b>\n",
    "    \n",
    "    Роман, привет. Благодарю за скорую проверку проекта!)\n",
    "    Я делал данный проект с помощью коллег по обучению. А также приходилось гуглить некоторые моменты, а не брать их из конспектов обучения.\n",
    "\n",
    "    Я поставил себе цель 27 мар сдать второй проект, но не смог её реализовать, т.к. даваемый материал кажется очень сложным и ложится ОЧЕНЬ тяжело!\n",
    "    Мне интересно насколько это нормально не понимать то, что делаешь? Вроде, что-то получается, но нет уверенности в своих знаниях. Как быть в такой ситуации.\n",
    "    Буду рад пообщаться и получить ответ в ТГ: t.me/Lvvovich\n",
    "    \n",
    "    Заранее благодарен на ответ на личный вопрос)\n",
    "</div>"
   ]
  },
  {
   "cell_type": "markdown",
   "metadata": {},
   "source": [
    "<div class=\"alert alert-success\">\n",
    "<b>Комментарий ревьюера 2 ✔️:</b> Спасибо за внесенные исправления! Все ошибки исправлены, а работа получилась очень хорошего качества, так что я тебя поздравляю и желаю удачи в дальнейшем!\n",
    "    \n",
    "    >> Мне интересно насколько это нормально не понимать то, что делаешь? Вроде, что-то получается, но нет уверенности в своих знаниях. Как быть в такой ситуации.\n",
    "    \n",
    "Когда ты погружаешься в новую для себя область, не понимать чего-то - это совершенно нормально. Главное - не опускать руки, не бояться задавать вопросы наставникам и преподавателям, не бояться показаться некомпетентным и как можно больше практиковаться.\n",
    "    \n",
    "Я также, как и ты, когда-то начинал изучать python и аналитику данных. Да, сначала было непросто, но потом все начало получаться) Я уверен, у тебя также все получится! Главное - не унывать!\n",
    "    \n",
    "Желаю удачи!\n",
    "    \n",
    "</div> "
   ]
  },
  {
   "cell_type": "markdown",
   "metadata": {
    "id": "E0vqbgi9ay0H"
   },
   "source": [
    "# Яндекс.Музыка"
   ]
  },
  {
   "cell_type": "markdown",
   "metadata": {
    "id": "VUC88oWjTJw2"
   },
   "source": [
    "Сравнение Москвы и Петербурга окружено мифами. Например:\n",
    " * Москва — мегаполис, подчинённый жёсткому ритму рабочей недели;\n",
    " * Петербург — культурная столица, со своими вкусами.\n",
    "\n",
    "На данных Яндекс.Музыки вы сравните поведение пользователей двух столиц.\n",
    "\n",
    "**Цель исследования** — проверьте три гипотезы:\n",
    "1. Активность пользователей зависит от дня недели. Причём в Москве и Петербурге это проявляется по-разному.\n",
    "2. В понедельник утром в Москве преобладают одни жанры, а в Петербурге — другие. Так же и вечером пятницы преобладают разные жанры — в зависимости от города. \n",
    "3. Москва и Петербург предпочитают разные жанры музыки. В Москве чаще слушают поп-музыку, в Петербурге — русский рэп.\n",
    "\n",
    "**Ход исследования**\n",
    "\n",
    "Данные о поведении пользователей вы получите из файла `yandex_music_project.csv`. О качестве данных ничего не известно. Поэтому перед проверкой гипотез понадобится обзор данных. \n",
    "\n",
    "Вы проверите данные на ошибки и оцените их влияние на исследование. Затем, на этапе предобработки вы поищете возможность исправить самые критичные ошибки данных.\n",
    " \n",
    "Таким образом, исследование пройдёт в три этапа:\n",
    " 1. Обзор данных.\n",
    " 2. Предобработка данных.\n",
    " 3. Проверка гипотез.\n",
    "\n"
   ]
  },
  {
   "cell_type": "markdown",
   "metadata": {
    "id": "Ml1hmfXC_Zcs"
   },
   "source": [
    "## Обзор данных\n",
    "\n",
    "Составьте первое представление о данных Яндекс.Музыки.\n",
    "\n",
    "\n"
   ]
  },
  {
   "cell_type": "markdown",
   "metadata": {
    "id": "57eAOGIz_Zcs"
   },
   "source": [
    "Основной инструмент аналитика — `pandas`. Импортируйте эту библиотеку."
   ]
  },
  {
   "cell_type": "code",
   "execution_count": 1,
   "metadata": {
    "id": "AXN7PHPN_Zcs"
   },
   "outputs": [],
   "source": [
    "# импорт библиотеки pandas\n",
    "\n",
    "import pandas as pd "
   ]
  },
  {
   "cell_type": "markdown",
   "metadata": {},
   "source": [
    "<div class=\"alert alert-success\">\n",
    "<b>Комментарий ревьюера ✔️:</b> Очень здорово, что ты используешь сокращение pd для Pandas, это общепринятое сокращение для этой библиотеки для удобной дальнейшей работы.\n",
    "</div> "
   ]
  },
  {
   "cell_type": "markdown",
   "metadata": {
    "id": "SG23P8tt_Zcs"
   },
   "source": [
    "Прочитайте файл `yandex_music_project.csv` из папки `/datasets` и сохраните его в переменной `df`:"
   ]
  },
  {
   "cell_type": "code",
   "execution_count": 2,
   "metadata": {
    "id": "fFVu7vqh_Zct"
   },
   "outputs": [],
   "source": [
    "# чтение файла с данными и сохранение в df\n",
    "\n",
    "df = pd.read_csv('/datasets/yandex_music_project.csv')"
   ]
  },
  {
   "cell_type": "markdown",
   "metadata": {},
   "source": [
    "<div class=\"alert alert-success\">\n",
    "<b>Комментарий ревьюера ✔️:</b> Указан правильный путь к файлу: слэш в начале пути очень важен, так как указывает, что нужно искать файл в корневой папке.\n",
    "</div> "
   ]
  },
  {
   "cell_type": "markdown",
   "metadata": {
    "id": "rDoOMd3uTqnZ"
   },
   "source": [
    "Выведите на экран первые десять строк таблицы:"
   ]
  },
  {
   "cell_type": "code",
   "execution_count": 3,
   "metadata": {
    "id": "oWTVX3gW_Zct"
   },
   "outputs": [
    {
     "data": {
      "text/html": [
       "<div>\n",
       "<style scoped>\n",
       "    .dataframe tbody tr th:only-of-type {\n",
       "        vertical-align: middle;\n",
       "    }\n",
       "\n",
       "    .dataframe tbody tr th {\n",
       "        vertical-align: top;\n",
       "    }\n",
       "\n",
       "    .dataframe thead th {\n",
       "        text-align: right;\n",
       "    }\n",
       "</style>\n",
       "<table border=\"1\" class=\"dataframe\">\n",
       "  <thead>\n",
       "    <tr style=\"text-align: right;\">\n",
       "      <th></th>\n",
       "      <th>userID</th>\n",
       "      <th>Track</th>\n",
       "      <th>artist</th>\n",
       "      <th>genre</th>\n",
       "      <th>City</th>\n",
       "      <th>time</th>\n",
       "      <th>Day</th>\n",
       "    </tr>\n",
       "  </thead>\n",
       "  <tbody>\n",
       "    <tr>\n",
       "      <th>0</th>\n",
       "      <td>FFB692EC</td>\n",
       "      <td>Kamigata To Boots</td>\n",
       "      <td>The Mass Missile</td>\n",
       "      <td>rock</td>\n",
       "      <td>Saint-Petersburg</td>\n",
       "      <td>20:28:33</td>\n",
       "      <td>Wednesday</td>\n",
       "    </tr>\n",
       "    <tr>\n",
       "      <th>1</th>\n",
       "      <td>55204538</td>\n",
       "      <td>Delayed Because of Accident</td>\n",
       "      <td>Andreas Rönnberg</td>\n",
       "      <td>rock</td>\n",
       "      <td>Moscow</td>\n",
       "      <td>14:07:09</td>\n",
       "      <td>Friday</td>\n",
       "    </tr>\n",
       "    <tr>\n",
       "      <th>2</th>\n",
       "      <td>20EC38</td>\n",
       "      <td>Funiculì funiculà</td>\n",
       "      <td>Mario Lanza</td>\n",
       "      <td>pop</td>\n",
       "      <td>Saint-Petersburg</td>\n",
       "      <td>20:58:07</td>\n",
       "      <td>Wednesday</td>\n",
       "    </tr>\n",
       "    <tr>\n",
       "      <th>3</th>\n",
       "      <td>A3DD03C9</td>\n",
       "      <td>Dragons in the Sunset</td>\n",
       "      <td>Fire + Ice</td>\n",
       "      <td>folk</td>\n",
       "      <td>Saint-Petersburg</td>\n",
       "      <td>08:37:09</td>\n",
       "      <td>Monday</td>\n",
       "    </tr>\n",
       "    <tr>\n",
       "      <th>4</th>\n",
       "      <td>E2DC1FAE</td>\n",
       "      <td>Soul People</td>\n",
       "      <td>Space Echo</td>\n",
       "      <td>dance</td>\n",
       "      <td>Moscow</td>\n",
       "      <td>08:34:34</td>\n",
       "      <td>Monday</td>\n",
       "    </tr>\n",
       "    <tr>\n",
       "      <th>5</th>\n",
       "      <td>842029A1</td>\n",
       "      <td>Преданная</td>\n",
       "      <td>IMPERVTOR</td>\n",
       "      <td>rusrap</td>\n",
       "      <td>Saint-Petersburg</td>\n",
       "      <td>13:09:41</td>\n",
       "      <td>Friday</td>\n",
       "    </tr>\n",
       "    <tr>\n",
       "      <th>6</th>\n",
       "      <td>4CB90AA5</td>\n",
       "      <td>True</td>\n",
       "      <td>Roman Messer</td>\n",
       "      <td>dance</td>\n",
       "      <td>Moscow</td>\n",
       "      <td>13:00:07</td>\n",
       "      <td>Wednesday</td>\n",
       "    </tr>\n",
       "    <tr>\n",
       "      <th>7</th>\n",
       "      <td>F03E1C1F</td>\n",
       "      <td>Feeling This Way</td>\n",
       "      <td>Polina Griffith</td>\n",
       "      <td>dance</td>\n",
       "      <td>Moscow</td>\n",
       "      <td>20:47:49</td>\n",
       "      <td>Wednesday</td>\n",
       "    </tr>\n",
       "    <tr>\n",
       "      <th>8</th>\n",
       "      <td>8FA1D3BE</td>\n",
       "      <td>И вновь продолжается бой</td>\n",
       "      <td>NaN</td>\n",
       "      <td>ruspop</td>\n",
       "      <td>Moscow</td>\n",
       "      <td>09:17:40</td>\n",
       "      <td>Friday</td>\n",
       "    </tr>\n",
       "    <tr>\n",
       "      <th>9</th>\n",
       "      <td>E772D5C0</td>\n",
       "      <td>Pessimist</td>\n",
       "      <td>NaN</td>\n",
       "      <td>dance</td>\n",
       "      <td>Saint-Petersburg</td>\n",
       "      <td>21:20:49</td>\n",
       "      <td>Wednesday</td>\n",
       "    </tr>\n",
       "  </tbody>\n",
       "</table>\n",
       "</div>"
      ],
      "text/plain": [
       "     userID                        Track            artist   genre  \\\n",
       "0  FFB692EC            Kamigata To Boots  The Mass Missile    rock   \n",
       "1  55204538  Delayed Because of Accident  Andreas Rönnberg    rock   \n",
       "2    20EC38            Funiculì funiculà       Mario Lanza     pop   \n",
       "3  A3DD03C9        Dragons in the Sunset        Fire + Ice    folk   \n",
       "4  E2DC1FAE                  Soul People        Space Echo   dance   \n",
       "5  842029A1                    Преданная         IMPERVTOR  rusrap   \n",
       "6  4CB90AA5                         True      Roman Messer   dance   \n",
       "7  F03E1C1F             Feeling This Way   Polina Griffith   dance   \n",
       "8  8FA1D3BE     И вновь продолжается бой               NaN  ruspop   \n",
       "9  E772D5C0                    Pessimist               NaN   dance   \n",
       "\n",
       "             City        time        Day  \n",
       "0  Saint-Petersburg  20:28:33  Wednesday  \n",
       "1            Moscow  14:07:09     Friday  \n",
       "2  Saint-Petersburg  20:58:07  Wednesday  \n",
       "3  Saint-Petersburg  08:37:09     Monday  \n",
       "4            Moscow  08:34:34     Monday  \n",
       "5  Saint-Petersburg  13:09:41     Friday  \n",
       "6            Moscow  13:00:07  Wednesday  \n",
       "7            Moscow  20:47:49  Wednesday  \n",
       "8            Moscow  09:17:40     Friday  \n",
       "9  Saint-Petersburg  21:20:49  Wednesday  "
      ]
     },
     "metadata": {},
     "output_type": "display_data"
    }
   ],
   "source": [
    "# получение первых 10 строк таблицы df\n",
    "\n",
    "display(df.head(10))"
   ]
  },
  {
   "cell_type": "markdown",
   "metadata": {},
   "source": [
    "<div class=\"alert alert-success\">\n",
    "<b>Комментарий ревьюера ✔️:</b> 👍\n",
    "</div> "
   ]
  },
  {
   "cell_type": "markdown",
   "metadata": {
    "id": "EO73Kwic_Zct"
   },
   "source": [
    "Одной командой получить общую информацию о таблице:"
   ]
  },
  {
   "cell_type": "code",
   "execution_count": 4,
   "metadata": {
    "id": "DSf2kIb-_Zct"
   },
   "outputs": [
    {
     "name": "stdout",
     "output_type": "stream",
     "text": [
      "<class 'pandas.core.frame.DataFrame'>\n",
      "RangeIndex: 65079 entries, 0 to 65078\n",
      "Data columns (total 7 columns):\n",
      " #   Column    Non-Null Count  Dtype \n",
      "---  ------    --------------  ----- \n",
      " 0     userID  65079 non-null  object\n",
      " 1   Track     63848 non-null  object\n",
      " 2   artist    57876 non-null  object\n",
      " 3   genre     63881 non-null  object\n",
      " 4     City    65079 non-null  object\n",
      " 5   time      65079 non-null  object\n",
      " 6   Day       65079 non-null  object\n",
      "dtypes: object(7)\n",
      "memory usage: 3.5+ MB\n"
     ]
    }
   ],
   "source": [
    "# получение общей информации о данных в таблице df\n",
    "\n",
    "df.info()"
   ]
  },
  {
   "cell_type": "markdown",
   "metadata": {},
   "source": [
    "<div class=\"alert alert-success\">\n",
    "<b>Комментарий ревьюера ✔️:</b> Отличный выбор метода — info действительно показывает много информации о датафрейме.\n",
    "</div> "
   ]
  },
  {
   "cell_type": "markdown",
   "metadata": {
    "id": "TaQ2Iwbr_Zct"
   },
   "source": [
    "Итак, в таблице семь столбцов. Тип данных во всех столбцах — `object`.\n",
    "\n",
    "Согласно документации к данным:\n",
    "* `userID` — идентификатор пользователя;\n",
    "* `Track` — название трека;  \n",
    "* `artist` — имя исполнителя;\n",
    "* `genre` — название жанра;\n",
    "* `City` — город пользователя;\n",
    "* `time` — время начала прослушивания;\n",
    "* `Day` — день недели.\n",
    "\n",
    "В названиях колонок видны три нарушения стиля:\n",
    "1. Строчные буквы сочетаются с прописными.\n",
    "2. Встречаются пробелы.\n",
    "3. Найдите ещё одну проблему в названии колонок и опишите её в этом пункте.\n",
    "\n",
    "\n",
    "\n",
    "Количество значений в столбцах различается. Значит, в данных есть пропущенные значения.\n"
   ]
  },
  {
   "cell_type": "markdown",
   "metadata": {
    "id": "MCB6-dXG_Zct"
   },
   "source": [
    "**Выводы**\n",
    "\n",
    "В каждой строке таблицы — данные о прослушанном треке. Часть колонок описывает саму композицию: название, исполнителя и жанр. Остальные данные рассказывают о пользователе: из какого он города, когда он слушал музыку. \n",
    "\n",
    "Предварительно можно утверждать, что, данных достаточно для проверки гипотез. Но встречаются пропуски в данных, а в названиях колонок — расхождения с хорошим стилем.\n",
    "\n",
    "Чтобы двигаться дальше, нужно устранить проблемы в данных."
   ]
  },
  {
   "cell_type": "markdown",
   "metadata": {
    "id": "SjYF6Ub9_Zct"
   },
   "source": [
    "## Предобработка данных\n",
    "Исправьте стиль в заголовках столбцов, исключите пропуски. Затем проверьте данные на дубликаты."
   ]
  },
  {
   "cell_type": "markdown",
   "metadata": {
    "id": "dIaKXr29_Zct"
   },
   "source": [
    "### Стиль заголовков\n",
    "Выведите на экран названия столбцов:"
   ]
  },
  {
   "cell_type": "code",
   "execution_count": 5,
   "metadata": {
    "id": "oKOTdF_Q_Zct"
   },
   "outputs": [
    {
     "data": {
      "text/plain": [
       "Index(['  userID', 'Track', 'artist', 'genre', '  City  ', 'time', 'Day'], dtype='object')"
      ]
     },
     "execution_count": 5,
     "metadata": {},
     "output_type": "execute_result"
    }
   ],
   "source": [
    "# перечень названий столбцов таблицы df\n",
    "\n",
    "df.columns"
   ]
  },
  {
   "cell_type": "markdown",
   "metadata": {},
   "source": [
    "<div class=\"alert alert-success\">\n",
    "<b>Комментарий ревьюера ✔️:</b> Отличный выбор метода — columns тут действительно является самым правильным вариантом.\n",
    "</div> "
   ]
  },
  {
   "cell_type": "markdown",
   "metadata": {
    "id": "zj5534cv_Zct"
   },
   "source": [
    "Приведите названия в соответствие с хорошим стилем:\n",
    "* несколько слов в названии запишите в «змеином_регистре»,\n",
    "* все символы сделайте строчными,\n",
    "* устраните пробелы.\n",
    "\n",
    "Для этого переименуйте колонки так:\n",
    "* `'  userID'` → `'user_id'`;\n",
    "* `'Track'` → `'track'`;\n",
    "* `'  City  '` → `'city'`;\n",
    "* `'Day'` → `'day'`."
   ]
  },
  {
   "cell_type": "code",
   "execution_count": 6,
   "metadata": {
    "id": "ISlFqs5y_Zct"
   },
   "outputs": [],
   "source": [
    "# переименование столбцов\n",
    "\n",
    "# inplace=True обязательно добавить после переименования столбцов\n",
    "df.rename(columns = {'  userID' : 'user_id',\n",
    "'Track' : 'track',\n",
    "'  City  ' : 'city',\n",
    "'Day' : 'day' \n",
    "    \n",
    "}, inplace=True)"
   ]
  },
  {
   "cell_type": "markdown",
   "metadata": {},
   "source": [
    "<div class=\"alert alert-success\">\n",
    "<b>Комментарий ревьюера ✔️:</b> Хороший выбор метода - rename сработает без ошибок, даже если изменится порядок столбцов.\n",
    "</div> "
   ]
  },
  {
   "cell_type": "markdown",
   "metadata": {
    "id": "1dqbh00J_Zct"
   },
   "source": [
    "Проверьте результат. Для этого ещё раз выведите на экран названия столбцов:"
   ]
  },
  {
   "cell_type": "code",
   "execution_count": 7,
   "metadata": {
    "id": "d4NOAmTW_Zct"
   },
   "outputs": [
    {
     "data": {
      "text/plain": [
       "Index(['user_id', 'track', 'artist', 'genre', 'city', 'time', 'day'], dtype='object')"
      ]
     },
     "execution_count": 7,
     "metadata": {},
     "output_type": "execute_result"
    }
   ],
   "source": [
    "# проверка результатов - перечень названий столбцов\n",
    "\n",
    "df.columns\n"
   ]
  },
  {
   "cell_type": "markdown",
   "metadata": {
    "id": "5ISfbcfY_Zct"
   },
   "source": [
    "### Пропуски значений\n",
    "Сначала посчитайте, сколько в таблице пропущенных значений. Для этого достаточно двух методов `pandas`:"
   ]
  },
  {
   "cell_type": "code",
   "execution_count": 8,
   "metadata": {
    "id": "RskX29qr_Zct",
    "scrolled": true
   },
   "outputs": [
    {
     "data": {
      "text/plain": [
       "user_id       0\n",
       "track      1231\n",
       "artist     7203\n",
       "genre      1198\n",
       "city          0\n",
       "time          0\n",
       "day           0\n",
       "dtype: int64"
      ]
     },
     "execution_count": 8,
     "metadata": {},
     "output_type": "execute_result"
    }
   ],
   "source": [
    "# подсчёт пропусков в ячейках таблицы\n",
    "\n",
    "df.isna().sum()"
   ]
  },
  {
   "cell_type": "markdown",
   "metadata": {},
   "source": [
    "<div class=\"alert alert-success\">\n",
    "<b>Комментарий ревьюера ✔️:</b> Выбран метод isna() для нахождения пропущенных значений, это отлично! На самом деле, isnull() и isna() делают одно и то же, но использование isna() предпочтительнее.\n",
    "</div> "
   ]
  },
  {
   "cell_type": "markdown",
   "metadata": {
    "id": "qubhgnlO_Zct"
   },
   "source": [
    "Не все пропущенные значения влияют на исследование. Так в `track` и `artist` пропуски не важны для вашей работы. Достаточно заменить их явными обозначениями.\n",
    "\n",
    "Но пропуски в `genre` могут помешать сравнению музыкальных вкусов в Москве и Санкт-Петербурге. На практике было бы правильно установить причину пропусков и восстановить данные. Такой возможности нет в учебном проекте. Придётся:\n",
    "* заполнить и эти пропуски явными обозначениями,\n",
    "* оценить, насколько они повредят расчётам. "
   ]
  },
  {
   "cell_type": "markdown",
   "metadata": {
    "id": "fSv2laPA_Zct"
   },
   "source": [
    "Замените пропущенные значения в столбцах `track`, `artist` и `genre` на строку `'unknown'`. Для этого создайте список `columns_to_replace`, переберите его элементы циклом `for` и для каждого столбца выполните замену пропущенных значений:"
   ]
  },
  {
   "cell_type": "code",
   "execution_count": 9,
   "metadata": {
    "id": "KplB5qWs_Zct"
   },
   "outputs": [],
   "source": [
    "# перебор названий столбцов в цикле и замена пропущенных значений на 'unknown'\n",
    "columns_to_replace = ['track', 'artist', 'genre']\n",
    "for column in columns_to_replace:\n",
    "    df[column] = df[column].fillna('unknown')"
   ]
  },
  {
   "cell_type": "markdown",
   "metadata": {},
   "source": [
    "<div class=\"alert alert-success\">\n",
    "<b>Комментарий ревьюера ✔️:</b> Список columns_to_replace сформирован верно, цикл отработал без ошибок.\n",
    "</div> "
   ]
  },
  {
   "cell_type": "markdown",
   "metadata": {
    "id": "Ilsm-MZo_Zct"
   },
   "source": [
    "Убедитесь, что в таблице не осталось пропусков. Для этого ещё раз посчитайте пропущенные значения."
   ]
  },
  {
   "cell_type": "code",
   "execution_count": 10,
   "metadata": {
    "id": "Tq4nYRX4_Zct"
   },
   "outputs": [
    {
     "data": {
      "text/plain": [
       "user_id    0\n",
       "track      0\n",
       "artist     0\n",
       "genre      0\n",
       "city       0\n",
       "time       0\n",
       "day        0\n",
       "dtype: int64"
      ]
     },
     "execution_count": 10,
     "metadata": {},
     "output_type": "execute_result"
    }
   ],
   "source": [
    "df.isna().sum()# подсчёт пропусков"
   ]
  },
  {
   "cell_type": "markdown",
   "metadata": {
    "id": "BWKRtBJ3_Zct"
   },
   "source": [
    "### Дубликаты\n",
    "Посчитайте явные дубликаты в таблице одной командой:"
   ]
  },
  {
   "cell_type": "code",
   "execution_count": 11,
   "metadata": {
    "id": "36eES_S0_Zct"
   },
   "outputs": [
    {
     "data": {
      "text/plain": [
       "3826"
      ]
     },
     "execution_count": 11,
     "metadata": {},
     "output_type": "execute_result"
    }
   ],
   "source": [
    "# подсчёт явных дубликатов\n",
    "df.duplicated().sum()"
   ]
  },
  {
   "cell_type": "markdown",
   "metadata": {},
   "source": [
    "<div class=\"alert alert-success\">\n",
    "<b>Комментарий ревьюера ✔️:</b> Дубликаты верно найдены и посчитаны оптимальными методами\n",
    "</div> "
   ]
  },
  {
   "cell_type": "markdown",
   "metadata": {
    "id": "Ot25h6XR_Zct"
   },
   "source": [
    "Вызовите специальный метод `pandas`, чтобы удалить явные дубликаты:"
   ]
  },
  {
   "cell_type": "code",
   "execution_count": 12,
   "metadata": {
    "id": "exFHq6tt_Zct"
   },
   "outputs": [],
   "source": [
    "# удаление явных дубликатов (с удалением старых индексов и формированием новых)\n",
    "# запишем в переменную clean_df очищенную таблицу и продолжим с ней работать\n",
    "# посделадовательно запишем в df очищенные значения, для получения верного нуля в ответе шага 13 после очистки дубликатов\n",
    "df = df.drop_duplicates()"
   ]
  },
  {
   "cell_type": "markdown",
   "metadata": {},
   "source": [
    "<div class=\"alert alert-success\">\n",
    "<b>Комментарий ревьюера ✔️:</b> Дубликаты удалены корректно. Молодец!\n",
    "</div> "
   ]
  },
  {
   "cell_type": "markdown",
   "metadata": {
    "id": "Im2YwBEG_Zct"
   },
   "source": [
    "Ещё раз посчитайте явные дубликаты в таблице — убедитесь, что полностью от них избавились:"
   ]
  },
  {
   "cell_type": "code",
   "execution_count": 13,
   "metadata": {
    "id": "-8PuNWQ0_Zct"
   },
   "outputs": [
    {
     "data": {
      "text/plain": [
       "0"
      ]
     },
     "execution_count": 13,
     "metadata": {},
     "output_type": "execute_result"
    }
   ],
   "source": [
    "# проверка на отсутствие дубликатов\n",
    "df.duplicated().sum()"
   ]
  },
  {
   "cell_type": "markdown",
   "metadata": {
    "id": "QlFBsxAr_Zct"
   },
   "source": [
    "Теперь избавьтесь от неявных дубликатов в колонке `genre`. Например, название одного и того же жанра может быть записано немного по-разному. Такие ошибки тоже повлияют на результат исследования."
   ]
  },
  {
   "cell_type": "markdown",
   "metadata": {
    "id": "eSjWwsOh_Zct"
   },
   "source": [
    "Выведите на экран список уникальных названий жанров, отсортированный в алфавитном порядке. Для этого:\n",
    "* извлеките нужный столбец датафрейма, \n",
    "* примените к нему метод сортировки,\n",
    "* для отсортированного столбца вызовите метод, который вернёт уникальные значения из столбца."
   ]
  },
  {
   "cell_type": "code",
   "execution_count": 14,
   "metadata": {
    "id": "JIUcqzZN_Zct",
    "scrolled": true
   },
   "outputs": [
    {
     "data": {
      "text/plain": [
       "array(['acid', 'acoustic', 'action', 'adult', 'africa', 'afrikaans',\n",
       "       'alternative', 'alternativepunk', 'ambient', 'americana',\n",
       "       'animated', 'anime', 'arabesk', 'arabic', 'arena',\n",
       "       'argentinetango', 'art', 'audiobook', 'author', 'avantgarde',\n",
       "       'axé', 'baile', 'balkan', 'beats', 'bigroom', 'black', 'bluegrass',\n",
       "       'blues', 'bollywood', 'bossa', 'brazilian', 'breakbeat', 'breaks',\n",
       "       'broadway', 'cantautori', 'cantopop', 'canzone', 'caribbean',\n",
       "       'caucasian', 'celtic', 'chamber', 'chanson', 'children', 'chill',\n",
       "       'chinese', 'choral', 'christian', 'christmas', 'classical',\n",
       "       'classicmetal', 'club', 'colombian', 'comedy', 'conjazz',\n",
       "       'contemporary', 'country', 'cuban', 'dance', 'dancehall',\n",
       "       'dancepop', 'dark', 'death', 'deep', 'deutschrock', 'deutschspr',\n",
       "       'dirty', 'disco', 'dnb', 'documentary', 'downbeat', 'downtempo',\n",
       "       'drum', 'dub', 'dubstep', 'eastern', 'easy', 'electronic',\n",
       "       'electropop', 'emo', 'entehno', 'epicmetal', 'estrada', 'ethnic',\n",
       "       'eurofolk', 'european', 'experimental', 'extrememetal', 'fado',\n",
       "       'fairytail', 'film', 'fitness', 'flamenco', 'folk', 'folklore',\n",
       "       'folkmetal', 'folkrock', 'folktronica', 'forró', 'frankreich',\n",
       "       'französisch', 'french', 'funk', 'future', 'gangsta', 'garage',\n",
       "       'german', 'ghazal', 'gitarre', 'glitch', 'gospel', 'gothic',\n",
       "       'grime', 'grunge', 'gypsy', 'handsup', \"hard'n'heavy\", 'hardcore',\n",
       "       'hardstyle', 'hardtechno', 'hip', 'hip-hop', 'hiphop',\n",
       "       'historisch', 'holiday', 'hop', 'horror', 'house', 'hymn', 'idm',\n",
       "       'independent', 'indian', 'indie', 'indipop', 'industrial',\n",
       "       'inspirational', 'instrumental', 'international', 'irish', 'jam',\n",
       "       'japanese', 'jazz', 'jewish', 'jpop', 'jungle', 'k-pop',\n",
       "       'karadeniz', 'karaoke', 'kayokyoku', 'korean', 'laiko', 'latin',\n",
       "       'latino', 'leftfield', 'local', 'lounge', 'loungeelectronic',\n",
       "       'lovers', 'malaysian', 'mandopop', 'marschmusik', 'meditative',\n",
       "       'mediterranean', 'melodic', 'metal', 'metalcore', 'mexican',\n",
       "       'middle', 'minimal', 'miscellaneous', 'modern', 'mood', 'mpb',\n",
       "       'muslim', 'native', 'neoklassik', 'neue', 'new', 'newage',\n",
       "       'newwave', 'nu', 'nujazz', 'numetal', 'oceania', 'old', 'opera',\n",
       "       'orchestral', 'other', 'piano', 'podcasts', 'pop', 'popdance',\n",
       "       'popelectronic', 'popeurodance', 'poprussian', 'post',\n",
       "       'posthardcore', 'postrock', 'power', 'progmetal', 'progressive',\n",
       "       'psychedelic', 'punjabi', 'punk', 'quebecois', 'ragga', 'ram',\n",
       "       'rancheras', 'rap', 'rave', 'reggae', 'reggaeton', 'regional',\n",
       "       'relax', 'religious', 'retro', 'rhythm', 'rnb', 'rnr', 'rock',\n",
       "       'rockabilly', 'rockalternative', 'rockindie', 'rockother',\n",
       "       'romance', 'roots', 'ruspop', 'rusrap', 'rusrock', 'russian',\n",
       "       'salsa', 'samba', 'scenic', 'schlager', 'self', 'sertanejo',\n",
       "       'shanson', 'shoegazing', 'showtunes', 'singer', 'ska', 'skarock',\n",
       "       'slow', 'smooth', 'soft', 'soul', 'soulful', 'sound', 'soundtrack',\n",
       "       'southern', 'specialty', 'speech', 'spiritual', 'sport',\n",
       "       'stonerrock', 'surf', 'swing', 'synthpop', 'synthrock',\n",
       "       'sängerportrait', 'tango', 'tanzorchester', 'taraftar', 'tatar',\n",
       "       'tech', 'techno', 'teen', 'thrash', 'top', 'traditional',\n",
       "       'tradjazz', 'trance', 'tribal', 'trip', 'triphop', 'tropical',\n",
       "       'türk', 'türkçe', 'ukrrock', 'unknown', 'urban', 'uzbek',\n",
       "       'variété', 'vi', 'videogame', 'vocal', 'western', 'world',\n",
       "       'worldbeat', 'ïîï', 'электроника'], dtype=object)"
      ]
     },
     "execution_count": 14,
     "metadata": {},
     "output_type": "execute_result"
    }
   ],
   "source": [
    "# Просмотр уникальных названий жанров\n",
    "\n",
    "df['genre'].sort_values().unique()\n"
   ]
  },
  {
   "cell_type": "markdown",
   "metadata": {},
   "source": [
    "<div class=\"alert alert-info\"> <b>Комментарий студента:</b> Отсортированно.</div>"
   ]
  },
  {
   "cell_type": "markdown",
   "metadata": {},
   "source": [
    "<div class=\"alert alert-danger\">\n",
    "<b>Комментарий ревьюера ❌:</b> Вывод жанров не полностью соответствует требованиям задания. Отсутствует необходимая сортировка по возрастанию. Ты можешь ее добавить, используя метод sort_values().\n",
    "</div>"
   ]
  },
  {
   "cell_type": "markdown",
   "metadata": {},
   "source": [
    "<div class=\"alert alert-success\">\n",
    "<b>Комментарий ревьюера 2 ✔️:</b> Исправление увидел! Спасибо!\n",
    "</div> "
   ]
  },
  {
   "cell_type": "markdown",
   "metadata": {
    "id": "qej-Qmuo_Zct"
   },
   "source": [
    "Просмотрите список и найдите неявные дубликаты названия `hiphop`. Это могут быть названия с ошибками или альтернативные названия того же жанра.\n",
    "\n",
    "Вы увидите следующие неявные дубликаты:\n",
    "* *hip*,\n",
    "* *hop*,\n",
    "* *hip-hop*.\n",
    "\n",
    "Чтобы очистить от них таблицу, напишите функцию `replace_wrong_genres()` с двумя параметрами: \n",
    "* `wrong_genres` — список дубликатов,\n",
    "* `correct_genre` — строка с правильным значением.\n",
    "\n",
    "Функция должна исправить колонку `genre` в таблице `df`: заменить каждое значение из списка `wrong_genres` на значение из `correct_genre`."
   ]
  },
  {
   "cell_type": "code",
   "execution_count": 15,
   "metadata": {
    "id": "ErNDkmns_Zct"
   },
   "outputs": [],
   "source": [
    "# Функция для замены неявных дубликатов\n",
    "def replace_wrong_genres(wrong_genres, correct_genre): # на вход подаются список неверных значений и строка с правильным значением\n",
    "    for wrong_genre in wrong_genres:\n",
    "        df['genre'] = df['genre'].replace(wrong_genres, correct_genre)"
   ]
  },
  {
   "cell_type": "markdown",
   "metadata": {},
   "source": [
    "<div class=\"alert alert-success\">\n",
    "<b>Комментарий ревьюера ✔️:</b> Молодец! Функция написана верно!\n",
    "</div> "
   ]
  },
  {
   "cell_type": "markdown",
   "metadata": {
    "id": "aDoBJxbA_Zct"
   },
   "source": [
    "Вызовите `replace_wrong_genres()` и передайте ей такие аргументы, чтобы она устранила неявные дубликаты: вместо `hip`, `hop` и `hip-hop` в таблице должно быть значение `hiphop`:"
   ]
  },
  {
   "cell_type": "code",
   "execution_count": 16,
   "metadata": {
    "id": "YN5i2hpmSo09"
   },
   "outputs": [
    {
     "data": {
      "text/html": [
       "<div>\n",
       "<style scoped>\n",
       "    .dataframe tbody tr th:only-of-type {\n",
       "        vertical-align: middle;\n",
       "    }\n",
       "\n",
       "    .dataframe tbody tr th {\n",
       "        vertical-align: top;\n",
       "    }\n",
       "\n",
       "    .dataframe thead th {\n",
       "        text-align: right;\n",
       "    }\n",
       "</style>\n",
       "<table border=\"1\" class=\"dataframe\">\n",
       "  <thead>\n",
       "    <tr style=\"text-align: right;\">\n",
       "      <th></th>\n",
       "      <th>user_id</th>\n",
       "      <th>track</th>\n",
       "      <th>artist</th>\n",
       "      <th>genre</th>\n",
       "      <th>city</th>\n",
       "      <th>time</th>\n",
       "      <th>day</th>\n",
       "    </tr>\n",
       "  </thead>\n",
       "  <tbody>\n",
       "    <tr>\n",
       "      <th>0</th>\n",
       "      <td>FFB692EC</td>\n",
       "      <td>Kamigata To Boots</td>\n",
       "      <td>The Mass Missile</td>\n",
       "      <td>rock</td>\n",
       "      <td>Saint-Petersburg</td>\n",
       "      <td>20:28:33</td>\n",
       "      <td>Wednesday</td>\n",
       "    </tr>\n",
       "    <tr>\n",
       "      <th>1</th>\n",
       "      <td>55204538</td>\n",
       "      <td>Delayed Because of Accident</td>\n",
       "      <td>Andreas Rönnberg</td>\n",
       "      <td>rock</td>\n",
       "      <td>Moscow</td>\n",
       "      <td>14:07:09</td>\n",
       "      <td>Friday</td>\n",
       "    </tr>\n",
       "    <tr>\n",
       "      <th>2</th>\n",
       "      <td>20EC38</td>\n",
       "      <td>Funiculì funiculà</td>\n",
       "      <td>Mario Lanza</td>\n",
       "      <td>pop</td>\n",
       "      <td>Saint-Petersburg</td>\n",
       "      <td>20:58:07</td>\n",
       "      <td>Wednesday</td>\n",
       "    </tr>\n",
       "    <tr>\n",
       "      <th>3</th>\n",
       "      <td>A3DD03C9</td>\n",
       "      <td>Dragons in the Sunset</td>\n",
       "      <td>Fire + Ice</td>\n",
       "      <td>folk</td>\n",
       "      <td>Saint-Petersburg</td>\n",
       "      <td>08:37:09</td>\n",
       "      <td>Monday</td>\n",
       "    </tr>\n",
       "    <tr>\n",
       "      <th>4</th>\n",
       "      <td>E2DC1FAE</td>\n",
       "      <td>Soul People</td>\n",
       "      <td>Space Echo</td>\n",
       "      <td>dance</td>\n",
       "      <td>Moscow</td>\n",
       "      <td>08:34:34</td>\n",
       "      <td>Monday</td>\n",
       "    </tr>\n",
       "    <tr>\n",
       "      <th>...</th>\n",
       "      <td>...</td>\n",
       "      <td>...</td>\n",
       "      <td>...</td>\n",
       "      <td>...</td>\n",
       "      <td>...</td>\n",
       "      <td>...</td>\n",
       "      <td>...</td>\n",
       "    </tr>\n",
       "    <tr>\n",
       "      <th>65074</th>\n",
       "      <td>729CBB09</td>\n",
       "      <td>My Name</td>\n",
       "      <td>McLean</td>\n",
       "      <td>rnb</td>\n",
       "      <td>Moscow</td>\n",
       "      <td>13:32:28</td>\n",
       "      <td>Wednesday</td>\n",
       "    </tr>\n",
       "    <tr>\n",
       "      <th>65075</th>\n",
       "      <td>D08D4A55</td>\n",
       "      <td>Maybe One Day (feat. Black Spade)</td>\n",
       "      <td>Blu &amp; Exile</td>\n",
       "      <td>hiphop</td>\n",
       "      <td>Saint-Petersburg</td>\n",
       "      <td>10:00:00</td>\n",
       "      <td>Monday</td>\n",
       "    </tr>\n",
       "    <tr>\n",
       "      <th>65076</th>\n",
       "      <td>C5E3A0D5</td>\n",
       "      <td>Jalopiina</td>\n",
       "      <td>unknown</td>\n",
       "      <td>industrial</td>\n",
       "      <td>Moscow</td>\n",
       "      <td>20:09:26</td>\n",
       "      <td>Friday</td>\n",
       "    </tr>\n",
       "    <tr>\n",
       "      <th>65077</th>\n",
       "      <td>321D0506</td>\n",
       "      <td>Freight Train</td>\n",
       "      <td>Chas McDevitt</td>\n",
       "      <td>rock</td>\n",
       "      <td>Moscow</td>\n",
       "      <td>21:43:59</td>\n",
       "      <td>Friday</td>\n",
       "    </tr>\n",
       "    <tr>\n",
       "      <th>65078</th>\n",
       "      <td>3A64EF84</td>\n",
       "      <td>Tell Me Sweet Little Lies</td>\n",
       "      <td>Monica Lopez</td>\n",
       "      <td>country</td>\n",
       "      <td>Moscow</td>\n",
       "      <td>21:59:46</td>\n",
       "      <td>Friday</td>\n",
       "    </tr>\n",
       "  </tbody>\n",
       "</table>\n",
       "<p>61253 rows × 7 columns</p>\n",
       "</div>"
      ],
      "text/plain": [
       "        user_id                              track            artist  \\\n",
       "0      FFB692EC                  Kamigata To Boots  The Mass Missile   \n",
       "1      55204538        Delayed Because of Accident  Andreas Rönnberg   \n",
       "2        20EC38                  Funiculì funiculà       Mario Lanza   \n",
       "3      A3DD03C9              Dragons in the Sunset        Fire + Ice   \n",
       "4      E2DC1FAE                        Soul People        Space Echo   \n",
       "...         ...                                ...               ...   \n",
       "65074  729CBB09                            My Name            McLean   \n",
       "65075  D08D4A55  Maybe One Day (feat. Black Spade)       Blu & Exile   \n",
       "65076  C5E3A0D5                          Jalopiina           unknown   \n",
       "65077  321D0506                      Freight Train     Chas McDevitt   \n",
       "65078  3A64EF84          Tell Me Sweet Little Lies      Monica Lopez   \n",
       "\n",
       "            genre              city      time        day  \n",
       "0            rock  Saint-Petersburg  20:28:33  Wednesday  \n",
       "1            rock            Moscow  14:07:09     Friday  \n",
       "2             pop  Saint-Petersburg  20:58:07  Wednesday  \n",
       "3            folk  Saint-Petersburg  08:37:09     Monday  \n",
       "4           dance            Moscow  08:34:34     Monday  \n",
       "...           ...               ...       ...        ...  \n",
       "65074         rnb            Moscow  13:32:28  Wednesday  \n",
       "65075      hiphop  Saint-Petersburg  10:00:00     Monday  \n",
       "65076  industrial            Moscow  20:09:26     Friday  \n",
       "65077        rock            Moscow  21:43:59     Friday  \n",
       "65078     country            Moscow  21:59:46     Friday  \n",
       "\n",
       "[61253 rows x 7 columns]"
      ]
     },
     "metadata": {},
     "output_type": "display_data"
    }
   ],
   "source": [
    "# Устранение неявных дубликатов\n",
    "\n",
    "duplicates = ['hip', 'hop', 'hip-hop'] # список неправильных имён\n",
    "name = 'hiphop'\n",
    "replace_wrong_genres(duplicates, name)\n",
    "display(df)"
   ]
  },
  {
   "cell_type": "markdown",
   "metadata": {},
   "source": [
    "<div class=\"alert alert-success\">\n",
    "<b>Комментарий ревьюера ✔️:</b> Отлично! Дубликаты удалены.\n",
    "</div> "
   ]
  },
  {
   "cell_type": "markdown",
   "metadata": {
    "id": "zQKF16_RG15m"
   },
   "source": [
    "Проверьте, что заменили неправильные названия:\n",
    "\n",
    "*   hip\n",
    "*   hop\n",
    "*   hip-hop\n",
    "\n",
    "Выведите отсортированный список уникальных значений столбца `genre`:"
   ]
  },
  {
   "cell_type": "code",
   "execution_count": 17,
   "metadata": {
    "id": "wvixALnFG15m"
   },
   "outputs": [
    {
     "data": {
      "text/plain": [
       "array(['acid', 'acoustic', 'action', 'adult', 'africa', 'afrikaans',\n",
       "       'alternative', 'alternativepunk', 'ambient', 'americana',\n",
       "       'animated', 'anime', 'arabesk', 'arabic', 'arena',\n",
       "       'argentinetango', 'art', 'audiobook', 'author', 'avantgarde',\n",
       "       'axé', 'baile', 'balkan', 'beats', 'bigroom', 'black', 'bluegrass',\n",
       "       'blues', 'bollywood', 'bossa', 'brazilian', 'breakbeat', 'breaks',\n",
       "       'broadway', 'cantautori', 'cantopop', 'canzone', 'caribbean',\n",
       "       'caucasian', 'celtic', 'chamber', 'chanson', 'children', 'chill',\n",
       "       'chinese', 'choral', 'christian', 'christmas', 'classical',\n",
       "       'classicmetal', 'club', 'colombian', 'comedy', 'conjazz',\n",
       "       'contemporary', 'country', 'cuban', 'dance', 'dancehall',\n",
       "       'dancepop', 'dark', 'death', 'deep', 'deutschrock', 'deutschspr',\n",
       "       'dirty', 'disco', 'dnb', 'documentary', 'downbeat', 'downtempo',\n",
       "       'drum', 'dub', 'dubstep', 'eastern', 'easy', 'electronic',\n",
       "       'electropop', 'emo', 'entehno', 'epicmetal', 'estrada', 'ethnic',\n",
       "       'eurofolk', 'european', 'experimental', 'extrememetal', 'fado',\n",
       "       'fairytail', 'film', 'fitness', 'flamenco', 'folk', 'folklore',\n",
       "       'folkmetal', 'folkrock', 'folktronica', 'forró', 'frankreich',\n",
       "       'französisch', 'french', 'funk', 'future', 'gangsta', 'garage',\n",
       "       'german', 'ghazal', 'gitarre', 'glitch', 'gospel', 'gothic',\n",
       "       'grime', 'grunge', 'gypsy', 'handsup', \"hard'n'heavy\", 'hardcore',\n",
       "       'hardstyle', 'hardtechno', 'hiphop', 'historisch', 'holiday',\n",
       "       'horror', 'house', 'hymn', 'idm', 'independent', 'indian', 'indie',\n",
       "       'indipop', 'industrial', 'inspirational', 'instrumental',\n",
       "       'international', 'irish', 'jam', 'japanese', 'jazz', 'jewish',\n",
       "       'jpop', 'jungle', 'k-pop', 'karadeniz', 'karaoke', 'kayokyoku',\n",
       "       'korean', 'laiko', 'latin', 'latino', 'leftfield', 'local',\n",
       "       'lounge', 'loungeelectronic', 'lovers', 'malaysian', 'mandopop',\n",
       "       'marschmusik', 'meditative', 'mediterranean', 'melodic', 'metal',\n",
       "       'metalcore', 'mexican', 'middle', 'minimal', 'miscellaneous',\n",
       "       'modern', 'mood', 'mpb', 'muslim', 'native', 'neoklassik', 'neue',\n",
       "       'new', 'newage', 'newwave', 'nu', 'nujazz', 'numetal', 'oceania',\n",
       "       'old', 'opera', 'orchestral', 'other', 'piano', 'podcasts', 'pop',\n",
       "       'popdance', 'popelectronic', 'popeurodance', 'poprussian', 'post',\n",
       "       'posthardcore', 'postrock', 'power', 'progmetal', 'progressive',\n",
       "       'psychedelic', 'punjabi', 'punk', 'quebecois', 'ragga', 'ram',\n",
       "       'rancheras', 'rap', 'rave', 'reggae', 'reggaeton', 'regional',\n",
       "       'relax', 'religious', 'retro', 'rhythm', 'rnb', 'rnr', 'rock',\n",
       "       'rockabilly', 'rockalternative', 'rockindie', 'rockother',\n",
       "       'romance', 'roots', 'ruspop', 'rusrap', 'rusrock', 'russian',\n",
       "       'salsa', 'samba', 'scenic', 'schlager', 'self', 'sertanejo',\n",
       "       'shanson', 'shoegazing', 'showtunes', 'singer', 'ska', 'skarock',\n",
       "       'slow', 'smooth', 'soft', 'soul', 'soulful', 'sound', 'soundtrack',\n",
       "       'southern', 'specialty', 'speech', 'spiritual', 'sport',\n",
       "       'stonerrock', 'surf', 'swing', 'synthpop', 'synthrock',\n",
       "       'sängerportrait', 'tango', 'tanzorchester', 'taraftar', 'tatar',\n",
       "       'tech', 'techno', 'teen', 'thrash', 'top', 'traditional',\n",
       "       'tradjazz', 'trance', 'tribal', 'trip', 'triphop', 'tropical',\n",
       "       'türk', 'türkçe', 'ukrrock', 'unknown', 'urban', 'uzbek',\n",
       "       'variété', 'vi', 'videogame', 'vocal', 'western', 'world',\n",
       "       'worldbeat', 'ïîï', 'электроника'], dtype=object)"
      ]
     },
     "execution_count": 17,
     "metadata": {},
     "output_type": "execute_result"
    }
   ],
   "source": [
    "# Проверка на неявные дубликаты\\\n",
    "\n",
    "# как получить отсортированный список?\n",
    "df['genre'].sort_values().unique()"
   ]
  },
  {
   "cell_type": "markdown",
   "metadata": {
    "id": "jz6a9-7HQUDd"
   },
   "source": [
    "**Выводы**\n",
    "\n",
    "Предобработка обнаружила три проблемы в данных:\n",
    "\n",
    "- нарушения в стиле заголовков,\n",
    "- пропущенные значения,\n",
    "- дубликаты — явные и неявные.\n",
    "\n",
    "Вы исправили заголовки, чтобы упростить работу с таблицей. Без дубликатов исследование станет более точным.\n",
    "\n",
    "Пропущенные значения вы заменили на `'unknown'`. Ещё предстоит увидеть, не повредят ли исследованию пропуски в колонке `genre`.\n",
    "\n",
    "Теперь можно перейти к проверке гипотез. "
   ]
  },
  {
   "cell_type": "markdown",
   "metadata": {
    "id": "WttZHXH0SqKk"
   },
   "source": [
    "## Проверка гипотез"
   ]
  },
  {
   "cell_type": "markdown",
   "metadata": {
    "id": "Im936VVi_Zcu"
   },
   "source": [
    "### Сравнение поведения пользователей двух столиц"
   ]
  },
  {
   "cell_type": "markdown",
   "metadata": {
    "id": "nwt_MuaL_Zcu"
   },
   "source": [
    "Первая гипотеза утверждает, что пользователи по-разному слушают музыку в Москве и Санкт-Петербурге. Проверьте это предположение по данным о трёх днях недели — понедельнике, среде и пятнице. Для этого:\n",
    "\n",
    "* Разделите пользователей Москвы и Санкт-Петербурга\n",
    "* Сравните, сколько треков послушала каждая группа пользователей в понедельник, среду и пятницу.\n"
   ]
  },
  {
   "cell_type": "markdown",
   "metadata": {
    "id": "8Dw_YMmT_Zcu"
   },
   "source": [
    "Для тренировки сначала выполните каждый из расчётов по отдельности. \n",
    "\n",
    "Оцените активность пользователей в каждом городе. Сгруппируйте данные по городу и посчитайте прослушивания в каждой группе.\n",
    "\n"
   ]
  },
  {
   "cell_type": "code",
   "execution_count": 18,
   "metadata": {
    "id": "0_Qs96oh_Zcu"
   },
   "outputs": [
    {
     "data": {
      "text/plain": [
       "city\n",
       "Moscow              42741\n",
       "Saint-Petersburg    18512\n",
       "Name: city, dtype: int64"
      ]
     },
     "execution_count": 18,
     "metadata": {},
     "output_type": "execute_result"
    }
   ],
   "source": [
    "# Подсчёт прослушиваний в каждом городе\n",
    "\n",
    "#print(df.groupby('city').count()) #для проверки\n",
    "df.groupby('city')['city'].count()"
   ]
  },
  {
   "cell_type": "markdown",
   "metadata": {},
   "source": [
    "<div class=\"alert alert-info\"> <b>Комментарий студента:</b> Чтобы не было повторяющихся столбцов решил изменить вывод в виде одного столбца. Только непонятно ПОЧЕМУ без этого столбца выводились столбцы с одинаковыми значениями?</div>"
   ]
  },
  {
   "cell_type": "markdown",
   "metadata": {},
   "source": [
    "<div class=\"alert alert-danger\">\n",
    "<b>Комментарий ревьюера ❌:</b> Группировка проведена не до конца корректно. Сейчас у тебя показывается несколько столбцов с дублирующимися значениями. Чтобы этого не было, между группировкой по полю city и применением функции count нужно поместить какой-то (любой) столбец.\n",
    "</div>"
   ]
  },
  {
   "cell_type": "markdown",
   "metadata": {},
   "source": [
    "<div class=\"alert alert-success\">\n",
    "<b>Комментарий ревьюера 2 ✔️:</b> Исправление увидел! Спасибо!\n",
    "    \n",
    "Общий посыл, почему у тебя выводились столбцы с одинаковыми значениями - это потому что ты применял функцию count ко всему датафрейму сразу, а не к отдельному столбцу. Когда аналитик делает подсчет в группировках, он может к разным столбцам применять разные агрегирующие функции: где-то нужно сделать подсчет обычных значений, где-то надо посчитать только уникальные значения, где-то нужно взять сумму и т.д. Поэтому чаще всего в работе при подсчете в группировках используются следующие формы:\n",
    "\n",
    "    df.groupby('city').agg({'city' : 'count', # считаем количество вхождений столбца city\n",
    "                       'user_id' : 'nunique' # считаем количество уникальных пользователей})\n",
    "\n",
    "Чтобы лучше понимать группировки, советую изучить следующие материалы:\n",
    "* http://dfedorov.spb.ru/pandas/%D0%9F%D0%BE%D0%B4%D1%80%D0%BE%D0%B1%D0%BD%D0%BE%D0%B5%20%D1%80%D1%83%D0%BA%D0%BE%D0%B2%D0%BE%D0%B4%D1%81%D1%82%D0%B2%D0%BE%20%D0%BF%D0%BE%20%D0%B3%D1%80%D1%83%D0%BF%D0%BF%D0%B8%D1%80%D0%BE%D0%B2%D0%BA%D0%B5%20%D0%B8%20%D0%B0%D0%B3%D1%80%D0%B5%D0%B3%D0%B8%D1%80%D0%BE%D0%B2%D0%B0%D0%BD%D0%B8%D1%8E%20%D1%81%20%D0%BF%D0%BE%D0%BC%D0%BE%D1%89%D1%8C%D1%8E%20pandas.html\n",
    "* https://medium.com/nuances-of-programming/3-%D1%84%D1%83%D0%BD%D0%BA%D1%86%D0%B8%D0%B8-pandas-%D0%B4%D0%BB%D1%8F-%D0%B3%D1%80%D1%83%D0%BF%D0%BF%D0%B8%D1%80%D0%BE%D0%B2%D0%BA%D0%B8-%D0%B8-%D0%B0%D0%B3%D1%80%D0%B5%D0%B3%D0%B8%D1%80%D0%BE%D0%B2%D0%B0%D0%BD%D0%B8%D1%8F-%D0%B4%D0%B0%D0%BD%D0%BD%D1%8B%D1%85-7d8ee170a683\n",
    "    \n",
    "</div> "
   ]
  },
  {
   "cell_type": "markdown",
   "metadata": {
    "id": "dzli3w8o_Zcu"
   },
   "source": [
    "В Москве прослушиваний больше, чем в Петербурге. Из этого не следует, что московские пользователи чаще слушают музыку. Просто самих пользователей в Москве больше.\n",
    "\n",
    "Теперь сгруппируйте данные по дню недели и подсчитайте прослушивания в понедельник, среду и пятницу. Учтите, что в данных есть информация только о прослушиваниях только за эти дни.\n"
   ]
  },
  {
   "cell_type": "code",
   "execution_count": 19,
   "metadata": {
    "id": "uZMKjiJz_Zcu"
   },
   "outputs": [
    {
     "data": {
      "text/plain": [
       "day\n",
       "Friday       21840\n",
       "Monday       21354\n",
       "Wednesday    18059\n",
       "Name: city, dtype: int64"
      ]
     },
     "execution_count": 19,
     "metadata": {},
     "output_type": "execute_result"
    }
   ],
   "source": [
    "# Подсчёт прослушиваний в каждый из трёх дней\n",
    "\n",
    "df.groupby('day')['city'].count()"
   ]
  },
  {
   "cell_type": "markdown",
   "metadata": {},
   "source": [
    "<div class=\"alert alert-info\"> <b>Комментарий студента:</b> Чтобы не было повторяющихся столбцов решил изменить вывод в виде одного столбца. Только непонятно ПОЧЕМУ без этого столбца выводились столбцы с одинаковыми значениями?</div>"
   ]
  },
  {
   "cell_type": "markdown",
   "metadata": {},
   "source": [
    "<div class=\"alert alert-danger\">\n",
    "<b>Комментарий ревьюера ❌:</b> Группировка проведена не до конца корректно. Сейчас у тебя показывается несколько столбцов с дублирующимися значениями. Чтобы этого не было, между группировкой по полю day и применением функции count нужно поместить какой-то (любой) столбец.\n",
    "</div>"
   ]
  },
  {
   "cell_type": "markdown",
   "metadata": {},
   "source": [
    "<div class=\"alert alert-success\">\n",
    "<b>Комментарий ревьюера 2 ✔️:</b> Исправление увидел! Спасибо!\n",
    "    \n",
    "</div> "
   ]
  },
  {
   "cell_type": "markdown",
   "metadata": {
    "id": "cC2tNrlL_Zcu"
   },
   "source": [
    "В среднем пользователи из двух городов менее активны по средам. Но картина может измениться, если рассмотреть каждый город в отдельности."
   ]
  },
  {
   "cell_type": "markdown",
   "metadata": {
    "id": "POzs8bGa_Zcu"
   },
   "source": [
    "Вы видели, как работает группировка по городу и по дням недели. Теперь напишите функцию, которая объединит два эти расчёта.\n",
    "\n",
    "Создайте функцию `number_tracks()`, которая посчитает прослушивания для заданного дня и города. Ей понадобятся два параметра:\n",
    "* день недели,\n",
    "* название города.\n",
    "\n",
    "В функции сохраните в переменную строки исходной таблицы, у которых значение:\n",
    "  * в колонке `day` равно параметру `day`,\n",
    "  * в колонке `city` равно параметру `city`.\n",
    "\n",
    "Для этого примените последовательную фильтрацию с логической индексацией.\n",
    "\n",
    "Затем посчитайте значения в столбце `user_id` получившейся таблицы. Результат сохраните в новую переменную. Верните эту переменную из функции."
   ]
  },
  {
   "cell_type": "code",
   "execution_count": 20,
   "metadata": {
    "id": "Nz3GdQB1_Zcu"
   },
   "outputs": [],
   "source": [
    "# <создание функции number_tracks()>\n",
    "# Объявляется функция с двумя параметрами: day, city.\n",
    "def number_tracks(day, city):\n",
    "# В переменной track_list сохраняются те строки таблицы df, для которых \n",
    "# значение в столбце 'day' равно параметру day и одновременно значение\n",
    "# в столбце 'city' равно параметру city (используйте последовательную фильтрацию\n",
    "# с помощью логической индексации).\n",
    "    track_list = df[df['day'] == day]\n",
    "    track_list = track_list[track_list['city'] == city]\n",
    "# В переменной track_list_count сохраняется число значений столбца 'user_id',\n",
    "# рассчитанное методом count() для таблицы track_list.\n",
    "# Выделим количество в отдельную переменную track_list_count\n",
    "    track_list_count = track_list['user_id'].count()\n",
    "# Функция возвращает число - значение track_list_count.\n",
    "    \n",
    "    return track_list_count\n",
    "# Функция для подсчёта прослушиваний для конкретного города и дня.\n",
    "# С помощью последовательной фильтрации с логической индексацией она \n",
    "# сначала получит из исходной таблицы строки с нужным днём,\n",
    "# затем из результата отфильтрует строки с нужным городом,\n",
    "# методом count() посчитает количество значений в колонке user_id. \n",
    "# Это количество функция вернёт в качестве результата"
   ]
  },
  {
   "cell_type": "markdown",
   "metadata": {},
   "source": [
    "<div class=\"alert alert-success\">\n",
    "<b>Комментарий ревьюера ✔️:</b> Молодец! Функция реализована корректно!\n",
    "</div> "
   ]
  },
  {
   "cell_type": "markdown",
   "metadata": {
    "id": "ytf7xFrFJQ2r"
   },
   "source": [
    "Вызовите `number_tracks()` шесть раз, меняя значение параметров — так, чтобы получить данные для каждого города в каждый из трёх дней."
   ]
  },
  {
   "cell_type": "code",
   "execution_count": 21,
   "metadata": {
    "id": "rJcRATNQ_Zcu"
   },
   "outputs": [
    {
     "data": {
      "text/plain": [
       "15740"
      ]
     },
     "execution_count": 21,
     "metadata": {},
     "output_type": "execute_result"
    }
   ],
   "source": [
    "# количество прослушиваний в Москве по понедельникам\n",
    "\n",
    "number_tracks('Monday', 'Moscow')"
   ]
  },
  {
   "cell_type": "code",
   "execution_count": 22,
   "metadata": {
    "id": "hq_ncZ5T_Zcu"
   },
   "outputs": [
    {
     "data": {
      "text/plain": [
       "5614"
      ]
     },
     "execution_count": 22,
     "metadata": {},
     "output_type": "execute_result"
    }
   ],
   "source": [
    "# количество прослушиваний в Санкт-Петербурге по понедельникам\n",
    "\n",
    "number_tracks('Monday', 'Saint-Petersburg')"
   ]
  },
  {
   "cell_type": "code",
   "execution_count": 23,
   "metadata": {
    "id": "_NTy2VPU_Zcu"
   },
   "outputs": [
    {
     "data": {
      "text/plain": [
       "11056"
      ]
     },
     "execution_count": 23,
     "metadata": {},
     "output_type": "execute_result"
    }
   ],
   "source": [
    "# количество прослушиваний в Москве по средам\n",
    "\n",
    "number_tracks('Wednesday', 'Moscow')"
   ]
  },
  {
   "cell_type": "code",
   "execution_count": 24,
   "metadata": {
    "id": "j2y3TAwo_Zcu"
   },
   "outputs": [
    {
     "data": {
      "text/plain": [
       "7003"
      ]
     },
     "execution_count": 24,
     "metadata": {},
     "output_type": "execute_result"
    }
   ],
   "source": [
    "# количество прослушиваний в Санкт-Петербурге по средам\n",
    "\n",
    "number_tracks('Wednesday', 'Saint-Petersburg')"
   ]
  },
  {
   "cell_type": "code",
   "execution_count": 25,
   "metadata": {
    "id": "vYDw5u_K_Zcu"
   },
   "outputs": [
    {
     "data": {
      "text/plain": [
       "15945"
      ]
     },
     "execution_count": 25,
     "metadata": {},
     "output_type": "execute_result"
    }
   ],
   "source": [
    "# количество прослушиваний в Москве по пятницам\n",
    "\n",
    "number_tracks('Friday', 'Moscow')"
   ]
  },
  {
   "cell_type": "code",
   "execution_count": 26,
   "metadata": {
    "id": "8_yzFtW3_Zcu"
   },
   "outputs": [
    {
     "data": {
      "text/plain": [
       "5895"
      ]
     },
     "execution_count": 26,
     "metadata": {},
     "output_type": "execute_result"
    }
   ],
   "source": [
    "# количество прослушиваний в Санкт-Петербурге по пятницам\n",
    "\n",
    "number_tracks('Friday', 'Saint-Petersburg')"
   ]
  },
  {
   "cell_type": "markdown",
   "metadata": {},
   "source": [
    "<div class=\"alert alert-success\">\n",
    "<b>Комментарий ревьюера ✔️:</b> Молодец! Данные по городам посчитаны корректно.\n",
    "</div>"
   ]
  },
  {
   "cell_type": "markdown",
   "metadata": {
    "id": "7QXffbO-_Zcu"
   },
   "source": [
    "Создайте c помощью конструктора `pd.DataFrame` таблицу, где\n",
    "* названия колонок — `['city', 'monday', 'wednesday', 'friday']`;\n",
    "* данные — результаты, которые вы получили с помощью `number_tracks`."
   ]
  },
  {
   "cell_type": "code",
   "execution_count": 27,
   "metadata": {
    "id": "APAcLpOr_Zcu"
   },
   "outputs": [
    {
     "data": {
      "text/html": [
       "<div>\n",
       "<style scoped>\n",
       "    .dataframe tbody tr th:only-of-type {\n",
       "        vertical-align: middle;\n",
       "    }\n",
       "\n",
       "    .dataframe tbody tr th {\n",
       "        vertical-align: top;\n",
       "    }\n",
       "\n",
       "    .dataframe thead th {\n",
       "        text-align: right;\n",
       "    }\n",
       "</style>\n",
       "<table border=\"1\" class=\"dataframe\">\n",
       "  <thead>\n",
       "    <tr style=\"text-align: right;\">\n",
       "      <th></th>\n",
       "      <th>city</th>\n",
       "      <th>Monday</th>\n",
       "      <th>Wednesday</th>\n",
       "      <th>Friday</th>\n",
       "    </tr>\n",
       "  </thead>\n",
       "  <tbody>\n",
       "    <tr>\n",
       "      <th>0</th>\n",
       "      <td>Moscow</td>\n",
       "      <td>15470</td>\n",
       "      <td>11056</td>\n",
       "      <td>15945</td>\n",
       "    </tr>\n",
       "    <tr>\n",
       "      <th>1</th>\n",
       "      <td>Saint-Petersburg</td>\n",
       "      <td>5614</td>\n",
       "      <td>7003</td>\n",
       "      <td>5895</td>\n",
       "    </tr>\n",
       "  </tbody>\n",
       "</table>\n",
       "</div>"
      ],
      "text/plain": [
       "               city  Monday  Wednesday  Friday\n",
       "0            Moscow   15470      11056   15945\n",
       "1  Saint-Petersburg    5614       7003    5895"
      ]
     },
     "metadata": {},
     "output_type": "display_data"
    }
   ],
   "source": [
    "# Таблица с результатами\n",
    "\n",
    "data = [['Moscow', 15470, 11056, 15945],\n",
    "       ['Saint-Petersburg', 5614, 7003, 5895]]\n",
    "columns = ['city', 'Monday', 'Wednesday', 'Friday']\n",
    "#объявим переменную table для дальнейшего использования\n",
    "table = pd.DataFrame(data=data, columns = columns)\n",
    "display(table)"
   ]
  },
  {
   "cell_type": "markdown",
   "metadata": {},
   "source": [
    "<div class=\"alert alert-success\">\n",
    "<b>Комментарий ревьюера ✔️:</b> Отлично! Датафрейм сформирован успешно!\n",
    "</div> "
   ]
  },
  {
   "cell_type": "markdown",
   "metadata": {
    "id": "-EgPIHYu_Zcu"
   },
   "source": [
    "**Выводы**\n",
    "\n",
    "Данные показывают разницу поведения пользователей:\n",
    "\n",
    "- В Москве пик прослушиваний приходится на понедельник и пятницу, а в среду заметен спад.\n",
    "- В Петербурге, наоборот, больше слушают музыку по средам. Активность в понедельник и пятницу здесь почти в равной мере уступает среде.\n",
    "\n",
    "Значит, данные говорят в пользу первой гипотезы."
   ]
  },
  {
   "cell_type": "markdown",
   "metadata": {
    "id": "atZAxtq4_Zcu"
   },
   "source": [
    "### Музыка в начале и в конце недели"
   ]
  },
  {
   "cell_type": "markdown",
   "metadata": {
    "id": "eXrQqXFH_Zcu"
   },
   "source": [
    "Согласно второй гипотезе, утром в понедельник в Москве преобладают одни жанры, а в Петербурге — другие. Так же и вечером пятницы преобладают разные жанры — в зависимости от города."
   ]
  },
  {
   "cell_type": "markdown",
   "metadata": {
    "id": "S8UcW6Hw_Zcu"
   },
   "source": [
    "Сохраните таблицы с данными в две переменные:\n",
    "* по Москве — в `moscow_general`;\n",
    "* по Санкт-Петербургу — в `spb_general`."
   ]
  },
  {
   "cell_type": "code",
   "execution_count": 28,
   "metadata": {
    "id": "qeaFfM_P_Zcu"
   },
   "outputs": [],
   "source": [
    "# получение таблицы moscow_general из тех строк таблицы df, \n",
    "# для которых значение в столбце 'city' равно 'Moscow'\n",
    "moscow_general = df[df['city'] == 'Moscow']\n"
   ]
  },
  {
   "cell_type": "code",
   "execution_count": 29,
   "metadata": {
    "id": "ORaVRKto_Zcu"
   },
   "outputs": [],
   "source": [
    "# получение таблицы spb_general из тех строк таблицы df,\n",
    "# для которых значение в столбце 'city' равно 'Saint-Petersburg'\n",
    "\n",
    "spb_general = df[df['city'] == 'Saint-Petersburg']"
   ]
  },
  {
   "cell_type": "markdown",
   "metadata": {},
   "source": [
    "<div class=\"alert alert-success\">\n",
    "<b>Комментарий ревьюера ✔️:</b> 👍\n",
    "</div> "
   ]
  },
  {
   "cell_type": "markdown",
   "metadata": {
    "id": "MEJV-CX2_Zcu"
   },
   "source": [
    "Создайте функцию `genre_weekday()` с четырьмя параметрами:\n",
    "* таблица (датафрейм) с данными,\n",
    "* день недели,\n",
    "* начальная временная метка в формате 'hh:mm', \n",
    "* последняя временная метка в формате 'hh:mm'.\n",
    "\n",
    "Функция должна вернуть информацию о топ-10 жанров тех треков, которые прослушивали в указанный день, в промежутке между двумя отметками времени."
   ]
  },
  {
   "cell_type": "code",
   "execution_count": 30,
   "metadata": {
    "id": "laJT9BYl_Zcu"
   },
   "outputs": [],
   "source": [
    "# Объявление функции genre_weekday() с параметрами table, day, time1, time2,\n",
    "# которая возвращает информацию о самых популярных жанрах в указанный день в\n",
    "# заданное время:\n",
    "def genre_weekday(table, day, time1, time2):\n",
    "    \n",
    "# 1) в переменную genre_df сохраняются те строки переданного датафрейма table, для\n",
    "#    которых одновременно:\n",
    "#    - значение в столбце day равно значению аргумента day\n",
    "#    - значение в столбце time больше значения аргумента time1\n",
    "#    - значение в столбце time меньше значения аргумента time2\n",
    "#    Используйте последовательную фильтрацию с помощью логической индексации.\n",
    "    genre_df = table[table['day'] == day]\n",
    "    genre_df = genre_df[genre_df['time'] > time1]\n",
    "    genre_df = genre_df[genre_df['time'] < time2]\n",
    "# 2) сгруппировать датафрейм genre_df по столбцу genre, взять один из его\n",
    "#    столбцов и посчитать методом count() количество записей для каждого из\n",
    "#    присутствующих жанров, получившийся Series записать в переменную\n",
    "#    genre_df_count\n",
    "    genre_df_count = genre_df.groupby('genre')['track'].count()\n",
    "# 3) отсортировать genre_df_count по убыванию встречаемости и сохранить\n",
    "#    в переменную genre_df_sorted\n",
    "    # Отсортируем по названию жанра\n",
    "    genre_df_sorted = genre_df_count.sort_values(ascending = False)\n",
    "# 4) вернуть Series из 10 первых значений genre_df_sorted, это будут топ-10\n",
    "#    популярных жанров (в указанный день, в заданное время)\n",
    "    return genre_df_sorted.head(10)"
   ]
  },
  {
   "cell_type": "markdown",
   "metadata": {},
   "source": [
    "<div class=\"alert alert-success\">\n",
    "<b>Комментарий ревьюера ✔️:</b> Молодец! Твоя функция полностью выполняет свои задачи.\n",
    "</div> "
   ]
  },
  {
   "cell_type": "markdown",
   "metadata": {
    "id": "la2s2_PF_Zcu"
   },
   "source": [
    "Cравните результаты функции `genre_weekday()` для Москвы и Санкт-Петербурга в понедельник утром (с 7:00 до 11:00) и в пятницу вечером (с 17:00 до 23:00):"
   ]
  },
  {
   "cell_type": "code",
   "execution_count": 31,
   "metadata": {
    "id": "yz7itPUQ_Zcu"
   },
   "outputs": [
    {
     "data": {
      "text/plain": [
       "genre\n",
       "pop            781\n",
       "dance          549\n",
       "electronic     480\n",
       "rock           474\n",
       "hiphop         286\n",
       "ruspop         186\n",
       "world          181\n",
       "rusrap         175\n",
       "alternative    164\n",
       "unknown        161\n",
       "Name: track, dtype: int64"
      ]
     },
     "execution_count": 31,
     "metadata": {},
     "output_type": "execute_result"
    }
   ],
   "source": [
    "# вызов функции для утра понедельника в Москве (вместо df — таблица moscow_general)\n",
    "# объекты, хранящие время, являются строками и сравниваются как строки\n",
    "# пример вызова: genre_weekday(moscow_general, 'Monday', '07:00', '11:00')\n",
    "\n",
    "genre_weekday(moscow_general, 'Monday', '07:00', '11:00')"
   ]
  },
  {
   "cell_type": "code",
   "execution_count": 32,
   "metadata": {
    "id": "kwUcHPdy_Zcu"
   },
   "outputs": [
    {
     "data": {
      "text/plain": [
       "genre\n",
       "pop            218\n",
       "dance          182\n",
       "rock           162\n",
       "electronic     147\n",
       "hiphop          80\n",
       "ruspop          64\n",
       "alternative     58\n",
       "rusrap          55\n",
       "jazz            44\n",
       "classical       40\n",
       "Name: track, dtype: int64"
      ]
     },
     "execution_count": 32,
     "metadata": {},
     "output_type": "execute_result"
    }
   ],
   "source": [
    "# вызов функции для утра понедельника в Петербурге (вместо df — таблица spb_general)\n",
    "genre_weekday(spb_general, 'Monday', '07:00', '11:00')\n",
    "# Если написать время в формате '7:00' без нуля спереди, то таблица Series не выйдет на экран"
   ]
  },
  {
   "cell_type": "code",
   "execution_count": 33,
   "metadata": {
    "id": "EzXVRE1o_Zcu"
   },
   "outputs": [
    {
     "data": {
      "text/plain": [
       "genre\n",
       "pop            713\n",
       "rock           517\n",
       "dance          495\n",
       "electronic     482\n",
       "hiphop         273\n",
       "world          208\n",
       "ruspop         170\n",
       "alternative    163\n",
       "classical      163\n",
       "rusrap         142\n",
       "Name: track, dtype: int64"
      ]
     },
     "execution_count": 33,
     "metadata": {},
     "output_type": "execute_result"
    }
   ],
   "source": [
    "# вызов функции для вечера пятницы в Москве\n",
    "\n",
    "genre_weekday(moscow_general, 'Friday', '17:00', '23:00')"
   ]
  },
  {
   "cell_type": "code",
   "execution_count": 34,
   "metadata": {
    "id": "JZaEKu5v_Zcu"
   },
   "outputs": [
    {
     "data": {
      "text/plain": [
       "genre\n",
       "pop            263\n",
       "rock           208\n",
       "electronic     192\n",
       "dance          191\n",
       "hiphop         104\n",
       "alternative     72\n",
       "classical       71\n",
       "jazz            57\n",
       "rusrap          54\n",
       "ruspop          53\n",
       "Name: track, dtype: int64"
      ]
     },
     "execution_count": 34,
     "metadata": {},
     "output_type": "execute_result"
    }
   ],
   "source": [
    "# вызов функции для вечера пятницы в Петербурге\n",
    "\n",
    "genre_weekday(spb_general, 'Monday', '17:00', '23:00')"
   ]
  },
  {
   "cell_type": "markdown",
   "metadata": {},
   "source": [
    "<div class=\"alert alert-success\">\n",
    "<b>Комментарий ревьюера ✔️:</b> Отлично. С помощью функции мы получили всю нужную информацию!\n",
    "</div> "
   ]
  },
  {
   "cell_type": "markdown",
   "metadata": {
    "id": "wrCe4MNX_Zcu"
   },
   "source": [
    "**Выводы**\n",
    "\n",
    "Если сравнить топ-10 жанров в понедельник утром, можно сделать такие выводы:\n",
    "\n",
    "1. В Москве и Петербурге слушают похожую музыку. Единственное отличие — в московский рейтинг вошёл жанр “world”, а в петербургский — джаз и классика.\n",
    "\n",
    "2. В Москве пропущенных значений оказалось так много, что значение `'unknown'` заняло десятое место среди самых популярных жанров. Значит, пропущенные значения занимают существенную долю в данных и угрожают достоверности исследования.\n",
    "\n",
    "Вечер пятницы не меняет эту картину. Некоторые жанры поднимаются немного выше, другие спускаются, но в целом топ-10 остаётся тем же самым.\n",
    "\n",
    "Таким образом, вторая гипотеза подтвердилась лишь частично:\n",
    "* Пользователи слушают похожую музыку в начале недели и в конце.\n",
    "* Разница между Москвой и Петербургом не слишком выражена. В Москве чаще слушают русскую популярную музыку, в Петербурге — джаз.\n",
    "\n",
    "Однако пропуски в данных ставят под сомнение этот результат. В Москве их так много, что рейтинг топ-10 мог бы выглядеть иначе, если бы не утерянные  данные о жанрах."
   ]
  },
  {
   "cell_type": "markdown",
   "metadata": {
    "id": "JolODAqr_Zcu"
   },
   "source": [
    "### Жанровые предпочтения в Москве и Петербурге\n",
    "\n",
    "Гипотеза: Петербург — столица рэпа, музыку этого жанра там слушают чаще, чем в Москве.  А Москва — город контрастов, в котором, тем не менее, преобладает поп-музыка."
   ]
  },
  {
   "cell_type": "markdown",
   "metadata": {
    "id": "DlegSvaT_Zcu"
   },
   "source": [
    "Сгруппируйте таблицу `moscow_general` по жанру и посчитайте прослушивания треков каждого жанра методом `count()`. Затем отсортируйте результат в порядке убывания и сохраните его в таблице `moscow_genres`."
   ]
  },
  {
   "cell_type": "code",
   "execution_count": 35,
   "metadata": {
    "id": "r19lIPke_Zcu"
   },
   "outputs": [],
   "source": [
    "# одной строкой: группировка таблицы moscow_general по столбцу 'genre', \n",
    "# подсчёт числа значений 'genre' в этой группировке методом count(), \n",
    "# сортировка получившегося Series в порядке убывания и сохранение в moscow_genres\n",
    "\n",
    "moscow_genres = moscow_general.groupby('genre')['genre'].count().sort_values(ascending = False)"
   ]
  },
  {
   "cell_type": "markdown",
   "metadata": {
    "id": "6kMuomxTiIr8"
   },
   "source": [
    "Выведите на экран первые десять строк `moscow_genres`:"
   ]
  },
  {
   "cell_type": "code",
   "execution_count": 36,
   "metadata": {
    "id": "WhCSooF8_Zcv"
   },
   "outputs": [
    {
     "data": {
      "text/plain": [
       "genre\n",
       "pop            5892\n",
       "dance          4435\n",
       "rock           3965\n",
       "electronic     3786\n",
       "hiphop         2096\n",
       "classical      1616\n",
       "world          1432\n",
       "alternative    1379\n",
       "ruspop         1372\n",
       "rusrap         1161\n",
       "Name: genre, dtype: int64"
      ]
     },
     "execution_count": 36,
     "metadata": {},
     "output_type": "execute_result"
    }
   ],
   "source": [
    "# просмотр первых 10 строк moscow_genres\n",
    "moscow_genres.head(10)"
   ]
  },
  {
   "cell_type": "markdown",
   "metadata": {},
   "source": [
    "<div class=\"alert alert-success\">\n",
    "<b>Комментарий ревьюера ✔️:</b> Отлично! Данные по Москве получены.\n",
    "</div> "
   ]
  },
  {
   "cell_type": "markdown",
   "metadata": {
    "id": "cnPG2vnN_Zcv"
   },
   "source": [
    "Теперь повторите то же и для Петербурга.\n",
    "\n",
    "Сгруппируйте таблицу `spb_general` по жанру. Посчитайте прослушивания треков каждого жанра. Результат отсортируйте в порядке убывания и сохраните в таблице `spb_genres`:\n"
   ]
  },
  {
   "cell_type": "code",
   "execution_count": 37,
   "metadata": {
    "id": "gluLIpE7_Zcv"
   },
   "outputs": [],
   "source": [
    "# одной строкой: группировка таблицы spb_general по столбцу 'genre', \n",
    "# подсчёт числа значений 'genre' в этой группировке методом count(), \n",
    "# сортировка получившегося Series в порядке убывания и сохранение в spb_genres\n",
    "#moscow_genres = moscow_general.groupby('genre')['genre'].count().sort_values(ascending = False)\n",
    "spb_genres = spb_general.groupby('genre')['genre'].count().sort_values(ascending = False)\n",
    "#spb_genres = spb_general.groupby('genre')['genre'].count.sort_values(ascending = False) #не рабочий код"
   ]
  },
  {
   "cell_type": "markdown",
   "metadata": {
    "id": "5Doha_ODgyQ8"
   },
   "source": [
    "Выведите на экран первые десять строк `spb_genres`:"
   ]
  },
  {
   "cell_type": "code",
   "execution_count": 38,
   "metadata": {
    "id": "uaGJHjVU_Zcv",
    "scrolled": true
   },
   "outputs": [
    {
     "data": {
      "text/plain": [
       "genre\n",
       "pop            2431\n",
       "dance          1932\n",
       "rock           1879\n",
       "electronic     1736\n",
       "hiphop          960\n",
       "alternative     649\n",
       "classical       646\n",
       "rusrap          564\n",
       "ruspop          538\n",
       "world           515\n",
       "Name: genre, dtype: int64"
      ]
     },
     "execution_count": 38,
     "metadata": {},
     "output_type": "execute_result"
    }
   ],
   "source": [
    "# просмотр первых 10 строк spb_genres\n",
    "\n",
    "spb_genres.head(10)"
   ]
  },
  {
   "cell_type": "markdown",
   "metadata": {},
   "source": [
    "<div class=\"alert alert-success\">\n",
    "<b>Комментарий ревьюера ✔️:</b> Отлично! Данные по Питеру тоже получены.\n",
    "</div> "
   ]
  },
  {
   "cell_type": "markdown",
   "metadata": {
    "id": "RY51YJYu_Zcv"
   },
   "source": [
    "**Выводы**"
   ]
  },
  {
   "cell_type": "markdown",
   "metadata": {
    "id": "nVhnJEm__Zcv"
   },
   "source": [
    "Гипотеза частично подтвердилась:\n",
    "* Поп-музыка — самый популярный жанр в Москве, как и предполагала гипотеза. Более того, в топ-10 жанров встречается близкий жанр — русская популярная музыка.\n",
    "* Вопреки ожиданиям, рэп одинаково популярен в Москве и Петербурге. \n"
   ]
  },
  {
   "cell_type": "markdown",
   "metadata": {
    "id": "ykKQ0N65_Zcv"
   },
   "source": [
    "## Итоги исследования"
   ]
  },
  {
   "cell_type": "markdown",
   "metadata": {
    "id": "tjUwbHb3_Zcv"
   },
   "source": [
    "Вы проверили три гипотезы и установили:\n",
    "\n",
    "1. День недели по-разному влияет на активность пользователей в Москве и Петербурге. \n",
    "\n",
    "Первая гипотеза полностью подтвердилась.\n",
    "\n",
    "2. Музыкальные предпочтения не сильно меняются в течение недели — будь то Москва или Петербург. Небольшие различия заметны в начале недели, по понедельникам:\n",
    "* в Москве слушают музыку жанра “world”,\n",
    "* в Петербурге — джаз и классику.\n",
    "\n",
    "Таким образом, вторая гипотеза подтвердилась лишь отчасти. Этот результат мог оказаться иным, если бы не пропуски в данных.\n",
    "\n",
    "3. Во вкусах пользователей Москвы и Петербурга больше общего чем различий. Вопреки ожиданиям, предпочтения жанров в Петербурге напоминают московские.\n",
    "\n",
    "Третья гипотеза не подтвердилась. Если различия в предпочтениях и существуют, на основной массе пользователей они незаметны.\n",
    "\n",
    "**На практике исследования содержат проверки статистических гипотез.**\n",
    "Из данных одного сервиса не всегда можно сделать вывод о всех жителях города.\n",
    "Проверки статистических гипотез покажут, насколько они достоверны, исходя из имеющихся данных. \n",
    "С методами проверок гипотез вы ещё познакомитесь в следующих темах."
   ]
  }
 ],
 "metadata": {
  "ExecuteTimeLog": [
   {
    "duration": 339,
    "start_time": "2022-03-09T16:00:04.850Z"
   },
   {
    "duration": 285,
    "start_time": "2022-03-09T16:00:20.609Z"
   },
   {
    "duration": 304,
    "start_time": "2022-03-09T16:00:30.300Z"
   },
   {
    "duration": 284,
    "start_time": "2022-03-09T16:01:10.704Z"
   },
   {
    "duration": 300,
    "start_time": "2022-03-09T16:01:19.108Z"
   },
   {
    "duration": 288,
    "start_time": "2022-03-09T16:01:29.689Z"
   },
   {
    "duration": 294,
    "start_time": "2022-03-09T16:01:47.501Z"
   },
   {
    "duration": 280,
    "start_time": "2022-03-09T16:02:26.993Z"
   },
   {
    "duration": 574,
    "start_time": "2022-03-09T16:03:38.388Z"
   },
   {
    "duration": 309,
    "start_time": "2022-03-09T16:03:44.132Z"
   },
   {
    "duration": 3633,
    "start_time": "2022-03-09T16:04:10.551Z"
   },
   {
    "duration": 443,
    "start_time": "2022-03-09T16:04:23.416Z"
   },
   {
    "duration": 307,
    "start_time": "2022-03-09T16:05:01.870Z"
   },
   {
    "duration": 305,
    "start_time": "2022-03-09T16:05:28.449Z"
   },
   {
    "duration": 308,
    "start_time": "2022-03-09T16:06:45.867Z"
   },
   {
    "duration": 293,
    "start_time": "2022-03-09T16:06:58.978Z"
   },
   {
    "duration": 368,
    "start_time": "2022-03-09T16:07:06.458Z"
   },
   {
    "duration": 321,
    "start_time": "2022-03-09T16:13:46.647Z"
   },
   {
    "duration": 292,
    "start_time": "2022-03-09T16:33:40.650Z"
   },
   {
    "duration": 583,
    "start_time": "2022-03-09T16:34:14.618Z"
   },
   {
    "duration": 2483,
    "start_time": "2022-03-09T16:34:15.202Z"
   },
   {
    "duration": 3285,
    "start_time": "2022-03-09T16:34:14.403Z"
   },
   {
    "duration": 3281,
    "start_time": "2022-03-09T16:34:14.408Z"
   },
   {
    "duration": 3277,
    "start_time": "2022-03-09T16:34:14.413Z"
   },
   {
    "duration": 3264,
    "start_time": "2022-03-09T16:34:14.427Z"
   },
   {
    "duration": 3258,
    "start_time": "2022-03-09T16:34:14.434Z"
   },
   {
    "duration": 3256,
    "start_time": "2022-03-09T16:34:14.437Z"
   },
   {
    "duration": 3254,
    "start_time": "2022-03-09T16:34:14.440Z"
   },
   {
    "duration": 3252,
    "start_time": "2022-03-09T16:34:14.443Z"
   },
   {
    "duration": 3248,
    "start_time": "2022-03-09T16:34:14.448Z"
   },
   {
    "duration": 3244,
    "start_time": "2022-03-09T16:34:14.453Z"
   },
   {
    "duration": 3240,
    "start_time": "2022-03-09T16:34:14.458Z"
   },
   {
    "duration": 3235,
    "start_time": "2022-03-09T16:34:14.464Z"
   },
   {
    "duration": 3232,
    "start_time": "2022-03-09T16:34:14.468Z"
   },
   {
    "duration": 3228,
    "start_time": "2022-03-09T16:34:14.473Z"
   },
   {
    "duration": 3223,
    "start_time": "2022-03-09T16:34:14.479Z"
   },
   {
    "duration": 3205,
    "start_time": "2022-03-09T16:34:14.497Z"
   },
   {
    "duration": 3201,
    "start_time": "2022-03-09T16:34:14.503Z"
   },
   {
    "duration": 3198,
    "start_time": "2022-03-09T16:34:14.507Z"
   },
   {
    "duration": 3195,
    "start_time": "2022-03-09T16:34:14.510Z"
   },
   {
    "duration": 3193,
    "start_time": "2022-03-09T16:34:14.514Z"
   },
   {
    "duration": 3190,
    "start_time": "2022-03-09T16:34:14.518Z"
   },
   {
    "duration": 3187,
    "start_time": "2022-03-09T16:34:14.522Z"
   },
   {
    "duration": 3185,
    "start_time": "2022-03-09T16:34:14.525Z"
   },
   {
    "duration": 3183,
    "start_time": "2022-03-09T16:34:14.528Z"
   },
   {
    "duration": 3180,
    "start_time": "2022-03-09T16:34:14.532Z"
   },
   {
    "duration": 3177,
    "start_time": "2022-03-09T16:34:14.536Z"
   },
   {
    "duration": 3156,
    "start_time": "2022-03-09T16:34:14.558Z"
   },
   {
    "duration": 3155,
    "start_time": "2022-03-09T16:34:14.560Z"
   },
   {
    "duration": 3152,
    "start_time": "2022-03-09T16:34:14.563Z"
   },
   {
    "duration": 3151,
    "start_time": "2022-03-09T16:34:14.566Z"
   },
   {
    "duration": 3149,
    "start_time": "2022-03-09T16:34:14.569Z"
   },
   {
    "duration": 3148,
    "start_time": "2022-03-09T16:34:14.571Z"
   },
   {
    "duration": 3146,
    "start_time": "2022-03-09T16:34:14.574Z"
   },
   {
    "duration": 3144,
    "start_time": "2022-03-09T16:34:14.577Z"
   },
   {
    "duration": 3141,
    "start_time": "2022-03-09T16:34:14.581Z"
   },
   {
    "duration": 3138,
    "start_time": "2022-03-09T16:34:14.585Z"
   },
   {
    "duration": 338,
    "start_time": "2022-03-09T16:34:39.479Z"
   },
   {
    "duration": 1252,
    "start_time": "2022-03-09T16:35:06.247Z"
   },
   {
    "duration": 2113,
    "start_time": "2022-03-09T16:35:35.473Z"
   },
   {
    "duration": 357,
    "start_time": "2022-03-09T16:39:47.139Z"
   },
   {
    "duration": 333,
    "start_time": "2022-03-09T16:43:17.572Z"
   },
   {
    "duration": 289,
    "start_time": "2022-03-09T16:44:50.439Z"
   },
   {
    "duration": 294,
    "start_time": "2022-03-09T16:45:04.668Z"
   },
   {
    "duration": 321,
    "start_time": "2022-03-09T16:45:10.776Z"
   },
   {
    "duration": 578,
    "start_time": "2022-03-09T16:49:34.913Z"
   },
   {
    "duration": 565,
    "start_time": "2022-03-09T16:49:59.170Z"
   },
   {
    "duration": 2823,
    "start_time": "2022-03-09T16:50:01.675Z"
   },
   {
    "duration": 286,
    "start_time": "2022-03-09T16:50:10.473Z"
   },
   {
    "duration": 3,
    "start_time": "2022-03-09T16:53:21.118Z"
   },
   {
    "duration": 2328,
    "start_time": "2022-03-09T16:53:21.124Z"
   },
   {
    "duration": 3315,
    "start_time": "2022-03-09T16:53:20.140Z"
   },
   {
    "duration": 3308,
    "start_time": "2022-03-09T16:53:20.148Z"
   },
   {
    "duration": 3303,
    "start_time": "2022-03-09T16:53:20.154Z"
   },
   {
    "duration": 3302,
    "start_time": "2022-03-09T16:53:20.157Z"
   },
   {
    "duration": 3298,
    "start_time": "2022-03-09T16:53:20.162Z"
   },
   {
    "duration": 3297,
    "start_time": "2022-03-09T16:53:20.165Z"
   },
   {
    "duration": 3294,
    "start_time": "2022-03-09T16:53:20.169Z"
   },
   {
    "duration": 3291,
    "start_time": "2022-03-09T16:53:20.173Z"
   },
   {
    "duration": 3288,
    "start_time": "2022-03-09T16:53:20.177Z"
   },
   {
    "duration": 3279,
    "start_time": "2022-03-09T16:53:20.188Z"
   },
   {
    "duration": 3277,
    "start_time": "2022-03-09T16:53:20.191Z"
   },
   {
    "duration": 3274,
    "start_time": "2022-03-09T16:53:20.195Z"
   },
   {
    "duration": 3272,
    "start_time": "2022-03-09T16:53:20.198Z"
   },
   {
    "duration": 3271,
    "start_time": "2022-03-09T16:53:20.201Z"
   },
   {
    "duration": 3269,
    "start_time": "2022-03-09T16:53:20.204Z"
   },
   {
    "duration": 3267,
    "start_time": "2022-03-09T16:53:20.207Z"
   },
   {
    "duration": 3265,
    "start_time": "2022-03-09T16:53:20.210Z"
   },
   {
    "duration": 3263,
    "start_time": "2022-03-09T16:53:20.213Z"
   },
   {
    "duration": 3258,
    "start_time": "2022-03-09T16:53:20.219Z"
   },
   {
    "duration": 3256,
    "start_time": "2022-03-09T16:53:20.223Z"
   },
   {
    "duration": 3238,
    "start_time": "2022-03-09T16:53:20.242Z"
   },
   {
    "duration": 3236,
    "start_time": "2022-03-09T16:53:20.245Z"
   },
   {
    "duration": 3233,
    "start_time": "2022-03-09T16:53:20.249Z"
   },
   {
    "duration": 3231,
    "start_time": "2022-03-09T16:53:20.253Z"
   },
   {
    "duration": 3229,
    "start_time": "2022-03-09T16:53:20.256Z"
   },
   {
    "duration": 3226,
    "start_time": "2022-03-09T16:53:20.260Z"
   },
   {
    "duration": 3224,
    "start_time": "2022-03-09T16:53:20.263Z"
   },
   {
    "duration": 3221,
    "start_time": "2022-03-09T16:53:20.267Z"
   },
   {
    "duration": 3217,
    "start_time": "2022-03-09T16:53:20.272Z"
   },
   {
    "duration": 3215,
    "start_time": "2022-03-09T16:53:20.275Z"
   },
   {
    "duration": 3213,
    "start_time": "2022-03-09T16:53:20.278Z"
   },
   {
    "duration": 3212,
    "start_time": "2022-03-09T16:53:20.281Z"
   },
   {
    "duration": 3209,
    "start_time": "2022-03-09T16:53:20.285Z"
   },
   {
    "duration": 3190,
    "start_time": "2022-03-09T16:53:20.305Z"
   },
   {
    "duration": 3187,
    "start_time": "2022-03-09T16:53:20.309Z"
   },
   {
    "duration": 3184,
    "start_time": "2022-03-09T16:53:20.313Z"
   },
   {
    "duration": 348,
    "start_time": "2022-03-09T17:01:23.841Z"
   },
   {
    "duration": 608,
    "start_time": "2022-03-09T17:04:07.297Z"
   },
   {
    "duration": 2494,
    "start_time": "2022-03-09T17:04:13.266Z"
   },
   {
    "duration": 284,
    "start_time": "2022-03-09T17:04:21.374Z"
   },
   {
    "duration": 3,
    "start_time": "2022-03-09T17:07:13.147Z"
   },
   {
    "duration": 663,
    "start_time": "2022-03-09T17:07:26.619Z"
   },
   {
    "duration": 130,
    "start_time": "2022-03-09T17:07:27.284Z"
   },
   {
    "duration": 14,
    "start_time": "2022-03-09T17:07:27.416Z"
   },
   {
    "duration": 5,
    "start_time": "2022-03-09T17:07:27.432Z"
   },
   {
    "duration": 6,
    "start_time": "2022-03-09T17:07:27.439Z"
   },
   {
    "duration": 8,
    "start_time": "2022-03-09T17:07:27.447Z"
   },
   {
    "duration": 5,
    "start_time": "2022-03-09T17:07:27.457Z"
   },
   {
    "duration": 4,
    "start_time": "2022-03-09T17:07:27.465Z"
   },
   {
    "duration": 6,
    "start_time": "2022-03-09T17:07:27.471Z"
   },
   {
    "duration": 4,
    "start_time": "2022-03-09T17:07:27.479Z"
   },
   {
    "duration": 9,
    "start_time": "2022-03-09T17:07:27.522Z"
   },
   {
    "duration": 6,
    "start_time": "2022-03-09T17:07:27.532Z"
   },
   {
    "duration": 4,
    "start_time": "2022-03-09T17:07:27.540Z"
   },
   {
    "duration": 14,
    "start_time": "2022-03-09T17:07:27.545Z"
   },
   {
    "duration": 8,
    "start_time": "2022-03-09T17:07:27.561Z"
   },
   {
    "duration": 9,
    "start_time": "2022-03-09T17:07:27.571Z"
   },
   {
    "duration": 5,
    "start_time": "2022-03-09T17:07:27.581Z"
   },
   {
    "duration": 6,
    "start_time": "2022-03-09T17:07:27.587Z"
   },
   {
    "duration": 4,
    "start_time": "2022-03-09T17:07:27.595Z"
   },
   {
    "duration": 9,
    "start_time": "2022-03-09T17:07:27.601Z"
   },
   {
    "duration": 8,
    "start_time": "2022-03-09T17:07:27.611Z"
   },
   {
    "duration": 9,
    "start_time": "2022-03-09T17:07:27.620Z"
   },
   {
    "duration": 3,
    "start_time": "2022-03-09T17:07:27.632Z"
   },
   {
    "duration": 4,
    "start_time": "2022-03-09T17:07:27.637Z"
   },
   {
    "duration": 5,
    "start_time": "2022-03-09T17:07:27.643Z"
   },
   {
    "duration": 8,
    "start_time": "2022-03-09T17:07:27.649Z"
   },
   {
    "duration": 5,
    "start_time": "2022-03-09T17:07:27.658Z"
   },
   {
    "duration": 6,
    "start_time": "2022-03-09T17:07:27.664Z"
   },
   {
    "duration": 6,
    "start_time": "2022-03-09T17:07:27.672Z"
   },
   {
    "duration": 5,
    "start_time": "2022-03-09T17:07:27.680Z"
   },
   {
    "duration": 6,
    "start_time": "2022-03-09T17:07:27.687Z"
   },
   {
    "duration": 6,
    "start_time": "2022-03-09T17:07:27.694Z"
   },
   {
    "duration": 3,
    "start_time": "2022-03-09T17:07:27.705Z"
   },
   {
    "duration": 5,
    "start_time": "2022-03-09T17:07:27.709Z"
   },
   {
    "duration": 4,
    "start_time": "2022-03-09T17:07:27.715Z"
   },
   {
    "duration": 4,
    "start_time": "2022-03-09T17:07:27.721Z"
   },
   {
    "duration": 4,
    "start_time": "2022-03-09T17:07:27.726Z"
   },
   {
    "duration": 4,
    "start_time": "2022-03-09T17:07:27.732Z"
   },
   {
    "duration": 9,
    "start_time": "2022-03-09T17:08:57.314Z"
   },
   {
    "duration": 23,
    "start_time": "2022-03-09T17:09:21.793Z"
   },
   {
    "duration": 22,
    "start_time": "2022-03-09T17:09:43.254Z"
   },
   {
    "duration": 397,
    "start_time": "2022-03-09T17:10:30.277Z"
   },
   {
    "duration": 288,
    "start_time": "2022-03-09T17:13:43.376Z"
   },
   {
    "duration": 4,
    "start_time": "2022-03-09T17:14:20.386Z"
   },
   {
    "duration": 4,
    "start_time": "2022-03-09T17:14:28.961Z"
   },
   {
    "duration": 4,
    "start_time": "2022-03-09T17:14:40.306Z"
   },
   {
    "duration": 4,
    "start_time": "2022-03-09T17:14:49.372Z"
   },
   {
    "duration": 4,
    "start_time": "2022-03-09T17:19:05.447Z"
   },
   {
    "duration": 26,
    "start_time": "2022-03-09T17:19:15.192Z"
   },
   {
    "duration": 3,
    "start_time": "2022-03-09T17:19:26.432Z"
   },
   {
    "duration": 26,
    "start_time": "2022-03-09T17:38:53.091Z"
   },
   {
    "duration": 26,
    "start_time": "2022-03-09T17:41:59.626Z"
   },
   {
    "duration": 4,
    "start_time": "2022-03-09T17:42:04.826Z"
   },
   {
    "duration": 307,
    "start_time": "2022-03-09T17:42:09.438Z"
   },
   {
    "duration": 4,
    "start_time": "2022-03-09T17:42:14.586Z"
   },
   {
    "duration": 294,
    "start_time": "2022-03-09T17:43:41.786Z"
   },
   {
    "duration": 20,
    "start_time": "2022-03-09T17:44:40.964Z"
   },
   {
    "duration": 26,
    "start_time": "2022-03-09T17:45:17.142Z"
   },
   {
    "duration": 4,
    "start_time": "2022-03-09T17:45:21.558Z"
   },
   {
    "duration": 25,
    "start_time": "2022-03-09T17:45:27.041Z"
   },
   {
    "duration": 600,
    "start_time": "2022-03-09T17:47:21.287Z"
   },
   {
    "duration": 119,
    "start_time": "2022-03-09T17:47:21.889Z"
   },
   {
    "duration": 16,
    "start_time": "2022-03-09T17:47:22.010Z"
   },
   {
    "duration": 23,
    "start_time": "2022-03-09T17:47:22.028Z"
   },
   {
    "duration": 4,
    "start_time": "2022-03-09T17:47:22.052Z"
   },
   {
    "duration": 51,
    "start_time": "2022-03-09T17:47:22.058Z"
   },
   {
    "duration": 4,
    "start_time": "2022-03-09T17:47:22.111Z"
   },
   {
    "duration": 35,
    "start_time": "2022-03-09T17:47:22.118Z"
   },
   {
    "duration": 3,
    "start_time": "2022-03-09T17:47:22.155Z"
   },
   {
    "duration": 5,
    "start_time": "2022-03-09T17:47:22.159Z"
   },
   {
    "duration": 9,
    "start_time": "2022-03-09T17:47:22.166Z"
   },
   {
    "duration": 3,
    "start_time": "2022-03-09T17:47:22.177Z"
   },
   {
    "duration": 24,
    "start_time": "2022-03-09T17:47:22.182Z"
   },
   {
    "duration": 3,
    "start_time": "2022-03-09T17:47:22.208Z"
   },
   {
    "duration": 4,
    "start_time": "2022-03-09T17:47:22.213Z"
   },
   {
    "duration": 4,
    "start_time": "2022-03-09T17:47:22.219Z"
   },
   {
    "duration": 4,
    "start_time": "2022-03-09T17:47:22.225Z"
   },
   {
    "duration": 4,
    "start_time": "2022-03-09T17:47:22.230Z"
   },
   {
    "duration": 4,
    "start_time": "2022-03-09T17:47:22.236Z"
   },
   {
    "duration": 14,
    "start_time": "2022-03-09T17:47:22.242Z"
   },
   {
    "duration": 6,
    "start_time": "2022-03-09T17:47:22.257Z"
   },
   {
    "duration": 6,
    "start_time": "2022-03-09T17:47:22.265Z"
   },
   {
    "duration": 3,
    "start_time": "2022-03-09T17:47:22.273Z"
   },
   {
    "duration": 4,
    "start_time": "2022-03-09T17:47:22.278Z"
   },
   {
    "duration": 3,
    "start_time": "2022-03-09T17:47:22.284Z"
   },
   {
    "duration": 17,
    "start_time": "2022-03-09T17:47:22.289Z"
   },
   {
    "duration": 14,
    "start_time": "2022-03-09T17:47:22.308Z"
   },
   {
    "duration": 4,
    "start_time": "2022-03-09T17:47:22.323Z"
   },
   {
    "duration": 5,
    "start_time": "2022-03-09T17:47:22.329Z"
   },
   {
    "duration": 5,
    "start_time": "2022-03-09T17:47:22.335Z"
   },
   {
    "duration": 7,
    "start_time": "2022-03-09T17:47:22.342Z"
   },
   {
    "duration": 4,
    "start_time": "2022-03-09T17:47:22.351Z"
   },
   {
    "duration": 7,
    "start_time": "2022-03-09T17:47:22.356Z"
   },
   {
    "duration": 5,
    "start_time": "2022-03-09T17:47:22.364Z"
   },
   {
    "duration": 5,
    "start_time": "2022-03-09T17:47:22.370Z"
   },
   {
    "duration": 5,
    "start_time": "2022-03-09T17:47:22.376Z"
   },
   {
    "duration": 5,
    "start_time": "2022-03-09T17:47:22.382Z"
   },
   {
    "duration": 4,
    "start_time": "2022-03-09T17:47:22.388Z"
   },
   {
    "duration": 24,
    "start_time": "2022-03-09T18:33:02.241Z"
   },
   {
    "duration": 24,
    "start_time": "2022-03-09T18:33:09.687Z"
   },
   {
    "duration": 3,
    "start_time": "2022-03-09T18:33:16.079Z"
   },
   {
    "duration": 2,
    "start_time": "2022-03-09T18:34:44.415Z"
   },
   {
    "duration": 2,
    "start_time": "2022-03-09T18:34:50.067Z"
   },
   {
    "duration": 2,
    "start_time": "2022-03-09T18:34:54.118Z"
   },
   {
    "duration": 21,
    "start_time": "2022-03-09T18:35:00.540Z"
   },
   {
    "duration": 4,
    "start_time": "2022-03-09T18:35:21.131Z"
   },
   {
    "duration": 4,
    "start_time": "2022-03-09T18:36:27.548Z"
   },
   {
    "duration": 3,
    "start_time": "2022-03-09T18:45:02.312Z"
   },
   {
    "duration": 8,
    "start_time": "2022-03-09T18:45:08.475Z"
   },
   {
    "duration": 3,
    "start_time": "2022-03-09T18:45:13.271Z"
   },
   {
    "duration": 13,
    "start_time": "2022-03-09T18:46:39.989Z"
   },
   {
    "duration": 4,
    "start_time": "2022-03-09T18:46:44.667Z"
   },
   {
    "duration": 8,
    "start_time": "2022-03-09T18:47:04.757Z"
   },
   {
    "duration": 3,
    "start_time": "2022-03-09T18:47:08.939Z"
   },
   {
    "duration": 21,
    "start_time": "2022-03-09T18:47:43.838Z"
   },
   {
    "duration": 17,
    "start_time": "2022-03-09T19:21:05.579Z"
   },
   {
    "duration": 21,
    "start_time": "2022-03-09T19:21:24.180Z"
   },
   {
    "duration": 228,
    "start_time": "2022-03-10T06:15:52.978Z"
   },
   {
    "duration": 579,
    "start_time": "2022-03-10T06:16:24.573Z"
   },
   {
    "duration": 138,
    "start_time": "2022-03-10T06:16:25.154Z"
   },
   {
    "duration": 17,
    "start_time": "2022-03-10T06:16:25.294Z"
   },
   {
    "duration": 34,
    "start_time": "2022-03-10T06:16:25.313Z"
   },
   {
    "duration": 20,
    "start_time": "2022-03-10T06:16:25.348Z"
   },
   {
    "duration": 25,
    "start_time": "2022-03-10T06:16:25.370Z"
   },
   {
    "duration": 6,
    "start_time": "2022-03-10T06:16:25.397Z"
   },
   {
    "duration": 24,
    "start_time": "2022-03-10T06:16:25.405Z"
   },
   {
    "duration": 17,
    "start_time": "2022-03-10T06:16:25.431Z"
   },
   {
    "duration": 28,
    "start_time": "2022-03-10T06:16:25.450Z"
   },
   {
    "duration": 59,
    "start_time": "2022-03-10T06:16:25.480Z"
   },
   {
    "duration": 18,
    "start_time": "2022-03-10T06:16:25.541Z"
   },
   {
    "duration": 7,
    "start_time": "2022-03-10T06:16:25.561Z"
   },
   {
    "duration": 4,
    "start_time": "2022-03-10T06:16:25.569Z"
   },
   {
    "duration": 6,
    "start_time": "2022-03-10T06:16:25.575Z"
   },
   {
    "duration": 4,
    "start_time": "2022-03-10T06:16:25.583Z"
   },
   {
    "duration": 5,
    "start_time": "2022-03-10T06:16:25.589Z"
   },
   {
    "duration": 7,
    "start_time": "2022-03-10T06:16:25.595Z"
   },
   {
    "duration": 5,
    "start_time": "2022-03-10T06:16:25.603Z"
   },
   {
    "duration": 4,
    "start_time": "2022-03-10T06:16:25.610Z"
   },
   {
    "duration": 5,
    "start_time": "2022-03-10T06:16:25.615Z"
   },
   {
    "duration": 7,
    "start_time": "2022-03-10T06:16:25.621Z"
   },
   {
    "duration": 2,
    "start_time": "2022-03-10T06:16:25.631Z"
   },
   {
    "duration": 24,
    "start_time": "2022-03-10T06:16:25.635Z"
   },
   {
    "duration": 4,
    "start_time": "2022-03-10T06:16:25.661Z"
   },
   {
    "duration": 7,
    "start_time": "2022-03-10T06:16:25.667Z"
   },
   {
    "duration": 4,
    "start_time": "2022-03-10T06:16:25.675Z"
   },
   {
    "duration": 5,
    "start_time": "2022-03-10T06:16:25.681Z"
   },
   {
    "duration": 5,
    "start_time": "2022-03-10T06:16:25.687Z"
   },
   {
    "duration": 6,
    "start_time": "2022-03-10T06:16:25.693Z"
   },
   {
    "duration": 6,
    "start_time": "2022-03-10T06:16:25.700Z"
   },
   {
    "duration": 4,
    "start_time": "2022-03-10T06:16:25.708Z"
   },
   {
    "duration": 6,
    "start_time": "2022-03-10T06:16:25.713Z"
   },
   {
    "duration": 4,
    "start_time": "2022-03-10T06:16:25.721Z"
   },
   {
    "duration": 5,
    "start_time": "2022-03-10T06:16:25.726Z"
   },
   {
    "duration": 5,
    "start_time": "2022-03-10T06:16:25.732Z"
   },
   {
    "duration": 2,
    "start_time": "2022-03-10T06:16:25.759Z"
   },
   {
    "duration": 10,
    "start_time": "2022-03-10T06:16:25.763Z"
   },
   {
    "duration": 533,
    "start_time": "2022-03-10T06:16:49.512Z"
   },
   {
    "duration": 131,
    "start_time": "2022-03-10T06:16:50.047Z"
   },
   {
    "duration": 18,
    "start_time": "2022-03-10T06:16:50.180Z"
   },
   {
    "duration": 29,
    "start_time": "2022-03-10T06:16:50.199Z"
   },
   {
    "duration": 4,
    "start_time": "2022-03-10T06:16:50.229Z"
   },
   {
    "duration": 32,
    "start_time": "2022-03-10T06:16:50.235Z"
   },
   {
    "duration": 9,
    "start_time": "2022-03-10T06:16:50.269Z"
   },
   {
    "duration": 26,
    "start_time": "2022-03-10T06:16:50.281Z"
   },
   {
    "duration": 24,
    "start_time": "2022-03-10T06:16:50.309Z"
   },
   {
    "duration": 31,
    "start_time": "2022-03-10T06:16:50.335Z"
   },
   {
    "duration": 62,
    "start_time": "2022-03-10T06:16:50.368Z"
   },
   {
    "duration": 2,
    "start_time": "2022-03-10T06:16:50.432Z"
   },
   {
    "duration": 16,
    "start_time": "2022-03-10T06:16:50.436Z"
   },
   {
    "duration": 16,
    "start_time": "2022-03-10T06:16:50.453Z"
   },
   {
    "duration": 5,
    "start_time": "2022-03-10T06:16:50.471Z"
   },
   {
    "duration": 7,
    "start_time": "2022-03-10T06:16:50.477Z"
   },
   {
    "duration": 10,
    "start_time": "2022-03-10T06:16:50.486Z"
   },
   {
    "duration": 6,
    "start_time": "2022-03-10T06:16:50.498Z"
   },
   {
    "duration": 7,
    "start_time": "2022-03-10T06:16:50.506Z"
   },
   {
    "duration": 6,
    "start_time": "2022-03-10T06:16:50.515Z"
   },
   {
    "duration": 11,
    "start_time": "2022-03-10T06:16:50.522Z"
   },
   {
    "duration": 4,
    "start_time": "2022-03-10T06:16:50.535Z"
   },
   {
    "duration": 3,
    "start_time": "2022-03-10T06:16:50.542Z"
   },
   {
    "duration": 4,
    "start_time": "2022-03-10T06:16:50.547Z"
   },
   {
    "duration": 10,
    "start_time": "2022-03-10T06:16:50.552Z"
   },
   {
    "duration": 8,
    "start_time": "2022-03-10T06:16:50.563Z"
   },
   {
    "duration": 10,
    "start_time": "2022-03-10T06:16:50.573Z"
   },
   {
    "duration": 5,
    "start_time": "2022-03-10T06:16:50.585Z"
   },
   {
    "duration": 5,
    "start_time": "2022-03-10T06:16:50.592Z"
   },
   {
    "duration": 5,
    "start_time": "2022-03-10T06:16:50.598Z"
   },
   {
    "duration": 8,
    "start_time": "2022-03-10T06:16:50.605Z"
   },
   {
    "duration": 6,
    "start_time": "2022-03-10T06:16:50.615Z"
   },
   {
    "duration": 10,
    "start_time": "2022-03-10T06:16:50.623Z"
   },
   {
    "duration": 8,
    "start_time": "2022-03-10T06:16:50.635Z"
   },
   {
    "duration": 5,
    "start_time": "2022-03-10T06:16:50.644Z"
   },
   {
    "duration": 12,
    "start_time": "2022-03-10T06:16:50.650Z"
   },
   {
    "duration": 14,
    "start_time": "2022-03-10T06:16:50.663Z"
   },
   {
    "duration": 21,
    "start_time": "2022-03-10T06:16:50.679Z"
   },
   {
    "duration": 65,
    "start_time": "2022-03-10T06:17:43.061Z"
   },
   {
    "duration": 546,
    "start_time": "2022-03-10T06:17:53.184Z"
   },
   {
    "duration": 125,
    "start_time": "2022-03-10T06:17:53.732Z"
   },
   {
    "duration": 17,
    "start_time": "2022-03-10T06:17:53.859Z"
   },
   {
    "duration": 43,
    "start_time": "2022-03-10T06:17:53.878Z"
   },
   {
    "duration": 21,
    "start_time": "2022-03-10T06:17:53.923Z"
   },
   {
    "duration": 21,
    "start_time": "2022-03-10T06:17:53.946Z"
   },
   {
    "duration": 18,
    "start_time": "2022-03-10T06:17:53.969Z"
   },
   {
    "duration": 25,
    "start_time": "2022-03-10T06:17:53.989Z"
   },
   {
    "duration": 21,
    "start_time": "2022-03-10T06:17:54.017Z"
   },
   {
    "duration": 25,
    "start_time": "2022-03-10T06:17:54.040Z"
   },
   {
    "duration": 61,
    "start_time": "2022-03-10T06:17:54.067Z"
   },
   {
    "duration": 71,
    "start_time": "2022-03-10T06:17:54.130Z"
   },
   {
    "duration": 2,
    "start_time": "2022-03-10T06:17:54.203Z"
   },
   {
    "duration": 5,
    "start_time": "2022-03-10T06:17:54.206Z"
   },
   {
    "duration": 4,
    "start_time": "2022-03-10T06:17:54.213Z"
   },
   {
    "duration": 4,
    "start_time": "2022-03-10T06:17:54.218Z"
   },
   {
    "duration": 6,
    "start_time": "2022-03-10T06:17:54.223Z"
   },
   {
    "duration": 4,
    "start_time": "2022-03-10T06:17:54.230Z"
   },
   {
    "duration": 6,
    "start_time": "2022-03-10T06:17:54.236Z"
   },
   {
    "duration": 2,
    "start_time": "2022-03-10T06:17:54.259Z"
   },
   {
    "duration": 6,
    "start_time": "2022-03-10T06:17:54.262Z"
   },
   {
    "duration": 4,
    "start_time": "2022-03-10T06:17:54.269Z"
   },
   {
    "duration": 2,
    "start_time": "2022-03-10T06:17:54.276Z"
   },
   {
    "duration": 5,
    "start_time": "2022-03-10T06:17:54.280Z"
   },
   {
    "duration": 4,
    "start_time": "2022-03-10T06:17:54.287Z"
   },
   {
    "duration": 11,
    "start_time": "2022-03-10T06:17:54.292Z"
   },
   {
    "duration": 4,
    "start_time": "2022-03-10T06:17:54.305Z"
   },
   {
    "duration": 8,
    "start_time": "2022-03-10T06:17:54.310Z"
   },
   {
    "duration": 4,
    "start_time": "2022-03-10T06:17:54.319Z"
   },
   {
    "duration": 7,
    "start_time": "2022-03-10T06:17:54.325Z"
   },
   {
    "duration": 7,
    "start_time": "2022-03-10T06:17:54.334Z"
   },
   {
    "duration": 8,
    "start_time": "2022-03-10T06:17:54.342Z"
   },
   {
    "duration": 3,
    "start_time": "2022-03-10T06:17:54.359Z"
   },
   {
    "duration": 4,
    "start_time": "2022-03-10T06:17:54.364Z"
   },
   {
    "duration": 4,
    "start_time": "2022-03-10T06:17:54.369Z"
   },
   {
    "duration": 4,
    "start_time": "2022-03-10T06:17:54.375Z"
   },
   {
    "duration": 5,
    "start_time": "2022-03-10T06:17:54.380Z"
   },
   {
    "duration": 4,
    "start_time": "2022-03-10T06:17:54.386Z"
   },
   {
    "duration": 580,
    "start_time": "2022-03-10T06:19:20.270Z"
   },
   {
    "duration": 145,
    "start_time": "2022-03-10T06:19:20.852Z"
   },
   {
    "duration": 19,
    "start_time": "2022-03-10T06:19:20.999Z"
   },
   {
    "duration": 25,
    "start_time": "2022-03-10T06:19:21.021Z"
   },
   {
    "duration": 5,
    "start_time": "2022-03-10T06:19:21.059Z"
   },
   {
    "duration": 14,
    "start_time": "2022-03-10T06:19:21.066Z"
   },
   {
    "duration": 6,
    "start_time": "2022-03-10T06:19:21.082Z"
   },
   {
    "duration": 23,
    "start_time": "2022-03-10T06:19:21.091Z"
   },
   {
    "duration": 51,
    "start_time": "2022-03-10T06:19:21.117Z"
   },
   {
    "duration": 24,
    "start_time": "2022-03-10T06:19:21.170Z"
   },
   {
    "duration": 83,
    "start_time": "2022-03-10T06:19:21.196Z"
   },
   {
    "duration": 79,
    "start_time": "2022-03-10T06:19:21.281Z"
   },
   {
    "duration": 3,
    "start_time": "2022-03-10T06:19:21.362Z"
   },
   {
    "duration": 58,
    "start_time": "2022-03-10T06:19:21.367Z"
   },
   {
    "duration": 2,
    "start_time": "2022-03-10T06:19:21.428Z"
   },
   {
    "duration": 27,
    "start_time": "2022-03-10T06:19:21.433Z"
   },
   {
    "duration": 4,
    "start_time": "2022-03-10T06:19:21.462Z"
   },
   {
    "duration": 3,
    "start_time": "2022-03-10T06:19:21.468Z"
   },
   {
    "duration": 5,
    "start_time": "2022-03-10T06:19:21.473Z"
   },
   {
    "duration": 5,
    "start_time": "2022-03-10T06:19:21.479Z"
   },
   {
    "duration": 9,
    "start_time": "2022-03-10T06:19:21.485Z"
   },
   {
    "duration": 8,
    "start_time": "2022-03-10T06:19:21.495Z"
   },
   {
    "duration": 6,
    "start_time": "2022-03-10T06:19:21.507Z"
   },
   {
    "duration": 7,
    "start_time": "2022-03-10T06:19:21.515Z"
   },
   {
    "duration": 35,
    "start_time": "2022-03-10T06:19:21.524Z"
   },
   {
    "duration": 8,
    "start_time": "2022-03-10T06:19:21.561Z"
   },
   {
    "duration": 5,
    "start_time": "2022-03-10T06:19:21.571Z"
   },
   {
    "duration": 5,
    "start_time": "2022-03-10T06:19:21.578Z"
   },
   {
    "duration": 5,
    "start_time": "2022-03-10T06:19:21.584Z"
   },
   {
    "duration": 5,
    "start_time": "2022-03-10T06:19:21.591Z"
   },
   {
    "duration": 5,
    "start_time": "2022-03-10T06:19:21.598Z"
   },
   {
    "duration": 6,
    "start_time": "2022-03-10T06:19:21.605Z"
   },
   {
    "duration": 6,
    "start_time": "2022-03-10T06:19:21.613Z"
   },
   {
    "duration": 3,
    "start_time": "2022-03-10T06:19:21.621Z"
   },
   {
    "duration": 3,
    "start_time": "2022-03-10T06:19:21.626Z"
   },
   {
    "duration": 4,
    "start_time": "2022-03-10T06:19:21.631Z"
   },
   {
    "duration": 2,
    "start_time": "2022-03-10T06:19:21.660Z"
   },
   {
    "duration": 6,
    "start_time": "2022-03-10T06:19:21.664Z"
   },
   {
    "duration": 541,
    "start_time": "2022-03-10T06:20:02.608Z"
   },
   {
    "duration": 130,
    "start_time": "2022-03-10T06:20:03.151Z"
   },
   {
    "duration": 17,
    "start_time": "2022-03-10T06:20:03.283Z"
   },
   {
    "duration": 24,
    "start_time": "2022-03-10T06:20:03.302Z"
   },
   {
    "duration": 4,
    "start_time": "2022-03-10T06:20:03.327Z"
   },
   {
    "duration": 34,
    "start_time": "2022-03-10T06:20:03.333Z"
   },
   {
    "duration": 5,
    "start_time": "2022-03-10T06:20:03.369Z"
   },
   {
    "duration": 23,
    "start_time": "2022-03-10T06:20:03.376Z"
   },
   {
    "duration": 16,
    "start_time": "2022-03-10T06:20:03.401Z"
   },
   {
    "duration": 42,
    "start_time": "2022-03-10T06:20:03.419Z"
   },
   {
    "duration": 58,
    "start_time": "2022-03-10T06:20:03.463Z"
   },
   {
    "duration": 83,
    "start_time": "2022-03-10T06:20:03.523Z"
   },
   {
    "duration": 64,
    "start_time": "2022-03-10T06:20:03.608Z"
   },
   {
    "duration": 2,
    "start_time": "2022-03-10T06:20:03.674Z"
   },
   {
    "duration": 4,
    "start_time": "2022-03-10T06:20:03.678Z"
   },
   {
    "duration": 6,
    "start_time": "2022-03-10T06:20:03.683Z"
   },
   {
    "duration": 7,
    "start_time": "2022-03-10T06:20:03.691Z"
   },
   {
    "duration": 4,
    "start_time": "2022-03-10T06:20:03.700Z"
   },
   {
    "duration": 5,
    "start_time": "2022-03-10T06:20:03.705Z"
   },
   {
    "duration": 3,
    "start_time": "2022-03-10T06:20:03.712Z"
   },
   {
    "duration": 6,
    "start_time": "2022-03-10T06:20:03.717Z"
   },
   {
    "duration": 5,
    "start_time": "2022-03-10T06:20:03.724Z"
   },
   {
    "duration": 4,
    "start_time": "2022-03-10T06:20:03.731Z"
   },
   {
    "duration": 24,
    "start_time": "2022-03-10T06:20:03.737Z"
   },
   {
    "duration": 5,
    "start_time": "2022-03-10T06:20:03.762Z"
   },
   {
    "duration": 6,
    "start_time": "2022-03-10T06:20:03.769Z"
   },
   {
    "duration": 5,
    "start_time": "2022-03-10T06:20:03.776Z"
   },
   {
    "duration": 5,
    "start_time": "2022-03-10T06:20:03.782Z"
   },
   {
    "duration": 6,
    "start_time": "2022-03-10T06:20:03.788Z"
   },
   {
    "duration": 4,
    "start_time": "2022-03-10T06:20:03.796Z"
   },
   {
    "duration": 6,
    "start_time": "2022-03-10T06:20:03.801Z"
   },
   {
    "duration": 4,
    "start_time": "2022-03-10T06:20:03.809Z"
   },
   {
    "duration": 6,
    "start_time": "2022-03-10T06:20:03.815Z"
   },
   {
    "duration": 6,
    "start_time": "2022-03-10T06:20:03.823Z"
   },
   {
    "duration": 8,
    "start_time": "2022-03-10T06:20:03.831Z"
   },
   {
    "duration": 8,
    "start_time": "2022-03-10T06:20:03.840Z"
   },
   {
    "duration": 11,
    "start_time": "2022-03-10T06:20:03.849Z"
   },
   {
    "duration": 4,
    "start_time": "2022-03-10T06:20:03.861Z"
   },
   {
    "duration": 576,
    "start_time": "2022-03-10T06:22:03.484Z"
   },
   {
    "duration": 138,
    "start_time": "2022-03-10T06:22:04.062Z"
   },
   {
    "duration": 19,
    "start_time": "2022-03-10T06:22:04.202Z"
   },
   {
    "duration": 52,
    "start_time": "2022-03-10T06:22:04.223Z"
   },
   {
    "duration": 31,
    "start_time": "2022-03-10T06:22:04.277Z"
   },
   {
    "duration": 22,
    "start_time": "2022-03-10T06:22:04.310Z"
   },
   {
    "duration": 12,
    "start_time": "2022-03-10T06:22:04.334Z"
   },
   {
    "duration": 45,
    "start_time": "2022-03-10T06:22:04.349Z"
   },
   {
    "duration": 30,
    "start_time": "2022-03-10T06:22:04.396Z"
   },
   {
    "duration": 28,
    "start_time": "2022-03-10T06:22:04.428Z"
   },
   {
    "duration": 73,
    "start_time": "2022-03-10T06:22:04.458Z"
   },
   {
    "duration": 72,
    "start_time": "2022-03-10T06:22:04.533Z"
   },
   {
    "duration": 71,
    "start_time": "2022-03-10T06:22:04.607Z"
   },
   {
    "duration": 2,
    "start_time": "2022-03-10T06:22:04.680Z"
   },
   {
    "duration": 18,
    "start_time": "2022-03-10T06:22:04.683Z"
   },
   {
    "duration": 32,
    "start_time": "2022-03-10T06:22:04.702Z"
   },
   {
    "duration": 8,
    "start_time": "2022-03-10T06:22:04.736Z"
   },
   {
    "duration": 26,
    "start_time": "2022-03-10T06:22:04.746Z"
   },
   {
    "duration": 14,
    "start_time": "2022-03-10T06:22:04.774Z"
   },
   {
    "duration": 22,
    "start_time": "2022-03-10T06:22:04.789Z"
   },
   {
    "duration": 15,
    "start_time": "2022-03-10T06:22:04.812Z"
   },
   {
    "duration": 7,
    "start_time": "2022-03-10T06:22:04.829Z"
   },
   {
    "duration": 17,
    "start_time": "2022-03-10T06:22:04.839Z"
   },
   {
    "duration": 37,
    "start_time": "2022-03-10T06:22:04.858Z"
   },
   {
    "duration": 13,
    "start_time": "2022-03-10T06:22:04.897Z"
   },
   {
    "duration": 35,
    "start_time": "2022-03-10T06:22:04.911Z"
   },
   {
    "duration": 21,
    "start_time": "2022-03-10T06:22:04.948Z"
   },
   {
    "duration": 15,
    "start_time": "2022-03-10T06:22:04.970Z"
   },
   {
    "duration": 21,
    "start_time": "2022-03-10T06:22:04.986Z"
   },
   {
    "duration": 20,
    "start_time": "2022-03-10T06:22:05.009Z"
   },
   {
    "duration": 49,
    "start_time": "2022-03-10T06:22:05.031Z"
   },
   {
    "duration": 24,
    "start_time": "2022-03-10T06:22:05.082Z"
   },
   {
    "duration": 40,
    "start_time": "2022-03-10T06:22:05.107Z"
   },
   {
    "duration": 13,
    "start_time": "2022-03-10T06:22:05.149Z"
   },
   {
    "duration": 4,
    "start_time": "2022-03-10T06:22:05.164Z"
   },
   {
    "duration": 4,
    "start_time": "2022-03-10T06:22:05.169Z"
   },
   {
    "duration": 7,
    "start_time": "2022-03-10T06:22:05.174Z"
   },
   {
    "duration": 8,
    "start_time": "2022-03-10T06:22:05.183Z"
   },
   {
    "duration": 229,
    "start_time": "2022-03-10T06:25:56.848Z"
   },
   {
    "duration": 572,
    "start_time": "2022-03-10T06:26:29.362Z"
   },
   {
    "duration": 140,
    "start_time": "2022-03-10T06:26:29.936Z"
   },
   {
    "duration": 17,
    "start_time": "2022-03-10T06:26:30.078Z"
   },
   {
    "duration": 25,
    "start_time": "2022-03-10T06:26:30.097Z"
   },
   {
    "duration": 7,
    "start_time": "2022-03-10T06:26:30.123Z"
   },
   {
    "duration": 36,
    "start_time": "2022-03-10T06:26:30.132Z"
   },
   {
    "duration": 26,
    "start_time": "2022-03-10T06:26:30.170Z"
   },
   {
    "duration": 45,
    "start_time": "2022-03-10T06:26:30.197Z"
   },
   {
    "duration": 32,
    "start_time": "2022-03-10T06:26:30.244Z"
   },
   {
    "duration": 32,
    "start_time": "2022-03-10T06:26:30.278Z"
   },
   {
    "duration": 67,
    "start_time": "2022-03-10T06:26:30.311Z"
   },
   {
    "duration": 69,
    "start_time": "2022-03-10T06:26:30.380Z"
   },
   {
    "duration": 62,
    "start_time": "2022-03-10T06:26:30.450Z"
   },
   {
    "duration": 2,
    "start_time": "2022-03-10T06:26:30.514Z"
   },
   {
    "duration": 36,
    "start_time": "2022-03-10T06:26:30.518Z"
   },
   {
    "duration": 25,
    "start_time": "2022-03-10T06:26:30.556Z"
   },
   {
    "duration": 29,
    "start_time": "2022-03-10T06:26:30.583Z"
   },
   {
    "duration": 29,
    "start_time": "2022-03-10T06:26:30.614Z"
   },
   {
    "duration": 31,
    "start_time": "2022-03-10T06:26:30.645Z"
   },
   {
    "duration": 30,
    "start_time": "2022-03-10T06:26:30.677Z"
   },
   {
    "duration": 69,
    "start_time": "2022-03-10T06:26:30.709Z"
   },
   {
    "duration": 41,
    "start_time": "2022-03-10T06:26:30.780Z"
   },
   {
    "duration": 37,
    "start_time": "2022-03-10T06:26:30.823Z"
   },
   {
    "duration": 19,
    "start_time": "2022-03-10T06:26:30.862Z"
   },
   {
    "duration": 21,
    "start_time": "2022-03-10T06:26:30.883Z"
   },
   {
    "duration": 36,
    "start_time": "2022-03-10T06:26:30.906Z"
   },
   {
    "duration": 24,
    "start_time": "2022-03-10T06:26:30.946Z"
   },
   {
    "duration": 16,
    "start_time": "2022-03-10T06:26:30.972Z"
   },
   {
    "duration": 19,
    "start_time": "2022-03-10T06:26:30.990Z"
   },
   {
    "duration": 20,
    "start_time": "2022-03-10T06:26:31.011Z"
   },
   {
    "duration": 17,
    "start_time": "2022-03-10T06:26:31.033Z"
   },
   {
    "duration": 22,
    "start_time": "2022-03-10T06:26:31.052Z"
   },
   {
    "duration": 28,
    "start_time": "2022-03-10T06:26:31.075Z"
   },
   {
    "duration": 13,
    "start_time": "2022-03-10T06:26:31.105Z"
   },
   {
    "duration": 22,
    "start_time": "2022-03-10T06:26:31.119Z"
   },
   {
    "duration": 13,
    "start_time": "2022-03-10T06:26:31.143Z"
   },
   {
    "duration": 21,
    "start_time": "2022-03-10T06:26:31.158Z"
   },
   {
    "duration": 14,
    "start_time": "2022-03-10T06:26:31.181Z"
   },
   {
    "duration": 592,
    "start_time": "2022-03-10T06:26:57.248Z"
   },
   {
    "duration": 135,
    "start_time": "2022-03-10T06:26:57.842Z"
   },
   {
    "duration": 17,
    "start_time": "2022-03-10T06:26:57.979Z"
   },
   {
    "duration": 25,
    "start_time": "2022-03-10T06:26:57.998Z"
   },
   {
    "duration": 4,
    "start_time": "2022-03-10T06:26:58.024Z"
   },
   {
    "duration": 34,
    "start_time": "2022-03-10T06:26:58.029Z"
   },
   {
    "duration": 6,
    "start_time": "2022-03-10T06:26:58.065Z"
   },
   {
    "duration": 24,
    "start_time": "2022-03-10T06:26:58.073Z"
   },
   {
    "duration": 16,
    "start_time": "2022-03-10T06:26:58.099Z"
   },
   {
    "duration": 44,
    "start_time": "2022-03-10T06:26:58.116Z"
   },
   {
    "duration": 61,
    "start_time": "2022-03-10T06:26:58.162Z"
   },
   {
    "duration": 88,
    "start_time": "2022-03-10T06:26:58.226Z"
   },
   {
    "duration": 66,
    "start_time": "2022-03-10T06:26:58.316Z"
   },
   {
    "duration": 2,
    "start_time": "2022-03-10T06:26:58.384Z"
   },
   {
    "duration": 4,
    "start_time": "2022-03-10T06:26:58.388Z"
   },
   {
    "duration": 3,
    "start_time": "2022-03-10T06:26:58.394Z"
   },
   {
    "duration": 4,
    "start_time": "2022-03-10T06:26:58.399Z"
   },
   {
    "duration": 5,
    "start_time": "2022-03-10T06:26:58.404Z"
   },
   {
    "duration": 5,
    "start_time": "2022-03-10T06:26:58.410Z"
   },
   {
    "duration": 5,
    "start_time": "2022-03-10T06:26:58.416Z"
   },
   {
    "duration": 36,
    "start_time": "2022-03-10T06:26:58.423Z"
   },
   {
    "duration": 4,
    "start_time": "2022-03-10T06:26:58.461Z"
   },
   {
    "duration": 2,
    "start_time": "2022-03-10T06:26:58.469Z"
   },
   {
    "duration": 3,
    "start_time": "2022-03-10T06:26:58.473Z"
   },
   {
    "duration": 4,
    "start_time": "2022-03-10T06:26:58.478Z"
   },
   {
    "duration": 5,
    "start_time": "2022-03-10T06:26:58.483Z"
   },
   {
    "duration": 3,
    "start_time": "2022-03-10T06:26:58.490Z"
   },
   {
    "duration": 5,
    "start_time": "2022-03-10T06:26:58.495Z"
   },
   {
    "duration": 4,
    "start_time": "2022-03-10T06:26:58.501Z"
   },
   {
    "duration": 4,
    "start_time": "2022-03-10T06:26:58.507Z"
   },
   {
    "duration": 7,
    "start_time": "2022-03-10T06:26:58.512Z"
   },
   {
    "duration": 4,
    "start_time": "2022-03-10T06:26:58.521Z"
   },
   {
    "duration": 33,
    "start_time": "2022-03-10T06:26:58.526Z"
   },
   {
    "duration": 5,
    "start_time": "2022-03-10T06:26:58.561Z"
   },
   {
    "duration": 5,
    "start_time": "2022-03-10T06:26:58.567Z"
   },
   {
    "duration": 4,
    "start_time": "2022-03-10T06:26:58.573Z"
   },
   {
    "duration": 4,
    "start_time": "2022-03-10T06:26:58.579Z"
   },
   {
    "duration": 5,
    "start_time": "2022-03-10T06:26:58.584Z"
   },
   {
    "duration": 11,
    "start_time": "2022-03-10T06:28:26.479Z"
   },
   {
    "duration": 582,
    "start_time": "2022-03-10T06:28:39.910Z"
   },
   {
    "duration": 145,
    "start_time": "2022-03-10T06:28:40.494Z"
   },
   {
    "duration": 19,
    "start_time": "2022-03-10T06:28:40.641Z"
   },
   {
    "duration": 26,
    "start_time": "2022-03-10T06:28:40.662Z"
   },
   {
    "duration": 4,
    "start_time": "2022-03-10T06:28:40.689Z"
   },
   {
    "duration": 15,
    "start_time": "2022-03-10T06:28:40.695Z"
   },
   {
    "duration": 7,
    "start_time": "2022-03-10T06:28:40.712Z"
   },
   {
    "duration": 57,
    "start_time": "2022-03-10T06:28:40.722Z"
   },
   {
    "duration": 17,
    "start_time": "2022-03-10T06:28:40.781Z"
   },
   {
    "duration": 21,
    "start_time": "2022-03-10T06:28:40.800Z"
   },
   {
    "duration": 81,
    "start_time": "2022-03-10T06:28:40.823Z"
   },
   {
    "duration": 76,
    "start_time": "2022-03-10T06:28:40.905Z"
   },
   {
    "duration": 56,
    "start_time": "2022-03-10T06:28:40.983Z"
   },
   {
    "duration": 19,
    "start_time": "2022-03-10T06:28:41.041Z"
   },
   {
    "duration": 2,
    "start_time": "2022-03-10T06:28:41.062Z"
   },
   {
    "duration": 4,
    "start_time": "2022-03-10T06:28:41.066Z"
   },
   {
    "duration": 4,
    "start_time": "2022-03-10T06:28:41.071Z"
   },
   {
    "duration": 5,
    "start_time": "2022-03-10T06:28:41.076Z"
   },
   {
    "duration": 4,
    "start_time": "2022-03-10T06:28:41.083Z"
   },
   {
    "duration": 4,
    "start_time": "2022-03-10T06:28:41.089Z"
   },
   {
    "duration": 7,
    "start_time": "2022-03-10T06:28:41.094Z"
   },
   {
    "duration": 4,
    "start_time": "2022-03-10T06:28:41.103Z"
   },
   {
    "duration": 2,
    "start_time": "2022-03-10T06:28:41.111Z"
   },
   {
    "duration": 4,
    "start_time": "2022-03-10T06:28:41.116Z"
   },
   {
    "duration": 38,
    "start_time": "2022-03-10T06:28:41.121Z"
   },
   {
    "duration": 3,
    "start_time": "2022-03-10T06:28:41.161Z"
   },
   {
    "duration": 7,
    "start_time": "2022-03-10T06:28:41.166Z"
   },
   {
    "duration": 9,
    "start_time": "2022-03-10T06:28:41.175Z"
   },
   {
    "duration": 5,
    "start_time": "2022-03-10T06:28:41.186Z"
   },
   {
    "duration": 6,
    "start_time": "2022-03-10T06:28:41.192Z"
   },
   {
    "duration": 9,
    "start_time": "2022-03-10T06:28:41.200Z"
   },
   {
    "duration": 5,
    "start_time": "2022-03-10T06:28:41.210Z"
   },
   {
    "duration": 7,
    "start_time": "2022-03-10T06:28:41.217Z"
   },
   {
    "duration": 5,
    "start_time": "2022-03-10T06:28:41.225Z"
   },
   {
    "duration": 8,
    "start_time": "2022-03-10T06:28:41.231Z"
   },
   {
    "duration": 4,
    "start_time": "2022-03-10T06:28:41.240Z"
   },
   {
    "duration": 2,
    "start_time": "2022-03-10T06:28:41.259Z"
   },
   {
    "duration": 4,
    "start_time": "2022-03-10T06:28:41.264Z"
   },
   {
    "duration": 585,
    "start_time": "2022-03-10T06:41:10.670Z"
   },
   {
    "duration": 133,
    "start_time": "2022-03-10T06:41:11.257Z"
   },
   {
    "duration": 17,
    "start_time": "2022-03-10T06:41:11.392Z"
   },
   {
    "duration": 26,
    "start_time": "2022-03-10T06:41:11.411Z"
   },
   {
    "duration": 21,
    "start_time": "2022-03-10T06:41:11.439Z"
   },
   {
    "duration": 14,
    "start_time": "2022-03-10T06:41:11.462Z"
   },
   {
    "duration": 6,
    "start_time": "2022-03-10T06:41:11.478Z"
   },
   {
    "duration": 25,
    "start_time": "2022-03-10T06:41:11.487Z"
   },
   {
    "duration": 21,
    "start_time": "2022-03-10T06:41:11.514Z"
   },
   {
    "duration": 46,
    "start_time": "2022-03-10T06:41:11.536Z"
   },
   {
    "duration": 57,
    "start_time": "2022-03-10T06:41:11.584Z"
   },
   {
    "duration": 65,
    "start_time": "2022-03-10T06:41:11.660Z"
   },
   {
    "duration": 76,
    "start_time": "2022-03-10T06:41:11.727Z"
   },
   {
    "duration": 8,
    "start_time": "2022-03-10T06:41:11.805Z"
   },
   {
    "duration": 4,
    "start_time": "2022-03-10T06:41:11.815Z"
   },
   {
    "duration": 463,
    "start_time": "2022-03-10T06:41:11.821Z"
   },
   {
    "duration": 3286,
    "start_time": "2022-03-10T06:41:09.000Z"
   },
   {
    "duration": 3284,
    "start_time": "2022-03-10T06:41:09.003Z"
   },
   {
    "duration": 3282,
    "start_time": "2022-03-10T06:41:09.006Z"
   },
   {
    "duration": 3279,
    "start_time": "2022-03-10T06:41:09.010Z"
   },
   {
    "duration": 3274,
    "start_time": "2022-03-10T06:41:09.016Z"
   },
   {
    "duration": 3271,
    "start_time": "2022-03-10T06:41:09.020Z"
   },
   {
    "duration": 3270,
    "start_time": "2022-03-10T06:41:09.022Z"
   },
   {
    "duration": 3268,
    "start_time": "2022-03-10T06:41:09.025Z"
   },
   {
    "duration": 3264,
    "start_time": "2022-03-10T06:41:09.030Z"
   },
   {
    "duration": 3254,
    "start_time": "2022-03-10T06:41:09.041Z"
   },
   {
    "duration": 3250,
    "start_time": "2022-03-10T06:41:09.046Z"
   },
   {
    "duration": 3247,
    "start_time": "2022-03-10T06:41:09.049Z"
   },
   {
    "duration": 3244,
    "start_time": "2022-03-10T06:41:09.053Z"
   },
   {
    "duration": 3243,
    "start_time": "2022-03-10T06:41:09.055Z"
   },
   {
    "duration": 3241,
    "start_time": "2022-03-10T06:41:09.058Z"
   },
   {
    "duration": 3237,
    "start_time": "2022-03-10T06:41:09.063Z"
   },
   {
    "duration": 3234,
    "start_time": "2022-03-10T06:41:09.067Z"
   },
   {
    "duration": 3231,
    "start_time": "2022-03-10T06:41:09.071Z"
   },
   {
    "duration": 3226,
    "start_time": "2022-03-10T06:41:09.076Z"
   },
   {
    "duration": 3222,
    "start_time": "2022-03-10T06:41:09.081Z"
   },
   {
    "duration": 3220,
    "start_time": "2022-03-10T06:41:09.084Z"
   },
   {
    "duration": 3219,
    "start_time": "2022-03-10T06:41:09.086Z"
   },
   {
    "duration": 536,
    "start_time": "2022-03-10T06:42:45.893Z"
   },
   {
    "duration": 133,
    "start_time": "2022-03-10T06:42:46.431Z"
   },
   {
    "duration": 18,
    "start_time": "2022-03-10T06:42:46.566Z"
   },
   {
    "duration": 25,
    "start_time": "2022-03-10T06:42:46.586Z"
   },
   {
    "duration": 4,
    "start_time": "2022-03-10T06:42:46.613Z"
   },
   {
    "duration": 12,
    "start_time": "2022-03-10T06:42:46.619Z"
   },
   {
    "duration": 5,
    "start_time": "2022-03-10T06:42:46.658Z"
   },
   {
    "duration": 23,
    "start_time": "2022-03-10T06:42:46.666Z"
   },
   {
    "duration": 17,
    "start_time": "2022-03-10T06:42:46.691Z"
   },
   {
    "duration": 49,
    "start_time": "2022-03-10T06:42:46.710Z"
   },
   {
    "duration": 59,
    "start_time": "2022-03-10T06:42:46.761Z"
   },
   {
    "duration": 86,
    "start_time": "2022-03-10T06:42:46.822Z"
   },
   {
    "duration": 61,
    "start_time": "2022-03-10T06:42:46.909Z"
   },
   {
    "duration": 6,
    "start_time": "2022-03-10T06:42:46.972Z"
   },
   {
    "duration": 3,
    "start_time": "2022-03-10T06:42:46.980Z"
   },
   {
    "duration": 20,
    "start_time": "2022-03-10T06:42:46.984Z"
   },
   {
    "duration": 2,
    "start_time": "2022-03-10T06:42:47.005Z"
   },
   {
    "duration": 8,
    "start_time": "2022-03-10T06:42:47.009Z"
   },
   {
    "duration": 4,
    "start_time": "2022-03-10T06:42:47.019Z"
   },
   {
    "duration": 4,
    "start_time": "2022-03-10T06:42:47.025Z"
   },
   {
    "duration": 28,
    "start_time": "2022-03-10T06:42:47.031Z"
   },
   {
    "duration": 3,
    "start_time": "2022-03-10T06:42:47.061Z"
   },
   {
    "duration": 5,
    "start_time": "2022-03-10T06:42:47.067Z"
   },
   {
    "duration": 7,
    "start_time": "2022-03-10T06:42:47.074Z"
   },
   {
    "duration": 5,
    "start_time": "2022-03-10T06:42:47.082Z"
   },
   {
    "duration": 6,
    "start_time": "2022-03-10T06:42:47.089Z"
   },
   {
    "duration": 3,
    "start_time": "2022-03-10T06:42:47.097Z"
   },
   {
    "duration": 4,
    "start_time": "2022-03-10T06:42:47.102Z"
   },
   {
    "duration": 6,
    "start_time": "2022-03-10T06:42:47.107Z"
   },
   {
    "duration": 4,
    "start_time": "2022-03-10T06:42:47.115Z"
   },
   {
    "duration": 7,
    "start_time": "2022-03-10T06:42:47.121Z"
   },
   {
    "duration": 4,
    "start_time": "2022-03-10T06:42:47.130Z"
   },
   {
    "duration": 2,
    "start_time": "2022-03-10T06:42:47.159Z"
   },
   {
    "duration": 3,
    "start_time": "2022-03-10T06:42:47.164Z"
   },
   {
    "duration": 3,
    "start_time": "2022-03-10T06:42:47.169Z"
   },
   {
    "duration": 4,
    "start_time": "2022-03-10T06:42:47.174Z"
   },
   {
    "duration": 3,
    "start_time": "2022-03-10T06:42:47.180Z"
   },
   {
    "duration": 9,
    "start_time": "2022-03-10T06:42:47.185Z"
   },
   {
    "duration": 591,
    "start_time": "2022-03-10T06:43:25.059Z"
   },
   {
    "duration": 135,
    "start_time": "2022-03-10T06:43:25.652Z"
   },
   {
    "duration": 16,
    "start_time": "2022-03-10T06:43:25.789Z"
   },
   {
    "duration": 25,
    "start_time": "2022-03-10T06:43:25.807Z"
   },
   {
    "duration": 4,
    "start_time": "2022-03-10T06:43:25.833Z"
   },
   {
    "duration": 32,
    "start_time": "2022-03-10T06:43:25.839Z"
   },
   {
    "duration": 5,
    "start_time": "2022-03-10T06:43:25.873Z"
   },
   {
    "duration": 24,
    "start_time": "2022-03-10T06:43:25.881Z"
   },
   {
    "duration": 17,
    "start_time": "2022-03-10T06:43:25.907Z"
   },
   {
    "duration": 52,
    "start_time": "2022-03-10T06:43:25.926Z"
   },
   {
    "duration": 58,
    "start_time": "2022-03-10T06:43:25.980Z"
   },
   {
    "duration": 81,
    "start_time": "2022-03-10T06:43:26.040Z"
   },
   {
    "duration": 66,
    "start_time": "2022-03-10T06:43:26.122Z"
   },
   {
    "duration": 7,
    "start_time": "2022-03-10T06:43:26.190Z"
   },
   {
    "duration": 6,
    "start_time": "2022-03-10T06:43:26.198Z"
   },
   {
    "duration": 17,
    "start_time": "2022-03-10T06:43:26.206Z"
   },
   {
    "duration": 2,
    "start_time": "2022-03-10T06:43:26.225Z"
   },
   {
    "duration": 3,
    "start_time": "2022-03-10T06:43:26.229Z"
   },
   {
    "duration": 26,
    "start_time": "2022-03-10T06:43:26.234Z"
   },
   {
    "duration": 4,
    "start_time": "2022-03-10T06:43:26.261Z"
   },
   {
    "duration": 6,
    "start_time": "2022-03-10T06:43:26.267Z"
   },
   {
    "duration": 4,
    "start_time": "2022-03-10T06:43:26.274Z"
   },
   {
    "duration": 2,
    "start_time": "2022-03-10T06:43:26.281Z"
   },
   {
    "duration": 3,
    "start_time": "2022-03-10T06:43:26.285Z"
   },
   {
    "duration": 4,
    "start_time": "2022-03-10T06:43:26.290Z"
   },
   {
    "duration": 6,
    "start_time": "2022-03-10T06:43:26.295Z"
   },
   {
    "duration": 3,
    "start_time": "2022-03-10T06:43:26.303Z"
   },
   {
    "duration": 7,
    "start_time": "2022-03-10T06:43:26.308Z"
   },
   {
    "duration": 5,
    "start_time": "2022-03-10T06:43:26.316Z"
   },
   {
    "duration": 4,
    "start_time": "2022-03-10T06:43:26.322Z"
   },
   {
    "duration": 31,
    "start_time": "2022-03-10T06:43:26.328Z"
   },
   {
    "duration": 4,
    "start_time": "2022-03-10T06:43:26.361Z"
   },
   {
    "duration": 7,
    "start_time": "2022-03-10T06:43:26.366Z"
   },
   {
    "duration": 4,
    "start_time": "2022-03-10T06:43:26.375Z"
   },
   {
    "duration": 4,
    "start_time": "2022-03-10T06:43:26.381Z"
   },
   {
    "duration": 4,
    "start_time": "2022-03-10T06:43:26.387Z"
   },
   {
    "duration": 4,
    "start_time": "2022-03-10T06:43:26.392Z"
   },
   {
    "duration": 3,
    "start_time": "2022-03-10T06:43:26.398Z"
   },
   {
    "duration": 16,
    "start_time": "2022-03-10T06:43:37.463Z"
   },
   {
    "duration": 16,
    "start_time": "2022-03-10T06:43:41.541Z"
   },
   {
    "duration": 577,
    "start_time": "2022-03-10T06:45:59.172Z"
   },
   {
    "duration": 124,
    "start_time": "2022-03-10T06:45:59.751Z"
   },
   {
    "duration": 17,
    "start_time": "2022-03-10T06:45:59.877Z"
   },
   {
    "duration": 33,
    "start_time": "2022-03-10T06:45:59.895Z"
   },
   {
    "duration": 4,
    "start_time": "2022-03-10T06:45:59.929Z"
   },
   {
    "duration": 30,
    "start_time": "2022-03-10T06:45:59.934Z"
   },
   {
    "duration": 6,
    "start_time": "2022-03-10T06:45:59.966Z"
   },
   {
    "duration": 27,
    "start_time": "2022-03-10T06:45:59.975Z"
   },
   {
    "duration": 16,
    "start_time": "2022-03-10T06:46:00.005Z"
   },
   {
    "duration": 39,
    "start_time": "2022-03-10T06:46:00.023Z"
   },
   {
    "duration": 58,
    "start_time": "2022-03-10T06:46:00.063Z"
   },
   {
    "duration": 76,
    "start_time": "2022-03-10T06:46:00.122Z"
   },
   {
    "duration": 59,
    "start_time": "2022-03-10T06:46:00.200Z"
   },
   {
    "duration": 6,
    "start_time": "2022-03-10T06:46:00.261Z"
   },
   {
    "duration": 4,
    "start_time": "2022-03-10T06:46:00.269Z"
   },
   {
    "duration": 30,
    "start_time": "2022-03-10T06:46:00.275Z"
   },
   {
    "duration": 299,
    "start_time": "2022-03-10T06:46:00.306Z"
   },
   {
    "duration": 3303,
    "start_time": "2022-03-10T06:45:57.304Z"
   },
   {
    "duration": 3300,
    "start_time": "2022-03-10T06:45:57.308Z"
   },
   {
    "duration": 3295,
    "start_time": "2022-03-10T06:45:57.314Z"
   },
   {
    "duration": 3291,
    "start_time": "2022-03-10T06:45:57.319Z"
   },
   {
    "duration": 3287,
    "start_time": "2022-03-10T06:45:57.324Z"
   },
   {
    "duration": 3285,
    "start_time": "2022-03-10T06:45:57.327Z"
   },
   {
    "duration": 3281,
    "start_time": "2022-03-10T06:45:57.331Z"
   },
   {
    "duration": 3278,
    "start_time": "2022-03-10T06:45:57.335Z"
   },
   {
    "duration": 3274,
    "start_time": "2022-03-10T06:45:57.340Z"
   },
   {
    "duration": 3271,
    "start_time": "2022-03-10T06:45:57.344Z"
   },
   {
    "duration": 3259,
    "start_time": "2022-03-10T06:45:57.357Z"
   },
   {
    "duration": 3255,
    "start_time": "2022-03-10T06:45:57.361Z"
   },
   {
    "duration": 3253,
    "start_time": "2022-03-10T06:45:57.364Z"
   },
   {
    "duration": 3251,
    "start_time": "2022-03-10T06:45:57.367Z"
   },
   {
    "duration": 3249,
    "start_time": "2022-03-10T06:45:57.370Z"
   },
   {
    "duration": 3246,
    "start_time": "2022-03-10T06:45:57.374Z"
   },
   {
    "duration": 3241,
    "start_time": "2022-03-10T06:45:57.380Z"
   },
   {
    "duration": 3237,
    "start_time": "2022-03-10T06:45:57.385Z"
   },
   {
    "duration": 3231,
    "start_time": "2022-03-10T06:45:57.391Z"
   },
   {
    "duration": 3229,
    "start_time": "2022-03-10T06:45:57.394Z"
   },
   {
    "duration": 3227,
    "start_time": "2022-03-10T06:45:57.397Z"
   },
   {
    "duration": 553,
    "start_time": "2022-03-10T06:46:32.625Z"
   },
   {
    "duration": 136,
    "start_time": "2022-03-10T06:46:33.180Z"
   },
   {
    "duration": 18,
    "start_time": "2022-03-10T06:46:33.318Z"
   },
   {
    "duration": 34,
    "start_time": "2022-03-10T06:46:33.339Z"
   },
   {
    "duration": 12,
    "start_time": "2022-03-10T06:46:33.375Z"
   },
   {
    "duration": 19,
    "start_time": "2022-03-10T06:46:33.389Z"
   },
   {
    "duration": 22,
    "start_time": "2022-03-10T06:46:33.410Z"
   },
   {
    "duration": 23,
    "start_time": "2022-03-10T06:46:33.436Z"
   },
   {
    "duration": 22,
    "start_time": "2022-03-10T06:46:33.462Z"
   },
   {
    "duration": 22,
    "start_time": "2022-03-10T06:46:33.486Z"
   },
   {
    "duration": 72,
    "start_time": "2022-03-10T06:46:33.510Z"
   },
   {
    "duration": 61,
    "start_time": "2022-03-10T06:46:33.584Z"
   },
   {
    "duration": 53,
    "start_time": "2022-03-10T06:46:33.660Z"
   },
   {
    "duration": 8,
    "start_time": "2022-03-10T06:46:33.716Z"
   },
   {
    "duration": 4,
    "start_time": "2022-03-10T06:46:33.726Z"
   },
   {
    "duration": 42,
    "start_time": "2022-03-10T06:46:33.732Z"
   },
   {
    "duration": 245,
    "start_time": "2022-03-10T06:46:33.776Z"
   },
   {
    "duration": 3325,
    "start_time": "2022-03-10T06:46:30.699Z"
   },
   {
    "duration": 3320,
    "start_time": "2022-03-10T06:46:30.706Z"
   },
   {
    "duration": 3302,
    "start_time": "2022-03-10T06:46:30.725Z"
   },
   {
    "duration": 3299,
    "start_time": "2022-03-10T06:46:30.729Z"
   },
   {
    "duration": 3298,
    "start_time": "2022-03-10T06:46:30.732Z"
   },
   {
    "duration": 3295,
    "start_time": "2022-03-10T06:46:30.736Z"
   },
   {
    "duration": 3293,
    "start_time": "2022-03-10T06:46:30.739Z"
   },
   {
    "duration": 3292,
    "start_time": "2022-03-10T06:46:30.742Z"
   },
   {
    "duration": 3290,
    "start_time": "2022-03-10T06:46:30.745Z"
   },
   {
    "duration": 3286,
    "start_time": "2022-03-10T06:46:30.751Z"
   },
   {
    "duration": 3283,
    "start_time": "2022-03-10T06:46:30.755Z"
   },
   {
    "duration": 3280,
    "start_time": "2022-03-10T06:46:30.759Z"
   },
   {
    "duration": 3279,
    "start_time": "2022-03-10T06:46:30.762Z"
   },
   {
    "duration": 3276,
    "start_time": "2022-03-10T06:46:30.766Z"
   },
   {
    "duration": 3275,
    "start_time": "2022-03-10T06:46:30.769Z"
   },
   {
    "duration": 3263,
    "start_time": "2022-03-10T06:46:30.782Z"
   },
   {
    "duration": 3260,
    "start_time": "2022-03-10T06:46:30.786Z"
   },
   {
    "duration": 3256,
    "start_time": "2022-03-10T06:46:30.791Z"
   },
   {
    "duration": 3254,
    "start_time": "2022-03-10T06:46:30.794Z"
   },
   {
    "duration": 3251,
    "start_time": "2022-03-10T06:46:30.798Z"
   },
   {
    "duration": 3249,
    "start_time": "2022-03-10T06:46:30.801Z"
   },
   {
    "duration": 531,
    "start_time": "2022-03-10T06:48:43.000Z"
   },
   {
    "duration": 135,
    "start_time": "2022-03-10T06:48:43.533Z"
   },
   {
    "duration": 17,
    "start_time": "2022-03-10T06:48:43.670Z"
   },
   {
    "duration": 30,
    "start_time": "2022-03-10T06:48:43.688Z"
   },
   {
    "duration": 5,
    "start_time": "2022-03-10T06:48:43.720Z"
   },
   {
    "duration": 14,
    "start_time": "2022-03-10T06:48:43.726Z"
   },
   {
    "duration": 19,
    "start_time": "2022-03-10T06:48:43.742Z"
   },
   {
    "duration": 26,
    "start_time": "2022-03-10T06:48:43.764Z"
   },
   {
    "duration": 16,
    "start_time": "2022-03-10T06:48:43.793Z"
   },
   {
    "duration": 23,
    "start_time": "2022-03-10T06:48:43.810Z"
   },
   {
    "duration": 81,
    "start_time": "2022-03-10T06:48:43.834Z"
   },
   {
    "duration": 78,
    "start_time": "2022-03-10T06:48:43.917Z"
   },
   {
    "duration": 54,
    "start_time": "2022-03-10T06:48:43.996Z"
   },
   {
    "duration": 6,
    "start_time": "2022-03-10T06:48:44.059Z"
   },
   {
    "duration": 3,
    "start_time": "2022-03-10T06:48:44.067Z"
   },
   {
    "duration": 18,
    "start_time": "2022-03-10T06:48:44.071Z"
   },
   {
    "duration": 255,
    "start_time": "2022-03-10T06:48:44.090Z"
   },
   {
    "duration": 3235,
    "start_time": "2022-03-10T06:48:41.112Z"
   },
   {
    "duration": 3231,
    "start_time": "2022-03-10T06:48:41.117Z"
   },
   {
    "duration": 3229,
    "start_time": "2022-03-10T06:48:41.121Z"
   },
   {
    "duration": 3227,
    "start_time": "2022-03-10T06:48:41.124Z"
   },
   {
    "duration": 3225,
    "start_time": "2022-03-10T06:48:41.127Z"
   },
   {
    "duration": 3222,
    "start_time": "2022-03-10T06:48:41.131Z"
   },
   {
    "duration": 3220,
    "start_time": "2022-03-10T06:48:41.134Z"
   },
   {
    "duration": 3218,
    "start_time": "2022-03-10T06:48:41.137Z"
   },
   {
    "duration": 3215,
    "start_time": "2022-03-10T06:48:41.140Z"
   },
   {
    "duration": 3213,
    "start_time": "2022-03-10T06:48:41.143Z"
   },
   {
    "duration": 3210,
    "start_time": "2022-03-10T06:48:41.148Z"
   },
   {
    "duration": 3206,
    "start_time": "2022-03-10T06:48:41.153Z"
   },
   {
    "duration": 3205,
    "start_time": "2022-03-10T06:48:41.155Z"
   },
   {
    "duration": 3203,
    "start_time": "2022-03-10T06:48:41.158Z"
   },
   {
    "duration": 3200,
    "start_time": "2022-03-10T06:48:41.162Z"
   },
   {
    "duration": 3181,
    "start_time": "2022-03-10T06:48:41.182Z"
   },
   {
    "duration": 3176,
    "start_time": "2022-03-10T06:48:41.188Z"
   },
   {
    "duration": 3173,
    "start_time": "2022-03-10T06:48:41.192Z"
   },
   {
    "duration": 3166,
    "start_time": "2022-03-10T06:48:41.200Z"
   },
   {
    "duration": 3163,
    "start_time": "2022-03-10T06:48:41.204Z"
   },
   {
    "duration": 3161,
    "start_time": "2022-03-10T06:48:41.207Z"
   },
   {
    "duration": 560,
    "start_time": "2022-03-10T06:49:11.088Z"
   },
   {
    "duration": 136,
    "start_time": "2022-03-10T06:49:11.650Z"
   },
   {
    "duration": 17,
    "start_time": "2022-03-10T06:49:11.789Z"
   },
   {
    "duration": 25,
    "start_time": "2022-03-10T06:49:11.808Z"
   },
   {
    "duration": 25,
    "start_time": "2022-03-10T06:49:11.835Z"
   },
   {
    "duration": 14,
    "start_time": "2022-03-10T06:49:11.862Z"
   },
   {
    "duration": 8,
    "start_time": "2022-03-10T06:49:11.877Z"
   },
   {
    "duration": 24,
    "start_time": "2022-03-10T06:49:11.887Z"
   },
   {
    "duration": 52,
    "start_time": "2022-03-10T06:49:11.913Z"
   },
   {
    "duration": 24,
    "start_time": "2022-03-10T06:49:11.967Z"
   },
   {
    "duration": 76,
    "start_time": "2022-03-10T06:49:11.993Z"
   },
   {
    "duration": 65,
    "start_time": "2022-03-10T06:49:12.071Z"
   },
   {
    "duration": 66,
    "start_time": "2022-03-10T06:49:12.137Z"
   },
   {
    "duration": 7,
    "start_time": "2022-03-10T06:49:12.205Z"
   },
   {
    "duration": 3,
    "start_time": "2022-03-10T06:49:12.214Z"
   },
   {
    "duration": 48,
    "start_time": "2022-03-10T06:49:12.219Z"
   },
   {
    "duration": 269,
    "start_time": "2022-03-10T06:49:12.268Z"
   },
   {
    "duration": 3319,
    "start_time": "2022-03-10T06:49:09.221Z"
   },
   {
    "duration": 3313,
    "start_time": "2022-03-10T06:49:09.228Z"
   },
   {
    "duration": 3309,
    "start_time": "2022-03-10T06:49:09.233Z"
   },
   {
    "duration": 3307,
    "start_time": "2022-03-10T06:49:09.236Z"
   },
   {
    "duration": 3292,
    "start_time": "2022-03-10T06:49:09.252Z"
   },
   {
    "duration": 3288,
    "start_time": "2022-03-10T06:49:09.257Z"
   },
   {
    "duration": 3284,
    "start_time": "2022-03-10T06:49:09.263Z"
   },
   {
    "duration": 3282,
    "start_time": "2022-03-10T06:49:09.266Z"
   },
   {
    "duration": 3277,
    "start_time": "2022-03-10T06:49:09.272Z"
   },
   {
    "duration": 3272,
    "start_time": "2022-03-10T06:49:09.278Z"
   },
   {
    "duration": 3268,
    "start_time": "2022-03-10T06:49:09.283Z"
   },
   {
    "duration": 3266,
    "start_time": "2022-03-10T06:49:09.286Z"
   },
   {
    "duration": 3263,
    "start_time": "2022-03-10T06:49:09.290Z"
   },
   {
    "duration": 3261,
    "start_time": "2022-03-10T06:49:09.293Z"
   },
   {
    "duration": 3256,
    "start_time": "2022-03-10T06:49:09.298Z"
   },
   {
    "duration": 3254,
    "start_time": "2022-03-10T06:49:09.301Z"
   },
   {
    "duration": 3251,
    "start_time": "2022-03-10T06:49:09.305Z"
   },
   {
    "duration": 3241,
    "start_time": "2022-03-10T06:49:09.316Z"
   },
   {
    "duration": 3238,
    "start_time": "2022-03-10T06:49:09.320Z"
   },
   {
    "duration": 3236,
    "start_time": "2022-03-10T06:49:09.323Z"
   },
   {
    "duration": 3235,
    "start_time": "2022-03-10T06:49:09.325Z"
   },
   {
    "duration": 618,
    "start_time": "2022-03-10T06:54:28.649Z"
   },
   {
    "duration": 139,
    "start_time": "2022-03-10T06:54:29.269Z"
   },
   {
    "duration": 16,
    "start_time": "2022-03-10T06:54:29.410Z"
   },
   {
    "duration": 35,
    "start_time": "2022-03-10T06:54:29.428Z"
   },
   {
    "duration": 4,
    "start_time": "2022-03-10T06:54:29.465Z"
   },
   {
    "duration": 15,
    "start_time": "2022-03-10T06:54:29.471Z"
   },
   {
    "duration": 6,
    "start_time": "2022-03-10T06:54:29.487Z"
   },
   {
    "duration": 24,
    "start_time": "2022-03-10T06:54:29.495Z"
   },
   {
    "duration": 47,
    "start_time": "2022-03-10T06:54:29.521Z"
   },
   {
    "duration": 22,
    "start_time": "2022-03-10T06:54:29.570Z"
   },
   {
    "duration": 68,
    "start_time": "2022-03-10T06:54:29.594Z"
   },
   {
    "duration": 81,
    "start_time": "2022-03-10T06:54:29.664Z"
   },
   {
    "duration": 64,
    "start_time": "2022-03-10T06:54:29.746Z"
   },
   {
    "duration": 7,
    "start_time": "2022-03-10T06:54:29.812Z"
   },
   {
    "duration": 3,
    "start_time": "2022-03-10T06:54:29.821Z"
   },
   {
    "duration": 443,
    "start_time": "2022-03-10T06:54:29.826Z"
   },
   {
    "duration": 3314,
    "start_time": "2022-03-10T06:54:26.958Z"
   },
   {
    "duration": 3308,
    "start_time": "2022-03-10T06:54:26.965Z"
   },
   {
    "duration": 3301,
    "start_time": "2022-03-10T06:54:26.973Z"
   },
   {
    "duration": 3298,
    "start_time": "2022-03-10T06:54:26.977Z"
   },
   {
    "duration": 3294,
    "start_time": "2022-03-10T06:54:26.982Z"
   },
   {
    "duration": 3290,
    "start_time": "2022-03-10T06:54:26.987Z"
   },
   {
    "duration": 3287,
    "start_time": "2022-03-10T06:54:26.991Z"
   },
   {
    "duration": 3270,
    "start_time": "2022-03-10T06:54:27.009Z"
   },
   {
    "duration": 3259,
    "start_time": "2022-03-10T06:54:27.021Z"
   },
   {
    "duration": 3254,
    "start_time": "2022-03-10T06:54:27.026Z"
   },
   {
    "duration": 3250,
    "start_time": "2022-03-10T06:54:27.031Z"
   },
   {
    "duration": 3247,
    "start_time": "2022-03-10T06:54:27.035Z"
   },
   {
    "duration": 3242,
    "start_time": "2022-03-10T06:54:27.041Z"
   },
   {
    "duration": 3239,
    "start_time": "2022-03-10T06:54:27.045Z"
   },
   {
    "duration": 3234,
    "start_time": "2022-03-10T06:54:27.051Z"
   },
   {
    "duration": 3230,
    "start_time": "2022-03-10T06:54:27.056Z"
   },
   {
    "duration": 3225,
    "start_time": "2022-03-10T06:54:27.062Z"
   },
   {
    "duration": 3222,
    "start_time": "2022-03-10T06:54:27.066Z"
   },
   {
    "duration": 3218,
    "start_time": "2022-03-10T06:54:27.071Z"
   },
   {
    "duration": 3214,
    "start_time": "2022-03-10T06:54:27.076Z"
   },
   {
    "duration": 3212,
    "start_time": "2022-03-10T06:54:27.080Z"
   },
   {
    "duration": 3208,
    "start_time": "2022-03-10T06:54:27.084Z"
   },
   {
    "duration": 570,
    "start_time": "2022-03-10T06:55:12.172Z"
   },
   {
    "duration": 141,
    "start_time": "2022-03-10T06:55:12.743Z"
   },
   {
    "duration": 19,
    "start_time": "2022-03-10T06:55:12.886Z"
   },
   {
    "duration": 50,
    "start_time": "2022-03-10T06:55:12.907Z"
   },
   {
    "duration": 6,
    "start_time": "2022-03-10T06:55:12.959Z"
   },
   {
    "duration": 15,
    "start_time": "2022-03-10T06:55:12.967Z"
   },
   {
    "duration": 8,
    "start_time": "2022-03-10T06:55:12.984Z"
   },
   {
    "duration": 24,
    "start_time": "2022-03-10T06:55:12.995Z"
   },
   {
    "duration": 19,
    "start_time": "2022-03-10T06:55:13.021Z"
   },
   {
    "duration": 36,
    "start_time": "2022-03-10T06:55:13.042Z"
   },
   {
    "duration": 62,
    "start_time": "2022-03-10T06:55:13.080Z"
   },
   {
    "duration": 77,
    "start_time": "2022-03-10T06:55:13.143Z"
   },
   {
    "duration": 67,
    "start_time": "2022-03-10T06:55:13.222Z"
   },
   {
    "duration": 7,
    "start_time": "2022-03-10T06:55:13.291Z"
   },
   {
    "duration": 8,
    "start_time": "2022-03-10T06:55:13.299Z"
   },
   {
    "duration": 38,
    "start_time": "2022-03-10T06:55:13.308Z"
   },
   {
    "duration": 293,
    "start_time": "2022-03-10T06:55:13.347Z"
   },
   {
    "duration": 3331,
    "start_time": "2022-03-10T06:55:10.312Z"
   },
   {
    "duration": 3319,
    "start_time": "2022-03-10T06:55:10.325Z"
   },
   {
    "duration": 3309,
    "start_time": "2022-03-10T06:55:10.336Z"
   },
   {
    "duration": 3305,
    "start_time": "2022-03-10T06:55:10.341Z"
   },
   {
    "duration": 3302,
    "start_time": "2022-03-10T06:55:10.345Z"
   },
   {
    "duration": 3299,
    "start_time": "2022-03-10T06:55:10.349Z"
   },
   {
    "duration": 3297,
    "start_time": "2022-03-10T06:55:10.352Z"
   },
   {
    "duration": 3292,
    "start_time": "2022-03-10T06:55:10.357Z"
   },
   {
    "duration": 3289,
    "start_time": "2022-03-10T06:55:10.361Z"
   },
   {
    "duration": 3287,
    "start_time": "2022-03-10T06:55:10.364Z"
   },
   {
    "duration": 3286,
    "start_time": "2022-03-10T06:55:10.366Z"
   },
   {
    "duration": 3283,
    "start_time": "2022-03-10T06:55:10.370Z"
   },
   {
    "duration": 3280,
    "start_time": "2022-03-10T06:55:10.374Z"
   },
   {
    "duration": 3279,
    "start_time": "2022-03-10T06:55:10.377Z"
   },
   {
    "duration": 3276,
    "start_time": "2022-03-10T06:55:10.381Z"
   },
   {
    "duration": 3266,
    "start_time": "2022-03-10T06:55:10.392Z"
   },
   {
    "duration": 3262,
    "start_time": "2022-03-10T06:55:10.397Z"
   },
   {
    "duration": 3261,
    "start_time": "2022-03-10T06:55:10.399Z"
   },
   {
    "duration": 3257,
    "start_time": "2022-03-10T06:55:10.404Z"
   },
   {
    "duration": 3255,
    "start_time": "2022-03-10T06:55:10.407Z"
   },
   {
    "duration": 3254,
    "start_time": "2022-03-10T06:55:10.409Z"
   },
   {
    "duration": 588,
    "start_time": "2022-03-10T07:04:58.340Z"
   },
   {
    "duration": 132,
    "start_time": "2022-03-10T07:04:58.930Z"
   },
   {
    "duration": 16,
    "start_time": "2022-03-10T07:04:59.064Z"
   },
   {
    "duration": 25,
    "start_time": "2022-03-10T07:04:59.082Z"
   },
   {
    "duration": 4,
    "start_time": "2022-03-10T07:04:59.109Z"
   },
   {
    "duration": 44,
    "start_time": "2022-03-10T07:04:59.115Z"
   },
   {
    "duration": 3,
    "start_time": "2022-03-10T07:04:59.161Z"
   },
   {
    "duration": 24,
    "start_time": "2022-03-10T07:04:59.167Z"
   },
   {
    "duration": 16,
    "start_time": "2022-03-10T07:04:59.194Z"
   },
   {
    "duration": 48,
    "start_time": "2022-03-10T07:04:59.212Z"
   },
   {
    "duration": 59,
    "start_time": "2022-03-10T07:04:59.261Z"
   },
   {
    "duration": 96,
    "start_time": "2022-03-10T07:04:59.322Z"
   },
   {
    "duration": 77,
    "start_time": "2022-03-10T07:04:59.419Z"
   },
   {
    "duration": 268,
    "start_time": "2022-03-10T07:04:59.497Z"
   },
   {
    "duration": 3329,
    "start_time": "2022-03-10T07:04:56.438Z"
   },
   {
    "duration": 3325,
    "start_time": "2022-03-10T07:04:56.443Z"
   },
   {
    "duration": 3315,
    "start_time": "2022-03-10T07:04:56.454Z"
   },
   {
    "duration": 3313,
    "start_time": "2022-03-10T07:04:56.457Z"
   },
   {
    "duration": 3307,
    "start_time": "2022-03-10T07:04:56.464Z"
   },
   {
    "duration": 3298,
    "start_time": "2022-03-10T07:04:56.474Z"
   },
   {
    "duration": 3295,
    "start_time": "2022-03-10T07:04:56.478Z"
   },
   {
    "duration": 3292,
    "start_time": "2022-03-10T07:04:56.482Z"
   },
   {
    "duration": 3290,
    "start_time": "2022-03-10T07:04:56.485Z"
   },
   {
    "duration": 3287,
    "start_time": "2022-03-10T07:04:56.489Z"
   },
   {
    "duration": 3286,
    "start_time": "2022-03-10T07:04:56.492Z"
   },
   {
    "duration": 3281,
    "start_time": "2022-03-10T07:04:56.498Z"
   },
   {
    "duration": 3276,
    "start_time": "2022-03-10T07:04:56.504Z"
   },
   {
    "duration": 3272,
    "start_time": "2022-03-10T07:04:56.509Z"
   },
   {
    "duration": 3265,
    "start_time": "2022-03-10T07:04:56.517Z"
   },
   {
    "duration": 3262,
    "start_time": "2022-03-10T07:04:56.521Z"
   },
   {
    "duration": 3259,
    "start_time": "2022-03-10T07:04:56.525Z"
   },
   {
    "duration": 3255,
    "start_time": "2022-03-10T07:04:56.530Z"
   },
   {
    "duration": 3249,
    "start_time": "2022-03-10T07:04:56.537Z"
   },
   {
    "duration": 3245,
    "start_time": "2022-03-10T07:04:56.542Z"
   },
   {
    "duration": 3239,
    "start_time": "2022-03-10T07:04:56.549Z"
   },
   {
    "duration": 3237,
    "start_time": "2022-03-10T07:04:56.552Z"
   },
   {
    "duration": 3233,
    "start_time": "2022-03-10T07:04:56.557Z"
   },
   {
    "duration": 3231,
    "start_time": "2022-03-10T07:04:56.560Z"
   },
   {
    "duration": 605,
    "start_time": "2022-03-10T07:16:04.642Z"
   },
   {
    "duration": 138,
    "start_time": "2022-03-10T07:16:05.249Z"
   },
   {
    "duration": 17,
    "start_time": "2022-03-10T07:16:05.389Z"
   },
   {
    "duration": 54,
    "start_time": "2022-03-10T07:16:05.408Z"
   },
   {
    "duration": 17,
    "start_time": "2022-03-10T07:16:05.464Z"
   },
   {
    "duration": 25,
    "start_time": "2022-03-10T07:16:05.482Z"
   },
   {
    "duration": 29,
    "start_time": "2022-03-10T07:16:05.509Z"
   },
   {
    "duration": 38,
    "start_time": "2022-03-10T07:16:05.540Z"
   },
   {
    "duration": 32,
    "start_time": "2022-03-10T07:16:05.580Z"
   },
   {
    "duration": 51,
    "start_time": "2022-03-10T07:16:05.614Z"
   },
   {
    "duration": 72,
    "start_time": "2022-03-10T07:16:05.667Z"
   },
   {
    "duration": 72,
    "start_time": "2022-03-10T07:16:05.740Z"
   },
   {
    "duration": 67,
    "start_time": "2022-03-10T07:16:05.813Z"
   },
   {
    "duration": 46,
    "start_time": "2022-03-10T07:16:05.882Z"
   },
   {
    "duration": 10,
    "start_time": "2022-03-10T07:16:05.930Z"
   },
   {
    "duration": 37,
    "start_time": "2022-03-10T07:16:05.942Z"
   },
   {
    "duration": 277,
    "start_time": "2022-03-10T07:16:05.981Z"
   },
   {
    "duration": 3351,
    "start_time": "2022-03-10T07:16:02.909Z"
   },
   {
    "duration": 3333,
    "start_time": "2022-03-10T07:16:02.928Z"
   },
   {
    "duration": 3325,
    "start_time": "2022-03-10T07:16:02.937Z"
   },
   {
    "duration": 3323,
    "start_time": "2022-03-10T07:16:02.940Z"
   },
   {
    "duration": 3321,
    "start_time": "2022-03-10T07:16:02.943Z"
   },
   {
    "duration": 3319,
    "start_time": "2022-03-10T07:16:02.946Z"
   },
   {
    "duration": 3312,
    "start_time": "2022-03-10T07:16:02.954Z"
   },
   {
    "duration": 3309,
    "start_time": "2022-03-10T07:16:02.958Z"
   },
   {
    "duration": 3305,
    "start_time": "2022-03-10T07:16:02.962Z"
   },
   {
    "duration": 3300,
    "start_time": "2022-03-10T07:16:02.968Z"
   },
   {
    "duration": 3298,
    "start_time": "2022-03-10T07:16:02.971Z"
   },
   {
    "duration": 3297,
    "start_time": "2022-03-10T07:16:02.974Z"
   },
   {
    "duration": 3295,
    "start_time": "2022-03-10T07:16:02.977Z"
   },
   {
    "duration": 3291,
    "start_time": "2022-03-10T07:16:02.982Z"
   },
   {
    "duration": 3281,
    "start_time": "2022-03-10T07:16:02.993Z"
   },
   {
    "duration": 3276,
    "start_time": "2022-03-10T07:16:02.999Z"
   },
   {
    "duration": 3271,
    "start_time": "2022-03-10T07:16:03.004Z"
   },
   {
    "duration": 3268,
    "start_time": "2022-03-10T07:16:03.008Z"
   },
   {
    "duration": 3264,
    "start_time": "2022-03-10T07:16:03.014Z"
   },
   {
    "duration": 3260,
    "start_time": "2022-03-10T07:16:03.019Z"
   },
   {
    "duration": 3256,
    "start_time": "2022-03-10T07:16:03.023Z"
   },
   {
    "duration": 584,
    "start_time": "2022-03-10T07:16:45.946Z"
   },
   {
    "duration": 128,
    "start_time": "2022-03-10T07:16:46.532Z"
   },
   {
    "duration": 17,
    "start_time": "2022-03-10T07:16:46.662Z"
   },
   {
    "duration": 25,
    "start_time": "2022-03-10T07:16:46.681Z"
   },
   {
    "duration": 4,
    "start_time": "2022-03-10T07:16:46.708Z"
   },
   {
    "duration": 17,
    "start_time": "2022-03-10T07:16:46.713Z"
   },
   {
    "duration": 28,
    "start_time": "2022-03-10T07:16:46.732Z"
   },
   {
    "duration": 27,
    "start_time": "2022-03-10T07:16:46.763Z"
   },
   {
    "duration": 18,
    "start_time": "2022-03-10T07:16:46.792Z"
   },
   {
    "duration": 26,
    "start_time": "2022-03-10T07:16:46.811Z"
   },
   {
    "duration": 82,
    "start_time": "2022-03-10T07:16:46.839Z"
   },
   {
    "duration": 82,
    "start_time": "2022-03-10T07:16:46.922Z"
   },
   {
    "duration": 57,
    "start_time": "2022-03-10T07:16:47.006Z"
   },
   {
    "duration": 241,
    "start_time": "2022-03-10T07:16:47.065Z"
   },
   {
    "duration": 3359,
    "start_time": "2022-03-10T07:16:43.950Z"
   },
   {
    "duration": 3356,
    "start_time": "2022-03-10T07:16:43.954Z"
   },
   {
    "duration": 3354,
    "start_time": "2022-03-10T07:16:43.957Z"
   },
   {
    "duration": 3352,
    "start_time": "2022-03-10T07:16:43.961Z"
   },
   {
    "duration": 3349,
    "start_time": "2022-03-10T07:16:43.965Z"
   },
   {
    "duration": 3334,
    "start_time": "2022-03-10T07:16:43.982Z"
   },
   {
    "duration": 3330,
    "start_time": "2022-03-10T07:16:43.987Z"
   },
   {
    "duration": 3329,
    "start_time": "2022-03-10T07:16:43.990Z"
   },
   {
    "duration": 3326,
    "start_time": "2022-03-10T07:16:43.994Z"
   },
   {
    "duration": 3320,
    "start_time": "2022-03-10T07:16:44.001Z"
   },
   {
    "duration": 3319,
    "start_time": "2022-03-10T07:16:44.004Z"
   },
   {
    "duration": 3317,
    "start_time": "2022-03-10T07:16:44.007Z"
   },
   {
    "duration": 3314,
    "start_time": "2022-03-10T07:16:44.011Z"
   },
   {
    "duration": 3308,
    "start_time": "2022-03-10T07:16:44.018Z"
   },
   {
    "duration": 3307,
    "start_time": "2022-03-10T07:16:44.020Z"
   },
   {
    "duration": 3305,
    "start_time": "2022-03-10T07:16:44.023Z"
   },
   {
    "duration": 3303,
    "start_time": "2022-03-10T07:16:44.026Z"
   },
   {
    "duration": 3299,
    "start_time": "2022-03-10T07:16:44.031Z"
   },
   {
    "duration": 3298,
    "start_time": "2022-03-10T07:16:44.034Z"
   },
   {
    "duration": 3296,
    "start_time": "2022-03-10T07:16:44.037Z"
   },
   {
    "duration": 3294,
    "start_time": "2022-03-10T07:16:44.040Z"
   },
   {
    "duration": 3290,
    "start_time": "2022-03-10T07:16:44.045Z"
   },
   {
    "duration": 3287,
    "start_time": "2022-03-10T07:16:44.049Z"
   },
   {
    "duration": 3285,
    "start_time": "2022-03-10T07:16:44.052Z"
   },
   {
    "duration": 520,
    "start_time": "2022-03-11T19:05:38.068Z"
   },
   {
    "duration": 130,
    "start_time": "2022-03-11T19:05:38.590Z"
   },
   {
    "duration": 17,
    "start_time": "2022-03-11T19:05:38.722Z"
   },
   {
    "duration": 21,
    "start_time": "2022-03-11T19:05:38.741Z"
   },
   {
    "duration": 3,
    "start_time": "2022-03-11T19:05:38.764Z"
   },
   {
    "duration": 12,
    "start_time": "2022-03-11T19:05:38.769Z"
   },
   {
    "duration": 6,
    "start_time": "2022-03-11T19:05:38.782Z"
   },
   {
    "duration": 51,
    "start_time": "2022-03-11T19:05:38.790Z"
   },
   {
    "duration": 16,
    "start_time": "2022-03-11T19:05:38.843Z"
   },
   {
    "duration": 20,
    "start_time": "2022-03-11T19:05:38.860Z"
   },
   {
    "duration": 71,
    "start_time": "2022-03-11T19:05:38.882Z"
   },
   {
    "duration": 63,
    "start_time": "2022-03-11T19:05:38.954Z"
   },
   {
    "duration": 64,
    "start_time": "2022-03-11T19:05:39.018Z"
   },
   {
    "duration": 231,
    "start_time": "2022-03-11T19:05:39.083Z"
   },
   {
    "duration": 10800306,
    "start_time": "2022-03-11T16:05:39.010Z"
   },
   {
    "duration": 10800303,
    "start_time": "2022-03-11T16:05:39.014Z"
   },
   {
    "duration": 10800300,
    "start_time": "2022-03-11T16:05:39.018Z"
   },
   {
    "duration": 10800295,
    "start_time": "2022-03-11T16:05:39.023Z"
   },
   {
    "duration": 10800286,
    "start_time": "2022-03-11T16:05:39.033Z"
   },
   {
    "duration": 10800283,
    "start_time": "2022-03-11T16:05:39.037Z"
   },
   {
    "duration": 10800281,
    "start_time": "2022-03-11T16:05:39.040Z"
   },
   {
    "duration": 10800278,
    "start_time": "2022-03-11T16:05:39.044Z"
   },
   {
    "duration": 10800276,
    "start_time": "2022-03-11T16:05:39.047Z"
   },
   {
    "duration": 10800274,
    "start_time": "2022-03-11T16:05:39.050Z"
   },
   {
    "duration": 10800272,
    "start_time": "2022-03-11T16:05:39.053Z"
   },
   {
    "duration": 10800267,
    "start_time": "2022-03-11T16:05:39.059Z"
   },
   {
    "duration": 10800261,
    "start_time": "2022-03-11T16:05:39.066Z"
   },
   {
    "duration": 10800256,
    "start_time": "2022-03-11T16:05:39.072Z"
   },
   {
    "duration": 10800251,
    "start_time": "2022-03-11T16:05:39.078Z"
   },
   {
    "duration": 10800247,
    "start_time": "2022-03-11T16:05:39.083Z"
   },
   {
    "duration": 10800243,
    "start_time": "2022-03-11T16:05:39.088Z"
   },
   {
    "duration": 10800241,
    "start_time": "2022-03-11T16:05:39.091Z"
   },
   {
    "duration": 10800239,
    "start_time": "2022-03-11T16:05:39.094Z"
   },
   {
    "duration": 10800237,
    "start_time": "2022-03-11T16:05:39.097Z"
   },
   {
    "duration": 10800236,
    "start_time": "2022-03-11T16:05:39.099Z"
   },
   {
    "duration": 10800233,
    "start_time": "2022-03-11T16:05:39.103Z"
   },
   {
    "duration": 10800231,
    "start_time": "2022-03-11T16:05:39.106Z"
   },
   {
    "duration": 10800230,
    "start_time": "2022-03-11T16:05:39.108Z"
   },
   {
    "duration": 529,
    "start_time": "2022-03-11T19:06:50.364Z"
   },
   {
    "duration": 122,
    "start_time": "2022-03-11T19:06:50.895Z"
   },
   {
    "duration": 22,
    "start_time": "2022-03-11T19:06:51.019Z"
   },
   {
    "duration": 25,
    "start_time": "2022-03-11T19:06:51.043Z"
   },
   {
    "duration": 4,
    "start_time": "2022-03-11T19:06:51.069Z"
   },
   {
    "duration": 20,
    "start_time": "2022-03-11T19:06:51.075Z"
   },
   {
    "duration": 8,
    "start_time": "2022-03-11T19:06:51.096Z"
   },
   {
    "duration": 45,
    "start_time": "2022-03-11T19:06:51.106Z"
   },
   {
    "duration": 17,
    "start_time": "2022-03-11T19:06:51.153Z"
   },
   {
    "duration": 22,
    "start_time": "2022-03-11T19:06:51.171Z"
   },
   {
    "duration": 74,
    "start_time": "2022-03-11T19:06:51.194Z"
   },
   {
    "duration": 68,
    "start_time": "2022-03-11T19:06:51.269Z"
   },
   {
    "duration": 51,
    "start_time": "2022-03-11T19:06:51.339Z"
   },
   {
    "duration": 235,
    "start_time": "2022-03-11T19:06:51.392Z"
   },
   {
    "duration": 10800308,
    "start_time": "2022-03-11T16:06:51.322Z"
   },
   {
    "duration": 10800291,
    "start_time": "2022-03-11T16:06:51.340Z"
   },
   {
    "duration": 10800288,
    "start_time": "2022-03-11T16:06:51.344Z"
   },
   {
    "duration": 10800284,
    "start_time": "2022-03-11T16:06:51.349Z"
   },
   {
    "duration": 10800281,
    "start_time": "2022-03-11T16:06:51.352Z"
   },
   {
    "duration": 10800279,
    "start_time": "2022-03-11T16:06:51.355Z"
   },
   {
    "duration": 10800278,
    "start_time": "2022-03-11T16:06:51.357Z"
   },
   {
    "duration": 10800276,
    "start_time": "2022-03-11T16:06:51.360Z"
   },
   {
    "duration": 10800274,
    "start_time": "2022-03-11T16:06:51.363Z"
   },
   {
    "duration": 10800270,
    "start_time": "2022-03-11T16:06:51.367Z"
   },
   {
    "duration": 10800266,
    "start_time": "2022-03-11T16:06:51.372Z"
   },
   {
    "duration": 10800262,
    "start_time": "2022-03-11T16:06:51.377Z"
   },
   {
    "duration": 10800259,
    "start_time": "2022-03-11T16:06:51.381Z"
   },
   {
    "duration": 10800254,
    "start_time": "2022-03-11T16:06:51.387Z"
   },
   {
    "duration": 10800250,
    "start_time": "2022-03-11T16:06:51.392Z"
   },
   {
    "duration": 10800244,
    "start_time": "2022-03-11T16:06:51.398Z"
   },
   {
    "duration": 10800240,
    "start_time": "2022-03-11T16:06:51.403Z"
   },
   {
    "duration": 10800237,
    "start_time": "2022-03-11T16:06:51.407Z"
   },
   {
    "duration": 10800234,
    "start_time": "2022-03-11T16:06:51.411Z"
   },
   {
    "duration": 10800230,
    "start_time": "2022-03-11T16:06:51.416Z"
   },
   {
    "duration": 10800227,
    "start_time": "2022-03-11T16:06:51.419Z"
   },
   {
    "duration": 10800225,
    "start_time": "2022-03-11T16:06:51.422Z"
   },
   {
    "duration": 10800222,
    "start_time": "2022-03-11T16:06:51.425Z"
   },
   {
    "duration": 10800219,
    "start_time": "2022-03-11T16:06:51.429Z"
   },
   {
    "duration": 535,
    "start_time": "2022-03-11T19:09:04.869Z"
   },
   {
    "duration": 128,
    "start_time": "2022-03-11T19:09:05.405Z"
   },
   {
    "duration": 16,
    "start_time": "2022-03-11T19:09:05.535Z"
   },
   {
    "duration": 27,
    "start_time": "2022-03-11T19:09:05.553Z"
   },
   {
    "duration": 4,
    "start_time": "2022-03-11T19:09:05.582Z"
   },
   {
    "duration": 13,
    "start_time": "2022-03-11T19:09:05.588Z"
   },
   {
    "duration": 11,
    "start_time": "2022-03-11T19:09:05.603Z"
   },
   {
    "duration": 23,
    "start_time": "2022-03-11T19:09:05.635Z"
   },
   {
    "duration": 18,
    "start_time": "2022-03-11T19:09:05.660Z"
   },
   {
    "duration": 23,
    "start_time": "2022-03-11T19:09:05.679Z"
   },
   {
    "duration": 80,
    "start_time": "2022-03-11T19:09:05.704Z"
   },
   {
    "duration": 78,
    "start_time": "2022-03-11T19:09:05.786Z"
   },
   {
    "duration": 55,
    "start_time": "2022-03-11T19:09:05.866Z"
   },
   {
    "duration": 270,
    "start_time": "2022-03-11T19:09:05.933Z"
   },
   {
    "duration": 10800293,
    "start_time": "2022-03-11T16:09:05.913Z"
   },
   {
    "duration": 10800281,
    "start_time": "2022-03-11T16:09:05.926Z"
   },
   {
    "duration": 10800275,
    "start_time": "2022-03-11T16:09:05.933Z"
   },
   {
    "duration": 10800258,
    "start_time": "2022-03-11T16:09:05.952Z"
   },
   {
    "duration": 10800250,
    "start_time": "2022-03-11T16:09:05.961Z"
   },
   {
    "duration": 10800246,
    "start_time": "2022-03-11T16:09:05.966Z"
   },
   {
    "duration": 10800240,
    "start_time": "2022-03-11T16:09:05.974Z"
   },
   {
    "duration": 10800234,
    "start_time": "2022-03-11T16:09:05.981Z"
   },
   {
    "duration": 10800227,
    "start_time": "2022-03-11T16:09:05.989Z"
   },
   {
    "duration": 10800222,
    "start_time": "2022-03-11T16:09:05.995Z"
   },
   {
    "duration": 10800218,
    "start_time": "2022-03-11T16:09:06.001Z"
   },
   {
    "duration": 10800213,
    "start_time": "2022-03-11T16:09:06.007Z"
   },
   {
    "duration": 10800208,
    "start_time": "2022-03-11T16:09:06.014Z"
   },
   {
    "duration": 10800203,
    "start_time": "2022-03-11T16:09:06.020Z"
   },
   {
    "duration": 10800198,
    "start_time": "2022-03-11T16:09:06.027Z"
   },
   {
    "duration": 10800192,
    "start_time": "2022-03-11T16:09:06.034Z"
   },
   {
    "duration": 10800186,
    "start_time": "2022-03-11T16:09:06.041Z"
   },
   {
    "duration": 10800180,
    "start_time": "2022-03-11T16:09:06.049Z"
   },
   {
    "duration": 10800156,
    "start_time": "2022-03-11T16:09:06.074Z"
   },
   {
    "duration": 10800150,
    "start_time": "2022-03-11T16:09:06.081Z"
   },
   {
    "duration": 10800143,
    "start_time": "2022-03-11T16:09:06.089Z"
   },
   {
    "duration": 10800137,
    "start_time": "2022-03-11T16:09:06.096Z"
   },
   {
    "duration": 10800129,
    "start_time": "2022-03-11T16:09:06.105Z"
   },
   {
    "duration": 10800124,
    "start_time": "2022-03-11T16:09:06.111Z"
   },
   {
    "duration": 543,
    "start_time": "2022-03-11T19:11:13.330Z"
   },
   {
    "duration": 125,
    "start_time": "2022-03-11T19:11:13.875Z"
   },
   {
    "duration": 16,
    "start_time": "2022-03-11T19:11:14.001Z"
   },
   {
    "duration": 32,
    "start_time": "2022-03-11T19:11:14.018Z"
   },
   {
    "duration": 3,
    "start_time": "2022-03-11T19:11:14.052Z"
   },
   {
    "duration": 13,
    "start_time": "2022-03-11T19:11:14.056Z"
   },
   {
    "duration": 6,
    "start_time": "2022-03-11T19:11:14.071Z"
   },
   {
    "duration": 21,
    "start_time": "2022-03-11T19:11:14.079Z"
   },
   {
    "duration": 42,
    "start_time": "2022-03-11T19:11:14.102Z"
   },
   {
    "duration": 23,
    "start_time": "2022-03-11T19:11:14.146Z"
   },
   {
    "duration": 69,
    "start_time": "2022-03-11T19:11:14.171Z"
   },
   {
    "duration": 61,
    "start_time": "2022-03-11T19:11:14.241Z"
   },
   {
    "duration": 63,
    "start_time": "2022-03-11T19:11:14.303Z"
   },
   {
    "duration": 221,
    "start_time": "2022-03-11T19:11:14.368Z"
   },
   {
    "duration": 10800291,
    "start_time": "2022-03-11T16:11:14.300Z"
   },
   {
    "duration": 10800276,
    "start_time": "2022-03-11T16:11:14.316Z"
   },
   {
    "duration": 10800271,
    "start_time": "2022-03-11T16:11:14.322Z"
   },
   {
    "duration": 10800265,
    "start_time": "2022-03-11T16:11:14.329Z"
   },
   {
    "duration": 10800259,
    "start_time": "2022-03-11T16:11:14.335Z"
   },
   {
    "duration": 10800254,
    "start_time": "2022-03-11T16:11:14.341Z"
   },
   {
    "duration": 10800250,
    "start_time": "2022-03-11T16:11:14.346Z"
   },
   {
    "duration": 10800245,
    "start_time": "2022-03-11T16:11:14.352Z"
   },
   {
    "duration": 10800241,
    "start_time": "2022-03-11T16:11:14.357Z"
   },
   {
    "duration": 10800235,
    "start_time": "2022-03-11T16:11:14.364Z"
   },
   {
    "duration": 10800226,
    "start_time": "2022-03-11T16:11:14.374Z"
   },
   {
    "duration": 10800220,
    "start_time": "2022-03-11T16:11:14.381Z"
   },
   {
    "duration": 10800215,
    "start_time": "2022-03-11T16:11:14.387Z"
   },
   {
    "duration": 10800209,
    "start_time": "2022-03-11T16:11:14.394Z"
   },
   {
    "duration": 10800206,
    "start_time": "2022-03-11T16:11:14.398Z"
   },
   {
    "duration": 10800201,
    "start_time": "2022-03-11T16:11:14.404Z"
   },
   {
    "duration": 10800198,
    "start_time": "2022-03-11T16:11:14.408Z"
   },
   {
    "duration": 10800185,
    "start_time": "2022-03-11T16:11:14.421Z"
   },
   {
    "duration": 10800180,
    "start_time": "2022-03-11T16:11:14.427Z"
   },
   {
    "duration": 10800175,
    "start_time": "2022-03-11T16:11:14.434Z"
   },
   {
    "duration": 10800171,
    "start_time": "2022-03-11T16:11:14.439Z"
   },
   {
    "duration": 10800165,
    "start_time": "2022-03-11T16:11:14.446Z"
   },
   {
    "duration": 10800161,
    "start_time": "2022-03-11T16:11:14.451Z"
   },
   {
    "duration": 10800156,
    "start_time": "2022-03-11T16:11:14.457Z"
   },
   {
    "duration": 575,
    "start_time": "2022-03-11T19:20:15.718Z"
   },
   {
    "duration": 133,
    "start_time": "2022-03-11T19:20:16.294Z"
   },
   {
    "duration": 16,
    "start_time": "2022-03-11T19:20:16.429Z"
   },
   {
    "duration": 25,
    "start_time": "2022-03-11T19:20:16.447Z"
   },
   {
    "duration": 7,
    "start_time": "2022-03-11T19:20:16.474Z"
   },
   {
    "duration": 17,
    "start_time": "2022-03-11T19:20:16.483Z"
   },
   {
    "duration": 6,
    "start_time": "2022-03-11T19:20:16.502Z"
   },
   {
    "duration": 22,
    "start_time": "2022-03-11T19:20:16.535Z"
   },
   {
    "duration": 16,
    "start_time": "2022-03-11T19:20:16.560Z"
   },
   {
    "duration": 24,
    "start_time": "2022-03-11T19:20:16.578Z"
   },
   {
    "duration": 80,
    "start_time": "2022-03-11T19:20:16.603Z"
   },
   {
    "duration": 70,
    "start_time": "2022-03-11T19:20:16.685Z"
   },
   {
    "duration": 49,
    "start_time": "2022-03-11T19:20:16.757Z"
   },
   {
    "duration": 253,
    "start_time": "2022-03-11T19:20:16.808Z"
   },
   {
    "duration": 10800348,
    "start_time": "2022-03-11T16:20:16.716Z"
   },
   {
    "duration": 10800342,
    "start_time": "2022-03-11T16:20:16.723Z"
   },
   {
    "duration": 10800336,
    "start_time": "2022-03-11T16:20:16.731Z"
   },
   {
    "duration": 10800300,
    "start_time": "2022-03-11T16:20:16.768Z"
   },
   {
    "duration": 10800291,
    "start_time": "2022-03-11T16:20:16.778Z"
   },
   {
    "duration": 10800288,
    "start_time": "2022-03-11T16:20:16.783Z"
   },
   {
    "duration": 10800282,
    "start_time": "2022-03-11T16:20:16.790Z"
   },
   {
    "duration": 10800277,
    "start_time": "2022-03-11T16:20:16.796Z"
   },
   {
    "duration": 10800274,
    "start_time": "2022-03-11T16:20:16.801Z"
   },
   {
    "duration": 10800267,
    "start_time": "2022-03-11T16:20:16.809Z"
   },
   {
    "duration": 10800261,
    "start_time": "2022-03-11T16:20:16.816Z"
   },
   {
    "duration": 10800257,
    "start_time": "2022-03-11T16:20:16.822Z"
   },
   {
    "duration": 10800251,
    "start_time": "2022-03-11T16:20:16.829Z"
   },
   {
    "duration": 10800248,
    "start_time": "2022-03-11T16:20:16.834Z"
   },
   {
    "duration": 10800241,
    "start_time": "2022-03-11T16:20:16.842Z"
   },
   {
    "duration": 10800236,
    "start_time": "2022-03-11T16:20:16.848Z"
   },
   {
    "duration": 10800231,
    "start_time": "2022-03-11T16:20:16.855Z"
   },
   {
    "duration": 10800225,
    "start_time": "2022-03-11T16:20:16.862Z"
   },
   {
    "duration": 10800199,
    "start_time": "2022-03-11T16:20:16.890Z"
   },
   {
    "duration": 10800185,
    "start_time": "2022-03-11T16:20:16.905Z"
   },
   {
    "duration": 10800176,
    "start_time": "2022-03-11T16:20:16.915Z"
   },
   {
    "duration": 10800166,
    "start_time": "2022-03-11T16:20:16.927Z"
   },
   {
    "duration": 10800157,
    "start_time": "2022-03-11T16:20:16.937Z"
   },
   {
    "duration": 10800150,
    "start_time": "2022-03-11T16:20:16.946Z"
   },
   {
    "duration": 581,
    "start_time": "2022-03-11T19:20:58.148Z"
   },
   {
    "duration": 131,
    "start_time": "2022-03-11T19:20:58.732Z"
   },
   {
    "duration": 16,
    "start_time": "2022-03-11T19:20:58.866Z"
   },
   {
    "duration": 25,
    "start_time": "2022-03-11T19:20:58.884Z"
   },
   {
    "duration": 6,
    "start_time": "2022-03-11T19:20:58.910Z"
   },
   {
    "duration": 24,
    "start_time": "2022-03-11T19:20:58.918Z"
   },
   {
    "duration": 6,
    "start_time": "2022-03-11T19:20:58.943Z"
   },
   {
    "duration": 22,
    "start_time": "2022-03-11T19:20:58.951Z"
   },
   {
    "duration": 15,
    "start_time": "2022-03-11T19:20:58.975Z"
   },
   {
    "duration": 42,
    "start_time": "2022-03-11T19:20:58.992Z"
   },
   {
    "duration": 54,
    "start_time": "2022-03-11T19:20:59.035Z"
   },
   {
    "duration": 72,
    "start_time": "2022-03-11T19:20:59.090Z"
   },
   {
    "duration": 50,
    "start_time": "2022-03-11T19:20:59.164Z"
   },
   {
    "duration": 223,
    "start_time": "2022-03-11T19:20:59.215Z"
   },
   {
    "duration": 10800312,
    "start_time": "2022-03-11T16:20:59.128Z"
   },
   {
    "duration": 10800305,
    "start_time": "2022-03-11T16:20:59.136Z"
   },
   {
    "duration": 10800300,
    "start_time": "2022-03-11T16:20:59.142Z"
   },
   {
    "duration": 10800294,
    "start_time": "2022-03-11T16:20:59.149Z"
   },
   {
    "duration": 10800290,
    "start_time": "2022-03-11T16:20:59.154Z"
   },
   {
    "duration": 10800284,
    "start_time": "2022-03-11T16:20:59.161Z"
   },
   {
    "duration": 10800279,
    "start_time": "2022-03-11T16:20:59.167Z"
   },
   {
    "duration": 10800272,
    "start_time": "2022-03-11T16:20:59.175Z"
   },
   {
    "duration": 10800267,
    "start_time": "2022-03-11T16:20:59.181Z"
   },
   {
    "duration": 10800257,
    "start_time": "2022-03-11T16:20:59.192Z"
   },
   {
    "duration": 10800252,
    "start_time": "2022-03-11T16:20:59.198Z"
   },
   {
    "duration": 10800247,
    "start_time": "2022-03-11T16:20:59.204Z"
   },
   {
    "duration": 10800242,
    "start_time": "2022-03-11T16:20:59.210Z"
   },
   {
    "duration": 10800237,
    "start_time": "2022-03-11T16:20:59.216Z"
   },
   {
    "duration": 10800210,
    "start_time": "2022-03-11T16:20:59.244Z"
   },
   {
    "duration": 10800196,
    "start_time": "2022-03-11T16:20:59.259Z"
   },
   {
    "duration": 10800192,
    "start_time": "2022-03-11T16:20:59.264Z"
   },
   {
    "duration": 10800189,
    "start_time": "2022-03-11T16:20:59.268Z"
   },
   {
    "duration": 10800188,
    "start_time": "2022-03-11T16:20:59.270Z"
   },
   {
    "duration": 10800181,
    "start_time": "2022-03-11T16:20:59.278Z"
   },
   {
    "duration": 10800178,
    "start_time": "2022-03-11T16:20:59.282Z"
   },
   {
    "duration": 10800176,
    "start_time": "2022-03-11T16:20:59.285Z"
   },
   {
    "duration": 10800175,
    "start_time": "2022-03-11T16:20:59.287Z"
   },
   {
    "duration": 10800169,
    "start_time": "2022-03-11T16:20:59.294Z"
   },
   {
    "duration": 545,
    "start_time": "2022-03-11T19:21:27.737Z"
   },
   {
    "duration": 122,
    "start_time": "2022-03-11T19:21:28.284Z"
   },
   {
    "duration": 25,
    "start_time": "2022-03-11T19:21:28.408Z"
   },
   {
    "duration": 24,
    "start_time": "2022-03-11T19:21:28.434Z"
   },
   {
    "duration": 4,
    "start_time": "2022-03-11T19:21:28.460Z"
   },
   {
    "duration": 15,
    "start_time": "2022-03-11T19:21:28.466Z"
   },
   {
    "duration": 5,
    "start_time": "2022-03-11T19:21:28.483Z"
   },
   {
    "duration": 50,
    "start_time": "2022-03-11T19:21:28.491Z"
   },
   {
    "duration": 16,
    "start_time": "2022-03-11T19:21:28.543Z"
   },
   {
    "duration": 28,
    "start_time": "2022-03-11T19:21:28.561Z"
   },
   {
    "duration": 66,
    "start_time": "2022-03-11T19:21:28.590Z"
   },
   {
    "duration": 55,
    "start_time": "2022-03-11T19:21:28.658Z"
   },
   {
    "duration": 61,
    "start_time": "2022-03-11T19:21:28.715Z"
   },
   {
    "duration": 221,
    "start_time": "2022-03-11T19:21:28.777Z"
   },
   {
    "duration": 10800315,
    "start_time": "2022-03-11T16:21:28.685Z"
   },
   {
    "duration": 10800311,
    "start_time": "2022-03-11T16:21:28.690Z"
   },
   {
    "duration": 10800309,
    "start_time": "2022-03-11T16:21:28.693Z"
   },
   {
    "duration": 10800307,
    "start_time": "2022-03-11T16:21:28.696Z"
   },
   {
    "duration": 10800304,
    "start_time": "2022-03-11T16:21:28.700Z"
   },
   {
    "duration": 10800301,
    "start_time": "2022-03-11T16:21:28.704Z"
   },
   {
    "duration": 10800297,
    "start_time": "2022-03-11T16:21:28.709Z"
   },
   {
    "duration": 10800294,
    "start_time": "2022-03-11T16:21:28.713Z"
   },
   {
    "duration": 10800291,
    "start_time": "2022-03-11T16:21:28.717Z"
   },
   {
    "duration": 10800286,
    "start_time": "2022-03-11T16:21:28.723Z"
   },
   {
    "duration": 10800283,
    "start_time": "2022-03-11T16:21:28.727Z"
   },
   {
    "duration": 10800282,
    "start_time": "2022-03-11T16:21:28.729Z"
   },
   {
    "duration": 10800279,
    "start_time": "2022-03-11T16:21:28.733Z"
   },
   {
    "duration": 10800278,
    "start_time": "2022-03-11T16:21:28.735Z"
   },
   {
    "duration": 10800272,
    "start_time": "2022-03-11T16:21:28.742Z"
   },
   {
    "duration": 10800270,
    "start_time": "2022-03-11T16:21:28.745Z"
   },
   {
    "duration": 10800267,
    "start_time": "2022-03-11T16:21:28.749Z"
   },
   {
    "duration": 10800266,
    "start_time": "2022-03-11T16:21:28.751Z"
   },
   {
    "duration": 10800262,
    "start_time": "2022-03-11T16:21:28.756Z"
   },
   {
    "duration": 10800259,
    "start_time": "2022-03-11T16:21:28.759Z"
   },
   {
    "duration": 10800256,
    "start_time": "2022-03-11T16:21:28.763Z"
   },
   {
    "duration": 10800254,
    "start_time": "2022-03-11T16:21:28.766Z"
   },
   {
    "duration": 10800251,
    "start_time": "2022-03-11T16:21:28.770Z"
   },
   {
    "duration": 10800238,
    "start_time": "2022-03-11T16:21:28.784Z"
   },
   {
    "duration": 562,
    "start_time": "2022-03-11T19:23:23.708Z"
   },
   {
    "duration": 122,
    "start_time": "2022-03-11T19:23:24.272Z"
   },
   {
    "duration": 16,
    "start_time": "2022-03-11T19:23:24.396Z"
   },
   {
    "duration": 36,
    "start_time": "2022-03-11T19:23:24.414Z"
   },
   {
    "duration": 4,
    "start_time": "2022-03-11T19:23:24.452Z"
   },
   {
    "duration": 15,
    "start_time": "2022-03-11T19:23:24.458Z"
   },
   {
    "duration": 5,
    "start_time": "2022-03-11T19:23:24.475Z"
   },
   {
    "duration": 22,
    "start_time": "2022-03-11T19:23:24.482Z"
   },
   {
    "duration": 37,
    "start_time": "2022-03-11T19:23:24.507Z"
   },
   {
    "duration": 21,
    "start_time": "2022-03-11T19:23:24.545Z"
   },
   {
    "duration": 71,
    "start_time": "2022-03-11T19:23:24.567Z"
   },
   {
    "duration": 57,
    "start_time": "2022-03-11T19:23:24.639Z"
   },
   {
    "duration": 61,
    "start_time": "2022-03-11T19:23:24.698Z"
   },
   {
    "duration": 229,
    "start_time": "2022-03-11T19:23:24.761Z"
   },
   {
    "duration": 10800338,
    "start_time": "2022-03-11T16:23:24.654Z"
   },
   {
    "duration": 10800332,
    "start_time": "2022-03-11T16:23:24.661Z"
   },
   {
    "duration": 10800314,
    "start_time": "2022-03-11T16:23:24.680Z"
   },
   {
    "duration": 10800300,
    "start_time": "2022-03-11T16:23:24.695Z"
   },
   {
    "duration": 10800295,
    "start_time": "2022-03-11T16:23:24.701Z"
   },
   {
    "duration": 10800290,
    "start_time": "2022-03-11T16:23:24.707Z"
   },
   {
    "duration": 10800284,
    "start_time": "2022-03-11T16:23:24.713Z"
   },
   {
    "duration": 10800279,
    "start_time": "2022-03-11T16:23:24.719Z"
   },
   {
    "duration": 10800273,
    "start_time": "2022-03-11T16:23:24.726Z"
   },
   {
    "duration": 10800268,
    "start_time": "2022-03-11T16:23:24.732Z"
   },
   {
    "duration": 10800262,
    "start_time": "2022-03-11T16:23:24.739Z"
   },
   {
    "duration": 10800257,
    "start_time": "2022-03-11T16:23:24.745Z"
   },
   {
    "duration": 10800252,
    "start_time": "2022-03-11T16:23:24.751Z"
   },
   {
    "duration": 10800247,
    "start_time": "2022-03-11T16:23:24.757Z"
   },
   {
    "duration": 10800227,
    "start_time": "2022-03-11T16:23:24.778Z"
   },
   {
    "duration": 10800222,
    "start_time": "2022-03-11T16:23:24.784Z"
   },
   {
    "duration": 10800217,
    "start_time": "2022-03-11T16:23:24.789Z"
   },
   {
    "duration": 10800211,
    "start_time": "2022-03-11T16:23:24.796Z"
   },
   {
    "duration": 10800206,
    "start_time": "2022-03-11T16:23:24.802Z"
   },
   {
    "duration": 10800201,
    "start_time": "2022-03-11T16:23:24.808Z"
   },
   {
    "duration": 10800196,
    "start_time": "2022-03-11T16:23:24.814Z"
   },
   {
    "duration": 10800191,
    "start_time": "2022-03-11T16:23:24.820Z"
   },
   {
    "duration": 10800186,
    "start_time": "2022-03-11T16:23:24.826Z"
   },
   {
    "duration": 10800180,
    "start_time": "2022-03-11T16:23:24.833Z"
   },
   {
    "duration": 615,
    "start_time": "2022-03-11T19:31:05.637Z"
   },
   {
    "duration": 140,
    "start_time": "2022-03-11T19:31:06.254Z"
   },
   {
    "duration": 17,
    "start_time": "2022-03-11T19:31:06.396Z"
   },
   {
    "duration": 35,
    "start_time": "2022-03-11T19:31:06.414Z"
   },
   {
    "duration": 4,
    "start_time": "2022-03-11T19:31:06.452Z"
   },
   {
    "duration": 16,
    "start_time": "2022-03-11T19:31:06.458Z"
   },
   {
    "duration": 13,
    "start_time": "2022-03-11T19:31:06.476Z"
   },
   {
    "duration": 28,
    "start_time": "2022-03-11T19:31:06.492Z"
   },
   {
    "duration": 27,
    "start_time": "2022-03-11T19:31:06.534Z"
   },
   {
    "duration": 30,
    "start_time": "2022-03-11T19:31:06.564Z"
   },
   {
    "duration": 91,
    "start_time": "2022-03-11T19:31:06.596Z"
   },
   {
    "duration": 77,
    "start_time": "2022-03-11T19:31:06.689Z"
   },
   {
    "duration": 66,
    "start_time": "2022-03-11T19:31:06.768Z"
   },
   {
    "duration": 63,
    "start_time": "2022-03-11T19:31:06.836Z"
   },
   {
    "duration": 3,
    "start_time": "2022-03-11T19:31:06.901Z"
   },
   {
    "duration": 38,
    "start_time": "2022-03-11T19:31:06.906Z"
   },
   {
    "duration": 235,
    "start_time": "2022-03-11T19:31:06.947Z"
   },
   {
    "duration": 10800360,
    "start_time": "2022-03-11T16:31:06.825Z"
   },
   {
    "duration": 10800331,
    "start_time": "2022-03-11T16:31:06.854Z"
   },
   {
    "duration": 10800322,
    "start_time": "2022-03-11T16:31:06.864Z"
   },
   {
    "duration": 10800315,
    "start_time": "2022-03-11T16:31:06.872Z"
   },
   {
    "duration": 10800310,
    "start_time": "2022-03-11T16:31:06.878Z"
   },
   {
    "duration": 10800302,
    "start_time": "2022-03-11T16:31:06.886Z"
   },
   {
    "duration": 10800297,
    "start_time": "2022-03-11T16:31:06.892Z"
   },
   {
    "duration": 10800286,
    "start_time": "2022-03-11T16:31:06.904Z"
   },
   {
    "duration": 10800281,
    "start_time": "2022-03-11T16:31:06.910Z"
   },
   {
    "duration": 10800274,
    "start_time": "2022-03-11T16:31:06.917Z"
   },
   {
    "duration": 10800269,
    "start_time": "2022-03-11T16:31:06.923Z"
   },
   {
    "duration": 10800262,
    "start_time": "2022-03-11T16:31:06.931Z"
   },
   {
    "duration": 10800256,
    "start_time": "2022-03-11T16:31:06.938Z"
   },
   {
    "duration": 10800247,
    "start_time": "2022-03-11T16:31:06.947Z"
   },
   {
    "duration": 10800206,
    "start_time": "2022-03-11T16:31:06.989Z"
   },
   {
    "duration": 10800195,
    "start_time": "2022-03-11T16:31:07.001Z"
   },
   {
    "duration": 10800193,
    "start_time": "2022-03-11T16:31:07.004Z"
   },
   {
    "duration": 10800191,
    "start_time": "2022-03-11T16:31:07.007Z"
   },
   {
    "duration": 10800188,
    "start_time": "2022-03-11T16:31:07.010Z"
   },
   {
    "duration": 10800181,
    "start_time": "2022-03-11T16:31:07.018Z"
   },
   {
    "duration": 10800179,
    "start_time": "2022-03-11T16:31:07.021Z"
   },
   {
    "duration": 620,
    "start_time": "2022-03-11T19:32:21.003Z"
   },
   {
    "duration": 174,
    "start_time": "2022-03-11T19:32:21.625Z"
   },
   {
    "duration": 16,
    "start_time": "2022-03-11T19:32:21.801Z"
   },
   {
    "duration": 54,
    "start_time": "2022-03-11T19:32:21.819Z"
   },
   {
    "duration": 6,
    "start_time": "2022-03-11T19:32:21.875Z"
   },
   {
    "duration": 19,
    "start_time": "2022-03-11T19:32:21.882Z"
   },
   {
    "duration": 6,
    "start_time": "2022-03-11T19:32:21.903Z"
   },
   {
    "duration": 24,
    "start_time": "2022-03-11T19:32:21.933Z"
   },
   {
    "duration": 29,
    "start_time": "2022-03-11T19:32:21.961Z"
   },
   {
    "duration": 20,
    "start_time": "2022-03-11T19:32:21.992Z"
   },
   {
    "duration": 80,
    "start_time": "2022-03-11T19:32:22.035Z"
   },
   {
    "duration": 93,
    "start_time": "2022-03-11T19:32:22.117Z"
   },
   {
    "duration": 86,
    "start_time": "2022-03-11T19:32:22.211Z"
   },
   {
    "duration": 339,
    "start_time": "2022-03-11T19:32:22.298Z"
   },
   {
    "duration": 10800341,
    "start_time": "2022-03-11T16:32:22.300Z"
   },
   {
    "duration": 10800325,
    "start_time": "2022-03-11T16:32:22.318Z"
   },
   {
    "duration": 10800320,
    "start_time": "2022-03-11T16:32:22.325Z"
   },
   {
    "duration": 10800319,
    "start_time": "2022-03-11T16:32:22.328Z"
   },
   {
    "duration": 10800317,
    "start_time": "2022-03-11T16:32:22.332Z"
   },
   {
    "duration": 10800310,
    "start_time": "2022-03-11T16:32:22.341Z"
   },
   {
    "duration": 10800309,
    "start_time": "2022-03-11T16:32:22.344Z"
   },
   {
    "duration": 10800307,
    "start_time": "2022-03-11T16:32:22.348Z"
   },
   {
    "duration": 10800305,
    "start_time": "2022-03-11T16:32:22.352Z"
   },
   {
    "duration": 10800301,
    "start_time": "2022-03-11T16:32:22.358Z"
   },
   {
    "duration": 10800300,
    "start_time": "2022-03-11T16:32:22.361Z"
   },
   {
    "duration": 10800298,
    "start_time": "2022-03-11T16:32:22.365Z"
   },
   {
    "duration": 10800295,
    "start_time": "2022-03-11T16:32:22.370Z"
   },
   {
    "duration": 10800292,
    "start_time": "2022-03-11T16:32:22.375Z"
   },
   {
    "duration": 10800290,
    "start_time": "2022-03-11T16:32:22.379Z"
   },
   {
    "duration": 10800288,
    "start_time": "2022-03-11T16:32:22.383Z"
   },
   {
    "duration": 10800276,
    "start_time": "2022-03-11T16:32:22.397Z"
   },
   {
    "duration": 10800270,
    "start_time": "2022-03-11T16:32:22.405Z"
   },
   {
    "duration": 10800267,
    "start_time": "2022-03-11T16:32:22.410Z"
   },
   {
    "duration": 10800266,
    "start_time": "2022-03-11T16:32:22.413Z"
   },
   {
    "duration": 10800318,
    "start_time": "2022-03-11T16:32:22.416Z"
   },
   {
    "duration": 10800312,
    "start_time": "2022-03-11T16:32:22.424Z"
   },
   {
    "duration": 10800310,
    "start_time": "2022-03-11T16:32:22.428Z"
   },
   {
    "duration": 10800309,
    "start_time": "2022-03-11T16:32:22.431Z"
   },
   {
    "duration": 514,
    "start_time": "2022-03-11T19:32:41.480Z"
   },
   {
    "duration": 124,
    "start_time": "2022-03-11T19:32:41.996Z"
   },
   {
    "duration": 15,
    "start_time": "2022-03-11T19:32:42.123Z"
   },
   {
    "duration": 27,
    "start_time": "2022-03-11T19:32:42.140Z"
   },
   {
    "duration": 4,
    "start_time": "2022-03-11T19:32:42.169Z"
   },
   {
    "duration": 15,
    "start_time": "2022-03-11T19:32:42.174Z"
   },
   {
    "duration": 6,
    "start_time": "2022-03-11T19:32:42.191Z"
   },
   {
    "duration": 44,
    "start_time": "2022-03-11T19:32:42.199Z"
   },
   {
    "duration": 19,
    "start_time": "2022-03-11T19:32:42.244Z"
   },
   {
    "duration": 21,
    "start_time": "2022-03-11T19:32:42.264Z"
   },
   {
    "duration": 68,
    "start_time": "2022-03-11T19:32:42.286Z"
   },
   {
    "duration": 57,
    "start_time": "2022-03-11T19:32:42.355Z"
   },
   {
    "duration": 65,
    "start_time": "2022-03-11T19:32:42.414Z"
   },
   {
    "duration": 284,
    "start_time": "2022-03-11T19:32:42.480Z"
   },
   {
    "duration": 10800319,
    "start_time": "2022-03-11T16:32:42.448Z"
   },
   {
    "duration": 10800312,
    "start_time": "2022-03-11T16:32:42.456Z"
   },
   {
    "duration": 10800309,
    "start_time": "2022-03-11T16:32:42.460Z"
   },
   {
    "duration": 10800305,
    "start_time": "2022-03-11T16:32:42.465Z"
   },
   {
    "duration": 10800299,
    "start_time": "2022-03-11T16:32:42.471Z"
   },
   {
    "duration": 10800289,
    "start_time": "2022-03-11T16:32:42.482Z"
   },
   {
    "duration": 10800282,
    "start_time": "2022-03-11T16:32:42.490Z"
   },
   {
    "duration": 10800277,
    "start_time": "2022-03-11T16:32:42.496Z"
   },
   {
    "duration": 10800269,
    "start_time": "2022-03-11T16:32:42.505Z"
   },
   {
    "duration": 10800264,
    "start_time": "2022-03-11T16:32:42.511Z"
   },
   {
    "duration": 10800260,
    "start_time": "2022-03-11T16:32:42.516Z"
   },
   {
    "duration": 10800254,
    "start_time": "2022-03-11T16:32:42.523Z"
   },
   {
    "duration": 10800250,
    "start_time": "2022-03-11T16:32:42.527Z"
   },
   {
    "duration": 10800247,
    "start_time": "2022-03-11T16:32:42.531Z"
   },
   {
    "duration": 10800244,
    "start_time": "2022-03-11T16:32:42.535Z"
   },
   {
    "duration": 10800242,
    "start_time": "2022-03-11T16:32:42.538Z"
   },
   {
    "duration": 10800241,
    "start_time": "2022-03-11T16:32:42.540Z"
   },
   {
    "duration": 10800238,
    "start_time": "2022-03-11T16:32:42.543Z"
   },
   {
    "duration": 10800237,
    "start_time": "2022-03-11T16:32:42.545Z"
   },
   {
    "duration": 10800236,
    "start_time": "2022-03-11T16:32:42.547Z"
   },
   {
    "duration": 10800233,
    "start_time": "2022-03-11T16:32:42.551Z"
   },
   {
    "duration": 10800231,
    "start_time": "2022-03-11T16:32:42.554Z"
   },
   {
    "duration": 10800228,
    "start_time": "2022-03-11T16:32:42.557Z"
   },
   {
    "duration": 10800227,
    "start_time": "2022-03-11T16:32:42.559Z"
   },
   {
    "duration": 573,
    "start_time": "2022-03-11T19:33:34.667Z"
   },
   {
    "duration": 160,
    "start_time": "2022-03-11T19:33:35.243Z"
   },
   {
    "duration": 16,
    "start_time": "2022-03-11T19:33:35.405Z"
   },
   {
    "duration": 27,
    "start_time": "2022-03-11T19:33:35.423Z"
   },
   {
    "duration": 4,
    "start_time": "2022-03-11T19:33:35.451Z"
   },
   {
    "duration": 14,
    "start_time": "2022-03-11T19:33:35.457Z"
   },
   {
    "duration": 12,
    "start_time": "2022-03-11T19:33:35.473Z"
   },
   {
    "duration": 31,
    "start_time": "2022-03-11T19:33:35.487Z"
   },
   {
    "duration": 17,
    "start_time": "2022-03-11T19:33:35.533Z"
   },
   {
    "duration": 29,
    "start_time": "2022-03-11T19:33:35.551Z"
   },
   {
    "duration": 64,
    "start_time": "2022-03-11T19:33:35.581Z"
   },
   {
    "duration": 52,
    "start_time": "2022-03-11T19:33:35.647Z"
   },
   {
    "duration": 61,
    "start_time": "2022-03-11T19:33:35.700Z"
   },
   {
    "duration": 237,
    "start_time": "2022-03-11T19:33:35.762Z"
   },
   {
    "duration": 10800365,
    "start_time": "2022-03-11T16:33:35.636Z"
   },
   {
    "duration": 10800361,
    "start_time": "2022-03-11T16:33:35.641Z"
   },
   {
    "duration": 10800353,
    "start_time": "2022-03-11T16:33:35.650Z"
   },
   {
    "duration": 10800346,
    "start_time": "2022-03-11T16:33:35.657Z"
   },
   {
    "duration": 10800340,
    "start_time": "2022-03-11T16:33:35.664Z"
   },
   {
    "duration": 10800317,
    "start_time": "2022-03-11T16:33:35.688Z"
   },
   {
    "duration": 10800311,
    "start_time": "2022-03-11T16:33:35.695Z"
   },
   {
    "duration": 10800305,
    "start_time": "2022-03-11T16:33:35.701Z"
   },
   {
    "duration": 10800300,
    "start_time": "2022-03-11T16:33:35.707Z"
   },
   {
    "duration": 10800297,
    "start_time": "2022-03-11T16:33:35.711Z"
   },
   {
    "duration": 10800293,
    "start_time": "2022-03-11T16:33:35.716Z"
   },
   {
    "duration": 10800289,
    "start_time": "2022-03-11T16:33:35.721Z"
   },
   {
    "duration": 10800284,
    "start_time": "2022-03-11T16:33:35.727Z"
   },
   {
    "duration": 10800278,
    "start_time": "2022-03-11T16:33:35.734Z"
   },
   {
    "duration": 10800273,
    "start_time": "2022-03-11T16:33:35.740Z"
   },
   {
    "duration": 10800269,
    "start_time": "2022-03-11T16:33:35.745Z"
   },
   {
    "duration": 10800264,
    "start_time": "2022-03-11T16:33:35.751Z"
   },
   {
    "duration": 10800260,
    "start_time": "2022-03-11T16:33:35.756Z"
   },
   {
    "duration": 10800256,
    "start_time": "2022-03-11T16:33:35.761Z"
   },
   {
    "duration": 10800251,
    "start_time": "2022-03-11T16:33:35.767Z"
   },
   {
    "duration": 10800246,
    "start_time": "2022-03-11T16:33:35.773Z"
   },
   {
    "duration": 10800242,
    "start_time": "2022-03-11T16:33:35.778Z"
   },
   {
    "duration": 10800236,
    "start_time": "2022-03-11T16:33:35.785Z"
   },
   {
    "duration": 10800220,
    "start_time": "2022-03-11T16:33:35.802Z"
   },
   {
    "duration": 536,
    "start_time": "2022-03-11T19:34:03.500Z"
   },
   {
    "duration": 126,
    "start_time": "2022-03-11T19:34:04.038Z"
   },
   {
    "duration": 15,
    "start_time": "2022-03-11T19:34:04.166Z"
   },
   {
    "duration": 24,
    "start_time": "2022-03-11T19:34:04.183Z"
   },
   {
    "duration": 4,
    "start_time": "2022-03-11T19:34:04.209Z"
   },
   {
    "duration": 30,
    "start_time": "2022-03-11T19:34:04.214Z"
   },
   {
    "duration": 5,
    "start_time": "2022-03-11T19:34:04.245Z"
   },
   {
    "duration": 22,
    "start_time": "2022-03-11T19:34:04.252Z"
   },
   {
    "duration": 15,
    "start_time": "2022-03-11T19:34:04.276Z"
   },
   {
    "duration": 46,
    "start_time": "2022-03-11T19:34:04.293Z"
   },
   {
    "duration": 58,
    "start_time": "2022-03-11T19:34:04.341Z"
   },
   {
    "duration": 69,
    "start_time": "2022-03-11T19:34:04.401Z"
   },
   {
    "duration": 48,
    "start_time": "2022-03-11T19:34:04.472Z"
   },
   {
    "duration": 263,
    "start_time": "2022-03-11T19:34:04.532Z"
   },
   {
    "duration": 10800214,
    "start_time": "2022-03-11T16:34:04.582Z"
   },
   {
    "duration": 10800211,
    "start_time": "2022-03-11T16:34:04.586Z"
   },
   {
    "duration": 10800208,
    "start_time": "2022-03-11T16:34:04.590Z"
   },
   {
    "duration": 10800206,
    "start_time": "2022-03-11T16:34:04.593Z"
   },
   {
    "duration": 10800201,
    "start_time": "2022-03-11T16:34:04.599Z"
   },
   {
    "duration": 10800199,
    "start_time": "2022-03-11T16:34:04.602Z"
   },
   {
    "duration": 10800198,
    "start_time": "2022-03-11T16:34:04.604Z"
   },
   {
    "duration": 10800196,
    "start_time": "2022-03-11T16:34:04.607Z"
   },
   {
    "duration": 10800195,
    "start_time": "2022-03-11T16:34:04.609Z"
   },
   {
    "duration": 10800191,
    "start_time": "2022-03-11T16:34:04.614Z"
   },
   {
    "duration": 10800188,
    "start_time": "2022-03-11T16:34:04.618Z"
   },
   {
    "duration": 10800185,
    "start_time": "2022-03-11T16:34:04.621Z"
   },
   {
    "duration": 10800184,
    "start_time": "2022-03-11T16:34:04.623Z"
   },
   {
    "duration": 10800182,
    "start_time": "2022-03-11T16:34:04.626Z"
   },
   {
    "duration": 10800177,
    "start_time": "2022-03-11T16:34:04.632Z"
   },
   {
    "duration": 10800176,
    "start_time": "2022-03-11T16:34:04.634Z"
   },
   {
    "duration": 10800174,
    "start_time": "2022-03-11T16:34:04.637Z"
   },
   {
    "duration": 10800172,
    "start_time": "2022-03-11T16:34:04.640Z"
   },
   {
    "duration": 10800169,
    "start_time": "2022-03-11T16:34:04.644Z"
   },
   {
    "duration": 10800166,
    "start_time": "2022-03-11T16:34:04.647Z"
   },
   {
    "duration": 10800163,
    "start_time": "2022-03-11T16:34:04.651Z"
   },
   {
    "duration": 10800162,
    "start_time": "2022-03-11T16:34:04.653Z"
   },
   {
    "duration": 10800157,
    "start_time": "2022-03-11T16:34:04.659Z"
   },
   {
    "duration": 10800154,
    "start_time": "2022-03-11T16:34:04.663Z"
   },
   {
    "duration": 512,
    "start_time": "2022-03-11T19:34:59.885Z"
   },
   {
    "duration": 130,
    "start_time": "2022-03-11T19:35:00.399Z"
   },
   {
    "duration": 15,
    "start_time": "2022-03-11T19:35:00.533Z"
   },
   {
    "duration": 26,
    "start_time": "2022-03-11T19:35:00.550Z"
   },
   {
    "duration": 14,
    "start_time": "2022-03-11T19:35:00.578Z"
   },
   {
    "duration": 19,
    "start_time": "2022-03-11T19:35:00.594Z"
   },
   {
    "duration": 17,
    "start_time": "2022-03-11T19:35:00.615Z"
   },
   {
    "duration": 29,
    "start_time": "2022-03-11T19:35:00.634Z"
   },
   {
    "duration": 18,
    "start_time": "2022-03-11T19:35:00.665Z"
   },
   {
    "duration": 21,
    "start_time": "2022-03-11T19:35:00.685Z"
   },
   {
    "duration": 70,
    "start_time": "2022-03-11T19:35:00.708Z"
   },
   {
    "duration": 67,
    "start_time": "2022-03-11T19:35:00.779Z"
   },
   {
    "duration": 53,
    "start_time": "2022-03-11T19:35:00.847Z"
   },
   {
    "duration": 288,
    "start_time": "2022-03-11T19:35:00.901Z"
   },
   {
    "duration": 10800376,
    "start_time": "2022-03-11T16:35:00.815Z"
   },
   {
    "duration": 10800367,
    "start_time": "2022-03-11T16:35:00.825Z"
   },
   {
    "duration": 10800362,
    "start_time": "2022-03-11T16:35:00.831Z"
   },
   {
    "duration": 10800355,
    "start_time": "2022-03-11T16:35:00.839Z"
   },
   {
    "duration": 10800316,
    "start_time": "2022-03-11T16:35:00.879Z"
   },
   {
    "duration": 10800309,
    "start_time": "2022-03-11T16:35:00.887Z"
   },
   {
    "duration": 10800304,
    "start_time": "2022-03-11T16:35:00.893Z"
   },
   {
    "duration": 10800296,
    "start_time": "2022-03-11T16:35:00.902Z"
   },
   {
    "duration": 10800291,
    "start_time": "2022-03-11T16:35:00.908Z"
   },
   {
    "duration": 10800282,
    "start_time": "2022-03-11T16:35:00.918Z"
   },
   {
    "duration": 10800279,
    "start_time": "2022-03-11T16:35:00.922Z"
   },
   {
    "duration": 10800275,
    "start_time": "2022-03-11T16:35:00.927Z"
   },
   {
    "duration": 10800272,
    "start_time": "2022-03-11T16:35:00.931Z"
   },
   {
    "duration": 10800271,
    "start_time": "2022-03-11T16:35:00.934Z"
   },
   {
    "duration": 10800269,
    "start_time": "2022-03-11T16:35:00.937Z"
   },
   {
    "duration": 10800268,
    "start_time": "2022-03-11T16:35:00.939Z"
   },
   {
    "duration": 10800266,
    "start_time": "2022-03-11T16:35:00.942Z"
   },
   {
    "duration": 10800263,
    "start_time": "2022-03-11T16:35:00.946Z"
   },
   {
    "duration": 10800261,
    "start_time": "2022-03-11T16:35:00.949Z"
   },
   {
    "duration": 10800257,
    "start_time": "2022-03-11T16:35:00.953Z"
   },
   {
    "duration": 10800245,
    "start_time": "2022-03-11T16:35:00.967Z"
   },
   {
    "duration": 10800239,
    "start_time": "2022-03-11T16:35:00.973Z"
   },
   {
    "duration": 10800230,
    "start_time": "2022-03-11T16:35:00.983Z"
   },
   {
    "duration": 10800228,
    "start_time": "2022-03-11T16:35:00.986Z"
   },
   {
    "duration": 510,
    "start_time": "2022-03-11T19:35:27.169Z"
   },
   {
    "duration": 131,
    "start_time": "2022-03-11T19:35:27.681Z"
   },
   {
    "duration": 20,
    "start_time": "2022-03-11T19:35:27.814Z"
   },
   {
    "duration": 24,
    "start_time": "2022-03-11T19:35:27.836Z"
   },
   {
    "duration": 4,
    "start_time": "2022-03-11T19:35:27.862Z"
   },
   {
    "duration": 14,
    "start_time": "2022-03-11T19:35:27.867Z"
   },
   {
    "duration": 8,
    "start_time": "2022-03-11T19:35:27.883Z"
   },
   {
    "duration": 41,
    "start_time": "2022-03-11T19:35:27.893Z"
   },
   {
    "duration": 15,
    "start_time": "2022-03-11T19:35:27.936Z"
   },
   {
    "duration": 22,
    "start_time": "2022-03-11T19:35:27.953Z"
   },
   {
    "duration": 82,
    "start_time": "2022-03-11T19:35:27.977Z"
   },
   {
    "duration": 56,
    "start_time": "2022-03-11T19:35:28.061Z"
   },
   {
    "duration": 60,
    "start_time": "2022-03-11T19:35:28.119Z"
   },
   {
    "duration": 286,
    "start_time": "2022-03-11T19:35:28.181Z"
   },
   {
    "duration": 10800377,
    "start_time": "2022-03-11T16:35:28.092Z"
   },
   {
    "duration": 10800373,
    "start_time": "2022-03-11T16:35:28.098Z"
   },
   {
    "duration": 10800370,
    "start_time": "2022-03-11T16:35:28.102Z"
   },
   {
    "duration": 10800367,
    "start_time": "2022-03-11T16:35:28.107Z"
   },
   {
    "duration": 10800364,
    "start_time": "2022-03-11T16:35:28.111Z"
   },
   {
    "duration": 10800362,
    "start_time": "2022-03-11T16:35:28.115Z"
   },
   {
    "duration": 10800359,
    "start_time": "2022-03-11T16:35:28.119Z"
   },
   {
    "duration": 10800342,
    "start_time": "2022-03-11T16:35:28.137Z"
   },
   {
    "duration": 10800338,
    "start_time": "2022-03-11T16:35:28.143Z"
   },
   {
    "duration": 10800336,
    "start_time": "2022-03-11T16:35:28.146Z"
   },
   {
    "duration": 10800335,
    "start_time": "2022-03-11T16:35:28.149Z"
   },
   {
    "duration": 10800333,
    "start_time": "2022-03-11T16:35:28.152Z"
   },
   {
    "duration": 10800331,
    "start_time": "2022-03-11T16:35:28.155Z"
   },
   {
    "duration": 10800330,
    "start_time": "2022-03-11T16:35:28.158Z"
   },
   {
    "duration": 10800327,
    "start_time": "2022-03-11T16:35:28.162Z"
   },
   {
    "duration": 10800326,
    "start_time": "2022-03-11T16:35:28.165Z"
   },
   {
    "duration": 10800324,
    "start_time": "2022-03-11T16:35:28.168Z"
   },
   {
    "duration": 10800323,
    "start_time": "2022-03-11T16:35:28.171Z"
   },
   {
    "duration": 10800319,
    "start_time": "2022-03-11T16:35:28.176Z"
   },
   {
    "duration": 10800317,
    "start_time": "2022-03-11T16:35:28.179Z"
   },
   {
    "duration": 10800317,
    "start_time": "2022-03-11T16:35:28.181Z"
   },
   {
    "duration": 10800314,
    "start_time": "2022-03-11T16:35:28.185Z"
   },
   {
    "duration": 10800313,
    "start_time": "2022-03-11T16:35:28.188Z"
   },
   {
    "duration": 10800309,
    "start_time": "2022-03-11T16:35:28.193Z"
   },
   {
    "duration": 563,
    "start_time": "2022-03-11T19:36:24.922Z"
   },
   {
    "duration": 126,
    "start_time": "2022-03-11T19:36:25.487Z"
   },
   {
    "duration": 21,
    "start_time": "2022-03-11T19:36:25.615Z"
   },
   {
    "duration": 23,
    "start_time": "2022-03-11T19:36:25.638Z"
   },
   {
    "duration": 4,
    "start_time": "2022-03-11T19:36:25.663Z"
   },
   {
    "duration": 14,
    "start_time": "2022-03-11T19:36:25.669Z"
   },
   {
    "duration": 6,
    "start_time": "2022-03-11T19:36:25.685Z"
   },
   {
    "duration": 50,
    "start_time": "2022-03-11T19:36:25.694Z"
   },
   {
    "duration": 17,
    "start_time": "2022-03-11T19:36:25.745Z"
   },
   {
    "duration": 20,
    "start_time": "2022-03-11T19:36:25.764Z"
   },
   {
    "duration": 76,
    "start_time": "2022-03-11T19:36:25.785Z"
   },
   {
    "duration": 56,
    "start_time": "2022-03-11T19:36:25.862Z"
   },
   {
    "duration": 60,
    "start_time": "2022-03-11T19:36:25.919Z"
   },
   {
    "duration": 344,
    "start_time": "2022-03-11T19:36:25.980Z"
   },
   {
    "duration": 10800356,
    "start_time": "2022-03-11T16:36:25.970Z"
   },
   {
    "duration": 10800334,
    "start_time": "2022-03-11T16:36:25.993Z"
   },
   {
    "duration": 10800322,
    "start_time": "2022-03-11T16:36:26.006Z"
   },
   {
    "duration": 10800317,
    "start_time": "2022-03-11T16:36:26.012Z"
   },
   {
    "duration": 10800313,
    "start_time": "2022-03-11T16:36:26.017Z"
   },
   {
    "duration": 10800303,
    "start_time": "2022-03-11T16:36:26.028Z"
   },
   {
    "duration": 10800295,
    "start_time": "2022-03-11T16:36:26.036Z"
   },
   {
    "duration": 10800285,
    "start_time": "2022-03-11T16:36:26.047Z"
   },
   {
    "duration": 10800276,
    "start_time": "2022-03-11T16:36:26.057Z"
   },
   {
    "duration": 10800269,
    "start_time": "2022-03-11T16:36:26.065Z"
   },
   {
    "duration": 10800265,
    "start_time": "2022-03-11T16:36:26.070Z"
   },
   {
    "duration": 10800258,
    "start_time": "2022-03-11T16:36:26.078Z"
   },
   {
    "duration": 10800242,
    "start_time": "2022-03-11T16:36:26.095Z"
   },
   {
    "duration": 10800237,
    "start_time": "2022-03-11T16:36:26.101Z"
   },
   {
    "duration": 10800232,
    "start_time": "2022-03-11T16:36:26.107Z"
   },
   {
    "duration": 10800228,
    "start_time": "2022-03-11T16:36:26.112Z"
   },
   {
    "duration": 10800227,
    "start_time": "2022-03-11T16:36:26.114Z"
   },
   {
    "duration": 10800224,
    "start_time": "2022-03-11T16:36:26.117Z"
   },
   {
    "duration": 10800223,
    "start_time": "2022-03-11T16:36:26.119Z"
   },
   {
    "duration": 10800221,
    "start_time": "2022-03-11T16:36:26.122Z"
   },
   {
    "duration": 10800219,
    "start_time": "2022-03-11T16:36:26.125Z"
   },
   {
    "duration": 10800217,
    "start_time": "2022-03-11T16:36:26.128Z"
   },
   {
    "duration": 10800216,
    "start_time": "2022-03-11T16:36:26.130Z"
   },
   {
    "duration": 10800214,
    "start_time": "2022-03-11T16:36:26.133Z"
   },
   {
    "duration": 890,
    "start_time": "2022-03-12T18:30:15.272Z"
   },
   {
    "duration": 207,
    "start_time": "2022-03-12T18:30:16.164Z"
   },
   {
    "duration": 30,
    "start_time": "2022-03-12T18:30:16.374Z"
   },
   {
    "duration": 39,
    "start_time": "2022-03-12T18:30:16.408Z"
   },
   {
    "duration": 8,
    "start_time": "2022-03-12T18:30:16.474Z"
   },
   {
    "duration": 27,
    "start_time": "2022-03-12T18:30:16.486Z"
   },
   {
    "duration": 9,
    "start_time": "2022-03-12T18:30:16.516Z"
   },
   {
    "duration": 59,
    "start_time": "2022-03-12T18:30:16.529Z"
   },
   {
    "duration": 27,
    "start_time": "2022-03-12T18:30:16.593Z"
   },
   {
    "duration": 62,
    "start_time": "2022-03-12T18:30:16.622Z"
   },
   {
    "duration": 115,
    "start_time": "2022-03-12T18:30:16.686Z"
   },
   {
    "duration": 129,
    "start_time": "2022-03-12T18:30:16.803Z"
   },
   {
    "duration": 402,
    "start_time": "2022-03-12T18:30:16.934Z"
   },
   {
    "duration": 10800307,
    "start_time": "2022-03-12T15:30:17.033Z"
   },
   {
    "duration": 10800300,
    "start_time": "2022-03-12T15:30:17.041Z"
   },
   {
    "duration": 10800293,
    "start_time": "2022-03-12T15:30:17.051Z"
   },
   {
    "duration": 10800286,
    "start_time": "2022-03-12T15:30:17.060Z"
   },
   {
    "duration": 10800276,
    "start_time": "2022-03-12T15:30:17.072Z"
   },
   {
    "duration": 10800266,
    "start_time": "2022-03-12T15:30:17.084Z"
   },
   {
    "duration": 10800261,
    "start_time": "2022-03-12T15:30:17.091Z"
   },
   {
    "duration": 10800238,
    "start_time": "2022-03-12T15:30:17.116Z"
   },
   {
    "duration": 10800232,
    "start_time": "2022-03-12T15:30:17.124Z"
   },
   {
    "duration": 10800227,
    "start_time": "2022-03-12T15:30:17.131Z"
   },
   {
    "duration": 10800222,
    "start_time": "2022-03-12T15:30:17.138Z"
   },
   {
    "duration": 10800217,
    "start_time": "2022-03-12T15:30:17.145Z"
   },
   {
    "duration": 10800212,
    "start_time": "2022-03-12T15:30:17.152Z"
   },
   {
    "duration": 10800205,
    "start_time": "2022-03-12T15:30:17.161Z"
   },
   {
    "duration": 10800201,
    "start_time": "2022-03-12T15:30:17.167Z"
   },
   {
    "duration": 10800196,
    "start_time": "2022-03-12T15:30:17.174Z"
   },
   {
    "duration": 10800190,
    "start_time": "2022-03-12T15:30:17.182Z"
   },
   {
    "duration": 10800187,
    "start_time": "2022-03-12T15:30:17.188Z"
   },
   {
    "duration": 10800181,
    "start_time": "2022-03-12T15:30:17.196Z"
   },
   {
    "duration": 10800176,
    "start_time": "2022-03-12T15:30:17.203Z"
   },
   {
    "duration": 10800159,
    "start_time": "2022-03-12T15:30:17.222Z"
   },
   {
    "duration": 10800154,
    "start_time": "2022-03-12T15:30:17.229Z"
   },
   {
    "duration": 10800149,
    "start_time": "2022-03-12T15:30:17.236Z"
   },
   {
    "duration": 10800145,
    "start_time": "2022-03-12T15:30:17.242Z"
   },
   {
    "duration": 10800138,
    "start_time": "2022-03-12T15:30:17.251Z"
   },
   {
    "duration": 874,
    "start_time": "2022-03-12T18:31:12.588Z"
   },
   {
    "duration": 200,
    "start_time": "2022-03-12T18:31:13.466Z"
   },
   {
    "duration": 27,
    "start_time": "2022-03-12T18:31:13.670Z"
   },
   {
    "duration": 37,
    "start_time": "2022-03-12T18:31:13.699Z"
   },
   {
    "duration": 36,
    "start_time": "2022-03-12T18:31:13.739Z"
   },
   {
    "duration": 19,
    "start_time": "2022-03-12T18:31:13.777Z"
   },
   {
    "duration": 11,
    "start_time": "2022-03-12T18:31:13.798Z"
   },
   {
    "duration": 33,
    "start_time": "2022-03-12T18:31:13.813Z"
   },
   {
    "duration": 24,
    "start_time": "2022-03-12T18:31:13.874Z"
   },
   {
    "duration": 36,
    "start_time": "2022-03-12T18:31:13.901Z"
   },
   {
    "duration": 134,
    "start_time": "2022-03-12T18:31:13.940Z"
   },
   {
    "duration": 136,
    "start_time": "2022-03-12T18:31:14.077Z"
   },
   {
    "duration": 98,
    "start_time": "2022-03-12T18:31:14.215Z"
   },
   {
    "duration": 424,
    "start_time": "2022-03-12T18:31:14.315Z"
   },
   {
    "duration": 10800325,
    "start_time": "2022-03-12T15:31:14.418Z"
   },
   {
    "duration": 10800318,
    "start_time": "2022-03-12T15:31:14.426Z"
   },
   {
    "duration": 10800305,
    "start_time": "2022-03-12T15:31:14.441Z"
   },
   {
    "duration": 10800291,
    "start_time": "2022-03-12T15:31:14.457Z"
   },
   {
    "duration": 10800287,
    "start_time": "2022-03-12T15:31:14.463Z"
   },
   {
    "duration": 10800281,
    "start_time": "2022-03-12T15:31:14.470Z"
   },
   {
    "duration": 10800276,
    "start_time": "2022-03-12T15:31:14.478Z"
   },
   {
    "duration": 10800269,
    "start_time": "2022-03-12T15:31:14.488Z"
   },
   {
    "duration": 10800262,
    "start_time": "2022-03-12T15:31:14.497Z"
   },
   {
    "duration": 10800257,
    "start_time": "2022-03-12T15:31:14.504Z"
   },
   {
    "duration": 10800252,
    "start_time": "2022-03-12T15:31:14.511Z"
   },
   {
    "duration": 10800250,
    "start_time": "2022-03-12T15:31:14.515Z"
   },
   {
    "duration": 10800246,
    "start_time": "2022-03-12T15:31:14.520Z"
   },
   {
    "duration": 10800240,
    "start_time": "2022-03-12T15:31:14.528Z"
   },
   {
    "duration": 10800233,
    "start_time": "2022-03-12T15:31:14.536Z"
   },
   {
    "duration": 10800226,
    "start_time": "2022-03-12T15:31:14.545Z"
   },
   {
    "duration": 10800219,
    "start_time": "2022-03-12T15:31:14.553Z"
   },
   {
    "duration": 10800205,
    "start_time": "2022-03-12T15:31:14.569Z"
   },
   {
    "duration": 10800197,
    "start_time": "2022-03-12T15:31:14.578Z"
   },
   {
    "duration": 10800193,
    "start_time": "2022-03-12T15:31:14.584Z"
   },
   {
    "duration": 10800186,
    "start_time": "2022-03-12T15:31:14.592Z"
   },
   {
    "duration": 10800181,
    "start_time": "2022-03-12T15:31:14.598Z"
   },
   {
    "duration": 10800175,
    "start_time": "2022-03-12T15:31:14.605Z"
   },
   {
    "duration": 10800170,
    "start_time": "2022-03-12T15:31:14.612Z"
   },
   {
    "duration": 761,
    "start_time": "2022-03-12T18:31:53.405Z"
   },
   {
    "duration": 191,
    "start_time": "2022-03-12T18:31:54.169Z"
   },
   {
    "duration": 26,
    "start_time": "2022-03-12T18:31:54.363Z"
   },
   {
    "duration": 37,
    "start_time": "2022-03-12T18:31:54.392Z"
   },
   {
    "duration": 7,
    "start_time": "2022-03-12T18:31:54.431Z"
   },
   {
    "duration": 20,
    "start_time": "2022-03-12T18:31:54.473Z"
   },
   {
    "duration": 8,
    "start_time": "2022-03-12T18:31:54.496Z"
   },
   {
    "duration": 66,
    "start_time": "2022-03-12T18:31:54.509Z"
   },
   {
    "duration": 26,
    "start_time": "2022-03-12T18:31:54.579Z"
   },
   {
    "duration": 32,
    "start_time": "2022-03-12T18:31:54.608Z"
   },
   {
    "duration": 131,
    "start_time": "2022-03-12T18:31:54.642Z"
   },
   {
    "duration": 108,
    "start_time": "2022-03-12T18:31:54.775Z"
   },
   {
    "duration": 98,
    "start_time": "2022-03-12T18:31:54.885Z"
   },
   {
    "duration": 531,
    "start_time": "2022-03-12T18:31:54.986Z"
   },
   {
    "duration": 10800307,
    "start_time": "2022-03-12T15:31:55.215Z"
   },
   {
    "duration": 10800296,
    "start_time": "2022-03-12T15:31:55.228Z"
   },
   {
    "duration": 10800276,
    "start_time": "2022-03-12T15:31:55.250Z"
   },
   {
    "duration": 10800239,
    "start_time": "2022-03-12T15:31:55.289Z"
   },
   {
    "duration": 10800237,
    "start_time": "2022-03-12T15:31:55.294Z"
   },
   {
    "duration": 10800235,
    "start_time": "2022-03-12T15:31:55.298Z"
   },
   {
    "duration": 10800227,
    "start_time": "2022-03-12T15:31:55.308Z"
   },
   {
    "duration": 10800220,
    "start_time": "2022-03-12T15:31:55.317Z"
   },
   {
    "duration": 10800207,
    "start_time": "2022-03-12T15:31:55.332Z"
   },
   {
    "duration": 10800200,
    "start_time": "2022-03-12T15:31:55.341Z"
   },
   {
    "duration": 10800179,
    "start_time": "2022-03-12T15:31:55.365Z"
   },
   {
    "duration": 10800171,
    "start_time": "2022-03-12T15:31:55.375Z"
   },
   {
    "duration": 10800168,
    "start_time": "2022-03-12T15:31:55.380Z"
   },
   {
    "duration": 10800167,
    "start_time": "2022-03-12T15:31:55.384Z"
   },
   {
    "duration": 10800163,
    "start_time": "2022-03-12T15:31:55.390Z"
   },
   {
    "duration": 10800159,
    "start_time": "2022-03-12T15:31:55.396Z"
   },
   {
    "duration": 10800158,
    "start_time": "2022-03-12T15:31:55.400Z"
   },
   {
    "duration": 10800166,
    "start_time": "2022-03-12T15:31:55.407Z"
   },
   {
    "duration": 10800161,
    "start_time": "2022-03-12T15:31:55.414Z"
   },
   {
    "duration": 10800158,
    "start_time": "2022-03-12T15:31:55.419Z"
   },
   {
    "duration": 10800155,
    "start_time": "2022-03-12T15:31:55.424Z"
   },
   {
    "duration": 10800151,
    "start_time": "2022-03-12T15:31:55.430Z"
   },
   {
    "duration": 10800146,
    "start_time": "2022-03-12T15:31:55.438Z"
   },
   {
    "duration": 10800144,
    "start_time": "2022-03-12T15:31:55.442Z"
   },
   {
    "duration": 3,
    "start_time": "2022-03-12T18:39:42.823Z"
   },
   {
    "duration": 210,
    "start_time": "2022-03-12T18:39:42.834Z"
   },
   {
    "duration": 18,
    "start_time": "2022-03-12T18:39:43.047Z"
   },
   {
    "duration": 35,
    "start_time": "2022-03-12T18:39:43.075Z"
   },
   {
    "duration": 6,
    "start_time": "2022-03-12T18:39:43.114Z"
   },
   {
    "duration": 56,
    "start_time": "2022-03-12T18:39:43.123Z"
   },
   {
    "duration": 11,
    "start_time": "2022-03-12T18:39:43.182Z"
   },
   {
    "duration": 35,
    "start_time": "2022-03-12T18:39:43.196Z"
   },
   {
    "duration": 51,
    "start_time": "2022-03-12T18:39:43.233Z"
   },
   {
    "duration": 31,
    "start_time": "2022-03-12T18:39:43.289Z"
   },
   {
    "duration": 114,
    "start_time": "2022-03-12T18:39:43.323Z"
   },
   {
    "duration": 4,
    "start_time": "2022-03-12T18:40:22.754Z"
   },
   {
    "duration": 220,
    "start_time": "2022-03-12T18:40:22.767Z"
   },
   {
    "duration": 21,
    "start_time": "2022-03-12T18:40:22.991Z"
   },
   {
    "duration": 71,
    "start_time": "2022-03-12T18:40:23.017Z"
   },
   {
    "duration": 7,
    "start_time": "2022-03-12T18:40:23.092Z"
   },
   {
    "duration": 15,
    "start_time": "2022-03-12T18:40:23.102Z"
   },
   {
    "duration": 6,
    "start_time": "2022-03-12T18:40:23.120Z"
   },
   {
    "duration": 90,
    "start_time": "2022-03-12T18:40:23.129Z"
   },
   {
    "duration": 55,
    "start_time": "2022-03-12T18:40:23.223Z"
   },
   {
    "duration": 53,
    "start_time": "2022-03-12T18:40:23.283Z"
   },
   {
    "duration": 157,
    "start_time": "2022-03-12T18:40:23.339Z"
   },
   {
    "duration": 160,
    "start_time": "2022-03-12T18:40:23.499Z"
   },
   {
    "duration": 82,
    "start_time": "2022-03-12T18:40:23.662Z"
   },
   {
    "duration": 4,
    "start_time": "2022-03-12T18:40:53.027Z"
   },
   {
    "duration": 224,
    "start_time": "2022-03-12T18:40:53.041Z"
   },
   {
    "duration": 17,
    "start_time": "2022-03-12T18:40:53.268Z"
   },
   {
    "duration": 41,
    "start_time": "2022-03-12T18:40:53.289Z"
   },
   {
    "duration": 6,
    "start_time": "2022-03-12T18:40:53.334Z"
   },
   {
    "duration": 40,
    "start_time": "2022-03-12T18:40:53.342Z"
   },
   {
    "duration": 5,
    "start_time": "2022-03-12T18:40:53.384Z"
   },
   {
    "duration": 36,
    "start_time": "2022-03-12T18:40:53.392Z"
   },
   {
    "duration": 63,
    "start_time": "2022-03-12T18:40:53.430Z"
   },
   {
    "duration": 33,
    "start_time": "2022-03-12T18:40:53.497Z"
   },
   {
    "duration": 130,
    "start_time": "2022-03-12T18:40:53.533Z"
   },
   {
    "duration": 125,
    "start_time": "2022-03-12T18:40:53.665Z"
   },
   {
    "duration": 100,
    "start_time": "2022-03-12T18:40:53.793Z"
   },
   {
    "duration": 819,
    "start_time": "2022-03-12T18:45:19.635Z"
   },
   {
    "duration": 207,
    "start_time": "2022-03-12T18:45:20.457Z"
   },
   {
    "duration": 26,
    "start_time": "2022-03-12T18:45:20.667Z"
   },
   {
    "duration": 34,
    "start_time": "2022-03-12T18:45:20.696Z"
   },
   {
    "duration": 6,
    "start_time": "2022-03-12T18:45:20.733Z"
   },
   {
    "duration": 39,
    "start_time": "2022-03-12T18:45:20.773Z"
   },
   {
    "duration": 13,
    "start_time": "2022-03-12T18:45:20.815Z"
   },
   {
    "duration": 40,
    "start_time": "2022-03-12T18:45:20.831Z"
   },
   {
    "duration": 32,
    "start_time": "2022-03-12T18:45:20.875Z"
   },
   {
    "duration": 31,
    "start_time": "2022-03-12T18:45:20.910Z"
   },
   {
    "duration": 109,
    "start_time": "2022-03-12T18:45:20.944Z"
   },
   {
    "duration": 126,
    "start_time": "2022-03-12T18:45:21.055Z"
   },
   {
    "duration": 96,
    "start_time": "2022-03-12T18:45:21.183Z"
   },
   {
    "duration": 517,
    "start_time": "2022-03-12T18:45:21.281Z"
   },
   {
    "duration": 10800345,
    "start_time": "2022-03-12T15:45:21.458Z"
   },
   {
    "duration": 10800338,
    "start_time": "2022-03-12T15:45:21.467Z"
   },
   {
    "duration": 10800332,
    "start_time": "2022-03-12T15:45:21.476Z"
   },
   {
    "duration": 10800311,
    "start_time": "2022-03-12T15:45:21.499Z"
   },
   {
    "duration": 10800307,
    "start_time": "2022-03-12T15:45:21.505Z"
   },
   {
    "duration": 10800301,
    "start_time": "2022-03-12T15:45:21.514Z"
   },
   {
    "duration": 10800296,
    "start_time": "2022-03-12T15:45:21.521Z"
   },
   {
    "duration": 10800288,
    "start_time": "2022-03-12T15:45:21.531Z"
   },
   {
    "duration": 10800284,
    "start_time": "2022-03-12T15:45:21.538Z"
   },
   {
    "duration": 10800279,
    "start_time": "2022-03-12T15:45:21.544Z"
   },
   {
    "duration": 10800272,
    "start_time": "2022-03-12T15:45:21.553Z"
   },
   {
    "duration": 10800267,
    "start_time": "2022-03-12T15:45:21.560Z"
   },
   {
    "duration": 10800262,
    "start_time": "2022-03-12T15:45:21.567Z"
   },
   {
    "duration": 10800257,
    "start_time": "2022-03-12T15:45:21.574Z"
   },
   {
    "duration": 10800249,
    "start_time": "2022-03-12T15:45:21.583Z"
   },
   {
    "duration": 10800232,
    "start_time": "2022-03-12T15:45:21.603Z"
   },
   {
    "duration": 10800227,
    "start_time": "2022-03-12T15:45:21.609Z"
   },
   {
    "duration": 10800220,
    "start_time": "2022-03-12T15:45:21.618Z"
   },
   {
    "duration": 10800216,
    "start_time": "2022-03-12T15:45:21.624Z"
   },
   {
    "duration": 10800208,
    "start_time": "2022-03-12T15:45:21.633Z"
   },
   {
    "duration": 10800204,
    "start_time": "2022-03-12T15:45:21.639Z"
   },
   {
    "duration": 10800225,
    "start_time": "2022-03-12T15:45:21.648Z"
   },
   {
    "duration": 10800222,
    "start_time": "2022-03-12T15:45:21.654Z"
   },
   {
    "duration": 10800215,
    "start_time": "2022-03-12T15:45:21.663Z"
   },
   {
    "duration": 1116,
    "start_time": "2022-03-12T18:48:46.179Z"
   },
   {
    "duration": 192,
    "start_time": "2022-03-12T18:48:47.298Z"
   },
   {
    "duration": 36,
    "start_time": "2022-03-12T18:48:47.494Z"
   },
   {
    "duration": 55,
    "start_time": "2022-03-12T18:48:47.533Z"
   },
   {
    "duration": 7,
    "start_time": "2022-03-12T18:48:47.590Z"
   },
   {
    "duration": 21,
    "start_time": "2022-03-12T18:48:47.599Z"
   },
   {
    "duration": 9,
    "start_time": "2022-03-12T18:48:47.622Z"
   },
   {
    "duration": 62,
    "start_time": "2022-03-12T18:48:47.635Z"
   },
   {
    "duration": 22,
    "start_time": "2022-03-12T18:48:47.700Z"
   },
   {
    "duration": 53,
    "start_time": "2022-03-12T18:48:47.725Z"
   },
   {
    "duration": 103,
    "start_time": "2022-03-12T18:48:47.782Z"
   },
   {
    "duration": 104,
    "start_time": "2022-03-12T18:48:47.888Z"
   },
   {
    "duration": 97,
    "start_time": "2022-03-12T18:48:47.995Z"
   },
   {
    "duration": 366,
    "start_time": "2022-03-12T18:48:48.095Z"
   },
   {
    "duration": 10800342,
    "start_time": "2022-03-12T15:48:48.122Z"
   },
   {
    "duration": 10800337,
    "start_time": "2022-03-12T15:48:48.128Z"
   },
   {
    "duration": 10800331,
    "start_time": "2022-03-12T15:48:48.136Z"
   },
   {
    "duration": 10800325,
    "start_time": "2022-03-12T15:48:48.143Z"
   },
   {
    "duration": 10800317,
    "start_time": "2022-03-12T15:48:48.152Z"
   },
   {
    "duration": 10800302,
    "start_time": "2022-03-12T15:48:48.169Z"
   },
   {
    "duration": 10800296,
    "start_time": "2022-03-12T15:48:48.176Z"
   },
   {
    "duration": 10800291,
    "start_time": "2022-03-12T15:48:48.183Z"
   },
   {
    "duration": 10800286,
    "start_time": "2022-03-12T15:48:48.189Z"
   },
   {
    "duration": 10800282,
    "start_time": "2022-03-12T15:48:48.195Z"
   },
   {
    "duration": 10800274,
    "start_time": "2022-03-12T15:48:48.204Z"
   },
   {
    "duration": 10800271,
    "start_time": "2022-03-12T15:48:48.209Z"
   },
   {
    "duration": 10800262,
    "start_time": "2022-03-12T15:48:48.219Z"
   },
   {
    "duration": 10800257,
    "start_time": "2022-03-12T15:48:48.225Z"
   },
   {
    "duration": 10800252,
    "start_time": "2022-03-12T15:48:48.232Z"
   },
   {
    "duration": 10800246,
    "start_time": "2022-03-12T15:48:48.240Z"
   },
   {
    "duration": 10800240,
    "start_time": "2022-03-12T15:48:48.247Z"
   },
   {
    "duration": 10800235,
    "start_time": "2022-03-12T15:48:48.254Z"
   },
   {
    "duration": 10800229,
    "start_time": "2022-03-12T15:48:48.261Z"
   },
   {
    "duration": 10800212,
    "start_time": "2022-03-12T15:48:48.280Z"
   },
   {
    "duration": 10800206,
    "start_time": "2022-03-12T15:48:48.287Z"
   },
   {
    "duration": 10800201,
    "start_time": "2022-03-12T15:48:48.294Z"
   },
   {
    "duration": 10800192,
    "start_time": "2022-03-12T15:48:48.304Z"
   },
   {
    "duration": 10800189,
    "start_time": "2022-03-12T15:48:48.309Z"
   },
   {
    "duration": 788,
    "start_time": "2022-03-12T18:50:57.706Z"
   },
   {
    "duration": 194,
    "start_time": "2022-03-12T18:50:58.497Z"
   },
   {
    "duration": 26,
    "start_time": "2022-03-12T18:50:58.694Z"
   },
   {
    "duration": 54,
    "start_time": "2022-03-12T18:50:58.723Z"
   },
   {
    "duration": 6,
    "start_time": "2022-03-12T18:50:58.780Z"
   },
   {
    "duration": 37,
    "start_time": "2022-03-12T18:50:58.789Z"
   },
   {
    "duration": 26,
    "start_time": "2022-03-12T18:50:58.829Z"
   },
   {
    "duration": 50,
    "start_time": "2022-03-12T18:50:58.859Z"
   },
   {
    "duration": 30,
    "start_time": "2022-03-12T18:50:58.912Z"
   },
   {
    "duration": 38,
    "start_time": "2022-03-12T18:50:58.944Z"
   },
   {
    "duration": 109,
    "start_time": "2022-03-12T18:50:58.984Z"
   },
   {
    "duration": 101,
    "start_time": "2022-03-12T18:50:59.095Z"
   },
   {
    "duration": 93,
    "start_time": "2022-03-12T18:50:59.198Z"
   },
   {
    "duration": 364,
    "start_time": "2022-03-12T18:50:59.293Z"
   },
   {
    "duration": 10800362,
    "start_time": "2022-03-12T15:50:59.298Z"
   },
   {
    "duration": 10800361,
    "start_time": "2022-03-12T15:50:59.301Z"
   },
   {
    "duration": 10800358,
    "start_time": "2022-03-12T15:50:59.306Z"
   },
   {
    "duration": 10800347,
    "start_time": "2022-03-12T15:50:59.318Z"
   },
   {
    "duration": 10800346,
    "start_time": "2022-03-12T15:50:59.321Z"
   },
   {
    "duration": 10800341,
    "start_time": "2022-03-12T15:50:59.327Z"
   },
   {
    "duration": 10800340,
    "start_time": "2022-03-12T15:50:59.330Z"
   },
   {
    "duration": 10800337,
    "start_time": "2022-03-12T15:50:59.334Z"
   },
   {
    "duration": 10800335,
    "start_time": "2022-03-12T15:50:59.338Z"
   },
   {
    "duration": 10800330,
    "start_time": "2022-03-12T15:50:59.344Z"
   },
   {
    "duration": 10800326,
    "start_time": "2022-03-12T15:50:59.349Z"
   },
   {
    "duration": 10800323,
    "start_time": "2022-03-12T15:50:59.354Z"
   },
   {
    "duration": 10800320,
    "start_time": "2022-03-12T15:50:59.358Z"
   },
   {
    "duration": 10800318,
    "start_time": "2022-03-12T15:50:59.362Z"
   },
   {
    "duration": 10800316,
    "start_time": "2022-03-12T15:50:59.365Z"
   },
   {
    "duration": 10800313,
    "start_time": "2022-03-12T15:50:59.369Z"
   },
   {
    "duration": 10800309,
    "start_time": "2022-03-12T15:50:59.374Z"
   },
   {
    "duration": 10800307,
    "start_time": "2022-03-12T15:50:59.378Z"
   },
   {
    "duration": 10800305,
    "start_time": "2022-03-12T15:50:59.381Z"
   },
   {
    "duration": 10800301,
    "start_time": "2022-03-12T15:50:59.386Z"
   },
   {
    "duration": 10800297,
    "start_time": "2022-03-12T15:50:59.391Z"
   },
   {
    "duration": 10800284,
    "start_time": "2022-03-12T15:50:59.405Z"
   },
   {
    "duration": 10800282,
    "start_time": "2022-03-12T15:50:59.409Z"
   },
   {
    "duration": 10800279,
    "start_time": "2022-03-12T15:50:59.413Z"
   },
   {
    "duration": 814,
    "start_time": "2022-03-12T18:56:55.240Z"
   },
   {
    "duration": 195,
    "start_time": "2022-03-12T18:56:56.057Z"
   },
   {
    "duration": 30,
    "start_time": "2022-03-12T18:56:56.255Z"
   },
   {
    "duration": 33,
    "start_time": "2022-03-12T18:56:56.288Z"
   },
   {
    "duration": 5,
    "start_time": "2022-03-12T18:56:56.324Z"
   },
   {
    "duration": 49,
    "start_time": "2022-03-12T18:56:56.331Z"
   },
   {
    "duration": 10,
    "start_time": "2022-03-12T18:56:56.383Z"
   },
   {
    "duration": 32,
    "start_time": "2022-03-12T18:56:56.397Z"
   },
   {
    "duration": 52,
    "start_time": "2022-03-12T18:56:56.433Z"
   },
   {
    "duration": 32,
    "start_time": "2022-03-12T18:56:56.487Z"
   },
   {
    "duration": 106,
    "start_time": "2022-03-12T18:56:56.521Z"
   },
   {
    "duration": 102,
    "start_time": "2022-03-12T18:56:56.629Z"
   },
   {
    "duration": 90,
    "start_time": "2022-03-12T18:56:56.734Z"
   },
   {
    "duration": 412,
    "start_time": "2022-03-12T18:56:56.826Z"
   },
   {
    "duration": 10800335,
    "start_time": "2022-03-12T15:56:56.906Z"
   },
   {
    "duration": 10800330,
    "start_time": "2022-03-12T15:56:56.913Z"
   },
   {
    "duration": 10800310,
    "start_time": "2022-03-12T15:56:56.935Z"
   },
   {
    "duration": 10800304,
    "start_time": "2022-03-12T15:56:56.942Z"
   },
   {
    "duration": 10800298,
    "start_time": "2022-03-12T15:56:56.950Z"
   },
   {
    "duration": 10800293,
    "start_time": "2022-03-12T15:56:56.956Z"
   },
   {
    "duration": 10800289,
    "start_time": "2022-03-12T15:56:56.962Z"
   },
   {
    "duration": 10800284,
    "start_time": "2022-03-12T15:56:56.968Z"
   },
   {
    "duration": 10800281,
    "start_time": "2022-03-12T15:56:56.972Z"
   },
   {
    "duration": 10800280,
    "start_time": "2022-03-12T15:56:56.975Z"
   },
   {
    "duration": 10800276,
    "start_time": "2022-03-12T15:56:56.980Z"
   },
   {
    "duration": 10800270,
    "start_time": "2022-03-12T15:56:56.987Z"
   },
   {
    "duration": 10800268,
    "start_time": "2022-03-12T15:56:56.990Z"
   },
   {
    "duration": 10800266,
    "start_time": "2022-03-12T15:56:56.994Z"
   },
   {
    "duration": 10800265,
    "start_time": "2022-03-12T15:56:56.997Z"
   },
   {
    "duration": 10800259,
    "start_time": "2022-03-12T15:56:57.004Z"
   },
   {
    "duration": 10800257,
    "start_time": "2022-03-12T15:56:57.007Z"
   },
   {
    "duration": 10800253,
    "start_time": "2022-03-12T15:56:57.013Z"
   },
   {
    "duration": 10800248,
    "start_time": "2022-03-12T15:56:57.019Z"
   },
   {
    "duration": 10800245,
    "start_time": "2022-03-12T15:56:57.024Z"
   },
   {
    "duration": 10800230,
    "start_time": "2022-03-12T15:56:57.040Z"
   },
   {
    "duration": 10800228,
    "start_time": "2022-03-12T15:56:57.044Z"
   },
   {
    "duration": 10800227,
    "start_time": "2022-03-12T15:56:57.047Z"
   },
   {
    "duration": 10800223,
    "start_time": "2022-03-12T15:56:57.052Z"
   },
   {
    "duration": 4,
    "start_time": "2022-03-12T18:57:42.850Z"
   },
   {
    "duration": 200,
    "start_time": "2022-03-12T18:57:42.857Z"
   },
   {
    "duration": 22,
    "start_time": "2022-03-12T18:57:43.061Z"
   },
   {
    "duration": 32,
    "start_time": "2022-03-12T18:57:43.086Z"
   },
   {
    "duration": 7,
    "start_time": "2022-03-12T18:57:43.122Z"
   },
   {
    "duration": 55,
    "start_time": "2022-03-12T18:57:43.131Z"
   },
   {
    "duration": 16,
    "start_time": "2022-03-12T18:57:43.190Z"
   },
   {
    "duration": 37,
    "start_time": "2022-03-12T18:57:43.210Z"
   },
   {
    "duration": 40,
    "start_time": "2022-03-12T18:57:43.250Z"
   },
   {
    "duration": 48,
    "start_time": "2022-03-12T18:57:43.292Z"
   },
   {
    "duration": 101,
    "start_time": "2022-03-12T18:57:43.342Z"
   },
   {
    "duration": 822,
    "start_time": "2022-03-12T18:59:33.324Z"
   },
   {
    "duration": 211,
    "start_time": "2022-03-12T18:59:34.149Z"
   },
   {
    "duration": 27,
    "start_time": "2022-03-12T18:59:34.363Z"
   },
   {
    "duration": 33,
    "start_time": "2022-03-12T18:59:34.393Z"
   },
   {
    "duration": 7,
    "start_time": "2022-03-12T18:59:34.430Z"
   },
   {
    "duration": 20,
    "start_time": "2022-03-12T18:59:34.472Z"
   },
   {
    "duration": 9,
    "start_time": "2022-03-12T18:59:34.495Z"
   },
   {
    "duration": 34,
    "start_time": "2022-03-12T18:59:34.509Z"
   },
   {
    "duration": 26,
    "start_time": "2022-03-12T18:59:34.576Z"
   },
   {
    "duration": 35,
    "start_time": "2022-03-12T18:59:34.604Z"
   },
   {
    "duration": 132,
    "start_time": "2022-03-12T18:59:34.642Z"
   },
   {
    "duration": 111,
    "start_time": "2022-03-12T18:59:34.778Z"
   },
   {
    "duration": 92,
    "start_time": "2022-03-12T18:59:34.892Z"
   },
   {
    "duration": 403,
    "start_time": "2022-03-12T18:59:34.987Z"
   },
   {
    "duration": 10800332,
    "start_time": "2022-03-12T15:59:35.061Z"
   },
   {
    "duration": 10800323,
    "start_time": "2022-03-12T15:59:35.072Z"
   },
   {
    "duration": 10800317,
    "start_time": "2022-03-12T15:59:35.079Z"
   },
   {
    "duration": 10800307,
    "start_time": "2022-03-12T15:59:35.090Z"
   },
   {
    "duration": 10800293,
    "start_time": "2022-03-12T15:59:35.106Z"
   },
   {
    "duration": 10800281,
    "start_time": "2022-03-12T15:59:35.119Z"
   },
   {
    "duration": 10800274,
    "start_time": "2022-03-12T15:59:35.128Z"
   },
   {
    "duration": 10800266,
    "start_time": "2022-03-12T15:59:35.138Z"
   },
   {
    "duration": 10800262,
    "start_time": "2022-03-12T15:59:35.144Z"
   },
   {
    "duration": 10800256,
    "start_time": "2022-03-12T15:59:35.152Z"
   },
   {
    "duration": 10800241,
    "start_time": "2022-03-12T15:59:35.168Z"
   },
   {
    "duration": 10800237,
    "start_time": "2022-03-12T15:59:35.174Z"
   },
   {
    "duration": 10800233,
    "start_time": "2022-03-12T15:59:35.179Z"
   },
   {
    "duration": 10800228,
    "start_time": "2022-03-12T15:59:35.186Z"
   },
   {
    "duration": 10800222,
    "start_time": "2022-03-12T15:59:35.193Z"
   },
   {
    "duration": 10800215,
    "start_time": "2022-03-12T15:59:35.202Z"
   },
   {
    "duration": 10800210,
    "start_time": "2022-03-12T15:59:35.208Z"
   },
   {
    "duration": 10800205,
    "start_time": "2022-03-12T15:59:35.215Z"
   },
   {
    "duration": 10800199,
    "start_time": "2022-03-12T15:59:35.222Z"
   },
   {
    "duration": 10800194,
    "start_time": "2022-03-12T15:59:35.229Z"
   },
   {
    "duration": 10800182,
    "start_time": "2022-03-12T15:59:35.242Z"
   },
   {
    "duration": 10800174,
    "start_time": "2022-03-12T15:59:35.252Z"
   },
   {
    "duration": 10800168,
    "start_time": "2022-03-12T15:59:35.259Z"
   },
   {
    "duration": 10800152,
    "start_time": "2022-03-12T15:59:35.277Z"
   },
   {
    "duration": 842,
    "start_time": "2022-03-12T19:03:47.308Z"
   },
   {
    "duration": 192,
    "start_time": "2022-03-12T19:03:48.152Z"
   },
   {
    "duration": 31,
    "start_time": "2022-03-12T19:03:48.347Z"
   },
   {
    "duration": 56,
    "start_time": "2022-03-12T19:03:48.381Z"
   },
   {
    "duration": 5,
    "start_time": "2022-03-12T19:03:48.440Z"
   },
   {
    "duration": 31,
    "start_time": "2022-03-12T19:03:48.448Z"
   },
   {
    "duration": 11,
    "start_time": "2022-03-12T19:03:48.481Z"
   },
   {
    "duration": 54,
    "start_time": "2022-03-12T19:03:48.498Z"
   },
   {
    "duration": 37,
    "start_time": "2022-03-12T19:03:48.573Z"
   },
   {
    "duration": 67,
    "start_time": "2022-03-12T19:03:48.613Z"
   },
   {
    "duration": 151,
    "start_time": "2022-03-12T19:03:48.683Z"
   },
   {
    "duration": 142,
    "start_time": "2022-03-12T19:03:48.837Z"
   },
   {
    "duration": 128,
    "start_time": "2022-03-12T19:03:48.983Z"
   },
   {
    "duration": 199,
    "start_time": "2022-03-12T19:03:49.114Z"
   },
   {
    "duration": 5,
    "start_time": "2022-03-12T19:03:49.317Z"
   },
   {
    "duration": 63,
    "start_time": "2022-03-12T19:03:49.325Z"
   },
   {
    "duration": 484,
    "start_time": "2022-03-12T19:03:49.391Z"
   },
   {
    "duration": 10800374,
    "start_time": "2022-03-12T16:03:49.506Z"
   },
   {
    "duration": 10800354,
    "start_time": "2022-03-12T16:03:49.529Z"
   },
   {
    "duration": 10800349,
    "start_time": "2022-03-12T16:03:49.536Z"
   },
   {
    "duration": 10800345,
    "start_time": "2022-03-12T16:03:49.542Z"
   },
   {
    "duration": 10800342,
    "start_time": "2022-03-12T16:03:49.547Z"
   },
   {
    "duration": 10800336,
    "start_time": "2022-03-12T16:03:49.554Z"
   },
   {
    "duration": 10800331,
    "start_time": "2022-03-12T16:03:49.560Z"
   },
   {
    "duration": 10800325,
    "start_time": "2022-03-12T16:03:49.567Z"
   },
   {
    "duration": 10800321,
    "start_time": "2022-03-12T16:03:49.572Z"
   },
   {
    "duration": 10800312,
    "start_time": "2022-03-12T16:03:49.583Z"
   },
   {
    "duration": 10800307,
    "start_time": "2022-03-12T16:03:49.589Z"
   },
   {
    "duration": 10800289,
    "start_time": "2022-03-12T16:03:49.608Z"
   },
   {
    "duration": 10800286,
    "start_time": "2022-03-12T16:03:49.613Z"
   },
   {
    "duration": 10800280,
    "start_time": "2022-03-12T16:03:49.620Z"
   },
   {
    "duration": 10800276,
    "start_time": "2022-03-12T16:03:49.625Z"
   },
   {
    "duration": 10800268,
    "start_time": "2022-03-12T16:03:49.634Z"
   },
   {
    "duration": 10800264,
    "start_time": "2022-03-12T16:03:49.639Z"
   },
   {
    "duration": 10800259,
    "start_time": "2022-03-12T16:03:49.646Z"
   },
   {
    "duration": 10800254,
    "start_time": "2022-03-12T16:03:49.652Z"
   },
   {
    "duration": 10800249,
    "start_time": "2022-03-12T16:03:49.658Z"
   },
   {
    "duration": 10800244,
    "start_time": "2022-03-12T16:03:49.664Z"
   },
   {
    "duration": 802,
    "start_time": "2022-03-12T19:05:51.524Z"
   },
   {
    "duration": 213,
    "start_time": "2022-03-12T19:05:52.329Z"
   },
   {
    "duration": 30,
    "start_time": "2022-03-12T19:05:52.545Z"
   },
   {
    "duration": 33,
    "start_time": "2022-03-12T19:05:52.577Z"
   },
   {
    "duration": 8,
    "start_time": "2022-03-12T19:05:52.613Z"
   },
   {
    "duration": 61,
    "start_time": "2022-03-12T19:05:52.624Z"
   },
   {
    "duration": 8,
    "start_time": "2022-03-12T19:05:52.687Z"
   },
   {
    "duration": 34,
    "start_time": "2022-03-12T19:05:52.699Z"
   },
   {
    "duration": 53,
    "start_time": "2022-03-12T19:05:52.737Z"
   },
   {
    "duration": 30,
    "start_time": "2022-03-12T19:05:52.793Z"
   },
   {
    "duration": 134,
    "start_time": "2022-03-12T19:05:52.825Z"
   },
   {
    "duration": 96,
    "start_time": "2022-03-12T19:05:52.962Z"
   },
   {
    "duration": 92,
    "start_time": "2022-03-12T19:05:53.060Z"
   },
   {
    "duration": 56,
    "start_time": "2022-03-12T19:05:53.174Z"
   },
   {
    "duration": 12,
    "start_time": "2022-03-12T19:05:53.233Z"
   },
   {
    "duration": 48,
    "start_time": "2022-03-12T19:05:53.247Z"
   },
   {
    "duration": 373,
    "start_time": "2022-03-12T19:05:53.298Z"
   },
   {
    "duration": 10800365,
    "start_time": "2022-03-12T16:05:53.309Z"
   },
   {
    "duration": 10800358,
    "start_time": "2022-03-12T16:05:53.318Z"
   },
   {
    "duration": 10800348,
    "start_time": "2022-03-12T16:05:53.329Z"
   },
   {
    "duration": 10800344,
    "start_time": "2022-03-12T16:05:53.335Z"
   },
   {
    "duration": 10800323,
    "start_time": "2022-03-12T16:05:53.357Z"
   },
   {
    "duration": 10800306,
    "start_time": "2022-03-12T16:05:53.375Z"
   },
   {
    "duration": 10800300,
    "start_time": "2022-03-12T16:05:53.383Z"
   },
   {
    "duration": 10800298,
    "start_time": "2022-03-12T16:05:53.386Z"
   },
   {
    "duration": 10800295,
    "start_time": "2022-03-12T16:05:53.390Z"
   },
   {
    "duration": 10800290,
    "start_time": "2022-03-12T16:05:53.396Z"
   },
   {
    "duration": 10800285,
    "start_time": "2022-03-12T16:05:53.403Z"
   },
   {
    "duration": 10800280,
    "start_time": "2022-03-12T16:05:53.409Z"
   },
   {
    "duration": 10800276,
    "start_time": "2022-03-12T16:05:53.415Z"
   },
   {
    "duration": 10800275,
    "start_time": "2022-03-12T16:05:53.417Z"
   },
   {
    "duration": 10800273,
    "start_time": "2022-03-12T16:05:53.420Z"
   },
   {
    "duration": 10800270,
    "start_time": "2022-03-12T16:05:53.425Z"
   },
   {
    "duration": 10800266,
    "start_time": "2022-03-12T16:05:53.430Z"
   },
   {
    "duration": 10800264,
    "start_time": "2022-03-12T16:05:53.434Z"
   },
   {
    "duration": 10800262,
    "start_time": "2022-03-12T16:05:53.437Z"
   },
   {
    "duration": 10800260,
    "start_time": "2022-03-12T16:05:53.440Z"
   },
   {
    "duration": 10800256,
    "start_time": "2022-03-12T16:05:53.445Z"
   },
   {
    "duration": 785,
    "start_time": "2022-03-12T19:20:15.780Z"
   },
   {
    "duration": 190,
    "start_time": "2022-03-12T19:20:16.568Z"
   },
   {
    "duration": 28,
    "start_time": "2022-03-12T19:20:16.761Z"
   },
   {
    "duration": 39,
    "start_time": "2022-03-12T19:20:16.792Z"
   },
   {
    "duration": 5,
    "start_time": "2022-03-12T19:20:16.834Z"
   },
   {
    "duration": 45,
    "start_time": "2022-03-12T19:20:16.842Z"
   },
   {
    "duration": 13,
    "start_time": "2022-03-12T19:20:16.890Z"
   },
   {
    "duration": 34,
    "start_time": "2022-03-12T19:20:16.907Z"
   },
   {
    "duration": 48,
    "start_time": "2022-03-12T19:20:16.944Z"
   },
   {
    "duration": 31,
    "start_time": "2022-03-12T19:20:16.994Z"
   },
   {
    "duration": 111,
    "start_time": "2022-03-12T19:20:17.027Z"
   },
   {
    "duration": 106,
    "start_time": "2022-03-12T19:20:17.140Z"
   },
   {
    "duration": 90,
    "start_time": "2022-03-12T19:20:17.249Z"
   },
   {
    "duration": 66,
    "start_time": "2022-03-12T19:20:17.342Z"
   },
   {
    "duration": 4,
    "start_time": "2022-03-12T19:20:17.410Z"
   },
   {
    "duration": 35,
    "start_time": "2022-03-12T19:20:17.416Z"
   },
   {
    "duration": 371,
    "start_time": "2022-03-12T19:20:17.473Z"
   },
   {
    "duration": 10800390,
    "start_time": "2022-03-12T16:20:17.458Z"
   },
   {
    "duration": 10800384,
    "start_time": "2022-03-12T16:20:17.465Z"
   },
   {
    "duration": 10800376,
    "start_time": "2022-03-12T16:20:17.475Z"
   },
   {
    "duration": 10800370,
    "start_time": "2022-03-12T16:20:17.483Z"
   },
   {
    "duration": 10800349,
    "start_time": "2022-03-12T16:20:17.506Z"
   },
   {
    "duration": 10800346,
    "start_time": "2022-03-12T16:20:17.511Z"
   },
   {
    "duration": 10800338,
    "start_time": "2022-03-12T16:20:17.520Z"
   },
   {
    "duration": 10800333,
    "start_time": "2022-03-12T16:20:17.526Z"
   },
   {
    "duration": 10800328,
    "start_time": "2022-03-12T16:20:17.534Z"
   },
   {
    "duration": 10800302,
    "start_time": "2022-03-12T16:20:17.561Z"
   },
   {
    "duration": 10800297,
    "start_time": "2022-03-12T16:20:17.568Z"
   },
   {
    "duration": 10800286,
    "start_time": "2022-03-12T16:20:17.581Z"
   },
   {
    "duration": 10800280,
    "start_time": "2022-03-12T16:20:17.589Z"
   },
   {
    "duration": 10800243,
    "start_time": "2022-03-12T16:20:17.628Z"
   },
   {
    "duration": 10800228,
    "start_time": "2022-03-12T16:20:17.645Z"
   },
   {
    "duration": 10800227,
    "start_time": "2022-03-12T16:20:17.648Z"
   },
   {
    "duration": 10800217,
    "start_time": "2022-03-12T16:20:17.659Z"
   },
   {
    "duration": 10800216,
    "start_time": "2022-03-12T16:20:17.662Z"
   },
   {
    "duration": 10800215,
    "start_time": "2022-03-12T16:20:17.665Z"
   },
   {
    "duration": 10800210,
    "start_time": "2022-03-12T16:20:17.672Z"
   },
   {
    "duration": 10800208,
    "start_time": "2022-03-12T16:20:17.675Z"
   },
   {
    "duration": 898,
    "start_time": "2022-03-12T19:21:26.467Z"
   },
   {
    "duration": 197,
    "start_time": "2022-03-12T19:21:27.368Z"
   },
   {
    "duration": 26,
    "start_time": "2022-03-12T19:21:27.569Z"
   },
   {
    "duration": 40,
    "start_time": "2022-03-12T19:21:27.599Z"
   },
   {
    "duration": 7,
    "start_time": "2022-03-12T19:21:27.642Z"
   },
   {
    "duration": 22,
    "start_time": "2022-03-12T19:21:27.675Z"
   },
   {
    "duration": 10,
    "start_time": "2022-03-12T19:21:27.700Z"
   },
   {
    "duration": 58,
    "start_time": "2022-03-12T19:21:27.714Z"
   },
   {
    "duration": 25,
    "start_time": "2022-03-12T19:21:27.776Z"
   },
   {
    "duration": 34,
    "start_time": "2022-03-12T19:21:27.803Z"
   },
   {
    "duration": 132,
    "start_time": "2022-03-12T19:21:27.840Z"
   },
   {
    "duration": 118,
    "start_time": "2022-03-12T19:21:27.975Z"
   },
   {
    "duration": 98,
    "start_time": "2022-03-12T19:21:28.097Z"
   },
   {
    "duration": 374,
    "start_time": "2022-03-12T19:21:28.198Z"
   },
   {
    "duration": 10800391,
    "start_time": "2022-03-12T16:21:28.185Z"
   },
   {
    "duration": 10800384,
    "start_time": "2022-03-12T16:21:28.194Z"
   },
   {
    "duration": 10800380,
    "start_time": "2022-03-12T16:21:28.201Z"
   },
   {
    "duration": 10800372,
    "start_time": "2022-03-12T16:21:28.211Z"
   },
   {
    "duration": 10800361,
    "start_time": "2022-03-12T16:21:28.224Z"
   },
   {
    "duration": 10800355,
    "start_time": "2022-03-12T16:21:28.232Z"
   },
   {
    "duration": 10800349,
    "start_time": "2022-03-12T16:21:28.241Z"
   },
   {
    "duration": 10800347,
    "start_time": "2022-03-12T16:21:28.245Z"
   },
   {
    "duration": 10800345,
    "start_time": "2022-03-12T16:21:28.249Z"
   },
   {
    "duration": 10800345,
    "start_time": "2022-03-12T16:21:28.251Z"
   },
   {
    "duration": 10800343,
    "start_time": "2022-03-12T16:21:28.255Z"
   },
   {
    "duration": 10800339,
    "start_time": "2022-03-12T16:21:28.261Z"
   },
   {
    "duration": 10800337,
    "start_time": "2022-03-12T16:21:28.265Z"
   },
   {
    "duration": 10800335,
    "start_time": "2022-03-12T16:21:28.270Z"
   },
   {
    "duration": 10800325,
    "start_time": "2022-03-12T16:21:28.282Z"
   },
   {
    "duration": 10800324,
    "start_time": "2022-03-12T16:21:28.285Z"
   },
   {
    "duration": 10800321,
    "start_time": "2022-03-12T16:21:28.290Z"
   },
   {
    "duration": 10800319,
    "start_time": "2022-03-12T16:21:28.294Z"
   },
   {
    "duration": 10800316,
    "start_time": "2022-03-12T16:21:28.298Z"
   },
   {
    "duration": 10800315,
    "start_time": "2022-03-12T16:21:28.301Z"
   },
   {
    "duration": 10800369,
    "start_time": "2022-03-12T16:21:28.304Z"
   },
   {
    "duration": 10800367,
    "start_time": "2022-03-12T16:21:28.308Z"
   },
   {
    "duration": 10800365,
    "start_time": "2022-03-12T16:21:28.312Z"
   },
   {
    "duration": 10800364,
    "start_time": "2022-03-12T16:21:28.315Z"
   },
   {
    "duration": 787,
    "start_time": "2022-03-12T19:24:25.120Z"
   },
   {
    "duration": 185,
    "start_time": "2022-03-12T19:24:25.909Z"
   },
   {
    "duration": 31,
    "start_time": "2022-03-12T19:24:26.097Z"
   },
   {
    "duration": 43,
    "start_time": "2022-03-12T19:24:26.131Z"
   },
   {
    "duration": 9,
    "start_time": "2022-03-12T19:24:26.177Z"
   },
   {
    "duration": 36,
    "start_time": "2022-03-12T19:24:26.190Z"
   },
   {
    "duration": 25,
    "start_time": "2022-03-12T19:24:26.229Z"
   },
   {
    "duration": 48,
    "start_time": "2022-03-12T19:24:26.258Z"
   },
   {
    "duration": 37,
    "start_time": "2022-03-12T19:24:26.309Z"
   },
   {
    "duration": 51,
    "start_time": "2022-03-12T19:24:26.348Z"
   },
   {
    "duration": 119,
    "start_time": "2022-03-12T19:24:26.402Z"
   },
   {
    "duration": 97,
    "start_time": "2022-03-12T19:24:26.523Z"
   },
   {
    "duration": 90,
    "start_time": "2022-03-12T19:24:26.622Z"
   },
   {
    "duration": 64,
    "start_time": "2022-03-12T19:24:26.714Z"
   },
   {
    "duration": 5,
    "start_time": "2022-03-12T19:24:26.780Z"
   },
   {
    "duration": 33,
    "start_time": "2022-03-12T19:24:26.787Z"
   },
   {
    "duration": 366,
    "start_time": "2022-03-12T19:24:26.822Z"
   },
   {
    "duration": 10800387,
    "start_time": "2022-03-12T16:24:26.804Z"
   },
   {
    "duration": 10800373,
    "start_time": "2022-03-12T16:24:26.820Z"
   },
   {
    "duration": 10800363,
    "start_time": "2022-03-12T16:24:26.831Z"
   },
   {
    "duration": 10800356,
    "start_time": "2022-03-12T16:24:26.840Z"
   },
   {
    "duration": 10800317,
    "start_time": "2022-03-12T16:24:26.880Z"
   },
   {
    "duration": 10800312,
    "start_time": "2022-03-12T16:24:26.887Z"
   },
   {
    "duration": 10800310,
    "start_time": "2022-03-12T16:24:26.891Z"
   },
   {
    "duration": 10800308,
    "start_time": "2022-03-12T16:24:26.894Z"
   },
   {
    "duration": 10800306,
    "start_time": "2022-03-12T16:24:26.898Z"
   },
   {
    "duration": 10800301,
    "start_time": "2022-03-12T16:24:26.904Z"
   },
   {
    "duration": 10800299,
    "start_time": "2022-03-12T16:24:26.907Z"
   },
   {
    "duration": 10800298,
    "start_time": "2022-03-12T16:24:26.910Z"
   },
   {
    "duration": 10800297,
    "start_time": "2022-03-12T16:24:26.912Z"
   },
   {
    "duration": 10800293,
    "start_time": "2022-03-12T16:24:26.918Z"
   },
   {
    "duration": 10800290,
    "start_time": "2022-03-12T16:24:26.923Z"
   },
   {
    "duration": 10800287,
    "start_time": "2022-03-12T16:24:26.927Z"
   },
   {
    "duration": 10800286,
    "start_time": "2022-03-12T16:24:26.930Z"
   },
   {
    "duration": 10800280,
    "start_time": "2022-03-12T16:24:26.937Z"
   },
   {
    "duration": 10800277,
    "start_time": "2022-03-12T16:24:26.942Z"
   },
   {
    "duration": 10800275,
    "start_time": "2022-03-12T16:24:26.946Z"
   },
   {
    "duration": 10800271,
    "start_time": "2022-03-12T16:24:26.951Z"
   },
   {
    "duration": 796,
    "start_time": "2022-03-12T19:26:23.345Z"
   },
   {
    "duration": 190,
    "start_time": "2022-03-12T19:26:24.144Z"
   },
   {
    "duration": 38,
    "start_time": "2022-03-12T19:26:24.337Z"
   },
   {
    "duration": 35,
    "start_time": "2022-03-12T19:26:24.378Z"
   },
   {
    "duration": 5,
    "start_time": "2022-03-12T19:26:24.416Z"
   },
   {
    "duration": 50,
    "start_time": "2022-03-12T19:26:24.424Z"
   },
   {
    "duration": 8,
    "start_time": "2022-03-12T19:26:24.476Z"
   },
   {
    "duration": 32,
    "start_time": "2022-03-12T19:26:24.488Z"
   },
   {
    "duration": 23,
    "start_time": "2022-03-12T19:26:24.523Z"
   },
   {
    "duration": 52,
    "start_time": "2022-03-12T19:26:24.548Z"
   },
   {
    "duration": 107,
    "start_time": "2022-03-12T19:26:24.602Z"
   },
   {
    "duration": 100,
    "start_time": "2022-03-12T19:26:24.712Z"
   },
   {
    "duration": 88,
    "start_time": "2022-03-12T19:26:24.815Z"
   },
   {
    "duration": 71,
    "start_time": "2022-03-12T19:26:24.905Z"
   },
   {
    "duration": 5,
    "start_time": "2022-03-12T19:26:24.978Z"
   },
   {
    "duration": 34,
    "start_time": "2022-03-12T19:26:24.986Z"
   },
   {
    "duration": 390,
    "start_time": "2022-03-12T19:26:25.022Z"
   },
   {
    "duration": 10800415,
    "start_time": "2022-03-12T16:26:25.001Z"
   },
   {
    "duration": 10800398,
    "start_time": "2022-03-12T16:26:25.019Z"
   },
   {
    "duration": 10800384,
    "start_time": "2022-03-12T16:26:25.035Z"
   },
   {
    "duration": 10800382,
    "start_time": "2022-03-12T16:26:25.038Z"
   },
   {
    "duration": 10800378,
    "start_time": "2022-03-12T16:26:25.043Z"
   },
   {
    "duration": 10800377,
    "start_time": "2022-03-12T16:26:25.046Z"
   },
   {
    "duration": 10800374,
    "start_time": "2022-03-12T16:26:25.050Z"
   },
   {
    "duration": 10800372,
    "start_time": "2022-03-12T16:26:25.053Z"
   },
   {
    "duration": 10800369,
    "start_time": "2022-03-12T16:26:25.058Z"
   },
   {
    "duration": 10800366,
    "start_time": "2022-03-12T16:26:25.062Z"
   },
   {
    "duration": 10800363,
    "start_time": "2022-03-12T16:26:25.067Z"
   },
   {
    "duration": 10800361,
    "start_time": "2022-03-12T16:26:25.070Z"
   },
   {
    "duration": 10800359,
    "start_time": "2022-03-12T16:26:25.073Z"
   },
   {
    "duration": 10800356,
    "start_time": "2022-03-12T16:26:25.078Z"
   },
   {
    "duration": 10800340,
    "start_time": "2022-03-12T16:26:25.095Z"
   },
   {
    "duration": 10800336,
    "start_time": "2022-03-12T16:26:25.100Z"
   },
   {
    "duration": 10800335,
    "start_time": "2022-03-12T16:26:25.103Z"
   },
   {
    "duration": 10800330,
    "start_time": "2022-03-12T16:26:25.109Z"
   },
   {
    "duration": 10800326,
    "start_time": "2022-03-12T16:26:25.114Z"
   },
   {
    "duration": 10800325,
    "start_time": "2022-03-12T16:26:25.117Z"
   },
   {
    "duration": 10800323,
    "start_time": "2022-03-12T16:26:25.120Z"
   },
   {
    "duration": 768,
    "start_time": "2022-03-12T19:35:56.794Z"
   },
   {
    "duration": 194,
    "start_time": "2022-03-12T19:35:57.564Z"
   },
   {
    "duration": 29,
    "start_time": "2022-03-12T19:35:57.761Z"
   },
   {
    "duration": 33,
    "start_time": "2022-03-12T19:35:57.792Z"
   },
   {
    "duration": 9,
    "start_time": "2022-03-12T19:35:57.827Z"
   },
   {
    "duration": 47,
    "start_time": "2022-03-12T19:35:57.839Z"
   },
   {
    "duration": 24,
    "start_time": "2022-03-12T19:35:57.889Z"
   },
   {
    "duration": 50,
    "start_time": "2022-03-12T19:35:57.917Z"
   },
   {
    "duration": 23,
    "start_time": "2022-03-12T19:35:57.970Z"
   },
   {
    "duration": 33,
    "start_time": "2022-03-12T19:35:57.995Z"
   },
   {
    "duration": 116,
    "start_time": "2022-03-12T19:35:58.031Z"
   },
   {
    "duration": 105,
    "start_time": "2022-03-12T19:35:58.150Z"
   },
   {
    "duration": 94,
    "start_time": "2022-03-12T19:35:58.257Z"
   },
   {
    "duration": 1297,
    "start_time": "2022-03-12T19:35:58.354Z"
   },
   {
    "duration": 10800400,
    "start_time": "2022-03-12T16:35:59.255Z"
   },
   {
    "duration": 10800392,
    "start_time": "2022-03-12T16:35:59.264Z"
   },
   {
    "duration": 10800391,
    "start_time": "2022-03-12T16:35:59.267Z"
   },
   {
    "duration": 10800389,
    "start_time": "2022-03-12T16:35:59.270Z"
   },
   {
    "duration": 10800388,
    "start_time": "2022-03-12T16:35:59.273Z"
   },
   {
    "duration": 10800386,
    "start_time": "2022-03-12T16:35:59.276Z"
   },
   {
    "duration": 10800383,
    "start_time": "2022-03-12T16:35:59.280Z"
   },
   {
    "duration": 10800382,
    "start_time": "2022-03-12T16:35:59.283Z"
   },
   {
    "duration": 10800380,
    "start_time": "2022-03-12T16:35:59.286Z"
   },
   {
    "duration": 10800379,
    "start_time": "2022-03-12T16:35:59.289Z"
   },
   {
    "duration": 10800377,
    "start_time": "2022-03-12T16:35:59.292Z"
   },
   {
    "duration": 10800373,
    "start_time": "2022-03-12T16:35:59.298Z"
   },
   {
    "duration": 10800368,
    "start_time": "2022-03-12T16:35:59.305Z"
   },
   {
    "duration": 10800363,
    "start_time": "2022-03-12T16:35:59.311Z"
   },
   {
    "duration": 10800358,
    "start_time": "2022-03-12T16:35:59.318Z"
   },
   {
    "duration": 10800353,
    "start_time": "2022-03-12T16:35:59.324Z"
   },
   {
    "duration": 10800337,
    "start_time": "2022-03-12T16:35:59.342Z"
   },
   {
    "duration": 10800330,
    "start_time": "2022-03-12T16:35:59.350Z"
   },
   {
    "duration": 10800326,
    "start_time": "2022-03-12T16:35:59.356Z"
   },
   {
    "duration": 10800321,
    "start_time": "2022-03-12T16:35:59.362Z"
   },
   {
    "duration": 10800314,
    "start_time": "2022-03-12T16:35:59.371Z"
   },
   {
    "duration": 10800305,
    "start_time": "2022-03-12T16:35:59.381Z"
   },
   {
    "duration": 10800299,
    "start_time": "2022-03-12T16:35:59.389Z"
   },
   {
    "duration": 10800293,
    "start_time": "2022-03-12T16:35:59.396Z"
   },
   {
    "duration": 806,
    "start_time": "2022-03-12T19:36:23.560Z"
   },
   {
    "duration": 191,
    "start_time": "2022-03-12T19:36:24.369Z"
   },
   {
    "duration": 29,
    "start_time": "2022-03-12T19:36:24.563Z"
   },
   {
    "duration": 32,
    "start_time": "2022-03-12T19:36:24.595Z"
   },
   {
    "duration": 6,
    "start_time": "2022-03-12T19:36:24.630Z"
   },
   {
    "duration": 49,
    "start_time": "2022-03-12T19:36:24.638Z"
   },
   {
    "duration": 5,
    "start_time": "2022-03-12T19:36:24.690Z"
   },
   {
    "duration": 33,
    "start_time": "2022-03-12T19:36:24.699Z"
   },
   {
    "duration": 53,
    "start_time": "2022-03-12T19:36:24.735Z"
   },
   {
    "duration": 30,
    "start_time": "2022-03-12T19:36:24.791Z"
   },
   {
    "duration": 112,
    "start_time": "2022-03-12T19:36:24.824Z"
   },
   {
    "duration": 101,
    "start_time": "2022-03-12T19:36:24.939Z"
   },
   {
    "duration": 93,
    "start_time": "2022-03-12T19:36:25.042Z"
   },
   {
    "duration": 156,
    "start_time": "2022-03-12T19:36:25.137Z"
   },
   {
    "duration": 4,
    "start_time": "2022-03-12T19:36:25.296Z"
   },
   {
    "duration": 32,
    "start_time": "2022-03-12T19:36:25.302Z"
   },
   {
    "duration": 369,
    "start_time": "2022-03-12T19:36:25.337Z"
   },
   {
    "duration": 10800414,
    "start_time": "2022-03-12T16:36:25.297Z"
   },
   {
    "duration": 10800408,
    "start_time": "2022-03-12T16:36:25.304Z"
   },
   {
    "duration": 10800400,
    "start_time": "2022-03-12T16:36:25.314Z"
   },
   {
    "duration": 10800385,
    "start_time": "2022-03-12T16:36:25.331Z"
   },
   {
    "duration": 10800381,
    "start_time": "2022-03-12T16:36:25.338Z"
   },
   {
    "duration": 10800374,
    "start_time": "2022-03-12T16:36:25.347Z"
   },
   {
    "duration": 10800369,
    "start_time": "2022-03-12T16:36:25.354Z"
   },
   {
    "duration": 10800364,
    "start_time": "2022-03-12T16:36:25.361Z"
   },
   {
    "duration": 10800359,
    "start_time": "2022-03-12T16:36:25.368Z"
   },
   {
    "duration": 10800354,
    "start_time": "2022-03-12T16:36:25.376Z"
   },
   {
    "duration": 10800337,
    "start_time": "2022-03-12T16:36:25.395Z"
   },
   {
    "duration": 10800333,
    "start_time": "2022-03-12T16:36:25.401Z"
   },
   {
    "duration": 10800328,
    "start_time": "2022-03-12T16:36:25.409Z"
   },
   {
    "duration": 10800323,
    "start_time": "2022-03-12T16:36:25.416Z"
   },
   {
    "duration": 10800318,
    "start_time": "2022-03-12T16:36:25.423Z"
   },
   {
    "duration": 10800313,
    "start_time": "2022-03-12T16:36:25.430Z"
   },
   {
    "duration": 10800309,
    "start_time": "2022-03-12T16:36:25.436Z"
   },
   {
    "duration": 10800305,
    "start_time": "2022-03-12T16:36:25.443Z"
   },
   {
    "duration": 10800300,
    "start_time": "2022-03-12T16:36:25.449Z"
   },
   {
    "duration": 10800296,
    "start_time": "2022-03-12T16:36:25.454Z"
   },
   {
    "duration": 10800290,
    "start_time": "2022-03-12T16:36:25.461Z"
   },
   {
    "duration": 997,
    "start_time": "2022-03-12T19:37:13.861Z"
   },
   {
    "duration": 276,
    "start_time": "2022-03-12T19:37:14.860Z"
   },
   {
    "duration": 34,
    "start_time": "2022-03-12T19:37:15.141Z"
   },
   {
    "duration": 55,
    "start_time": "2022-03-12T19:37:15.179Z"
   },
   {
    "duration": 36,
    "start_time": "2022-03-12T19:37:15.237Z"
   },
   {
    "duration": 19,
    "start_time": "2022-03-12T19:37:15.276Z"
   },
   {
    "duration": 9,
    "start_time": "2022-03-12T19:37:15.298Z"
   },
   {
    "duration": 66,
    "start_time": "2022-03-12T19:37:15.311Z"
   },
   {
    "duration": 27,
    "start_time": "2022-03-12T19:37:15.380Z"
   },
   {
    "duration": 31,
    "start_time": "2022-03-12T19:37:15.410Z"
   },
   {
    "duration": 129,
    "start_time": "2022-03-12T19:37:15.444Z"
   },
   {
    "duration": 98,
    "start_time": "2022-03-12T19:37:15.575Z"
   },
   {
    "duration": 82,
    "start_time": "2022-03-12T19:37:15.675Z"
   },
   {
    "duration": 59,
    "start_time": "2022-03-12T19:37:15.773Z"
   },
   {
    "duration": 4,
    "start_time": "2022-03-12T19:37:15.834Z"
   },
   {
    "duration": 56,
    "start_time": "2022-03-12T19:37:15.841Z"
   },
   {
    "duration": 369,
    "start_time": "2022-03-12T19:37:15.899Z"
   },
   {
    "duration": 10800415,
    "start_time": "2022-03-12T16:37:15.856Z"
   },
   {
    "duration": 10800411,
    "start_time": "2022-03-12T16:37:15.862Z"
   },
   {
    "duration": 10800398,
    "start_time": "2022-03-12T16:37:15.876Z"
   },
   {
    "duration": 10800394,
    "start_time": "2022-03-12T16:37:15.881Z"
   },
   {
    "duration": 10800390,
    "start_time": "2022-03-12T16:37:15.887Z"
   },
   {
    "duration": 10800384,
    "start_time": "2022-03-12T16:37:15.894Z"
   },
   {
    "duration": 10800377,
    "start_time": "2022-03-12T16:37:15.902Z"
   },
   {
    "duration": 10800375,
    "start_time": "2022-03-12T16:37:15.906Z"
   },
   {
    "duration": 10800370,
    "start_time": "2022-03-12T16:37:15.912Z"
   },
   {
    "duration": 10800366,
    "start_time": "2022-03-12T16:37:15.917Z"
   },
   {
    "duration": 10800363,
    "start_time": "2022-03-12T16:37:15.922Z"
   },
   {
    "duration": 10800359,
    "start_time": "2022-03-12T16:37:15.927Z"
   },
   {
    "duration": 10800353,
    "start_time": "2022-03-12T16:37:15.934Z"
   },
   {
    "duration": 10800349,
    "start_time": "2022-03-12T16:37:15.939Z"
   },
   {
    "duration": 10800342,
    "start_time": "2022-03-12T16:37:15.948Z"
   },
   {
    "duration": 10800337,
    "start_time": "2022-03-12T16:37:15.954Z"
   },
   {
    "duration": 10800334,
    "start_time": "2022-03-12T16:37:15.958Z"
   },
   {
    "duration": 10800330,
    "start_time": "2022-03-12T16:37:15.964Z"
   },
   {
    "duration": 10800320,
    "start_time": "2022-03-12T16:37:15.975Z"
   },
   {
    "duration": 10800307,
    "start_time": "2022-03-12T16:37:15.990Z"
   },
   {
    "duration": 10800300,
    "start_time": "2022-03-12T16:37:15.998Z"
   },
   {
    "duration": 671,
    "start_time": "2022-03-13T14:28:14.585Z"
   },
   {
    "duration": 149,
    "start_time": "2022-03-13T14:28:15.259Z"
   },
   {
    "duration": 19,
    "start_time": "2022-03-13T14:28:15.410Z"
   },
   {
    "duration": 28,
    "start_time": "2022-03-13T14:28:15.431Z"
   },
   {
    "duration": 4,
    "start_time": "2022-03-13T14:28:15.461Z"
   },
   {
    "duration": 42,
    "start_time": "2022-03-13T14:28:15.467Z"
   },
   {
    "duration": 10,
    "start_time": "2022-03-13T14:28:15.511Z"
   },
   {
    "duration": 33,
    "start_time": "2022-03-13T14:28:15.522Z"
   },
   {
    "duration": 19,
    "start_time": "2022-03-13T14:28:15.558Z"
   },
   {
    "duration": 31,
    "start_time": "2022-03-13T14:28:15.580Z"
   },
   {
    "duration": 64,
    "start_time": "2022-03-13T14:28:15.613Z"
   },
   {
    "duration": 82,
    "start_time": "2022-03-13T14:28:15.679Z"
   },
   {
    "duration": 66,
    "start_time": "2022-03-13T14:28:15.763Z"
   },
   {
    "duration": 44,
    "start_time": "2022-03-13T14:28:15.831Z"
   },
   {
    "duration": 25,
    "start_time": "2022-03-13T14:28:15.876Z"
   },
   {
    "duration": 26,
    "start_time": "2022-03-13T14:28:15.904Z"
   },
   {
    "duration": 294,
    "start_time": "2022-03-13T14:28:15.933Z"
   },
   {
    "duration": 1479,
    "start_time": "2022-03-13T14:28:14.751Z"
   },
   {
    "duration": 1447,
    "start_time": "2022-03-13T14:28:14.785Z"
   },
   {
    "duration": 1436,
    "start_time": "2022-03-13T14:28:14.797Z"
   },
   {
    "duration": 1432,
    "start_time": "2022-03-13T14:28:14.803Z"
   },
   {
    "duration": 1429,
    "start_time": "2022-03-13T14:28:14.808Z"
   },
   {
    "duration": 1424,
    "start_time": "2022-03-13T14:28:14.814Z"
   },
   {
    "duration": 1420,
    "start_time": "2022-03-13T14:28:14.820Z"
   },
   {
    "duration": 1418,
    "start_time": "2022-03-13T14:28:14.823Z"
   },
   {
    "duration": 1415,
    "start_time": "2022-03-13T14:28:14.828Z"
   },
   {
    "duration": 1413,
    "start_time": "2022-03-13T14:28:14.832Z"
   },
   {
    "duration": 1405,
    "start_time": "2022-03-13T14:28:14.841Z"
   },
   {
    "duration": 1400,
    "start_time": "2022-03-13T14:28:14.848Z"
   },
   {
    "duration": 1392,
    "start_time": "2022-03-13T14:28:14.857Z"
   },
   {
    "duration": 1384,
    "start_time": "2022-03-13T14:28:14.867Z"
   },
   {
    "duration": 1369,
    "start_time": "2022-03-13T14:28:14.884Z"
   },
   {
    "duration": 1362,
    "start_time": "2022-03-13T14:28:14.892Z"
   },
   {
    "duration": 1359,
    "start_time": "2022-03-13T14:28:14.897Z"
   },
   {
    "duration": 1346,
    "start_time": "2022-03-13T14:28:14.911Z"
   },
   {
    "duration": 1342,
    "start_time": "2022-03-13T14:28:14.917Z"
   },
   {
    "duration": 1339,
    "start_time": "2022-03-13T14:28:14.921Z"
   },
   {
    "duration": 1335,
    "start_time": "2022-03-13T14:28:14.927Z"
   },
   {
    "duration": 626,
    "start_time": "2022-03-13T14:30:59.831Z"
   },
   {
    "duration": 171,
    "start_time": "2022-03-13T14:31:00.460Z"
   },
   {
    "duration": 17,
    "start_time": "2022-03-13T14:31:00.634Z"
   },
   {
    "duration": 34,
    "start_time": "2022-03-13T14:31:00.653Z"
   },
   {
    "duration": 16,
    "start_time": "2022-03-13T14:31:00.690Z"
   },
   {
    "duration": 32,
    "start_time": "2022-03-13T14:31:00.708Z"
   },
   {
    "duration": 14,
    "start_time": "2022-03-13T14:31:00.742Z"
   },
   {
    "duration": 40,
    "start_time": "2022-03-13T14:31:00.759Z"
   },
   {
    "duration": 37,
    "start_time": "2022-03-13T14:31:00.802Z"
   },
   {
    "duration": 25,
    "start_time": "2022-03-13T14:31:00.842Z"
   },
   {
    "duration": 85,
    "start_time": "2022-03-13T14:31:00.869Z"
   },
   {
    "duration": 79,
    "start_time": "2022-03-13T14:31:00.956Z"
   },
   {
    "duration": 65,
    "start_time": "2022-03-13T14:31:01.037Z"
   },
   {
    "duration": 318,
    "start_time": "2022-03-13T14:31:01.103Z"
   },
   {
    "duration": 1179,
    "start_time": "2022-03-13T14:31:00.245Z"
   },
   {
    "duration": 1173,
    "start_time": "2022-03-13T14:31:00.252Z"
   },
   {
    "duration": 1170,
    "start_time": "2022-03-13T14:31:00.256Z"
   },
   {
    "duration": 1168,
    "start_time": "2022-03-13T14:31:00.259Z"
   },
   {
    "duration": 1095,
    "start_time": "2022-03-13T14:31:00.333Z"
   },
   {
    "duration": 1093,
    "start_time": "2022-03-13T14:31:00.336Z"
   },
   {
    "duration": 1091,
    "start_time": "2022-03-13T14:31:00.339Z"
   },
   {
    "duration": 1090,
    "start_time": "2022-03-13T14:31:00.342Z"
   },
   {
    "duration": 1088,
    "start_time": "2022-03-13T14:31:00.345Z"
   },
   {
    "duration": 1085,
    "start_time": "2022-03-13T14:31:00.349Z"
   },
   {
    "duration": 1084,
    "start_time": "2022-03-13T14:31:00.351Z"
   },
   {
    "duration": 1082,
    "start_time": "2022-03-13T14:31:00.354Z"
   },
   {
    "duration": 1080,
    "start_time": "2022-03-13T14:31:00.357Z"
   },
   {
    "duration": 1078,
    "start_time": "2022-03-13T14:31:00.361Z"
   },
   {
    "duration": 1075,
    "start_time": "2022-03-13T14:31:00.365Z"
   },
   {
    "duration": 1072,
    "start_time": "2022-03-13T14:31:00.369Z"
   },
   {
    "duration": 1069,
    "start_time": "2022-03-13T14:31:00.373Z"
   },
   {
    "duration": 1066,
    "start_time": "2022-03-13T14:31:00.378Z"
   },
   {
    "duration": 1063,
    "start_time": "2022-03-13T14:31:00.382Z"
   },
   {
    "duration": 1060,
    "start_time": "2022-03-13T14:31:00.386Z"
   },
   {
    "duration": 1058,
    "start_time": "2022-03-13T14:31:00.389Z"
   },
   {
    "duration": 1058,
    "start_time": "2022-03-13T14:31:00.391Z"
   },
   {
    "duration": 1056,
    "start_time": "2022-03-13T14:31:00.394Z"
   },
   {
    "duration": 1051,
    "start_time": "2022-03-13T14:31:00.401Z"
   },
   {
    "duration": 610,
    "start_time": "2022-03-13T14:32:00.932Z"
   },
   {
    "duration": 163,
    "start_time": "2022-03-13T14:32:01.544Z"
   },
   {
    "duration": 19,
    "start_time": "2022-03-13T14:32:01.709Z"
   },
   {
    "duration": 28,
    "start_time": "2022-03-13T14:32:01.730Z"
   },
   {
    "duration": 22,
    "start_time": "2022-03-13T14:32:01.760Z"
   },
   {
    "duration": 25,
    "start_time": "2022-03-13T14:32:01.784Z"
   },
   {
    "duration": 10,
    "start_time": "2022-03-13T14:32:01.811Z"
   },
   {
    "duration": 35,
    "start_time": "2022-03-13T14:32:01.824Z"
   },
   {
    "duration": 30,
    "start_time": "2022-03-13T14:32:01.861Z"
   },
   {
    "duration": 29,
    "start_time": "2022-03-13T14:32:01.893Z"
   },
   {
    "duration": 77,
    "start_time": "2022-03-13T14:32:01.924Z"
   },
   {
    "duration": 69,
    "start_time": "2022-03-13T14:32:02.003Z"
   },
   {
    "duration": 76,
    "start_time": "2022-03-13T14:32:02.074Z"
   },
   {
    "duration": 308,
    "start_time": "2022-03-13T14:32:02.151Z"
   },
   {
    "duration": 1423,
    "start_time": "2022-03-13T14:32:01.038Z"
   },
   {
    "duration": 1416,
    "start_time": "2022-03-13T14:32:01.046Z"
   },
   {
    "duration": 1399,
    "start_time": "2022-03-13T14:32:01.064Z"
   },
   {
    "duration": 1394,
    "start_time": "2022-03-13T14:32:01.071Z"
   },
   {
    "duration": 1388,
    "start_time": "2022-03-13T14:32:01.077Z"
   },
   {
    "duration": 1384,
    "start_time": "2022-03-13T14:32:01.083Z"
   },
   {
    "duration": 1380,
    "start_time": "2022-03-13T14:32:01.088Z"
   },
   {
    "duration": 1377,
    "start_time": "2022-03-13T14:32:01.092Z"
   },
   {
    "duration": 1375,
    "start_time": "2022-03-13T14:32:01.095Z"
   },
   {
    "duration": 1373,
    "start_time": "2022-03-13T14:32:01.098Z"
   },
   {
    "duration": 1370,
    "start_time": "2022-03-13T14:32:01.102Z"
   },
   {
    "duration": 1369,
    "start_time": "2022-03-13T14:32:01.105Z"
   },
   {
    "duration": 1366,
    "start_time": "2022-03-13T14:32:01.109Z"
   },
   {
    "duration": 1364,
    "start_time": "2022-03-13T14:32:01.112Z"
   },
   {
    "duration": 1360,
    "start_time": "2022-03-13T14:32:01.117Z"
   },
   {
    "duration": 1357,
    "start_time": "2022-03-13T14:32:01.121Z"
   },
   {
    "duration": 1346,
    "start_time": "2022-03-13T14:32:01.133Z"
   },
   {
    "duration": 1339,
    "start_time": "2022-03-13T14:32:01.141Z"
   },
   {
    "duration": 1336,
    "start_time": "2022-03-13T14:32:01.145Z"
   },
   {
    "duration": 1333,
    "start_time": "2022-03-13T14:32:01.150Z"
   },
   {
    "duration": 1330,
    "start_time": "2022-03-13T14:32:01.154Z"
   },
   {
    "duration": 1326,
    "start_time": "2022-03-13T14:32:01.159Z"
   },
   {
    "duration": 1323,
    "start_time": "2022-03-13T14:32:01.163Z"
   },
   {
    "duration": 1319,
    "start_time": "2022-03-13T14:32:01.168Z"
   },
   {
    "duration": 589,
    "start_time": "2022-03-13T14:32:42.132Z"
   },
   {
    "duration": 150,
    "start_time": "2022-03-13T14:32:42.723Z"
   },
   {
    "duration": 24,
    "start_time": "2022-03-13T14:32:42.876Z"
   },
   {
    "duration": 26,
    "start_time": "2022-03-13T14:32:42.903Z"
   },
   {
    "duration": 4,
    "start_time": "2022-03-13T14:32:42.931Z"
   },
   {
    "duration": 17,
    "start_time": "2022-03-13T14:32:42.937Z"
   },
   {
    "duration": 10,
    "start_time": "2022-03-13T14:32:42.956Z"
   },
   {
    "duration": 57,
    "start_time": "2022-03-13T14:32:42.969Z"
   },
   {
    "duration": 27,
    "start_time": "2022-03-13T14:32:43.028Z"
   },
   {
    "duration": 26,
    "start_time": "2022-03-13T14:32:43.057Z"
   },
   {
    "duration": 76,
    "start_time": "2022-03-13T14:32:43.085Z"
   },
   {
    "duration": 85,
    "start_time": "2022-03-13T14:32:43.163Z"
   },
   {
    "duration": 72,
    "start_time": "2022-03-13T14:32:43.250Z"
   },
   {
    "duration": 294,
    "start_time": "2022-03-13T14:32:43.324Z"
   },
   {
    "duration": 1491,
    "start_time": "2022-03-13T14:32:42.130Z"
   },
   {
    "duration": 1488,
    "start_time": "2022-03-13T14:32:42.134Z"
   },
   {
    "duration": 1487,
    "start_time": "2022-03-13T14:32:42.136Z"
   },
   {
    "duration": 1432,
    "start_time": "2022-03-13T14:32:42.192Z"
   },
   {
    "duration": 1417,
    "start_time": "2022-03-13T14:32:42.208Z"
   },
   {
    "duration": 1411,
    "start_time": "2022-03-13T14:32:42.215Z"
   },
   {
    "duration": 1405,
    "start_time": "2022-03-13T14:32:42.222Z"
   },
   {
    "duration": 1400,
    "start_time": "2022-03-13T14:32:42.229Z"
   },
   {
    "duration": 1393,
    "start_time": "2022-03-13T14:32:42.237Z"
   },
   {
    "duration": 1379,
    "start_time": "2022-03-13T14:32:42.252Z"
   },
   {
    "duration": 1371,
    "start_time": "2022-03-13T14:32:42.261Z"
   },
   {
    "duration": 1362,
    "start_time": "2022-03-13T14:32:42.271Z"
   },
   {
    "duration": 1349,
    "start_time": "2022-03-13T14:32:42.285Z"
   },
   {
    "duration": 1340,
    "start_time": "2022-03-13T14:32:42.295Z"
   },
   {
    "duration": 1335,
    "start_time": "2022-03-13T14:32:42.301Z"
   },
   {
    "duration": 1271,
    "start_time": "2022-03-13T14:32:42.367Z"
   },
   {
    "duration": 1249,
    "start_time": "2022-03-13T14:32:42.390Z"
   },
   {
    "duration": 1247,
    "start_time": "2022-03-13T14:32:42.393Z"
   },
   {
    "duration": 1241,
    "start_time": "2022-03-13T14:32:42.400Z"
   },
   {
    "duration": 1239,
    "start_time": "2022-03-13T14:32:42.403Z"
   },
   {
    "duration": 1237,
    "start_time": "2022-03-13T14:32:42.406Z"
   },
   {
    "duration": 1234,
    "start_time": "2022-03-13T14:32:42.410Z"
   },
   {
    "duration": 1229,
    "start_time": "2022-03-13T14:32:42.416Z"
   },
   {
    "duration": 1226,
    "start_time": "2022-03-13T14:32:42.420Z"
   },
   {
    "duration": 676,
    "start_time": "2022-03-13T14:37:39.866Z"
   },
   {
    "duration": 161,
    "start_time": "2022-03-13T14:37:40.545Z"
   },
   {
    "duration": 20,
    "start_time": "2022-03-13T14:37:40.708Z"
   },
   {
    "duration": 27,
    "start_time": "2022-03-13T14:37:40.730Z"
   },
   {
    "duration": 5,
    "start_time": "2022-03-13T14:37:40.759Z"
   },
   {
    "duration": 45,
    "start_time": "2022-03-13T14:37:40.766Z"
   },
   {
    "duration": 4,
    "start_time": "2022-03-13T14:37:40.814Z"
   },
   {
    "duration": 55,
    "start_time": "2022-03-13T14:37:40.819Z"
   },
   {
    "duration": 30,
    "start_time": "2022-03-13T14:37:40.879Z"
   },
   {
    "duration": 27,
    "start_time": "2022-03-13T14:37:40.912Z"
   },
   {
    "duration": 92,
    "start_time": "2022-03-13T14:37:40.941Z"
   },
   {
    "duration": 82,
    "start_time": "2022-03-13T14:37:41.035Z"
   },
   {
    "duration": 62,
    "start_time": "2022-03-13T14:37:41.119Z"
   },
   {
    "duration": 76,
    "start_time": "2022-03-13T14:37:41.183Z"
   },
   {
    "duration": 1375,
    "start_time": "2022-03-13T14:37:39.887Z"
   },
   {
    "duration": 1371,
    "start_time": "2022-03-13T14:37:39.893Z"
   },
   {
    "duration": 1367,
    "start_time": "2022-03-13T14:37:39.898Z"
   },
   {
    "duration": 1365,
    "start_time": "2022-03-13T14:37:39.902Z"
   },
   {
    "duration": 1363,
    "start_time": "2022-03-13T14:37:39.905Z"
   },
   {
    "duration": 1363,
    "start_time": "2022-03-13T14:37:39.907Z"
   },
   {
    "duration": 1361,
    "start_time": "2022-03-13T14:37:39.911Z"
   },
   {
    "duration": 1359,
    "start_time": "2022-03-13T14:37:39.914Z"
   },
   {
    "duration": 1357,
    "start_time": "2022-03-13T14:37:39.917Z"
   },
   {
    "duration": 1356,
    "start_time": "2022-03-13T14:37:39.920Z"
   },
   {
    "duration": 1355,
    "start_time": "2022-03-13T14:37:39.922Z"
   },
   {
    "duration": 1351,
    "start_time": "2022-03-13T14:37:39.927Z"
   },
   {
    "duration": 1347,
    "start_time": "2022-03-13T14:37:39.932Z"
   },
   {
    "duration": 1343,
    "start_time": "2022-03-13T14:37:39.937Z"
   },
   {
    "duration": 1335,
    "start_time": "2022-03-13T14:37:39.946Z"
   },
   {
    "duration": 1328,
    "start_time": "2022-03-13T14:37:39.954Z"
   },
   {
    "duration": 1322,
    "start_time": "2022-03-13T14:37:39.961Z"
   },
   {
    "duration": 1316,
    "start_time": "2022-03-13T14:37:39.968Z"
   },
   {
    "duration": 1296,
    "start_time": "2022-03-13T14:37:39.990Z"
   },
   {
    "duration": 1293,
    "start_time": "2022-03-13T14:37:39.994Z"
   },
   {
    "duration": 1290,
    "start_time": "2022-03-13T14:37:39.998Z"
   },
   {
    "duration": 1287,
    "start_time": "2022-03-13T14:37:40.002Z"
   },
   {
    "duration": 1284,
    "start_time": "2022-03-13T14:37:40.006Z"
   },
   {
    "duration": 1281,
    "start_time": "2022-03-13T14:37:40.010Z"
   },
   {
    "duration": 599,
    "start_time": "2022-03-13T14:43:47.824Z"
   },
   {
    "duration": 153,
    "start_time": "2022-03-13T14:43:48.425Z"
   },
   {
    "duration": 21,
    "start_time": "2022-03-13T14:43:48.580Z"
   },
   {
    "duration": 27,
    "start_time": "2022-03-13T14:43:48.603Z"
   },
   {
    "duration": 5,
    "start_time": "2022-03-13T14:43:48.632Z"
   },
   {
    "duration": 16,
    "start_time": "2022-03-13T14:43:48.639Z"
   },
   {
    "duration": 10,
    "start_time": "2022-03-13T14:43:48.657Z"
   },
   {
    "duration": 52,
    "start_time": "2022-03-13T14:43:48.670Z"
   },
   {
    "duration": 26,
    "start_time": "2022-03-13T14:43:48.724Z"
   },
   {
    "duration": 25,
    "start_time": "2022-03-13T14:43:48.752Z"
   },
   {
    "duration": 81,
    "start_time": "2022-03-13T14:43:48.779Z"
   },
   {
    "duration": 75,
    "start_time": "2022-03-13T14:43:48.862Z"
   },
   {
    "duration": 62,
    "start_time": "2022-03-13T14:43:48.939Z"
   },
   {
    "duration": 77,
    "start_time": "2022-03-13T14:43:49.003Z"
   },
   {
    "duration": 1496,
    "start_time": "2022-03-13T14:43:47.587Z"
   },
   {
    "duration": 1494,
    "start_time": "2022-03-13T14:43:47.590Z"
   },
   {
    "duration": 1491,
    "start_time": "2022-03-13T14:43:47.594Z"
   },
   {
    "duration": 1489,
    "start_time": "2022-03-13T14:43:47.597Z"
   },
   {
    "duration": 1485,
    "start_time": "2022-03-13T14:43:47.602Z"
   },
   {
    "duration": 1480,
    "start_time": "2022-03-13T14:43:47.608Z"
   },
   {
    "duration": 1469,
    "start_time": "2022-03-13T14:43:47.621Z"
   },
   {
    "duration": 1459,
    "start_time": "2022-03-13T14:43:47.632Z"
   },
   {
    "duration": 1454,
    "start_time": "2022-03-13T14:43:47.637Z"
   },
   {
    "duration": 1454,
    "start_time": "2022-03-13T14:43:47.639Z"
   },
   {
    "duration": 1452,
    "start_time": "2022-03-13T14:43:47.642Z"
   },
   {
    "duration": 1449,
    "start_time": "2022-03-13T14:43:47.645Z"
   },
   {
    "duration": 1448,
    "start_time": "2022-03-13T14:43:47.648Z"
   },
   {
    "duration": 1445,
    "start_time": "2022-03-13T14:43:47.652Z"
   },
   {
    "duration": 1444,
    "start_time": "2022-03-13T14:43:47.654Z"
   },
   {
    "duration": 1442,
    "start_time": "2022-03-13T14:43:47.657Z"
   },
   {
    "duration": 1440,
    "start_time": "2022-03-13T14:43:47.660Z"
   },
   {
    "duration": 1438,
    "start_time": "2022-03-13T14:43:47.663Z"
   },
   {
    "duration": 1435,
    "start_time": "2022-03-13T14:43:47.667Z"
   },
   {
    "duration": 1430,
    "start_time": "2022-03-13T14:43:47.673Z"
   },
   {
    "duration": 1426,
    "start_time": "2022-03-13T14:43:47.678Z"
   },
   {
    "duration": 1423,
    "start_time": "2022-03-13T14:43:47.682Z"
   },
   {
    "duration": 1420,
    "start_time": "2022-03-13T14:43:47.686Z"
   },
   {
    "duration": 1415,
    "start_time": "2022-03-13T14:43:47.692Z"
   },
   {
    "duration": 633,
    "start_time": "2022-03-13T14:44:43.386Z"
   },
   {
    "duration": 157,
    "start_time": "2022-03-13T14:44:44.022Z"
   },
   {
    "duration": 24,
    "start_time": "2022-03-13T14:44:44.182Z"
   },
   {
    "duration": 30,
    "start_time": "2022-03-13T14:44:44.208Z"
   },
   {
    "duration": 8,
    "start_time": "2022-03-13T14:44:44.240Z"
   },
   {
    "duration": 17,
    "start_time": "2022-03-13T14:44:44.250Z"
   },
   {
    "duration": 10,
    "start_time": "2022-03-13T14:44:44.269Z"
   },
   {
    "duration": 43,
    "start_time": "2022-03-13T14:44:44.282Z"
   },
   {
    "duration": 21,
    "start_time": "2022-03-13T14:44:44.328Z"
   },
   {
    "duration": 30,
    "start_time": "2022-03-13T14:44:44.351Z"
   },
   {
    "duration": 82,
    "start_time": "2022-03-13T14:44:44.383Z"
   },
   {
    "duration": 81,
    "start_time": "2022-03-13T14:44:44.467Z"
   },
   {
    "duration": 70,
    "start_time": "2022-03-13T14:44:44.550Z"
   },
   {
    "duration": 289,
    "start_time": "2022-03-13T14:44:44.622Z"
   },
   {
    "duration": 1456,
    "start_time": "2022-03-13T14:44:43.458Z"
   },
   {
    "duration": 1450,
    "start_time": "2022-03-13T14:44:43.465Z"
   },
   {
    "duration": 1445,
    "start_time": "2022-03-13T14:44:43.470Z"
   },
   {
    "duration": 1443,
    "start_time": "2022-03-13T14:44:43.474Z"
   },
   {
    "duration": 1439,
    "start_time": "2022-03-13T14:44:43.478Z"
   },
   {
    "duration": 1434,
    "start_time": "2022-03-13T14:44:43.484Z"
   },
   {
    "duration": 1433,
    "start_time": "2022-03-13T14:44:43.486Z"
   },
   {
    "duration": 1428,
    "start_time": "2022-03-13T14:44:43.492Z"
   },
   {
    "duration": 1423,
    "start_time": "2022-03-13T14:44:43.498Z"
   },
   {
    "duration": 1417,
    "start_time": "2022-03-13T14:44:43.505Z"
   },
   {
    "duration": 1412,
    "start_time": "2022-03-13T14:44:43.511Z"
   },
   {
    "duration": 1404,
    "start_time": "2022-03-13T14:44:43.520Z"
   },
   {
    "duration": 1403,
    "start_time": "2022-03-13T14:44:43.523Z"
   },
   {
    "duration": 1401,
    "start_time": "2022-03-13T14:44:43.526Z"
   },
   {
    "duration": 1387,
    "start_time": "2022-03-13T14:44:43.541Z"
   },
   {
    "duration": 1382,
    "start_time": "2022-03-13T14:44:43.547Z"
   },
   {
    "duration": 1379,
    "start_time": "2022-03-13T14:44:43.550Z"
   },
   {
    "duration": 1377,
    "start_time": "2022-03-13T14:44:43.553Z"
   },
   {
    "duration": 1373,
    "start_time": "2022-03-13T14:44:43.558Z"
   },
   {
    "duration": 1366,
    "start_time": "2022-03-13T14:44:43.566Z"
   },
   {
    "duration": 1362,
    "start_time": "2022-03-13T14:44:43.571Z"
   },
   {
    "duration": 1357,
    "start_time": "2022-03-13T14:44:43.577Z"
   },
   {
    "duration": 1352,
    "start_time": "2022-03-13T14:44:43.583Z"
   },
   {
    "duration": 1345,
    "start_time": "2022-03-13T14:44:43.590Z"
   },
   {
    "duration": 629,
    "start_time": "2022-03-13T14:45:58.298Z"
   },
   {
    "duration": 145,
    "start_time": "2022-03-13T14:45:58.929Z"
   },
   {
    "duration": 26,
    "start_time": "2022-03-13T14:45:59.076Z"
   },
   {
    "duration": 28,
    "start_time": "2022-03-13T14:45:59.104Z"
   },
   {
    "duration": 6,
    "start_time": "2022-03-13T14:45:59.134Z"
   },
   {
    "duration": 18,
    "start_time": "2022-03-13T14:45:59.141Z"
   },
   {
    "duration": 7,
    "start_time": "2022-03-13T14:45:59.161Z"
   },
   {
    "duration": 51,
    "start_time": "2022-03-13T14:45:59.170Z"
   },
   {
    "duration": 22,
    "start_time": "2022-03-13T14:45:59.223Z"
   },
   {
    "duration": 25,
    "start_time": "2022-03-13T14:45:59.247Z"
   },
   {
    "duration": 87,
    "start_time": "2022-03-13T14:45:59.274Z"
   },
   {
    "duration": 70,
    "start_time": "2022-03-13T14:45:59.363Z"
   },
   {
    "duration": 56,
    "start_time": "2022-03-13T14:45:59.435Z"
   },
   {
    "duration": 323,
    "start_time": "2022-03-13T14:45:59.501Z"
   },
   {
    "duration": 1412,
    "start_time": "2022-03-13T14:45:58.415Z"
   },
   {
    "duration": 1407,
    "start_time": "2022-03-13T14:45:58.421Z"
   },
   {
    "duration": 1401,
    "start_time": "2022-03-13T14:45:58.428Z"
   },
   {
    "duration": 1396,
    "start_time": "2022-03-13T14:45:58.434Z"
   },
   {
    "duration": 1390,
    "start_time": "2022-03-13T14:45:58.441Z"
   },
   {
    "duration": 1386,
    "start_time": "2022-03-13T14:45:58.446Z"
   },
   {
    "duration": 1381,
    "start_time": "2022-03-13T14:45:58.452Z"
   },
   {
    "duration": 1377,
    "start_time": "2022-03-13T14:45:58.457Z"
   },
   {
    "duration": 1374,
    "start_time": "2022-03-13T14:45:58.461Z"
   },
   {
    "duration": 1372,
    "start_time": "2022-03-13T14:45:58.465Z"
   },
   {
    "duration": 1369,
    "start_time": "2022-03-13T14:45:58.469Z"
   },
   {
    "duration": 1367,
    "start_time": "2022-03-13T14:45:58.472Z"
   },
   {
    "duration": 1365,
    "start_time": "2022-03-13T14:45:58.475Z"
   },
   {
    "duration": 1363,
    "start_time": "2022-03-13T14:45:58.478Z"
   },
   {
    "duration": 1360,
    "start_time": "2022-03-13T14:45:58.483Z"
   },
   {
    "duration": 1356,
    "start_time": "2022-03-13T14:45:58.488Z"
   },
   {
    "duration": 1351,
    "start_time": "2022-03-13T14:45:58.494Z"
   },
   {
    "duration": 1347,
    "start_time": "2022-03-13T14:45:58.498Z"
   },
   {
    "duration": 1343,
    "start_time": "2022-03-13T14:45:58.503Z"
   },
   {
    "duration": 1332,
    "start_time": "2022-03-13T14:45:58.515Z"
   },
   {
    "duration": 1330,
    "start_time": "2022-03-13T14:45:58.518Z"
   },
   {
    "duration": 1328,
    "start_time": "2022-03-13T14:45:58.521Z"
   },
   {
    "duration": 1322,
    "start_time": "2022-03-13T14:45:58.528Z"
   },
   {
    "duration": 1318,
    "start_time": "2022-03-13T14:45:58.533Z"
   },
   {
    "duration": 596,
    "start_time": "2022-03-13T14:47:26.634Z"
   },
   {
    "duration": 147,
    "start_time": "2022-03-13T14:47:27.233Z"
   },
   {
    "duration": 20,
    "start_time": "2022-03-13T14:47:27.383Z"
   },
   {
    "duration": 29,
    "start_time": "2022-03-13T14:47:27.406Z"
   },
   {
    "duration": 6,
    "start_time": "2022-03-13T14:47:27.437Z"
   },
   {
    "duration": 20,
    "start_time": "2022-03-13T14:47:27.445Z"
   },
   {
    "duration": 35,
    "start_time": "2022-03-13T14:47:27.467Z"
   },
   {
    "duration": 26,
    "start_time": "2022-03-13T14:47:27.505Z"
   },
   {
    "duration": 20,
    "start_time": "2022-03-13T14:47:27.534Z"
   },
   {
    "duration": 47,
    "start_time": "2022-03-13T14:47:27.557Z"
   },
   {
    "duration": 66,
    "start_time": "2022-03-13T14:47:27.606Z"
   },
   {
    "duration": 80,
    "start_time": "2022-03-13T14:47:27.674Z"
   },
   {
    "duration": 75,
    "start_time": "2022-03-13T14:47:27.756Z"
   },
   {
    "duration": 298,
    "start_time": "2022-03-13T14:47:27.834Z"
   },
   {
    "duration": 1439,
    "start_time": "2022-03-13T14:47:26.695Z"
   },
   {
    "duration": 1437,
    "start_time": "2022-03-13T14:47:26.699Z"
   },
   {
    "duration": 1430,
    "start_time": "2022-03-13T14:47:26.707Z"
   },
   {
    "duration": 1429,
    "start_time": "2022-03-13T14:47:26.709Z"
   },
   {
    "duration": 1426,
    "start_time": "2022-03-13T14:47:26.713Z"
   },
   {
    "duration": 1423,
    "start_time": "2022-03-13T14:47:26.717Z"
   },
   {
    "duration": 1418,
    "start_time": "2022-03-13T14:47:26.723Z"
   },
   {
    "duration": 1416,
    "start_time": "2022-03-13T14:47:26.726Z"
   },
   {
    "duration": 1415,
    "start_time": "2022-03-13T14:47:26.728Z"
   },
   {
    "duration": 1413,
    "start_time": "2022-03-13T14:47:26.731Z"
   },
   {
    "duration": 1409,
    "start_time": "2022-03-13T14:47:26.736Z"
   },
   {
    "duration": 1405,
    "start_time": "2022-03-13T14:47:26.741Z"
   },
   {
    "duration": 1404,
    "start_time": "2022-03-13T14:47:26.744Z"
   },
   {
    "duration": 1401,
    "start_time": "2022-03-13T14:47:26.748Z"
   },
   {
    "duration": 1395,
    "start_time": "2022-03-13T14:47:26.755Z"
   },
   {
    "duration": 1394,
    "start_time": "2022-03-13T14:47:26.758Z"
   },
   {
    "duration": 1391,
    "start_time": "2022-03-13T14:47:26.762Z"
   },
   {
    "duration": 1388,
    "start_time": "2022-03-13T14:47:26.766Z"
   },
   {
    "duration": 1383,
    "start_time": "2022-03-13T14:47:26.772Z"
   },
   {
    "duration": 1382,
    "start_time": "2022-03-13T14:47:26.775Z"
   },
   {
    "duration": 1380,
    "start_time": "2022-03-13T14:47:26.778Z"
   },
   {
    "duration": 1376,
    "start_time": "2022-03-13T14:47:26.783Z"
   },
   {
    "duration": 1362,
    "start_time": "2022-03-13T14:47:26.798Z"
   },
   {
    "duration": 1357,
    "start_time": "2022-03-13T14:47:26.804Z"
   },
   {
    "duration": 589,
    "start_time": "2022-03-13T14:48:31.937Z"
   },
   {
    "duration": 146,
    "start_time": "2022-03-13T14:48:32.529Z"
   },
   {
    "duration": 27,
    "start_time": "2022-03-13T14:48:32.677Z"
   },
   {
    "duration": 25,
    "start_time": "2022-03-13T14:48:32.706Z"
   },
   {
    "duration": 10,
    "start_time": "2022-03-13T14:48:32.733Z"
   },
   {
    "duration": 31,
    "start_time": "2022-03-13T14:48:32.745Z"
   },
   {
    "duration": 22,
    "start_time": "2022-03-13T14:48:32.778Z"
   },
   {
    "duration": 31,
    "start_time": "2022-03-13T14:48:32.802Z"
   },
   {
    "duration": 32,
    "start_time": "2022-03-13T14:48:32.835Z"
   },
   {
    "duration": 34,
    "start_time": "2022-03-13T14:48:32.869Z"
   },
   {
    "duration": 72,
    "start_time": "2022-03-13T14:48:32.905Z"
   },
   {
    "duration": 72,
    "start_time": "2022-03-13T14:48:32.980Z"
   },
   {
    "duration": 70,
    "start_time": "2022-03-13T14:48:33.054Z"
   },
   {
    "duration": 76,
    "start_time": "2022-03-13T14:48:33.126Z"
   },
   {
    "duration": 3,
    "start_time": "2022-03-13T14:48:33.204Z"
   },
   {
    "duration": 37,
    "start_time": "2022-03-13T14:48:33.209Z"
   },
   {
    "duration": 301,
    "start_time": "2022-03-13T14:48:33.248Z"
   },
   {
    "duration": 1475,
    "start_time": "2022-03-13T14:48:32.078Z"
   },
   {
    "duration": 1469,
    "start_time": "2022-03-13T14:48:32.085Z"
   },
   {
    "duration": 1462,
    "start_time": "2022-03-13T14:48:32.093Z"
   },
   {
    "duration": 1453,
    "start_time": "2022-03-13T14:48:32.103Z"
   },
   {
    "duration": 1446,
    "start_time": "2022-03-13T14:48:32.111Z"
   },
   {
    "duration": 1441,
    "start_time": "2022-03-13T14:48:32.117Z"
   },
   {
    "duration": 1435,
    "start_time": "2022-03-13T14:48:32.124Z"
   },
   {
    "duration": 1429,
    "start_time": "2022-03-13T14:48:32.131Z"
   },
   {
    "duration": 1423,
    "start_time": "2022-03-13T14:48:32.138Z"
   },
   {
    "duration": 1417,
    "start_time": "2022-03-13T14:48:32.145Z"
   },
   {
    "duration": 1411,
    "start_time": "2022-03-13T14:48:32.152Z"
   },
   {
    "duration": 1405,
    "start_time": "2022-03-13T14:48:32.159Z"
   },
   {
    "duration": 1398,
    "start_time": "2022-03-13T14:48:32.167Z"
   },
   {
    "duration": 1393,
    "start_time": "2022-03-13T14:48:32.173Z"
   },
   {
    "duration": 1376,
    "start_time": "2022-03-13T14:48:32.192Z"
   },
   {
    "duration": 1370,
    "start_time": "2022-03-13T14:48:32.199Z"
   },
   {
    "duration": 1364,
    "start_time": "2022-03-13T14:48:32.206Z"
   },
   {
    "duration": 1359,
    "start_time": "2022-03-13T14:48:32.212Z"
   },
   {
    "duration": 1352,
    "start_time": "2022-03-13T14:48:32.220Z"
   },
   {
    "duration": 1347,
    "start_time": "2022-03-13T14:48:32.226Z"
   },
   {
    "duration": 1340,
    "start_time": "2022-03-13T14:48:32.234Z"
   },
   {
    "duration": 594,
    "start_time": "2022-03-13T14:48:59.438Z"
   },
   {
    "duration": 153,
    "start_time": "2022-03-13T14:49:00.034Z"
   },
   {
    "duration": 22,
    "start_time": "2022-03-13T14:49:00.190Z"
   },
   {
    "duration": 45,
    "start_time": "2022-03-13T14:49:00.214Z"
   },
   {
    "duration": 28,
    "start_time": "2022-03-13T14:49:00.261Z"
   },
   {
    "duration": 33,
    "start_time": "2022-03-13T14:49:00.291Z"
   },
   {
    "duration": 14,
    "start_time": "2022-03-13T14:49:00.326Z"
   },
   {
    "duration": 41,
    "start_time": "2022-03-13T14:49:00.342Z"
   },
   {
    "duration": 27,
    "start_time": "2022-03-13T14:49:00.386Z"
   },
   {
    "duration": 25,
    "start_time": "2022-03-13T14:49:00.415Z"
   },
   {
    "duration": 79,
    "start_time": "2022-03-13T14:49:00.442Z"
   },
   {
    "duration": 78,
    "start_time": "2022-03-13T14:49:00.523Z"
   },
   {
    "duration": 62,
    "start_time": "2022-03-13T14:49:00.603Z"
   },
   {
    "duration": 355,
    "start_time": "2022-03-13T14:49:00.667Z"
   },
   {
    "duration": 1494,
    "start_time": "2022-03-13T14:48:59.531Z"
   },
   {
    "duration": 1489,
    "start_time": "2022-03-13T14:48:59.537Z"
   },
   {
    "duration": 1483,
    "start_time": "2022-03-13T14:48:59.544Z"
   },
   {
    "duration": 1423,
    "start_time": "2022-03-13T14:48:59.605Z"
   },
   {
    "duration": 1417,
    "start_time": "2022-03-13T14:48:59.612Z"
   },
   {
    "duration": 1412,
    "start_time": "2022-03-13T14:48:59.618Z"
   },
   {
    "duration": 1408,
    "start_time": "2022-03-13T14:48:59.624Z"
   },
   {
    "duration": 1393,
    "start_time": "2022-03-13T14:48:59.640Z"
   },
   {
    "duration": 1388,
    "start_time": "2022-03-13T14:48:59.646Z"
   },
   {
    "duration": 1384,
    "start_time": "2022-03-13T14:48:59.651Z"
   },
   {
    "duration": 1380,
    "start_time": "2022-03-13T14:48:59.657Z"
   },
   {
    "duration": 1376,
    "start_time": "2022-03-13T14:48:59.662Z"
   },
   {
    "duration": 1370,
    "start_time": "2022-03-13T14:48:59.669Z"
   },
   {
    "duration": 1366,
    "start_time": "2022-03-13T14:48:59.674Z"
   },
   {
    "duration": 1361,
    "start_time": "2022-03-13T14:48:59.680Z"
   },
   {
    "duration": 1358,
    "start_time": "2022-03-13T14:48:59.685Z"
   },
   {
    "duration": 1354,
    "start_time": "2022-03-13T14:48:59.690Z"
   },
   {
    "duration": 1329,
    "start_time": "2022-03-13T14:48:59.716Z"
   },
   {
    "duration": 1323,
    "start_time": "2022-03-13T14:48:59.723Z"
   },
   {
    "duration": 1320,
    "start_time": "2022-03-13T14:48:59.728Z"
   },
   {
    "duration": 1300,
    "start_time": "2022-03-13T14:48:59.749Z"
   },
   {
    "duration": 1295,
    "start_time": "2022-03-13T14:48:59.755Z"
   },
   {
    "duration": 1285,
    "start_time": "2022-03-13T14:48:59.766Z"
   },
   {
    "duration": 1282,
    "start_time": "2022-03-13T14:48:59.771Z"
   },
   {
    "duration": 622,
    "start_time": "2022-03-13T14:49:57.624Z"
   },
   {
    "duration": 147,
    "start_time": "2022-03-13T14:49:58.248Z"
   },
   {
    "duration": 19,
    "start_time": "2022-03-13T14:49:58.398Z"
   },
   {
    "duration": 26,
    "start_time": "2022-03-13T14:49:58.419Z"
   },
   {
    "duration": 17,
    "start_time": "2022-03-13T14:49:58.447Z"
   },
   {
    "duration": 22,
    "start_time": "2022-03-13T14:49:58.466Z"
   },
   {
    "duration": 14,
    "start_time": "2022-03-13T14:49:58.490Z"
   },
   {
    "duration": 26,
    "start_time": "2022-03-13T14:49:58.507Z"
   },
   {
    "duration": 22,
    "start_time": "2022-03-13T14:49:58.535Z"
   },
   {
    "duration": 43,
    "start_time": "2022-03-13T14:49:58.558Z"
   },
   {
    "duration": 64,
    "start_time": "2022-03-13T14:49:58.603Z"
   },
   {
    "duration": 85,
    "start_time": "2022-03-13T14:49:58.669Z"
   },
   {
    "duration": 69,
    "start_time": "2022-03-13T14:49:58.756Z"
   },
   {
    "duration": 121,
    "start_time": "2022-03-13T14:49:58.827Z"
   },
   {
    "duration": 3,
    "start_time": "2022-03-13T14:49:58.949Z"
   },
   {
    "duration": 24,
    "start_time": "2022-03-13T14:49:58.954Z"
   },
   {
    "duration": 300,
    "start_time": "2022-03-13T14:49:58.980Z"
   },
   {
    "duration": 1475,
    "start_time": "2022-03-13T14:49:57.807Z"
   },
   {
    "duration": 1471,
    "start_time": "2022-03-13T14:49:57.813Z"
   },
   {
    "duration": 1465,
    "start_time": "2022-03-13T14:49:57.820Z"
   },
   {
    "duration": 1422,
    "start_time": "2022-03-13T14:49:57.864Z"
   },
   {
    "duration": 1418,
    "start_time": "2022-03-13T14:49:57.869Z"
   },
   {
    "duration": 1412,
    "start_time": "2022-03-13T14:49:57.876Z"
   },
   {
    "duration": 1407,
    "start_time": "2022-03-13T14:49:57.882Z"
   },
   {
    "duration": 1403,
    "start_time": "2022-03-13T14:49:57.887Z"
   },
   {
    "duration": 1398,
    "start_time": "2022-03-13T14:49:57.893Z"
   },
   {
    "duration": 1394,
    "start_time": "2022-03-13T14:49:57.898Z"
   },
   {
    "duration": 1389,
    "start_time": "2022-03-13T14:49:57.904Z"
   },
   {
    "duration": 1385,
    "start_time": "2022-03-13T14:49:57.909Z"
   },
   {
    "duration": 1381,
    "start_time": "2022-03-13T14:49:57.915Z"
   },
   {
    "duration": 1377,
    "start_time": "2022-03-13T14:49:57.920Z"
   },
   {
    "duration": 1360,
    "start_time": "2022-03-13T14:49:57.938Z"
   },
   {
    "duration": 1353,
    "start_time": "2022-03-13T14:49:57.946Z"
   },
   {
    "duration": 1347,
    "start_time": "2022-03-13T14:49:57.953Z"
   },
   {
    "duration": 1339,
    "start_time": "2022-03-13T14:49:57.962Z"
   },
   {
    "duration": 1327,
    "start_time": "2022-03-13T14:49:57.975Z"
   },
   {
    "duration": 1317,
    "start_time": "2022-03-13T14:49:57.986Z"
   },
   {
    "duration": 1312,
    "start_time": "2022-03-13T14:49:57.992Z"
   },
   {
    "duration": 617,
    "start_time": "2022-03-13T14:53:03.622Z"
   },
   {
    "duration": 146,
    "start_time": "2022-03-13T14:53:04.241Z"
   },
   {
    "duration": 19,
    "start_time": "2022-03-13T14:53:04.389Z"
   },
   {
    "duration": 31,
    "start_time": "2022-03-13T14:53:04.410Z"
   },
   {
    "duration": 5,
    "start_time": "2022-03-13T14:53:04.443Z"
   },
   {
    "duration": 30,
    "start_time": "2022-03-13T14:53:04.450Z"
   },
   {
    "duration": 16,
    "start_time": "2022-03-13T14:53:04.482Z"
   },
   {
    "duration": 26,
    "start_time": "2022-03-13T14:53:04.502Z"
   },
   {
    "duration": 20,
    "start_time": "2022-03-13T14:53:04.531Z"
   },
   {
    "duration": 26,
    "start_time": "2022-03-13T14:53:04.553Z"
   },
   {
    "duration": 84,
    "start_time": "2022-03-13T14:53:04.581Z"
   },
   {
    "duration": 85,
    "start_time": "2022-03-13T14:53:04.667Z"
   },
   {
    "duration": 70,
    "start_time": "2022-03-13T14:53:04.754Z"
   },
   {
    "duration": 59,
    "start_time": "2022-03-13T14:53:04.826Z"
   },
   {
    "duration": 17,
    "start_time": "2022-03-13T14:53:04.887Z"
   },
   {
    "duration": 24,
    "start_time": "2022-03-13T14:53:04.907Z"
   },
   {
    "duration": 286,
    "start_time": "2022-03-13T14:53:04.934Z"
   },
   {
    "duration": 1516,
    "start_time": "2022-03-13T14:53:03.707Z"
   },
   {
    "duration": 1502,
    "start_time": "2022-03-13T14:53:03.722Z"
   },
   {
    "duration": 1499,
    "start_time": "2022-03-13T14:53:03.727Z"
   },
   {
    "duration": 1494,
    "start_time": "2022-03-13T14:53:03.733Z"
   },
   {
    "duration": 1486,
    "start_time": "2022-03-13T14:53:03.741Z"
   },
   {
    "duration": 1482,
    "start_time": "2022-03-13T14:53:03.746Z"
   },
   {
    "duration": 1476,
    "start_time": "2022-03-13T14:53:03.753Z"
   },
   {
    "duration": 1471,
    "start_time": "2022-03-13T14:53:03.759Z"
   },
   {
    "duration": 1467,
    "start_time": "2022-03-13T14:53:03.764Z"
   },
   {
    "duration": 1463,
    "start_time": "2022-03-13T14:53:03.770Z"
   },
   {
    "duration": 1458,
    "start_time": "2022-03-13T14:53:03.776Z"
   },
   {
    "duration": 1454,
    "start_time": "2022-03-13T14:53:03.781Z"
   },
   {
    "duration": 1448,
    "start_time": "2022-03-13T14:53:03.788Z"
   },
   {
    "duration": 1441,
    "start_time": "2022-03-13T14:53:03.796Z"
   },
   {
    "duration": 1420,
    "start_time": "2022-03-13T14:53:03.818Z"
   },
   {
    "duration": 1417,
    "start_time": "2022-03-13T14:53:03.823Z"
   },
   {
    "duration": 1413,
    "start_time": "2022-03-13T14:53:03.828Z"
   },
   {
    "duration": 1410,
    "start_time": "2022-03-13T14:53:03.832Z"
   },
   {
    "duration": 1407,
    "start_time": "2022-03-13T14:53:03.836Z"
   },
   {
    "duration": 1405,
    "start_time": "2022-03-13T14:53:03.839Z"
   },
   {
    "duration": 1403,
    "start_time": "2022-03-13T14:53:03.842Z"
   },
   {
    "duration": 703,
    "start_time": "2022-03-13T14:55:16.288Z"
   },
   {
    "duration": 138,
    "start_time": "2022-03-13T14:55:16.994Z"
   },
   {
    "duration": 18,
    "start_time": "2022-03-13T14:55:17.134Z"
   },
   {
    "duration": 28,
    "start_time": "2022-03-13T14:55:17.154Z"
   },
   {
    "duration": 22,
    "start_time": "2022-03-13T14:55:17.184Z"
   },
   {
    "duration": 18,
    "start_time": "2022-03-13T14:55:17.208Z"
   },
   {
    "duration": 8,
    "start_time": "2022-03-13T14:55:17.229Z"
   },
   {
    "duration": 28,
    "start_time": "2022-03-13T14:55:17.240Z"
   },
   {
    "duration": 42,
    "start_time": "2022-03-13T14:55:17.270Z"
   },
   {
    "duration": 26,
    "start_time": "2022-03-13T14:55:17.314Z"
   },
   {
    "duration": 79,
    "start_time": "2022-03-13T14:55:17.342Z"
   },
   {
    "duration": 65,
    "start_time": "2022-03-13T14:55:17.423Z"
   },
   {
    "duration": 69,
    "start_time": "2022-03-13T14:55:17.490Z"
   },
   {
    "duration": 347,
    "start_time": "2022-03-13T14:55:17.561Z"
   },
   {
    "duration": 1497,
    "start_time": "2022-03-13T14:55:16.413Z"
   },
   {
    "duration": 1491,
    "start_time": "2022-03-13T14:55:16.420Z"
   },
   {
    "duration": 1488,
    "start_time": "2022-03-13T14:55:16.425Z"
   },
   {
    "duration": 1483,
    "start_time": "2022-03-13T14:55:16.431Z"
   },
   {
    "duration": 1480,
    "start_time": "2022-03-13T14:55:16.436Z"
   },
   {
    "duration": 1467,
    "start_time": "2022-03-13T14:55:16.450Z"
   },
   {
    "duration": 1463,
    "start_time": "2022-03-13T14:55:16.455Z"
   },
   {
    "duration": 1461,
    "start_time": "2022-03-13T14:55:16.457Z"
   },
   {
    "duration": 1457,
    "start_time": "2022-03-13T14:55:16.463Z"
   },
   {
    "duration": 1451,
    "start_time": "2022-03-13T14:55:16.470Z"
   },
   {
    "duration": 1448,
    "start_time": "2022-03-13T14:55:16.474Z"
   },
   {
    "duration": 1447,
    "start_time": "2022-03-13T14:55:16.476Z"
   },
   {
    "duration": 1440,
    "start_time": "2022-03-13T14:55:16.484Z"
   },
   {
    "duration": 1439,
    "start_time": "2022-03-13T14:55:16.487Z"
   },
   {
    "duration": 1431,
    "start_time": "2022-03-13T14:55:16.496Z"
   },
   {
    "duration": 1426,
    "start_time": "2022-03-13T14:55:16.502Z"
   },
   {
    "duration": 1420,
    "start_time": "2022-03-13T14:55:16.509Z"
   },
   {
    "duration": 1417,
    "start_time": "2022-03-13T14:55:16.513Z"
   },
   {
    "duration": 1413,
    "start_time": "2022-03-13T14:55:16.518Z"
   },
   {
    "duration": 1409,
    "start_time": "2022-03-13T14:55:16.523Z"
   },
   {
    "duration": 1391,
    "start_time": "2022-03-13T14:55:16.542Z"
   },
   {
    "duration": 1386,
    "start_time": "2022-03-13T14:55:16.548Z"
   },
   {
    "duration": 1381,
    "start_time": "2022-03-13T14:55:16.554Z"
   },
   {
    "duration": 1376,
    "start_time": "2022-03-13T14:55:16.560Z"
   },
   {
    "duration": 631,
    "start_time": "2022-03-13T14:55:51.501Z"
   },
   {
    "duration": 153,
    "start_time": "2022-03-13T14:55:52.134Z"
   },
   {
    "duration": 24,
    "start_time": "2022-03-13T14:55:52.290Z"
   },
   {
    "duration": 29,
    "start_time": "2022-03-13T14:55:52.316Z"
   },
   {
    "duration": 7,
    "start_time": "2022-03-13T14:55:52.347Z"
   },
   {
    "duration": 45,
    "start_time": "2022-03-13T14:55:52.356Z"
   },
   {
    "duration": 6,
    "start_time": "2022-03-13T14:55:52.403Z"
   },
   {
    "duration": 33,
    "start_time": "2022-03-13T14:55:52.412Z"
   },
   {
    "duration": 25,
    "start_time": "2022-03-13T14:55:52.448Z"
   },
   {
    "duration": 42,
    "start_time": "2022-03-13T14:55:52.475Z"
   },
   {
    "duration": 63,
    "start_time": "2022-03-13T14:55:52.519Z"
   },
   {
    "duration": 75,
    "start_time": "2022-03-13T14:55:52.584Z"
   },
   {
    "duration": 70,
    "start_time": "2022-03-13T14:55:52.661Z"
   },
   {
    "duration": 278,
    "start_time": "2022-03-13T14:55:52.733Z"
   },
   {
    "duration": 1470,
    "start_time": "2022-03-13T14:55:51.543Z"
   },
   {
    "duration": 1464,
    "start_time": "2022-03-13T14:55:51.551Z"
   },
   {
    "duration": 1459,
    "start_time": "2022-03-13T14:55:51.557Z"
   },
   {
    "duration": 1430,
    "start_time": "2022-03-13T14:55:51.587Z"
   },
   {
    "duration": 1416,
    "start_time": "2022-03-13T14:55:51.602Z"
   },
   {
    "duration": 1412,
    "start_time": "2022-03-13T14:55:51.607Z"
   },
   {
    "duration": 1406,
    "start_time": "2022-03-13T14:55:51.614Z"
   },
   {
    "duration": 1401,
    "start_time": "2022-03-13T14:55:51.620Z"
   },
   {
    "duration": 1396,
    "start_time": "2022-03-13T14:55:51.626Z"
   },
   {
    "duration": 1391,
    "start_time": "2022-03-13T14:55:51.631Z"
   },
   {
    "duration": 1386,
    "start_time": "2022-03-13T14:55:51.637Z"
   },
   {
    "duration": 1371,
    "start_time": "2022-03-13T14:55:51.654Z"
   },
   {
    "duration": 1365,
    "start_time": "2022-03-13T14:55:51.661Z"
   },
   {
    "duration": 1360,
    "start_time": "2022-03-13T14:55:51.666Z"
   },
   {
    "duration": 1317,
    "start_time": "2022-03-13T14:55:51.710Z"
   },
   {
    "duration": 1314,
    "start_time": "2022-03-13T14:55:51.715Z"
   },
   {
    "duration": 1306,
    "start_time": "2022-03-13T14:55:51.723Z"
   },
   {
    "duration": 1301,
    "start_time": "2022-03-13T14:55:51.729Z"
   },
   {
    "duration": 1295,
    "start_time": "2022-03-13T14:55:51.736Z"
   },
   {
    "duration": 1291,
    "start_time": "2022-03-13T14:55:51.741Z"
   },
   {
    "duration": 1287,
    "start_time": "2022-03-13T14:55:51.746Z"
   },
   {
    "duration": 1282,
    "start_time": "2022-03-13T14:55:51.752Z"
   },
   {
    "duration": 1277,
    "start_time": "2022-03-13T14:55:51.758Z"
   },
   {
    "duration": 1258,
    "start_time": "2022-03-13T14:55:51.778Z"
   },
   {
    "duration": 616,
    "start_time": "2022-03-13T14:59:11.618Z"
   },
   {
    "duration": 147,
    "start_time": "2022-03-13T14:59:12.236Z"
   },
   {
    "duration": 23,
    "start_time": "2022-03-13T14:59:12.386Z"
   },
   {
    "duration": 31,
    "start_time": "2022-03-13T14:59:12.411Z"
   },
   {
    "duration": 4,
    "start_time": "2022-03-13T14:59:12.444Z"
   },
   {
    "duration": 17,
    "start_time": "2022-03-13T14:59:12.450Z"
   },
   {
    "duration": 33,
    "start_time": "2022-03-13T14:59:12.469Z"
   },
   {
    "duration": 32,
    "start_time": "2022-03-13T14:59:12.504Z"
   },
   {
    "duration": 19,
    "start_time": "2022-03-13T14:59:12.539Z"
   },
   {
    "duration": 25,
    "start_time": "2022-03-13T14:59:12.560Z"
   },
   {
    "duration": 67,
    "start_time": "2022-03-13T14:59:12.602Z"
   },
   {
    "duration": 78,
    "start_time": "2022-03-13T14:59:12.671Z"
   },
   {
    "duration": 68,
    "start_time": "2022-03-13T14:59:12.751Z"
   },
   {
    "duration": 58,
    "start_time": "2022-03-13T14:59:12.821Z"
   },
   {
    "duration": 21,
    "start_time": "2022-03-13T14:59:12.881Z"
   },
   {
    "duration": 27,
    "start_time": "2022-03-13T14:59:12.904Z"
   },
   {
    "duration": 320,
    "start_time": "2022-03-13T14:59:12.933Z"
   },
   {
    "duration": 1457,
    "start_time": "2022-03-13T14:59:11.799Z"
   },
   {
    "duration": 1449,
    "start_time": "2022-03-13T14:59:11.809Z"
   },
   {
    "duration": 1446,
    "start_time": "2022-03-13T14:59:11.813Z"
   },
   {
    "duration": 1445,
    "start_time": "2022-03-13T14:59:11.816Z"
   },
   {
    "duration": 1442,
    "start_time": "2022-03-13T14:59:11.820Z"
   },
   {
    "duration": 1437,
    "start_time": "2022-03-13T14:59:11.827Z"
   },
   {
    "duration": 1435,
    "start_time": "2022-03-13T14:59:11.831Z"
   },
   {
    "duration": 1434,
    "start_time": "2022-03-13T14:59:11.834Z"
   },
   {
    "duration": 1423,
    "start_time": "2022-03-13T14:59:11.846Z"
   },
   {
    "duration": 1422,
    "start_time": "2022-03-13T14:59:11.849Z"
   },
   {
    "duration": 1419,
    "start_time": "2022-03-13T14:59:11.854Z"
   },
   {
    "duration": 1416,
    "start_time": "2022-03-13T14:59:11.858Z"
   },
   {
    "duration": 1415,
    "start_time": "2022-03-13T14:59:11.861Z"
   },
   {
    "duration": 1414,
    "start_time": "2022-03-13T14:59:11.864Z"
   },
   {
    "duration": 1412,
    "start_time": "2022-03-13T14:59:11.867Z"
   },
   {
    "duration": 1409,
    "start_time": "2022-03-13T14:59:11.872Z"
   },
   {
    "duration": 1407,
    "start_time": "2022-03-13T14:59:11.876Z"
   },
   {
    "duration": 1404,
    "start_time": "2022-03-13T14:59:11.880Z"
   },
   {
    "duration": 1402,
    "start_time": "2022-03-13T14:59:11.884Z"
   },
   {
    "duration": 1398,
    "start_time": "2022-03-13T14:59:11.890Z"
   },
   {
    "duration": 1395,
    "start_time": "2022-03-13T14:59:11.894Z"
   },
   {
    "duration": 618,
    "start_time": "2022-03-13T14:59:32.015Z"
   },
   {
    "duration": 143,
    "start_time": "2022-03-13T14:59:32.635Z"
   },
   {
    "duration": 23,
    "start_time": "2022-03-13T14:59:32.780Z"
   },
   {
    "duration": 29,
    "start_time": "2022-03-13T14:59:32.805Z"
   },
   {
    "duration": 17,
    "start_time": "2022-03-13T14:59:32.836Z"
   },
   {
    "duration": 25,
    "start_time": "2022-03-13T14:59:32.855Z"
   },
   {
    "duration": 16,
    "start_time": "2022-03-13T14:59:32.882Z"
   },
   {
    "duration": 29,
    "start_time": "2022-03-13T14:59:32.901Z"
   },
   {
    "duration": 29,
    "start_time": "2022-03-13T14:59:32.932Z"
   },
   {
    "duration": 36,
    "start_time": "2022-03-13T14:59:32.963Z"
   },
   {
    "duration": 73,
    "start_time": "2022-03-13T14:59:33.001Z"
   },
   {
    "duration": 72,
    "start_time": "2022-03-13T14:59:33.076Z"
   },
   {
    "duration": 70,
    "start_time": "2022-03-13T14:59:33.150Z"
   },
   {
    "duration": 79,
    "start_time": "2022-03-13T14:59:33.222Z"
   },
   {
    "duration": 4,
    "start_time": "2022-03-13T14:59:33.303Z"
   },
   {
    "duration": 40,
    "start_time": "2022-03-13T14:59:33.309Z"
   },
   {
    "duration": 329,
    "start_time": "2022-03-13T14:59:33.352Z"
   },
   {
    "duration": 1514,
    "start_time": "2022-03-13T14:59:32.170Z"
   },
   {
    "duration": 1512,
    "start_time": "2022-03-13T14:59:32.173Z"
   },
   {
    "duration": 1510,
    "start_time": "2022-03-13T14:59:32.176Z"
   },
   {
    "duration": 1509,
    "start_time": "2022-03-13T14:59:32.179Z"
   },
   {
    "duration": 1507,
    "start_time": "2022-03-13T14:59:32.182Z"
   },
   {
    "duration": 1504,
    "start_time": "2022-03-13T14:59:32.186Z"
   },
   {
    "duration": 1478,
    "start_time": "2022-03-13T14:59:32.213Z"
   },
   {
    "duration": 1471,
    "start_time": "2022-03-13T14:59:32.221Z"
   },
   {
    "duration": 1468,
    "start_time": "2022-03-13T14:59:32.226Z"
   },
   {
    "duration": 1460,
    "start_time": "2022-03-13T14:59:32.235Z"
   },
   {
    "duration": 1455,
    "start_time": "2022-03-13T14:59:32.241Z"
   },
   {
    "duration": 1442,
    "start_time": "2022-03-13T14:59:32.255Z"
   },
   {
    "duration": 1437,
    "start_time": "2022-03-13T14:59:32.261Z"
   },
   {
    "duration": 1431,
    "start_time": "2022-03-13T14:59:32.268Z"
   },
   {
    "duration": 1427,
    "start_time": "2022-03-13T14:59:32.273Z"
   },
   {
    "duration": 1422,
    "start_time": "2022-03-13T14:59:32.279Z"
   },
   {
    "duration": 1418,
    "start_time": "2022-03-13T14:59:32.284Z"
   },
   {
    "duration": 1414,
    "start_time": "2022-03-13T14:59:32.290Z"
   },
   {
    "duration": 1410,
    "start_time": "2022-03-13T14:59:32.295Z"
   },
   {
    "duration": 1402,
    "start_time": "2022-03-13T14:59:32.304Z"
   },
   {
    "duration": 1398,
    "start_time": "2022-03-13T14:59:32.309Z"
   },
   {
    "duration": 602,
    "start_time": "2022-03-13T15:03:29.060Z"
   },
   {
    "duration": 160,
    "start_time": "2022-03-13T15:03:29.664Z"
   },
   {
    "duration": 20,
    "start_time": "2022-03-13T15:03:29.826Z"
   },
   {
    "duration": 52,
    "start_time": "2022-03-13T15:03:29.849Z"
   },
   {
    "duration": 5,
    "start_time": "2022-03-13T15:03:29.903Z"
   },
   {
    "duration": 17,
    "start_time": "2022-03-13T15:03:29.910Z"
   },
   {
    "duration": 13,
    "start_time": "2022-03-13T15:03:29.929Z"
   },
   {
    "duration": 25,
    "start_time": "2022-03-13T15:03:29.946Z"
   },
   {
    "duration": 48,
    "start_time": "2022-03-13T15:03:29.974Z"
   },
   {
    "duration": 26,
    "start_time": "2022-03-13T15:03:30.025Z"
   },
   {
    "duration": 90,
    "start_time": "2022-03-13T15:03:30.053Z"
   },
   {
    "duration": 80,
    "start_time": "2022-03-13T15:03:30.145Z"
   },
   {
    "duration": 74,
    "start_time": "2022-03-13T15:03:30.227Z"
   },
   {
    "duration": 331,
    "start_time": "2022-03-13T15:03:30.303Z"
   },
   {
    "duration": 1467,
    "start_time": "2022-03-13T15:03:29.170Z"
   },
   {
    "duration": 1461,
    "start_time": "2022-03-13T15:03:29.177Z"
   },
   {
    "duration": 1454,
    "start_time": "2022-03-13T15:03:29.185Z"
   },
   {
    "duration": 1450,
    "start_time": "2022-03-13T15:03:29.190Z"
   },
   {
    "duration": 1443,
    "start_time": "2022-03-13T15:03:29.198Z"
   },
   {
    "duration": 1438,
    "start_time": "2022-03-13T15:03:29.203Z"
   },
   {
    "duration": 1422,
    "start_time": "2022-03-13T15:03:29.220Z"
   },
   {
    "duration": 1416,
    "start_time": "2022-03-13T15:03:29.227Z"
   },
   {
    "duration": 1412,
    "start_time": "2022-03-13T15:03:29.232Z"
   },
   {
    "duration": 1398,
    "start_time": "2022-03-13T15:03:29.247Z"
   },
   {
    "duration": 1393,
    "start_time": "2022-03-13T15:03:29.253Z"
   },
   {
    "duration": 1389,
    "start_time": "2022-03-13T15:03:29.258Z"
   },
   {
    "duration": 1384,
    "start_time": "2022-03-13T15:03:29.264Z"
   },
   {
    "duration": 1379,
    "start_time": "2022-03-13T15:03:29.270Z"
   },
   {
    "duration": 1374,
    "start_time": "2022-03-13T15:03:29.276Z"
   },
   {
    "duration": 1370,
    "start_time": "2022-03-13T15:03:29.281Z"
   },
   {
    "duration": 1364,
    "start_time": "2022-03-13T15:03:29.287Z"
   },
   {
    "duration": 1360,
    "start_time": "2022-03-13T15:03:29.292Z"
   },
   {
    "duration": 1356,
    "start_time": "2022-03-13T15:03:29.297Z"
   },
   {
    "duration": 1352,
    "start_time": "2022-03-13T15:03:29.302Z"
   },
   {
    "duration": 1347,
    "start_time": "2022-03-13T15:03:29.308Z"
   },
   {
    "duration": 1344,
    "start_time": "2022-03-13T15:03:29.313Z"
   },
   {
    "duration": 1340,
    "start_time": "2022-03-13T15:03:29.318Z"
   },
   {
    "duration": 1335,
    "start_time": "2022-03-13T15:03:29.324Z"
   },
   {
    "duration": 636,
    "start_time": "2022-03-13T15:05:33.600Z"
   },
   {
    "duration": 158,
    "start_time": "2022-03-13T15:05:34.239Z"
   },
   {
    "duration": 18,
    "start_time": "2022-03-13T15:05:34.400Z"
   },
   {
    "duration": 28,
    "start_time": "2022-03-13T15:05:34.421Z"
   },
   {
    "duration": 9,
    "start_time": "2022-03-13T15:05:34.451Z"
   },
   {
    "duration": 39,
    "start_time": "2022-03-13T15:05:34.462Z"
   },
   {
    "duration": 4,
    "start_time": "2022-03-13T15:05:34.503Z"
   },
   {
    "duration": 33,
    "start_time": "2022-03-13T15:05:34.510Z"
   },
   {
    "duration": 19,
    "start_time": "2022-03-13T15:05:34.546Z"
   },
   {
    "duration": 38,
    "start_time": "2022-03-13T15:05:34.567Z"
   },
   {
    "duration": 71,
    "start_time": "2022-03-13T15:05:34.608Z"
   },
   {
    "duration": 85,
    "start_time": "2022-03-13T15:05:34.681Z"
   },
   {
    "duration": 77,
    "start_time": "2022-03-13T15:05:34.768Z"
   },
   {
    "duration": 323,
    "start_time": "2022-03-13T15:05:34.847Z"
   },
   {
    "duration": 1421,
    "start_time": "2022-03-13T15:05:33.752Z"
   },
   {
    "duration": 1417,
    "start_time": "2022-03-13T15:05:33.757Z"
   },
   {
    "duration": 1277,
    "start_time": "2022-03-13T15:05:33.898Z"
   },
   {
    "duration": 1261,
    "start_time": "2022-03-13T15:05:33.915Z"
   },
   {
    "duration": 1255,
    "start_time": "2022-03-13T15:05:33.922Z"
   },
   {
    "duration": 1250,
    "start_time": "2022-03-13T15:05:33.929Z"
   },
   {
    "duration": 1245,
    "start_time": "2022-03-13T15:05:33.935Z"
   },
   {
    "duration": 1240,
    "start_time": "2022-03-13T15:05:33.941Z"
   },
   {
    "duration": 1234,
    "start_time": "2022-03-13T15:05:33.948Z"
   },
   {
    "duration": 1217,
    "start_time": "2022-03-13T15:05:33.966Z"
   },
   {
    "duration": 1212,
    "start_time": "2022-03-13T15:05:33.972Z"
   },
   {
    "duration": 1206,
    "start_time": "2022-03-13T15:05:33.979Z"
   },
   {
    "duration": 1199,
    "start_time": "2022-03-13T15:05:33.986Z"
   },
   {
    "duration": 1193,
    "start_time": "2022-03-13T15:05:33.994Z"
   },
   {
    "duration": 1187,
    "start_time": "2022-03-13T15:05:34.001Z"
   },
   {
    "duration": 1182,
    "start_time": "2022-03-13T15:05:34.007Z"
   },
   {
    "duration": 1162,
    "start_time": "2022-03-13T15:05:34.027Z"
   },
   {
    "duration": 1158,
    "start_time": "2022-03-13T15:05:34.032Z"
   },
   {
    "duration": 1153,
    "start_time": "2022-03-13T15:05:34.038Z"
   },
   {
    "duration": 1148,
    "start_time": "2022-03-13T15:05:34.044Z"
   },
   {
    "duration": 1144,
    "start_time": "2022-03-13T15:05:34.049Z"
   },
   {
    "duration": 1140,
    "start_time": "2022-03-13T15:05:34.054Z"
   },
   {
    "duration": 1133,
    "start_time": "2022-03-13T15:05:34.061Z"
   },
   {
    "duration": 1125,
    "start_time": "2022-03-13T15:05:34.070Z"
   },
   {
    "duration": 623,
    "start_time": "2022-03-13T15:06:30.337Z"
   },
   {
    "duration": 185,
    "start_time": "2022-03-13T15:06:30.962Z"
   },
   {
    "duration": 21,
    "start_time": "2022-03-13T15:06:31.150Z"
   },
   {
    "duration": 47,
    "start_time": "2022-03-13T15:06:31.174Z"
   },
   {
    "duration": 19,
    "start_time": "2022-03-13T15:06:31.223Z"
   },
   {
    "duration": 34,
    "start_time": "2022-03-13T15:06:31.244Z"
   },
   {
    "duration": 20,
    "start_time": "2022-03-13T15:06:31.281Z"
   },
   {
    "duration": 51,
    "start_time": "2022-03-13T15:06:31.303Z"
   },
   {
    "duration": 33,
    "start_time": "2022-03-13T15:06:31.357Z"
   },
   {
    "duration": 33,
    "start_time": "2022-03-13T15:06:31.393Z"
   },
   {
    "duration": 89,
    "start_time": "2022-03-13T15:06:31.427Z"
   },
   {
    "duration": 66,
    "start_time": "2022-03-13T15:06:31.519Z"
   },
   {
    "duration": 72,
    "start_time": "2022-03-13T15:06:31.587Z"
   },
   {
    "duration": 312,
    "start_time": "2022-03-13T15:06:31.661Z"
   },
   {
    "duration": 1507,
    "start_time": "2022-03-13T15:06:30.468Z"
   },
   {
    "duration": 1491,
    "start_time": "2022-03-13T15:06:30.485Z"
   },
   {
    "duration": 1486,
    "start_time": "2022-03-13T15:06:30.491Z"
   },
   {
    "duration": 1482,
    "start_time": "2022-03-13T15:06:30.496Z"
   },
   {
    "duration": 1476,
    "start_time": "2022-03-13T15:06:30.503Z"
   },
   {
    "duration": 1471,
    "start_time": "2022-03-13T15:06:30.509Z"
   },
   {
    "duration": 1466,
    "start_time": "2022-03-13T15:06:30.515Z"
   },
   {
    "duration": 1462,
    "start_time": "2022-03-13T15:06:30.520Z"
   },
   {
    "duration": 1457,
    "start_time": "2022-03-13T15:06:30.526Z"
   },
   {
    "duration": 1453,
    "start_time": "2022-03-13T15:06:30.531Z"
   },
   {
    "duration": 1449,
    "start_time": "2022-03-13T15:06:30.536Z"
   },
   {
    "duration": 1445,
    "start_time": "2022-03-13T15:06:30.541Z"
   },
   {
    "duration": 1441,
    "start_time": "2022-03-13T15:06:30.546Z"
   },
   {
    "duration": 1436,
    "start_time": "2022-03-13T15:06:30.551Z"
   },
   {
    "duration": 1431,
    "start_time": "2022-03-13T15:06:30.557Z"
   },
   {
    "duration": 1427,
    "start_time": "2022-03-13T15:06:30.562Z"
   },
   {
    "duration": 1422,
    "start_time": "2022-03-13T15:06:30.568Z"
   },
   {
    "duration": 1419,
    "start_time": "2022-03-13T15:06:30.572Z"
   },
   {
    "duration": 1408,
    "start_time": "2022-03-13T15:06:30.584Z"
   },
   {
    "duration": 1404,
    "start_time": "2022-03-13T15:06:30.589Z"
   },
   {
    "duration": 1401,
    "start_time": "2022-03-13T15:06:30.593Z"
   },
   {
    "duration": 1399,
    "start_time": "2022-03-13T15:06:30.596Z"
   },
   {
    "duration": 1398,
    "start_time": "2022-03-13T15:06:30.598Z"
   },
   {
    "duration": 1394,
    "start_time": "2022-03-13T15:06:30.603Z"
   },
   {
    "duration": 653,
    "start_time": "2022-03-13T15:11:56.766Z"
   },
   {
    "duration": 160,
    "start_time": "2022-03-13T15:11:57.421Z"
   },
   {
    "duration": 23,
    "start_time": "2022-03-13T15:11:57.584Z"
   },
   {
    "duration": 31,
    "start_time": "2022-03-13T15:11:57.609Z"
   },
   {
    "duration": 8,
    "start_time": "2022-03-13T15:11:57.642Z"
   },
   {
    "duration": 17,
    "start_time": "2022-03-13T15:11:57.652Z"
   },
   {
    "duration": 10,
    "start_time": "2022-03-13T15:11:57.671Z"
   },
   {
    "duration": 24,
    "start_time": "2022-03-13T15:11:57.703Z"
   },
   {
    "duration": 32,
    "start_time": "2022-03-13T15:11:57.730Z"
   },
   {
    "duration": 39,
    "start_time": "2022-03-13T15:11:57.764Z"
   },
   {
    "duration": 67,
    "start_time": "2022-03-13T15:11:57.805Z"
   },
   {
    "duration": 88,
    "start_time": "2022-03-13T15:11:57.874Z"
   },
   {
    "duration": 74,
    "start_time": "2022-03-13T15:11:57.964Z"
   },
   {
    "duration": 341,
    "start_time": "2022-03-13T15:11:58.040Z"
   },
   {
    "duration": 1498,
    "start_time": "2022-03-13T15:11:56.886Z"
   },
   {
    "duration": 1494,
    "start_time": "2022-03-13T15:11:56.891Z"
   },
   {
    "duration": 1490,
    "start_time": "2022-03-13T15:11:56.897Z"
   },
   {
    "duration": 1485,
    "start_time": "2022-03-13T15:11:56.903Z"
   },
   {
    "duration": 1480,
    "start_time": "2022-03-13T15:11:56.909Z"
   },
   {
    "duration": 1475,
    "start_time": "2022-03-13T15:11:56.915Z"
   },
   {
    "duration": 1471,
    "start_time": "2022-03-13T15:11:56.921Z"
   },
   {
    "duration": 1445,
    "start_time": "2022-03-13T15:11:56.948Z"
   },
   {
    "duration": 1437,
    "start_time": "2022-03-13T15:11:56.957Z"
   },
   {
    "duration": 1435,
    "start_time": "2022-03-13T15:11:56.961Z"
   },
   {
    "duration": 1431,
    "start_time": "2022-03-13T15:11:56.966Z"
   },
   {
    "duration": 1428,
    "start_time": "2022-03-13T15:11:56.970Z"
   },
   {
    "duration": 1427,
    "start_time": "2022-03-13T15:11:56.973Z"
   },
   {
    "duration": 1423,
    "start_time": "2022-03-13T15:11:56.978Z"
   },
   {
    "duration": 1420,
    "start_time": "2022-03-13T15:11:56.982Z"
   },
   {
    "duration": 1417,
    "start_time": "2022-03-13T15:11:56.986Z"
   },
   {
    "duration": 1414,
    "start_time": "2022-03-13T15:11:56.991Z"
   },
   {
    "duration": 1411,
    "start_time": "2022-03-13T15:11:56.995Z"
   },
   {
    "duration": 1407,
    "start_time": "2022-03-13T15:11:57.000Z"
   },
   {
    "duration": 1317,
    "start_time": "2022-03-13T15:11:57.091Z"
   },
   {
    "duration": 1294,
    "start_time": "2022-03-13T15:11:57.116Z"
   },
   {
    "duration": 1290,
    "start_time": "2022-03-13T15:11:57.121Z"
   },
   {
    "duration": 1287,
    "start_time": "2022-03-13T15:11:57.124Z"
   },
   {
    "duration": 1285,
    "start_time": "2022-03-13T15:11:57.128Z"
   },
   {
    "duration": 682,
    "start_time": "2022-03-13T15:12:22.804Z"
   },
   {
    "duration": 179,
    "start_time": "2022-03-13T15:12:23.488Z"
   },
   {
    "duration": 31,
    "start_time": "2022-03-13T15:12:23.670Z"
   },
   {
    "duration": 27,
    "start_time": "2022-03-13T15:12:23.704Z"
   },
   {
    "duration": 9,
    "start_time": "2022-03-13T15:12:23.733Z"
   },
   {
    "duration": 17,
    "start_time": "2022-03-13T15:12:23.744Z"
   },
   {
    "duration": 9,
    "start_time": "2022-03-13T15:12:23.763Z"
   },
   {
    "duration": 49,
    "start_time": "2022-03-13T15:12:23.775Z"
   },
   {
    "duration": 27,
    "start_time": "2022-03-13T15:12:23.827Z"
   },
   {
    "duration": 26,
    "start_time": "2022-03-13T15:12:23.856Z"
   },
   {
    "duration": 80,
    "start_time": "2022-03-13T15:12:23.884Z"
   },
   {
    "duration": 75,
    "start_time": "2022-03-13T15:12:23.966Z"
   },
   {
    "duration": 68,
    "start_time": "2022-03-13T15:12:24.043Z"
   },
   {
    "duration": 43,
    "start_time": "2022-03-13T15:12:24.113Z"
   },
   {
    "duration": 6,
    "start_time": "2022-03-13T15:12:24.157Z"
   },
   {
    "duration": 40,
    "start_time": "2022-03-13T15:12:24.165Z"
   },
   {
    "duration": 313,
    "start_time": "2022-03-13T15:12:24.207Z"
   },
   {
    "duration": 1343,
    "start_time": "2022-03-13T15:12:23.181Z"
   },
   {
    "duration": 1339,
    "start_time": "2022-03-13T15:12:23.186Z"
   },
   {
    "duration": 1337,
    "start_time": "2022-03-13T15:12:23.190Z"
   },
   {
    "duration": 1336,
    "start_time": "2022-03-13T15:12:23.193Z"
   },
   {
    "duration": 1332,
    "start_time": "2022-03-13T15:12:23.198Z"
   },
   {
    "duration": 1331,
    "start_time": "2022-03-13T15:12:23.201Z"
   },
   {
    "duration": 1329,
    "start_time": "2022-03-13T15:12:23.204Z"
   },
   {
    "duration": 1327,
    "start_time": "2022-03-13T15:12:23.207Z"
   },
   {
    "duration": 1323,
    "start_time": "2022-03-13T15:12:23.213Z"
   },
   {
    "duration": 1320,
    "start_time": "2022-03-13T15:12:23.217Z"
   },
   {
    "duration": 1319,
    "start_time": "2022-03-13T15:12:23.220Z"
   },
   {
    "duration": 1315,
    "start_time": "2022-03-13T15:12:23.225Z"
   },
   {
    "duration": 1315,
    "start_time": "2022-03-13T15:12:23.227Z"
   },
   {
    "duration": 1312,
    "start_time": "2022-03-13T15:12:23.231Z"
   },
   {
    "duration": 1310,
    "start_time": "2022-03-13T15:12:23.234Z"
   },
   {
    "duration": 1309,
    "start_time": "2022-03-13T15:12:23.237Z"
   },
   {
    "duration": 1307,
    "start_time": "2022-03-13T15:12:23.240Z"
   },
   {
    "duration": 1302,
    "start_time": "2022-03-13T15:12:23.247Z"
   },
   {
    "duration": 1300,
    "start_time": "2022-03-13T15:12:23.250Z"
   },
   {
    "duration": 1298,
    "start_time": "2022-03-13T15:12:23.253Z"
   },
   {
    "duration": 1297,
    "start_time": "2022-03-13T15:12:23.256Z"
   },
   {
    "duration": 610,
    "start_time": "2022-03-13T15:12:58.229Z"
   },
   {
    "duration": 151,
    "start_time": "2022-03-13T15:12:58.841Z"
   },
   {
    "duration": 17,
    "start_time": "2022-03-13T15:12:58.995Z"
   },
   {
    "duration": 39,
    "start_time": "2022-03-13T15:12:59.015Z"
   },
   {
    "duration": 29,
    "start_time": "2022-03-13T15:12:59.056Z"
   },
   {
    "duration": 54,
    "start_time": "2022-03-13T15:12:59.087Z"
   },
   {
    "duration": 21,
    "start_time": "2022-03-13T15:12:59.143Z"
   },
   {
    "duration": 38,
    "start_time": "2022-03-13T15:12:59.167Z"
   },
   {
    "duration": 29,
    "start_time": "2022-03-13T15:12:59.208Z"
   },
   {
    "duration": 32,
    "start_time": "2022-03-13T15:12:59.239Z"
   },
   {
    "duration": 81,
    "start_time": "2022-03-13T15:12:59.273Z"
   },
   {
    "duration": 78,
    "start_time": "2022-03-13T15:12:59.355Z"
   },
   {
    "duration": 67,
    "start_time": "2022-03-13T15:12:59.435Z"
   },
   {
    "duration": 295,
    "start_time": "2022-03-13T15:12:59.504Z"
   },
   {
    "duration": 1499,
    "start_time": "2022-03-13T15:12:58.302Z"
   },
   {
    "duration": 1493,
    "start_time": "2022-03-13T15:12:58.309Z"
   },
   {
    "duration": 1485,
    "start_time": "2022-03-13T15:12:58.318Z"
   },
   {
    "duration": 1481,
    "start_time": "2022-03-13T15:12:58.324Z"
   },
   {
    "duration": 1452,
    "start_time": "2022-03-13T15:12:58.354Z"
   },
   {
    "duration": 1433,
    "start_time": "2022-03-13T15:12:58.373Z"
   },
   {
    "duration": 1424,
    "start_time": "2022-03-13T15:12:58.383Z"
   },
   {
    "duration": 1419,
    "start_time": "2022-03-13T15:12:58.390Z"
   },
   {
    "duration": 1415,
    "start_time": "2022-03-13T15:12:58.395Z"
   },
   {
    "duration": 1407,
    "start_time": "2022-03-13T15:12:58.404Z"
   },
   {
    "duration": 1402,
    "start_time": "2022-03-13T15:12:58.409Z"
   },
   {
    "duration": 1397,
    "start_time": "2022-03-13T15:12:58.416Z"
   },
   {
    "duration": 1395,
    "start_time": "2022-03-13T15:12:58.419Z"
   },
   {
    "duration": 1393,
    "start_time": "2022-03-13T15:12:58.422Z"
   },
   {
    "duration": 1392,
    "start_time": "2022-03-13T15:12:58.425Z"
   },
   {
    "duration": 1387,
    "start_time": "2022-03-13T15:12:58.431Z"
   },
   {
    "duration": 1379,
    "start_time": "2022-03-13T15:12:58.440Z"
   },
   {
    "duration": 1369,
    "start_time": "2022-03-13T15:12:58.451Z"
   },
   {
    "duration": 1362,
    "start_time": "2022-03-13T15:12:58.459Z"
   },
   {
    "duration": 1357,
    "start_time": "2022-03-13T15:12:58.465Z"
   },
   {
    "duration": 1354,
    "start_time": "2022-03-13T15:12:58.469Z"
   },
   {
    "duration": 1348,
    "start_time": "2022-03-13T15:12:58.476Z"
   },
   {
    "duration": 1342,
    "start_time": "2022-03-13T15:12:58.483Z"
   },
   {
    "duration": 1338,
    "start_time": "2022-03-13T15:12:58.488Z"
   },
   {
    "duration": 637,
    "start_time": "2022-03-13T16:16:46.595Z"
   },
   {
    "duration": 153,
    "start_time": "2022-03-13T16:16:47.234Z"
   },
   {
    "duration": 19,
    "start_time": "2022-03-13T16:16:47.389Z"
   },
   {
    "duration": 34,
    "start_time": "2022-03-13T16:16:47.410Z"
   },
   {
    "duration": 7,
    "start_time": "2022-03-13T16:16:47.446Z"
   },
   {
    "duration": 26,
    "start_time": "2022-03-13T16:16:47.455Z"
   },
   {
    "duration": 9,
    "start_time": "2022-03-13T16:16:47.483Z"
   },
   {
    "duration": 30,
    "start_time": "2022-03-13T16:16:47.495Z"
   },
   {
    "duration": 20,
    "start_time": "2022-03-13T16:16:47.528Z"
   },
   {
    "duration": 27,
    "start_time": "2022-03-13T16:16:47.549Z"
   },
   {
    "duration": 86,
    "start_time": "2022-03-13T16:16:47.578Z"
   },
   {
    "duration": 81,
    "start_time": "2022-03-13T16:16:47.666Z"
   },
   {
    "duration": 67,
    "start_time": "2022-03-13T16:16:47.749Z"
   },
   {
    "duration": 353,
    "start_time": "2022-03-13T16:16:47.818Z"
   },
   {
    "duration": -40,
    "start_time": "2022-03-13T16:16:48.214Z"
   },
   {
    "duration": -44,
    "start_time": "2022-03-13T16:16:48.219Z"
   },
   {
    "duration": -51,
    "start_time": "2022-03-13T16:16:48.227Z"
   },
   {
    "duration": -79,
    "start_time": "2022-03-13T16:16:48.256Z"
   },
   {
    "duration": -87,
    "start_time": "2022-03-13T16:16:48.265Z"
   },
   {
    "duration": -91,
    "start_time": "2022-03-13T16:16:48.270Z"
   },
   {
    "duration": -106,
    "start_time": "2022-03-13T16:16:48.286Z"
   },
   {
    "duration": -111,
    "start_time": "2022-03-13T16:16:48.292Z"
   },
   {
    "duration": -116,
    "start_time": "2022-03-13T16:16:48.298Z"
   },
   {
    "duration": -120,
    "start_time": "2022-03-13T16:16:48.303Z"
   },
   {
    "duration": -127,
    "start_time": "2022-03-13T16:16:48.311Z"
   },
   {
    "duration": -134,
    "start_time": "2022-03-13T16:16:48.319Z"
   },
   {
    "duration": -139,
    "start_time": "2022-03-13T16:16:48.326Z"
   },
   {
    "duration": -143,
    "start_time": "2022-03-13T16:16:48.331Z"
   },
   {
    "duration": -150,
    "start_time": "2022-03-13T16:16:48.339Z"
   },
   {
    "duration": -155,
    "start_time": "2022-03-13T16:16:48.345Z"
   },
   {
    "duration": -160,
    "start_time": "2022-03-13T16:16:48.351Z"
   },
   {
    "duration": -165,
    "start_time": "2022-03-13T16:16:48.357Z"
   },
   {
    "duration": -167,
    "start_time": "2022-03-13T16:16:48.361Z"
   },
   {
    "duration": -169,
    "start_time": "2022-03-13T16:16:48.364Z"
   },
   {
    "duration": -173,
    "start_time": "2022-03-13T16:16:48.368Z"
   },
   {
    "duration": -178,
    "start_time": "2022-03-13T16:16:48.374Z"
   },
   {
    "duration": -181,
    "start_time": "2022-03-13T16:16:48.378Z"
   },
   {
    "duration": -185,
    "start_time": "2022-03-13T16:16:48.383Z"
   },
   {
    "duration": 577,
    "start_time": "2022-03-13T16:18:27.350Z"
   },
   {
    "duration": 157,
    "start_time": "2022-03-13T16:18:27.929Z"
   },
   {
    "duration": 20,
    "start_time": "2022-03-13T16:18:28.089Z"
   },
   {
    "duration": 26,
    "start_time": "2022-03-13T16:18:28.112Z"
   },
   {
    "duration": 5,
    "start_time": "2022-03-13T16:18:28.141Z"
   },
   {
    "duration": 19,
    "start_time": "2022-03-13T16:18:28.148Z"
   },
   {
    "duration": 33,
    "start_time": "2022-03-13T16:18:28.169Z"
   },
   {
    "duration": 35,
    "start_time": "2022-03-13T16:18:28.206Z"
   },
   {
    "duration": 21,
    "start_time": "2022-03-13T16:18:28.244Z"
   },
   {
    "duration": 35,
    "start_time": "2022-03-13T16:18:28.267Z"
   },
   {
    "duration": 71,
    "start_time": "2022-03-13T16:18:28.304Z"
   },
   {
    "duration": 79,
    "start_time": "2022-03-13T16:18:28.376Z"
   },
   {
    "duration": 69,
    "start_time": "2022-03-13T16:18:28.457Z"
   },
   {
    "duration": 307,
    "start_time": "2022-03-13T16:18:28.528Z"
   },
   {
    "duration": 909,
    "start_time": "2022-03-13T16:18:27.929Z"
   },
   {
    "duration": 903,
    "start_time": "2022-03-13T16:18:27.935Z"
   },
   {
    "duration": 896,
    "start_time": "2022-03-13T16:18:27.943Z"
   },
   {
    "duration": 890,
    "start_time": "2022-03-13T16:18:27.950Z"
   },
   {
    "duration": 887,
    "start_time": "2022-03-13T16:18:27.954Z"
   },
   {
    "duration": 883,
    "start_time": "2022-03-13T16:18:27.959Z"
   },
   {
    "duration": 882,
    "start_time": "2022-03-13T16:18:27.962Z"
   },
   {
    "duration": 880,
    "start_time": "2022-03-13T16:18:27.965Z"
   },
   {
    "duration": 878,
    "start_time": "2022-03-13T16:18:27.968Z"
   },
   {
    "duration": 876,
    "start_time": "2022-03-13T16:18:27.971Z"
   },
   {
    "duration": 872,
    "start_time": "2022-03-13T16:18:27.975Z"
   },
   {
    "duration": 867,
    "start_time": "2022-03-13T16:18:27.981Z"
   },
   {
    "duration": 862,
    "start_time": "2022-03-13T16:18:27.988Z"
   },
   {
    "duration": 858,
    "start_time": "2022-03-13T16:18:27.993Z"
   },
   {
    "duration": 855,
    "start_time": "2022-03-13T16:18:27.997Z"
   },
   {
    "duration": 852,
    "start_time": "2022-03-13T16:18:28.001Z"
   },
   {
    "duration": 849,
    "start_time": "2022-03-13T16:18:28.005Z"
   },
   {
    "duration": 847,
    "start_time": "2022-03-13T16:18:28.008Z"
   },
   {
    "duration": 845,
    "start_time": "2022-03-13T16:18:28.011Z"
   },
   {
    "duration": 843,
    "start_time": "2022-03-13T16:18:28.014Z"
   },
   {
    "duration": 828,
    "start_time": "2022-03-13T16:18:28.030Z"
   },
   {
    "duration": 826,
    "start_time": "2022-03-13T16:18:28.034Z"
   },
   {
    "duration": 825,
    "start_time": "2022-03-13T16:18:28.037Z"
   },
   {
    "duration": 820,
    "start_time": "2022-03-13T16:18:28.042Z"
   },
   {
    "duration": 624,
    "start_time": "2022-03-13T16:18:46.064Z"
   },
   {
    "duration": 147,
    "start_time": "2022-03-13T16:18:46.690Z"
   },
   {
    "duration": 18,
    "start_time": "2022-03-13T16:18:46.840Z"
   },
   {
    "duration": 41,
    "start_time": "2022-03-13T16:18:46.860Z"
   },
   {
    "duration": 4,
    "start_time": "2022-03-13T16:18:46.904Z"
   },
   {
    "duration": 17,
    "start_time": "2022-03-13T16:18:46.910Z"
   },
   {
    "duration": 9,
    "start_time": "2022-03-13T16:18:46.929Z"
   },
   {
    "duration": 37,
    "start_time": "2022-03-13T16:18:46.941Z"
   },
   {
    "duration": 34,
    "start_time": "2022-03-13T16:18:46.980Z"
   },
   {
    "duration": 25,
    "start_time": "2022-03-13T16:18:47.016Z"
   },
   {
    "duration": 83,
    "start_time": "2022-03-13T16:18:47.043Z"
   },
   {
    "duration": 73,
    "start_time": "2022-03-13T16:18:47.128Z"
   },
   {
    "duration": 64,
    "start_time": "2022-03-13T16:18:47.203Z"
   },
   {
    "duration": 9,
    "start_time": "2022-03-13T16:18:47.269Z"
   },
   {
    "duration": 26,
    "start_time": "2022-03-13T16:18:47.280Z"
   },
   {
    "duration": 27,
    "start_time": "2022-03-13T16:18:47.308Z"
   },
   {
    "duration": 291,
    "start_time": "2022-03-13T16:18:47.337Z"
   },
   {
    "duration": 916,
    "start_time": "2022-03-13T16:18:46.715Z"
   },
   {
    "duration": 912,
    "start_time": "2022-03-13T16:18:46.720Z"
   },
   {
    "duration": 902,
    "start_time": "2022-03-13T16:18:46.731Z"
   },
   {
    "duration": 899,
    "start_time": "2022-03-13T16:18:46.735Z"
   },
   {
    "duration": 897,
    "start_time": "2022-03-13T16:18:46.738Z"
   },
   {
    "duration": 893,
    "start_time": "2022-03-13T16:18:46.742Z"
   },
   {
    "duration": 889,
    "start_time": "2022-03-13T16:18:46.748Z"
   },
   {
    "duration": 885,
    "start_time": "2022-03-13T16:18:46.753Z"
   },
   {
    "duration": 883,
    "start_time": "2022-03-13T16:18:46.756Z"
   },
   {
    "duration": 878,
    "start_time": "2022-03-13T16:18:46.762Z"
   },
   {
    "duration": 876,
    "start_time": "2022-03-13T16:18:46.765Z"
   },
   {
    "duration": 874,
    "start_time": "2022-03-13T16:18:46.768Z"
   },
   {
    "duration": 872,
    "start_time": "2022-03-13T16:18:46.771Z"
   },
   {
    "duration": 866,
    "start_time": "2022-03-13T16:18:46.778Z"
   },
   {
    "duration": 864,
    "start_time": "2022-03-13T16:18:46.781Z"
   },
   {
    "duration": 862,
    "start_time": "2022-03-13T16:18:46.784Z"
   },
   {
    "duration": 860,
    "start_time": "2022-03-13T16:18:46.787Z"
   },
   {
    "duration": 855,
    "start_time": "2022-03-13T16:18:46.793Z"
   },
   {
    "duration": 850,
    "start_time": "2022-03-13T16:18:46.799Z"
   },
   {
    "duration": 846,
    "start_time": "2022-03-13T16:18:46.804Z"
   },
   {
    "duration": 840,
    "start_time": "2022-03-13T16:18:46.811Z"
   },
   {
    "duration": 626,
    "start_time": "2022-03-13T16:19:10.599Z"
   },
   {
    "duration": 157,
    "start_time": "2022-03-13T16:19:11.227Z"
   },
   {
    "duration": 24,
    "start_time": "2022-03-13T16:19:11.386Z"
   },
   {
    "duration": 31,
    "start_time": "2022-03-13T16:19:11.412Z"
   },
   {
    "duration": 12,
    "start_time": "2022-03-13T16:19:11.445Z"
   },
   {
    "duration": 26,
    "start_time": "2022-03-13T16:19:11.459Z"
   },
   {
    "duration": 15,
    "start_time": "2022-03-13T16:19:11.487Z"
   },
   {
    "duration": 39,
    "start_time": "2022-03-13T16:19:11.504Z"
   },
   {
    "duration": 28,
    "start_time": "2022-03-13T16:19:11.546Z"
   },
   {
    "duration": 27,
    "start_time": "2022-03-13T16:19:11.577Z"
   },
   {
    "duration": 67,
    "start_time": "2022-03-13T16:19:11.606Z"
   },
   {
    "duration": 80,
    "start_time": "2022-03-13T16:19:11.675Z"
   },
   {
    "duration": 66,
    "start_time": "2022-03-13T16:19:11.757Z"
   },
   {
    "duration": 8,
    "start_time": "2022-03-13T16:19:11.825Z"
   },
   {
    "duration": 5,
    "start_time": "2022-03-13T16:19:11.834Z"
   },
   {
    "duration": 25,
    "start_time": "2022-03-13T16:19:11.840Z"
   },
   {
    "duration": 273,
    "start_time": "2022-03-13T16:19:11.868Z"
   },
   {
    "duration": 887,
    "start_time": "2022-03-13T16:19:11.256Z"
   },
   {
    "duration": 884,
    "start_time": "2022-03-13T16:19:11.260Z"
   },
   {
    "duration": 882,
    "start_time": "2022-03-13T16:19:11.263Z"
   },
   {
    "duration": 881,
    "start_time": "2022-03-13T16:19:11.266Z"
   },
   {
    "duration": 879,
    "start_time": "2022-03-13T16:19:11.269Z"
   },
   {
    "duration": 877,
    "start_time": "2022-03-13T16:19:11.273Z"
   },
   {
    "duration": 872,
    "start_time": "2022-03-13T16:19:11.279Z"
   },
   {
    "duration": 868,
    "start_time": "2022-03-13T16:19:11.284Z"
   },
   {
    "duration": 856,
    "start_time": "2022-03-13T16:19:11.297Z"
   },
   {
    "duration": 837,
    "start_time": "2022-03-13T16:19:11.317Z"
   },
   {
    "duration": 833,
    "start_time": "2022-03-13T16:19:11.322Z"
   },
   {
    "duration": 829,
    "start_time": "2022-03-13T16:19:11.328Z"
   },
   {
    "duration": 825,
    "start_time": "2022-03-13T16:19:11.333Z"
   },
   {
    "duration": 821,
    "start_time": "2022-03-13T16:19:11.338Z"
   },
   {
    "duration": 818,
    "start_time": "2022-03-13T16:19:11.342Z"
   },
   {
    "duration": 815,
    "start_time": "2022-03-13T16:19:11.346Z"
   },
   {
    "duration": 813,
    "start_time": "2022-03-13T16:19:11.349Z"
   },
   {
    "duration": 811,
    "start_time": "2022-03-13T16:19:11.352Z"
   },
   {
    "duration": 809,
    "start_time": "2022-03-13T16:19:11.355Z"
   },
   {
    "duration": 807,
    "start_time": "2022-03-13T16:19:11.358Z"
   },
   {
    "duration": 805,
    "start_time": "2022-03-13T16:19:11.361Z"
   },
   {
    "duration": 671,
    "start_time": "2022-03-13T16:19:51.558Z"
   },
   {
    "duration": 154,
    "start_time": "2022-03-13T16:19:52.231Z"
   },
   {
    "duration": 24,
    "start_time": "2022-03-13T16:19:52.388Z"
   },
   {
    "duration": 26,
    "start_time": "2022-03-13T16:19:52.414Z"
   },
   {
    "duration": 10,
    "start_time": "2022-03-13T16:19:52.442Z"
   },
   {
    "duration": 27,
    "start_time": "2022-03-13T16:19:52.454Z"
   },
   {
    "duration": 19,
    "start_time": "2022-03-13T16:19:52.483Z"
   },
   {
    "duration": 35,
    "start_time": "2022-03-13T16:19:52.504Z"
   },
   {
    "duration": 21,
    "start_time": "2022-03-13T16:19:52.542Z"
   },
   {
    "duration": 37,
    "start_time": "2022-03-13T16:19:52.566Z"
   },
   {
    "duration": 68,
    "start_time": "2022-03-13T16:19:52.605Z"
   },
   {
    "duration": 94,
    "start_time": "2022-03-13T16:19:52.676Z"
   },
   {
    "duration": 76,
    "start_time": "2022-03-13T16:19:52.772Z"
   },
   {
    "duration": 307,
    "start_time": "2022-03-13T16:19:52.850Z"
   },
   {
    "duration": 937,
    "start_time": "2022-03-13T16:19:52.222Z"
   },
   {
    "duration": 934,
    "start_time": "2022-03-13T16:19:52.227Z"
   },
   {
    "duration": 929,
    "start_time": "2022-03-13T16:19:52.233Z"
   },
   {
    "duration": 924,
    "start_time": "2022-03-13T16:19:52.239Z"
   },
   {
    "duration": 920,
    "start_time": "2022-03-13T16:19:52.244Z"
   },
   {
    "duration": 913,
    "start_time": "2022-03-13T16:19:52.252Z"
   },
   {
    "duration": 894,
    "start_time": "2022-03-13T16:19:52.272Z"
   },
   {
    "duration": 888,
    "start_time": "2022-03-13T16:19:52.279Z"
   },
   {
    "duration": 882,
    "start_time": "2022-03-13T16:19:52.286Z"
   },
   {
    "duration": 877,
    "start_time": "2022-03-13T16:19:52.292Z"
   },
   {
    "duration": 872,
    "start_time": "2022-03-13T16:19:52.298Z"
   },
   {
    "duration": 867,
    "start_time": "2022-03-13T16:19:52.304Z"
   },
   {
    "duration": 862,
    "start_time": "2022-03-13T16:19:52.311Z"
   },
   {
    "duration": 856,
    "start_time": "2022-03-13T16:19:52.318Z"
   },
   {
    "duration": 848,
    "start_time": "2022-03-13T16:19:52.327Z"
   },
   {
    "duration": 842,
    "start_time": "2022-03-13T16:19:52.335Z"
   },
   {
    "duration": 834,
    "start_time": "2022-03-13T16:19:52.344Z"
   },
   {
    "duration": 828,
    "start_time": "2022-03-13T16:19:52.351Z"
   },
   {
    "duration": 821,
    "start_time": "2022-03-13T16:19:52.359Z"
   },
   {
    "duration": 816,
    "start_time": "2022-03-13T16:19:52.365Z"
   },
   {
    "duration": 799,
    "start_time": "2022-03-13T16:19:52.383Z"
   },
   {
    "duration": 794,
    "start_time": "2022-03-13T16:19:52.389Z"
   },
   {
    "duration": 790,
    "start_time": "2022-03-13T16:19:52.394Z"
   },
   {
    "duration": 783,
    "start_time": "2022-03-13T16:19:52.402Z"
   },
   {
    "duration": 665,
    "start_time": "2022-03-13T16:22:44.986Z"
   },
   {
    "duration": 145,
    "start_time": "2022-03-13T16:22:45.653Z"
   },
   {
    "duration": 327,
    "start_time": "2022-03-13T16:22:45.800Z"
   },
   {
    "duration": 664,
    "start_time": "2022-03-13T16:22:46.129Z"
   },
   {
    "duration": 578,
    "start_time": "2022-03-13T16:22:46.795Z"
   },
   {
    "duration": 151,
    "start_time": "2022-03-13T16:22:47.376Z"
   },
   {
    "duration": 184,
    "start_time": "2022-03-13T16:22:47.529Z"
   },
   {
    "duration": 201,
    "start_time": "2022-03-13T16:22:47.716Z"
   },
   {
    "duration": 550,
    "start_time": "2022-03-13T16:22:47.919Z"
   },
   {
    "duration": 813,
    "start_time": "2022-03-13T16:22:48.471Z"
   },
   {
    "duration": 1157,
    "start_time": "2022-03-13T16:22:49.286Z"
   },
   {
    "duration": 243,
    "start_time": "2022-03-13T16:22:50.446Z"
   },
   {
    "duration": 408,
    "start_time": "2022-03-13T16:22:50.691Z"
   },
   {
    "duration": 526,
    "start_time": "2022-03-13T16:22:51.101Z"
   },
   {
    "duration": 935,
    "start_time": "2022-03-13T16:22:50.695Z"
   },
   {
    "duration": 922,
    "start_time": "2022-03-13T16:22:50.709Z"
   },
   {
    "duration": 917,
    "start_time": "2022-03-13T16:22:50.715Z"
   },
   {
    "duration": 911,
    "start_time": "2022-03-13T16:22:50.722Z"
   },
   {
    "duration": 907,
    "start_time": "2022-03-13T16:22:50.728Z"
   },
   {
    "duration": 890,
    "start_time": "2022-03-13T16:22:50.746Z"
   },
   {
    "duration": 886,
    "start_time": "2022-03-13T16:22:50.752Z"
   },
   {
    "duration": 881,
    "start_time": "2022-03-13T16:22:50.758Z"
   },
   {
    "duration": 877,
    "start_time": "2022-03-13T16:22:50.763Z"
   },
   {
    "duration": 871,
    "start_time": "2022-03-13T16:22:50.770Z"
   },
   {
    "duration": 868,
    "start_time": "2022-03-13T16:22:50.775Z"
   },
   {
    "duration": 863,
    "start_time": "2022-03-13T16:22:50.781Z"
   },
   {
    "duration": 857,
    "start_time": "2022-03-13T16:22:50.788Z"
   },
   {
    "duration": 851,
    "start_time": "2022-03-13T16:22:50.795Z"
   },
   {
    "duration": 844,
    "start_time": "2022-03-13T16:22:50.803Z"
   },
   {
    "duration": 825,
    "start_time": "2022-03-13T16:22:50.824Z"
   },
   {
    "duration": 813,
    "start_time": "2022-03-13T16:22:50.837Z"
   },
   {
    "duration": 809,
    "start_time": "2022-03-13T16:22:50.843Z"
   },
   {
    "duration": 806,
    "start_time": "2022-03-13T16:22:50.848Z"
   },
   {
    "duration": 800,
    "start_time": "2022-03-13T16:22:50.855Z"
   },
   {
    "duration": 779,
    "start_time": "2022-03-13T16:22:50.877Z"
   },
   {
    "duration": 777,
    "start_time": "2022-03-13T16:22:50.880Z"
   },
   {
    "duration": 774,
    "start_time": "2022-03-13T16:22:50.883Z"
   },
   {
    "duration": 769,
    "start_time": "2022-03-13T16:22:50.889Z"
   },
   {
    "duration": 652,
    "start_time": "2022-03-13T16:23:38.810Z"
   },
   {
    "duration": 160,
    "start_time": "2022-03-13T16:23:39.464Z"
   },
   {
    "duration": 108,
    "start_time": "2022-03-13T16:23:39.626Z"
   },
   {
    "duration": 204,
    "start_time": "2022-03-13T16:23:39.737Z"
   },
   {
    "duration": 202,
    "start_time": "2022-03-13T16:23:39.943Z"
   },
   {
    "duration": 382,
    "start_time": "2022-03-13T16:23:40.147Z"
   },
   {
    "duration": 127,
    "start_time": "2022-03-13T16:23:40.531Z"
   },
   {
    "duration": 710,
    "start_time": "2022-03-13T16:23:40.662Z"
   },
   {
    "duration": 231,
    "start_time": "2022-03-13T16:23:41.375Z"
   },
   {
    "duration": 266,
    "start_time": "2022-03-13T16:23:41.609Z"
   },
   {
    "duration": 415,
    "start_time": "2022-03-13T16:23:41.877Z"
   },
   {
    "duration": 265,
    "start_time": "2022-03-13T16:23:42.295Z"
   },
   {
    "duration": 175,
    "start_time": "2022-03-13T16:23:42.562Z"
   },
   {
    "duration": 796,
    "start_time": "2022-03-13T16:23:42.739Z"
   },
   {
    "duration": 911,
    "start_time": "2022-03-13T16:23:42.627Z"
   },
   {
    "duration": 890,
    "start_time": "2022-03-13T16:23:42.650Z"
   },
   {
    "duration": 885,
    "start_time": "2022-03-13T16:23:42.656Z"
   },
   {
    "duration": 879,
    "start_time": "2022-03-13T16:23:42.663Z"
   },
   {
    "duration": 875,
    "start_time": "2022-03-13T16:23:42.668Z"
   },
   {
    "duration": 870,
    "start_time": "2022-03-13T16:23:42.674Z"
   },
   {
    "duration": 866,
    "start_time": "2022-03-13T16:23:42.679Z"
   },
   {
    "duration": 862,
    "start_time": "2022-03-13T16:23:42.685Z"
   },
   {
    "duration": 858,
    "start_time": "2022-03-13T16:23:42.690Z"
   },
   {
    "duration": 853,
    "start_time": "2022-03-13T16:23:42.696Z"
   },
   {
    "duration": 849,
    "start_time": "2022-03-13T16:23:42.701Z"
   },
   {
    "duration": 844,
    "start_time": "2022-03-13T16:23:42.707Z"
   },
   {
    "duration": 841,
    "start_time": "2022-03-13T16:23:42.712Z"
   },
   {
    "duration": 836,
    "start_time": "2022-03-13T16:23:42.718Z"
   },
   {
    "duration": 833,
    "start_time": "2022-03-13T16:23:42.723Z"
   },
   {
    "duration": 828,
    "start_time": "2022-03-13T16:23:42.729Z"
   },
   {
    "duration": 825,
    "start_time": "2022-03-13T16:23:42.734Z"
   },
   {
    "duration": 823,
    "start_time": "2022-03-13T16:23:42.738Z"
   },
   {
    "duration": 821,
    "start_time": "2022-03-13T16:23:42.742Z"
   },
   {
    "duration": 811,
    "start_time": "2022-03-13T16:23:42.753Z"
   },
   {
    "duration": 810,
    "start_time": "2022-03-13T16:23:42.755Z"
   },
   {
    "duration": 806,
    "start_time": "2022-03-13T16:23:42.760Z"
   },
   {
    "duration": 801,
    "start_time": "2022-03-13T16:23:42.766Z"
   },
   {
    "duration": 799,
    "start_time": "2022-03-13T16:23:42.770Z"
   },
   {
    "duration": 662,
    "start_time": "2022-03-13T16:25:30.576Z"
   },
   {
    "duration": 1862,
    "start_time": "2022-03-13T16:25:31.241Z"
   },
   {
    "duration": 1837,
    "start_time": "2022-03-13T16:25:33.106Z"
   },
   {
    "duration": 2060,
    "start_time": "2022-03-13T16:25:34.946Z"
   },
   {
    "duration": 1137,
    "start_time": "2022-03-13T16:25:37.009Z"
   },
   {
    "duration": 1118,
    "start_time": "2022-03-13T16:25:38.148Z"
   },
   {
    "duration": 1380,
    "start_time": "2022-03-13T16:25:39.268Z"
   },
   {
    "duration": 697,
    "start_time": "2022-03-13T16:25:40.650Z"
   },
   {
    "duration": 1478,
    "start_time": "2022-03-13T16:25:41.351Z"
   },
   {
    "duration": 1480,
    "start_time": "2022-03-13T16:25:42.832Z"
   },
   {
    "duration": 2382,
    "start_time": "2022-03-13T16:25:44.314Z"
   },
   {
    "duration": 1976,
    "start_time": "2022-03-13T16:25:46.698Z"
   },
   {
    "duration": 1083,
    "start_time": "2022-03-13T16:25:48.676Z"
   },
   {
    "duration": 1508,
    "start_time": "2022-03-13T16:25:49.761Z"
   },
   {
    "duration": 881,
    "start_time": "2022-03-13T16:25:50.390Z"
   },
   {
    "duration": 663,
    "start_time": "2022-03-13T16:25:50.609Z"
   },
   {
    "duration": 649,
    "start_time": "2022-03-13T16:25:50.624Z"
   },
   {
    "duration": 644,
    "start_time": "2022-03-13T16:25:50.630Z"
   },
   {
    "duration": 638,
    "start_time": "2022-03-13T16:25:50.636Z"
   },
   {
    "duration": 633,
    "start_time": "2022-03-13T16:25:50.642Z"
   },
   {
    "duration": 629,
    "start_time": "2022-03-13T16:25:50.647Z"
   },
   {
    "duration": 624,
    "start_time": "2022-03-13T16:25:50.653Z"
   },
   {
    "duration": 618,
    "start_time": "2022-03-13T16:25:50.660Z"
   },
   {
    "duration": 614,
    "start_time": "2022-03-13T16:25:50.665Z"
   },
   {
    "duration": 609,
    "start_time": "2022-03-13T16:25:50.671Z"
   },
   {
    "duration": 604,
    "start_time": "2022-03-13T16:25:50.677Z"
   },
   {
    "duration": 384,
    "start_time": "2022-03-13T16:25:50.898Z"
   },
   {
    "duration": 371,
    "start_time": "2022-03-13T16:25:50.912Z"
   },
   {
    "duration": 366,
    "start_time": "2022-03-13T16:25:50.918Z"
   },
   {
    "duration": 361,
    "start_time": "2022-03-13T16:25:50.924Z"
   },
   {
    "duration": 355,
    "start_time": "2022-03-13T16:25:50.931Z"
   },
   {
    "duration": 350,
    "start_time": "2022-03-13T16:25:50.937Z"
   },
   {
    "duration": 345,
    "start_time": "2022-03-13T16:25:50.943Z"
   },
   {
    "duration": 339,
    "start_time": "2022-03-13T16:25:50.950Z"
   },
   {
    "duration": 334,
    "start_time": "2022-03-13T16:25:50.956Z"
   },
   {
    "duration": 326,
    "start_time": "2022-03-13T16:25:50.965Z"
   },
   {
    "duration": 321,
    "start_time": "2022-03-13T16:25:50.971Z"
   },
   {
    "duration": 97,
    "start_time": "2022-03-13T16:25:51.196Z"
   },
   {
    "duration": 1430,
    "start_time": "2022-03-13T16:26:28.708Z"
   },
   {
    "duration": 154,
    "start_time": "2022-03-13T16:26:30.140Z"
   },
   {
    "duration": 948,
    "start_time": "2022-03-13T16:26:30.296Z"
   },
   {
    "duration": 1415,
    "start_time": "2022-03-13T16:26:31.247Z"
   },
   {
    "duration": 1233,
    "start_time": "2022-03-13T16:26:32.664Z"
   },
   {
    "duration": 1127,
    "start_time": "2022-03-13T16:26:33.899Z"
   },
   {
    "duration": 1643,
    "start_time": "2022-03-13T16:26:35.028Z"
   },
   {
    "duration": 4097,
    "start_time": "2022-03-13T16:26:36.674Z"
   },
   {
    "duration": 4548,
    "start_time": "2022-03-13T16:26:40.774Z"
   },
   {
    "duration": 671,
    "start_time": "2022-03-13T16:26:45.324Z"
   },
   {
    "duration": 760,
    "start_time": "2022-03-13T16:26:45.997Z"
   },
   {
    "duration": 828,
    "start_time": "2022-03-13T16:26:46.759Z"
   },
   {
    "duration": 554,
    "start_time": "2022-03-13T16:26:47.589Z"
   },
   {
    "duration": 818,
    "start_time": "2022-03-13T16:26:48.145Z"
   },
   {
    "duration": 1367,
    "start_time": "2022-03-13T16:26:48.966Z"
   },
   {
    "duration": 698,
    "start_time": "2022-03-13T16:26:50.334Z"
   },
   {
    "duration": 980,
    "start_time": "2022-03-13T16:26:51.034Z"
   },
   {
    "duration": 935,
    "start_time": "2022-03-13T16:26:51.083Z"
   },
   {
    "duration": 929,
    "start_time": "2022-03-13T16:26:51.090Z"
   },
   {
    "duration": 910,
    "start_time": "2022-03-13T16:26:51.111Z"
   },
   {
    "duration": 896,
    "start_time": "2022-03-13T16:26:51.126Z"
   },
   {
    "duration": 891,
    "start_time": "2022-03-13T16:26:51.133Z"
   },
   {
    "duration": 878,
    "start_time": "2022-03-13T16:26:51.148Z"
   },
   {
    "duration": 874,
    "start_time": "2022-03-13T16:26:51.153Z"
   },
   {
    "duration": 870,
    "start_time": "2022-03-13T16:26:51.159Z"
   },
   {
    "duration": 866,
    "start_time": "2022-03-13T16:26:51.164Z"
   },
   {
    "duration": 862,
    "start_time": "2022-03-13T16:26:51.170Z"
   },
   {
    "duration": 860,
    "start_time": "2022-03-13T16:26:51.174Z"
   },
   {
    "duration": 844,
    "start_time": "2022-03-13T16:26:51.191Z"
   },
   {
    "duration": 840,
    "start_time": "2022-03-13T16:26:51.197Z"
   },
   {
    "duration": 826,
    "start_time": "2022-03-13T16:26:51.212Z"
   },
   {
    "duration": 812,
    "start_time": "2022-03-13T16:26:51.228Z"
   },
   {
    "duration": 808,
    "start_time": "2022-03-13T16:26:51.233Z"
   },
   {
    "duration": 794,
    "start_time": "2022-03-13T16:26:51.249Z"
   },
   {
    "duration": 789,
    "start_time": "2022-03-13T16:26:51.255Z"
   },
   {
    "duration": 786,
    "start_time": "2022-03-13T16:26:51.259Z"
   },
   {
    "duration": 781,
    "start_time": "2022-03-13T16:26:51.265Z"
   },
   {
    "duration": 777,
    "start_time": "2022-03-13T16:26:51.270Z"
   },
   {
    "duration": 640,
    "start_time": "2022-03-13T16:27:08.328Z"
   },
   {
    "duration": 231,
    "start_time": "2022-03-13T16:27:08.970Z"
   },
   {
    "duration": 298,
    "start_time": "2022-03-13T16:27:09.204Z"
   },
   {
    "duration": 359,
    "start_time": "2022-03-13T16:27:09.505Z"
   },
   {
    "duration": 428,
    "start_time": "2022-03-13T16:27:09.867Z"
   },
   {
    "duration": 520,
    "start_time": "2022-03-13T16:27:10.297Z"
   },
   {
    "duration": 433,
    "start_time": "2022-03-13T16:27:10.820Z"
   },
   {
    "duration": 314,
    "start_time": "2022-03-13T16:27:11.256Z"
   },
   {
    "duration": 391,
    "start_time": "2022-03-13T16:27:11.574Z"
   },
   {
    "duration": 443,
    "start_time": "2022-03-13T16:27:11.967Z"
   },
   {
    "duration": 296,
    "start_time": "2022-03-13T16:27:12.414Z"
   },
   {
    "duration": 415,
    "start_time": "2022-03-13T16:27:12.712Z"
   },
   {
    "duration": 464,
    "start_time": "2022-03-13T16:27:13.130Z"
   },
   {
    "duration": 280,
    "start_time": "2022-03-13T16:27:13.596Z"
   },
   {
    "duration": 521,
    "start_time": "2022-03-13T16:27:13.878Z"
   },
   {
    "duration": 543,
    "start_time": "2022-03-13T16:27:14.401Z"
   },
   {
    "duration": 580,
    "start_time": "2022-03-13T16:27:14.946Z"
   },
   {
    "duration": 941,
    "start_time": "2022-03-13T16:27:14.588Z"
   },
   {
    "duration": 934,
    "start_time": "2022-03-13T16:27:14.596Z"
   },
   {
    "duration": 911,
    "start_time": "2022-03-13T16:27:14.620Z"
   },
   {
    "duration": 898,
    "start_time": "2022-03-13T16:27:14.635Z"
   },
   {
    "duration": 892,
    "start_time": "2022-03-13T16:27:14.642Z"
   },
   {
    "duration": 887,
    "start_time": "2022-03-13T16:27:14.648Z"
   },
   {
    "duration": 882,
    "start_time": "2022-03-13T16:27:14.654Z"
   },
   {
    "duration": 868,
    "start_time": "2022-03-13T16:27:14.670Z"
   },
   {
    "duration": 863,
    "start_time": "2022-03-13T16:27:14.676Z"
   },
   {
    "duration": 857,
    "start_time": "2022-03-13T16:27:14.683Z"
   },
   {
    "duration": 853,
    "start_time": "2022-03-13T16:27:14.688Z"
   },
   {
    "duration": 848,
    "start_time": "2022-03-13T16:27:14.694Z"
   },
   {
    "duration": 841,
    "start_time": "2022-03-13T16:27:14.702Z"
   },
   {
    "duration": 837,
    "start_time": "2022-03-13T16:27:14.707Z"
   },
   {
    "duration": 833,
    "start_time": "2022-03-13T16:27:14.713Z"
   },
   {
    "duration": 829,
    "start_time": "2022-03-13T16:27:14.718Z"
   },
   {
    "duration": 824,
    "start_time": "2022-03-13T16:27:14.724Z"
   },
   {
    "duration": 819,
    "start_time": "2022-03-13T16:27:14.730Z"
   },
   {
    "duration": 818,
    "start_time": "2022-03-13T16:27:14.732Z"
   },
   {
    "duration": 815,
    "start_time": "2022-03-13T16:27:14.736Z"
   },
   {
    "duration": 814,
    "start_time": "2022-03-13T16:27:14.738Z"
   },
   {
    "duration": 6,
    "start_time": "2022-03-13T16:27:30.630Z"
   },
   {
    "duration": 815,
    "start_time": "2022-03-13T16:27:53.296Z"
   },
   {
    "duration": 159,
    "start_time": "2022-03-13T16:27:54.114Z"
   },
   {
    "duration": 466,
    "start_time": "2022-03-13T16:27:54.276Z"
   },
   {
    "duration": 402,
    "start_time": "2022-03-13T16:27:54.744Z"
   },
   {
    "duration": 361,
    "start_time": "2022-03-13T16:27:55.148Z"
   },
   {
    "duration": 482,
    "start_time": "2022-03-13T16:27:55.511Z"
   },
   {
    "duration": 846,
    "start_time": "2022-03-13T16:27:55.996Z"
   },
   {
    "duration": 621,
    "start_time": "2022-03-13T16:27:56.846Z"
   },
   {
    "duration": 585,
    "start_time": "2022-03-13T16:27:57.469Z"
   },
   {
    "duration": 3832,
    "start_time": "2022-03-13T16:27:58.056Z"
   },
   {
    "duration": 2088,
    "start_time": "2022-03-13T16:28:01.890Z"
   },
   {
    "duration": 728,
    "start_time": "2022-03-13T16:28:03.980Z"
   },
   {
    "duration": 921,
    "start_time": "2022-03-13T16:28:04.710Z"
   },
   {
    "duration": 916,
    "start_time": "2022-03-13T16:28:05.633Z"
   },
   {
    "duration": 2119,
    "start_time": "2022-03-13T16:28:06.551Z"
   },
   {
    "duration": 1467,
    "start_time": "2022-03-13T16:28:08.672Z"
   },
   {
    "duration": 1644,
    "start_time": "2022-03-13T16:28:10.141Z"
   },
   {
    "duration": 915,
    "start_time": "2022-03-13T16:28:10.873Z"
   },
   {
    "duration": 910,
    "start_time": "2022-03-13T16:28:10.879Z"
   },
   {
    "duration": 752,
    "start_time": "2022-03-13T16:28:11.039Z"
   },
   {
    "duration": 739,
    "start_time": "2022-03-13T16:28:11.053Z"
   },
   {
    "duration": 736,
    "start_time": "2022-03-13T16:28:11.058Z"
   },
   {
    "duration": 732,
    "start_time": "2022-03-13T16:28:11.063Z"
   },
   {
    "duration": 728,
    "start_time": "2022-03-13T16:28:11.068Z"
   },
   {
    "duration": 724,
    "start_time": "2022-03-13T16:28:11.073Z"
   },
   {
    "duration": 724,
    "start_time": "2022-03-13T16:28:11.075Z"
   },
   {
    "duration": 723,
    "start_time": "2022-03-13T16:28:11.077Z"
   },
   {
    "duration": 721,
    "start_time": "2022-03-13T16:28:11.080Z"
   },
   {
    "duration": 719,
    "start_time": "2022-03-13T16:28:11.083Z"
   },
   {
    "duration": 716,
    "start_time": "2022-03-13T16:28:11.087Z"
   },
   {
    "duration": 558,
    "start_time": "2022-03-13T16:28:11.246Z"
   },
   {
    "duration": 553,
    "start_time": "2022-03-13T16:28:11.252Z"
   },
   {
    "duration": 549,
    "start_time": "2022-03-13T16:28:11.257Z"
   },
   {
    "duration": 546,
    "start_time": "2022-03-13T16:28:11.261Z"
   },
   {
    "duration": 541,
    "start_time": "2022-03-13T16:28:11.267Z"
   },
   {
    "duration": 537,
    "start_time": "2022-03-13T16:28:11.272Z"
   },
   {
    "duration": 533,
    "start_time": "2022-03-13T16:28:11.277Z"
   },
   {
    "duration": 529,
    "start_time": "2022-03-13T16:28:11.282Z"
   },
   {
    "duration": 705,
    "start_time": "2022-03-13T16:29:34.255Z"
   },
   {
    "duration": 203,
    "start_time": "2022-03-13T16:29:34.962Z"
   },
   {
    "duration": 893,
    "start_time": "2022-03-13T16:29:35.168Z"
   },
   {
    "duration": 64,
    "start_time": "2022-03-13T16:29:36.063Z"
   },
   {
    "duration": 100,
    "start_time": "2022-03-13T16:29:36.129Z"
   },
   {
    "duration": 414,
    "start_time": "2022-03-13T16:29:36.231Z"
   },
   {
    "duration": 311,
    "start_time": "2022-03-13T16:29:36.647Z"
   },
   {
    "duration": 596,
    "start_time": "2022-03-13T16:29:36.960Z"
   },
   {
    "duration": 468,
    "start_time": "2022-03-13T16:29:37.558Z"
   },
   {
    "duration": 128,
    "start_time": "2022-03-13T16:29:38.028Z"
   },
   {
    "duration": 124,
    "start_time": "2022-03-13T16:29:38.158Z"
   },
   {
    "duration": 437,
    "start_time": "2022-03-13T16:29:38.285Z"
   },
   {
    "duration": 711,
    "start_time": "2022-03-13T16:29:38.725Z"
   },
   {
    "duration": 1169,
    "start_time": "2022-03-13T16:29:39.438Z"
   },
   {
    "duration": 1213,
    "start_time": "2022-03-13T16:29:40.610Z"
   },
   {
    "duration": 1129,
    "start_time": "2022-03-13T16:29:41.825Z"
   },
   {
    "duration": 903,
    "start_time": "2022-03-13T16:29:42.956Z"
   },
   {
    "duration": 893,
    "start_time": "2022-03-13T16:29:42.969Z"
   },
   {
    "duration": 889,
    "start_time": "2022-03-13T16:29:42.974Z"
   },
   {
    "duration": 875,
    "start_time": "2022-03-13T16:29:42.989Z"
   },
   {
    "duration": 865,
    "start_time": "2022-03-13T16:29:43.000Z"
   },
   {
    "duration": 850,
    "start_time": "2022-03-13T16:29:43.016Z"
   },
   {
    "duration": 724,
    "start_time": "2022-03-13T16:29:43.143Z"
   },
   {
    "duration": 719,
    "start_time": "2022-03-13T16:29:43.149Z"
   },
   {
    "duration": 712,
    "start_time": "2022-03-13T16:29:43.157Z"
   },
   {
    "duration": 705,
    "start_time": "2022-03-13T16:29:43.165Z"
   },
   {
    "duration": 702,
    "start_time": "2022-03-13T16:29:43.170Z"
   },
   {
    "duration": 697,
    "start_time": "2022-03-13T16:29:43.176Z"
   },
   {
    "duration": 692,
    "start_time": "2022-03-13T16:29:43.182Z"
   },
   {
    "duration": 688,
    "start_time": "2022-03-13T16:29:43.187Z"
   },
   {
    "duration": 684,
    "start_time": "2022-03-13T16:29:43.192Z"
   },
   {
    "duration": 676,
    "start_time": "2022-03-13T16:29:43.201Z"
   },
   {
    "duration": 672,
    "start_time": "2022-03-13T16:29:43.206Z"
   },
   {
    "duration": 668,
    "start_time": "2022-03-13T16:29:43.211Z"
   },
   {
    "duration": 664,
    "start_time": "2022-03-13T16:29:43.216Z"
   },
   {
    "duration": 659,
    "start_time": "2022-03-13T16:29:43.222Z"
   },
   {
    "duration": 643,
    "start_time": "2022-03-13T16:29:43.239Z"
   },
   {
    "duration": 631,
    "start_time": "2022-03-13T16:29:43.252Z"
   },
   {
    "duration": 666,
    "start_time": "2022-03-13T16:29:55.987Z"
   },
   {
    "duration": 376,
    "start_time": "2022-03-13T16:29:56.655Z"
   },
   {
    "duration": 59,
    "start_time": "2022-03-13T16:29:57.034Z"
   },
   {
    "duration": 251,
    "start_time": "2022-03-13T16:29:57.096Z"
   },
   {
    "duration": 234,
    "start_time": "2022-03-13T16:29:57.349Z"
   },
   {
    "duration": 382,
    "start_time": "2022-03-13T16:29:57.585Z"
   },
   {
    "duration": 244,
    "start_time": "2022-03-13T16:29:57.969Z"
   },
   {
    "duration": 272,
    "start_time": "2022-03-13T16:29:58.217Z"
   },
   {
    "duration": 284,
    "start_time": "2022-03-13T16:29:58.492Z"
   },
   {
    "duration": 269,
    "start_time": "2022-03-13T16:29:58.778Z"
   },
   {
    "duration": 480,
    "start_time": "2022-03-13T16:29:59.049Z"
   },
   {
    "duration": 333,
    "start_time": "2022-03-13T16:29:59.531Z"
   },
   {
    "duration": 232,
    "start_time": "2022-03-13T16:29:59.866Z"
   },
   {
    "duration": 306,
    "start_time": "2022-03-13T16:30:00.100Z"
   },
   {
    "duration": 357,
    "start_time": "2022-03-13T16:30:00.409Z"
   },
   {
    "duration": 423,
    "start_time": "2022-03-13T16:30:00.768Z"
   },
   {
    "duration": 793,
    "start_time": "2022-03-13T16:30:01.193Z"
   },
   {
    "duration": 746,
    "start_time": "2022-03-13T16:30:01.244Z"
   },
   {
    "duration": 741,
    "start_time": "2022-03-13T16:30:01.250Z"
   },
   {
    "duration": 535,
    "start_time": "2022-03-13T16:30:01.458Z"
   },
   {
    "duration": 510,
    "start_time": "2022-03-13T16:30:01.485Z"
   },
   {
    "duration": 502,
    "start_time": "2022-03-13T16:30:01.495Z"
   },
   {
    "duration": 501,
    "start_time": "2022-03-13T16:30:01.498Z"
   },
   {
    "duration": 499,
    "start_time": "2022-03-13T16:30:01.501Z"
   },
   {
    "duration": 499,
    "start_time": "2022-03-13T16:30:01.503Z"
   },
   {
    "duration": 496,
    "start_time": "2022-03-13T16:30:01.507Z"
   },
   {
    "duration": 493,
    "start_time": "2022-03-13T16:30:01.512Z"
   },
   {
    "duration": 490,
    "start_time": "2022-03-13T16:30:01.517Z"
   },
   {
    "duration": 486,
    "start_time": "2022-03-13T16:30:01.522Z"
   },
   {
    "duration": 481,
    "start_time": "2022-03-13T16:30:01.529Z"
   },
   {
    "duration": 477,
    "start_time": "2022-03-13T16:30:01.534Z"
   },
   {
    "duration": 473,
    "start_time": "2022-03-13T16:30:01.540Z"
   },
   {
    "duration": 434,
    "start_time": "2022-03-13T16:30:01.581Z"
   },
   {
    "duration": 432,
    "start_time": "2022-03-13T16:30:01.586Z"
   },
   {
    "duration": 429,
    "start_time": "2022-03-13T16:30:01.591Z"
   },
   {
    "duration": 417,
    "start_time": "2022-03-13T16:30:01.606Z"
   },
   {
    "duration": 412,
    "start_time": "2022-03-13T16:30:01.612Z"
   },
   {
    "duration": 409,
    "start_time": "2022-03-13T16:30:01.617Z"
   },
   {
    "duration": 7,
    "start_time": "2022-03-13T16:30:13.586Z"
   },
   {
    "duration": 617,
    "start_time": "2022-03-13T16:30:36.916Z"
   },
   {
    "duration": 158,
    "start_time": "2022-03-13T16:30:37.535Z"
   },
   {
    "duration": 529,
    "start_time": "2022-03-13T16:30:37.700Z"
   },
   {
    "duration": 369,
    "start_time": "2022-03-13T16:30:38.232Z"
   },
   {
    "duration": 387,
    "start_time": "2022-03-13T16:30:38.604Z"
   },
   {
    "duration": 450,
    "start_time": "2022-03-13T16:30:38.993Z"
   },
   {
    "duration": 963,
    "start_time": "2022-03-13T16:30:39.445Z"
   },
   {
    "duration": 562,
    "start_time": "2022-03-13T16:30:40.413Z"
   },
   {
    "duration": 159,
    "start_time": "2022-03-13T16:30:40.978Z"
   },
   {
    "duration": 311,
    "start_time": "2022-03-13T16:30:41.139Z"
   },
   {
    "duration": 344,
    "start_time": "2022-03-13T16:30:41.451Z"
   },
   {
    "duration": 323,
    "start_time": "2022-03-13T16:30:41.797Z"
   },
   {
    "duration": 439,
    "start_time": "2022-03-13T16:30:42.123Z"
   },
   {
    "duration": 253,
    "start_time": "2022-03-13T16:30:42.563Z"
   },
   {
    "duration": 319,
    "start_time": "2022-03-13T16:30:42.819Z"
   },
   {
    "duration": 378,
    "start_time": "2022-03-13T16:30:43.140Z"
   },
   {
    "duration": 862,
    "start_time": "2022-03-13T16:30:43.520Z"
   },
   {
    "duration": 951,
    "start_time": "2022-03-13T16:30:43.434Z"
   },
   {
    "duration": 946,
    "start_time": "2022-03-13T16:30:43.440Z"
   },
   {
    "duration": 942,
    "start_time": "2022-03-13T16:30:43.446Z"
   },
   {
    "duration": 937,
    "start_time": "2022-03-13T16:30:43.452Z"
   },
   {
    "duration": 923,
    "start_time": "2022-03-13T16:30:43.467Z"
   },
   {
    "duration": 915,
    "start_time": "2022-03-13T16:30:43.476Z"
   },
   {
    "duration": 913,
    "start_time": "2022-03-13T16:30:43.479Z"
   },
   {
    "duration": 910,
    "start_time": "2022-03-13T16:30:43.483Z"
   },
   {
    "duration": 900,
    "start_time": "2022-03-13T16:30:43.494Z"
   },
   {
    "duration": 898,
    "start_time": "2022-03-13T16:30:43.497Z"
   },
   {
    "duration": 896,
    "start_time": "2022-03-13T16:30:43.500Z"
   },
   {
    "duration": 895,
    "start_time": "2022-03-13T16:30:43.502Z"
   },
   {
    "duration": 894,
    "start_time": "2022-03-13T16:30:43.505Z"
   },
   {
    "duration": 891,
    "start_time": "2022-03-13T16:30:43.509Z"
   },
   {
    "duration": 886,
    "start_time": "2022-03-13T16:30:43.515Z"
   },
   {
    "duration": 883,
    "start_time": "2022-03-13T16:30:43.519Z"
   },
   {
    "duration": 881,
    "start_time": "2022-03-13T16:30:43.523Z"
   },
   {
    "duration": 876,
    "start_time": "2022-03-13T16:30:43.530Z"
   },
   {
    "duration": 872,
    "start_time": "2022-03-13T16:30:43.535Z"
   },
   {
    "duration": 870,
    "start_time": "2022-03-13T16:30:43.538Z"
   },
   {
    "duration": 867,
    "start_time": "2022-03-13T16:30:43.542Z"
   },
   {
    "duration": 563,
    "start_time": "2022-03-13T17:57:58.757Z"
   },
   {
    "duration": 1049,
    "start_time": "2022-03-13T17:57:59.322Z"
   },
   {
    "duration": 1154,
    "start_time": "2022-03-13T17:58:00.374Z"
   },
   {
    "duration": 1369,
    "start_time": "2022-03-13T17:58:01.530Z"
   },
   {
    "duration": 1620,
    "start_time": "2022-03-13T17:58:02.901Z"
   },
   {
    "duration": 1672,
    "start_time": "2022-03-13T17:58:04.523Z"
   },
   {
    "duration": 3061,
    "start_time": "2022-03-13T17:58:06.197Z"
   },
   {
    "duration": 2074,
    "start_time": "2022-03-13T17:58:09.260Z"
   },
   {
    "duration": 1839,
    "start_time": "2022-03-13T17:58:11.336Z"
   },
   {
    "duration": 1619,
    "start_time": "2022-03-13T17:58:13.177Z"
   },
   {
    "duration": 2059,
    "start_time": "2022-03-13T17:58:14.798Z"
   },
   {
    "duration": 2451,
    "start_time": "2022-03-13T17:58:16.859Z"
   },
   {
    "duration": 1847,
    "start_time": "2022-03-13T17:58:19.313Z"
   },
   {
    "duration": 2359,
    "start_time": "2022-03-13T17:58:21.162Z"
   },
   {
    "duration": 4472,
    "start_time": "2022-03-13T17:58:23.523Z"
   },
   {
    "duration": 3199,
    "start_time": "2022-03-13T17:58:27.997Z"
   },
   {
    "duration": 1992,
    "start_time": "2022-03-13T17:58:31.197Z"
   },
   {
    "duration": 1452,
    "start_time": "2022-03-13T17:58:31.741Z"
   },
   {
    "duration": 1443,
    "start_time": "2022-03-13T17:58:31.751Z"
   },
   {
    "duration": 1428,
    "start_time": "2022-03-13T17:58:31.768Z"
   },
   {
    "duration": 1424,
    "start_time": "2022-03-13T17:58:31.773Z"
   },
   {
    "duration": 1422,
    "start_time": "2022-03-13T17:58:31.777Z"
   },
   {
    "duration": 1419,
    "start_time": "2022-03-13T17:58:31.782Z"
   },
   {
    "duration": 1417,
    "start_time": "2022-03-13T17:58:31.785Z"
   },
   {
    "duration": 1413,
    "start_time": "2022-03-13T17:58:31.791Z"
   },
   {
    "duration": 1410,
    "start_time": "2022-03-13T17:58:31.795Z"
   },
   {
    "duration": 1407,
    "start_time": "2022-03-13T17:58:31.800Z"
   },
   {
    "duration": 1404,
    "start_time": "2022-03-13T17:58:31.805Z"
   },
   {
    "duration": 1401,
    "start_time": "2022-03-13T17:58:31.809Z"
   },
   {
    "duration": 1398,
    "start_time": "2022-03-13T17:58:31.813Z"
   },
   {
    "duration": 1395,
    "start_time": "2022-03-13T17:58:31.818Z"
   },
   {
    "duration": 1393,
    "start_time": "2022-03-13T17:58:31.821Z"
   },
   {
    "duration": 1391,
    "start_time": "2022-03-13T17:58:31.825Z"
   },
   {
    "duration": 1390,
    "start_time": "2022-03-13T17:58:31.828Z"
   },
   {
    "duration": 1386,
    "start_time": "2022-03-13T17:58:31.833Z"
   },
   {
    "duration": 1383,
    "start_time": "2022-03-13T17:58:31.838Z"
   },
   {
    "duration": 1381,
    "start_time": "2022-03-13T17:58:31.841Z"
   },
   {
    "duration": 1380,
    "start_time": "2022-03-13T17:58:31.844Z"
   },
   {
    "duration": 666,
    "start_time": "2022-03-13T18:07:32.668Z"
   },
   {
    "duration": 865,
    "start_time": "2022-03-13T18:07:33.336Z"
   },
   {
    "duration": 602,
    "start_time": "2022-03-13T18:07:34.204Z"
   },
   {
    "duration": 993,
    "start_time": "2022-03-13T18:07:34.809Z"
   },
   {
    "duration": 1460,
    "start_time": "2022-03-13T18:07:35.804Z"
   },
   {
    "duration": 2042,
    "start_time": "2022-03-13T18:07:37.267Z"
   },
   {
    "duration": 1554,
    "start_time": "2022-03-13T18:07:39.311Z"
   },
   {
    "duration": 1893,
    "start_time": "2022-03-13T18:07:40.869Z"
   },
   {
    "duration": 1423,
    "start_time": "2022-03-13T18:07:42.764Z"
   },
   {
    "duration": 1582,
    "start_time": "2022-03-13T18:07:44.190Z"
   },
   {
    "duration": 2271,
    "start_time": "2022-03-13T18:07:45.774Z"
   },
   {
    "duration": 2805,
    "start_time": "2022-03-13T18:07:48.047Z"
   },
   {
    "duration": 2173,
    "start_time": "2022-03-13T18:07:50.855Z"
   },
   {
    "duration": 859,
    "start_time": "2022-03-13T18:07:53.030Z"
   },
   {
    "duration": 1364,
    "start_time": "2022-03-13T18:07:53.891Z"
   },
   {
    "duration": 3944,
    "start_time": "2022-03-13T18:07:55.258Z"
   },
   {
    "duration": 3142,
    "start_time": "2022-03-13T18:07:59.204Z"
   },
   {
    "duration": 1468,
    "start_time": "2022-03-13T18:08:00.881Z"
   },
   {
    "duration": 1439,
    "start_time": "2022-03-13T18:08:00.911Z"
   },
   {
    "duration": 1434,
    "start_time": "2022-03-13T18:08:00.917Z"
   },
   {
    "duration": 1430,
    "start_time": "2022-03-13T18:08:00.922Z"
   },
   {
    "duration": 1427,
    "start_time": "2022-03-13T18:08:00.926Z"
   },
   {
    "duration": 1421,
    "start_time": "2022-03-13T18:08:00.933Z"
   },
   {
    "duration": 1418,
    "start_time": "2022-03-13T18:08:00.937Z"
   },
   {
    "duration": 1415,
    "start_time": "2022-03-13T18:08:00.942Z"
   },
   {
    "duration": 1411,
    "start_time": "2022-03-13T18:08:00.946Z"
   },
   {
    "duration": 1407,
    "start_time": "2022-03-13T18:08:00.951Z"
   },
   {
    "duration": 1403,
    "start_time": "2022-03-13T18:08:00.956Z"
   },
   {
    "duration": 1398,
    "start_time": "2022-03-13T18:08:00.962Z"
   },
   {
    "duration": 1395,
    "start_time": "2022-03-13T18:08:00.966Z"
   },
   {
    "duration": 1392,
    "start_time": "2022-03-13T18:08:00.970Z"
   },
   {
    "duration": 1388,
    "start_time": "2022-03-13T18:08:00.974Z"
   },
   {
    "duration": 1386,
    "start_time": "2022-03-13T18:08:00.977Z"
   },
   {
    "duration": 1368,
    "start_time": "2022-03-13T18:08:00.996Z"
   },
   {
    "duration": 1365,
    "start_time": "2022-03-13T18:08:01.000Z"
   },
   {
    "duration": 1363,
    "start_time": "2022-03-13T18:08:01.003Z"
   },
   {
    "duration": 1350,
    "start_time": "2022-03-13T18:08:01.017Z"
   },
   {
    "duration": 1347,
    "start_time": "2022-03-13T18:08:01.022Z"
   },
   {
    "duration": 11,
    "start_time": "2022-03-13T18:08:13.011Z"
   },
   {
    "duration": 770,
    "start_time": "2022-03-13T18:09:57.215Z"
   },
   {
    "duration": 817,
    "start_time": "2022-03-13T18:09:57.987Z"
   },
   {
    "duration": 1442,
    "start_time": "2022-03-13T18:09:58.807Z"
   },
   {
    "duration": 1472,
    "start_time": "2022-03-13T18:10:00.252Z"
   },
   {
    "duration": 1393,
    "start_time": "2022-03-13T18:10:01.726Z"
   },
   {
    "duration": 1914,
    "start_time": "2022-03-13T18:10:03.121Z"
   },
   {
    "duration": 3757,
    "start_time": "2022-03-13T18:10:05.037Z"
   },
   {
    "duration": 1468,
    "start_time": "2022-03-13T18:10:08.797Z"
   },
   {
    "duration": 2802,
    "start_time": "2022-03-13T18:10:10.267Z"
   },
   {
    "duration": 1738,
    "start_time": "2022-03-13T18:10:13.071Z"
   },
   {
    "duration": 614,
    "start_time": "2022-03-13T18:10:14.811Z"
   },
   {
    "duration": 1501,
    "start_time": "2022-03-13T18:10:15.428Z"
   },
   {
    "duration": 1545,
    "start_time": "2022-03-13T18:10:16.931Z"
   },
   {
    "duration": 3117,
    "start_time": "2022-03-13T18:10:18.478Z"
   },
   {
    "duration": 2820,
    "start_time": "2022-03-13T18:10:21.596Z"
   },
   {
    "duration": 13990,
    "start_time": "2022-03-13T18:10:24.418Z"
   },
   {
    "duration": 3667,
    "start_time": "2022-03-13T18:10:38.410Z"
   },
   {
    "duration": 5872,
    "start_time": "2022-03-13T18:10:42.079Z"
   },
   {
    "duration": 3653,
    "start_time": "2022-03-13T18:10:47.953Z"
   },
   {
    "duration": 4194,
    "start_time": "2022-03-13T18:10:51.608Z"
   },
   {
    "duration": 5321,
    "start_time": "2022-03-13T18:10:55.805Z"
   },
   {
    "duration": 13369,
    "start_time": "2022-03-13T18:11:01.128Z"
   },
   {
    "duration": 9716,
    "start_time": "2022-03-13T18:11:14.501Z"
   },
   {
    "duration": 9448,
    "start_time": "2022-03-13T18:11:24.219Z"
   },
   {
    "duration": 11099,
    "start_time": "2022-03-13T18:11:33.669Z"
   },
   {
    "duration": 10039,
    "start_time": "2022-03-13T18:11:44.771Z"
   },
   {
    "duration": 9117,
    "start_time": "2022-03-13T18:11:54.812Z"
   },
   {
    "duration": 7361,
    "start_time": "2022-03-13T18:12:03.931Z"
   },
   {
    "duration": 14532,
    "start_time": "2022-03-13T18:12:11.295Z"
   },
   {
    "duration": 6873,
    "start_time": "2022-03-13T18:12:25.830Z"
   },
   {
    "duration": 6719,
    "start_time": "2022-03-13T18:12:32.705Z"
   },
   {
    "duration": 9165,
    "start_time": "2022-03-13T18:12:39.426Z"
   },
   {
    "duration": 7188,
    "start_time": "2022-03-13T18:12:48.593Z"
   },
   {
    "duration": 6808,
    "start_time": "2022-03-13T18:12:55.783Z"
   },
   {
    "duration": 20752,
    "start_time": "2022-03-13T18:13:02.593Z"
   },
   {
    "duration": 35133,
    "start_time": "2022-03-13T18:13:23.347Z"
   },
   {
    "duration": 10646,
    "start_time": "2022-03-13T18:13:58.484Z"
   },
   {
    "duration": 2462,
    "start_time": "2022-03-13T18:14:09.132Z"
   },
   {
    "duration": 629,
    "start_time": "2022-03-13T18:26:51.710Z"
   },
   {
    "duration": 1245,
    "start_time": "2022-03-13T18:26:52.341Z"
   },
   {
    "duration": 876,
    "start_time": "2022-03-13T18:26:53.588Z"
   },
   {
    "duration": 605,
    "start_time": "2022-03-13T18:26:54.466Z"
   },
   {
    "duration": 778,
    "start_time": "2022-03-13T18:26:55.073Z"
   },
   {
    "duration": 1069,
    "start_time": "2022-03-13T18:26:55.853Z"
   },
   {
    "duration": 741,
    "start_time": "2022-03-13T18:26:56.924Z"
   },
   {
    "duration": 816,
    "start_time": "2022-03-13T18:26:57.669Z"
   },
   {
    "duration": 428,
    "start_time": "2022-03-13T18:26:58.487Z"
   },
   {
    "duration": 922,
    "start_time": "2022-03-13T18:26:58.917Z"
   },
   {
    "duration": 957,
    "start_time": "2022-03-13T18:26:59.841Z"
   },
   {
    "duration": 1047,
    "start_time": "2022-03-13T18:27:00.800Z"
   },
   {
    "duration": 810,
    "start_time": "2022-03-13T18:27:01.850Z"
   },
   {
    "duration": 256,
    "start_time": "2022-03-13T18:27:02.663Z"
   },
   {
    "duration": 1437,
    "start_time": "2022-03-13T18:27:02.921Z"
   },
   {
    "duration": 884,
    "start_time": "2022-03-13T18:27:04.360Z"
   },
   {
    "duration": 298,
    "start_time": "2022-03-13T18:27:05.247Z"
   },
   {
    "duration": 2072,
    "start_time": "2022-03-13T18:27:05.548Z"
   },
   {
    "duration": 2328,
    "start_time": "2022-03-13T18:27:07.622Z"
   },
   {
    "duration": 337,
    "start_time": "2022-03-13T18:27:09.952Z"
   },
   {
    "duration": 1354,
    "start_time": "2022-03-13T18:27:10.291Z"
   },
   {
    "duration": 1613,
    "start_time": "2022-03-13T18:27:11.648Z"
   },
   {
    "duration": 458,
    "start_time": "2022-03-13T18:27:13.264Z"
   },
   {
    "duration": 516,
    "start_time": "2022-03-13T18:27:13.724Z"
   },
   {
    "duration": 1299,
    "start_time": "2022-03-13T18:27:14.241Z"
   },
   {
    "duration": 1396,
    "start_time": "2022-03-13T18:27:15.542Z"
   },
   {
    "duration": 660,
    "start_time": "2022-03-13T18:27:16.940Z"
   },
   {
    "duration": 360,
    "start_time": "2022-03-13T18:27:17.603Z"
   },
   {
    "duration": 623,
    "start_time": "2022-03-13T18:27:17.965Z"
   },
   {
    "duration": 763,
    "start_time": "2022-03-13T18:27:18.590Z"
   },
   {
    "duration": 2330,
    "start_time": "2022-03-13T18:27:19.355Z"
   },
   {
    "duration": 624,
    "start_time": "2022-03-13T18:27:21.687Z"
   },
   {
    "duration": 611,
    "start_time": "2022-03-13T18:27:22.313Z"
   },
   {
    "duration": 767,
    "start_time": "2022-03-13T18:27:22.926Z"
   },
   {
    "duration": 555,
    "start_time": "2022-03-13T18:27:23.695Z"
   },
   {
    "duration": 590,
    "start_time": "2022-03-13T18:27:24.252Z"
   },
   {
    "duration": 187,
    "start_time": "2022-03-13T18:27:24.843Z"
   },
   {
    "duration": 1092,
    "start_time": "2022-03-13T18:27:25.032Z"
   },
   {
    "duration": 771,
    "start_time": "2022-03-13T18:39:18.701Z"
   },
   {
    "duration": 3936,
    "start_time": "2022-03-13T18:39:19.475Z"
   },
   {
    "duration": 1182,
    "start_time": "2022-03-13T18:39:23.414Z"
   },
   {
    "duration": 1720,
    "start_time": "2022-03-13T18:39:24.599Z"
   },
   {
    "duration": 960,
    "start_time": "2022-03-13T18:39:26.321Z"
   },
   {
    "duration": 1215,
    "start_time": "2022-03-13T18:39:27.283Z"
   },
   {
    "duration": 891,
    "start_time": "2022-03-13T18:39:28.500Z"
   },
   {
    "duration": 1934,
    "start_time": "2022-03-13T18:39:29.394Z"
   },
   {
    "duration": 2690,
    "start_time": "2022-03-13T18:39:31.331Z"
   },
   {
    "duration": 1558,
    "start_time": "2022-03-13T18:39:34.023Z"
   },
   {
    "duration": 695,
    "start_time": "2022-03-13T18:40:02.408Z"
   },
   {
    "duration": 470,
    "start_time": "2022-03-13T18:40:03.106Z"
   },
   {
    "duration": 987,
    "start_time": "2022-03-13T18:40:03.579Z"
   },
   {
    "duration": 388,
    "start_time": "2022-03-13T18:40:04.569Z"
   },
   {
    "duration": 2036,
    "start_time": "2022-03-13T18:40:04.959Z"
   },
   {
    "duration": 1080,
    "start_time": "2022-03-13T18:40:06.997Z"
   },
   {
    "duration": 1503,
    "start_time": "2022-03-13T18:40:08.079Z"
   },
   {
    "duration": 991,
    "start_time": "2022-03-13T18:40:09.584Z"
   },
   {
    "duration": 637,
    "start_time": "2022-03-13T18:40:10.577Z"
   },
   {
    "duration": 911,
    "start_time": "2022-03-13T18:40:11.217Z"
   },
   {
    "duration": 1347,
    "start_time": "2022-03-13T18:40:12.130Z"
   },
   {
    "duration": 1537,
    "start_time": "2022-03-13T18:40:13.479Z"
   },
   {
    "duration": 1013,
    "start_time": "2022-03-13T18:40:15.018Z"
   },
   {
    "duration": 1128,
    "start_time": "2022-03-13T18:40:16.033Z"
   },
   {
    "duration": 1989,
    "start_time": "2022-03-13T18:40:17.163Z"
   },
   {
    "duration": 1723,
    "start_time": "2022-03-13T18:40:19.154Z"
   },
   {
    "duration": 1123,
    "start_time": "2022-03-13T18:40:20.879Z"
   },
   {
    "duration": 2596,
    "start_time": "2022-03-13T18:40:22.004Z"
   },
   {
    "duration": 2050,
    "start_time": "2022-03-13T18:40:24.602Z"
   },
   {
    "duration": 1349,
    "start_time": "2022-03-13T18:40:26.654Z"
   },
   {
    "duration": 2996,
    "start_time": "2022-03-13T18:40:28.006Z"
   },
   {
    "duration": 2460,
    "start_time": "2022-03-13T18:40:31.005Z"
   },
   {
    "duration": 2028,
    "start_time": "2022-03-13T18:40:33.469Z"
   },
   {
    "duration": 1045,
    "start_time": "2022-03-13T18:40:35.500Z"
   },
   {
    "duration": 1132,
    "start_time": "2022-03-13T18:40:36.546Z"
   },
   {
    "duration": 2162,
    "start_time": "2022-03-13T18:40:37.680Z"
   },
   {
    "duration": 688,
    "start_time": "2022-03-13T18:40:39.844Z"
   },
   {
    "duration": 1685,
    "start_time": "2022-03-13T18:40:40.535Z"
   },
   {
    "duration": 2163,
    "start_time": "2022-03-13T18:40:42.222Z"
   },
   {
    "duration": 2241,
    "start_time": "2022-03-13T18:40:44.387Z"
   },
   {
    "duration": 1926,
    "start_time": "2022-03-13T18:40:46.630Z"
   },
   {
    "duration": 1505,
    "start_time": "2022-03-13T18:40:48.558Z"
   },
   {
    "duration": 1963,
    "start_time": "2022-03-13T18:40:50.066Z"
   },
   {
    "duration": 1077,
    "start_time": "2022-03-13T18:40:52.032Z"
   },
   {
    "duration": 1015,
    "start_time": "2022-03-13T18:40:53.111Z"
   },
   {
    "duration": 1611,
    "start_time": "2022-03-13T18:40:54.128Z"
   },
   {
    "duration": 981,
    "start_time": "2022-03-13T18:40:55.740Z"
   },
   {
    "duration": 749,
    "start_time": "2022-03-13T18:40:56.723Z"
   },
   {
    "duration": 574,
    "start_time": "2022-03-14T05:25:28.533Z"
   },
   {
    "duration": 140,
    "start_time": "2022-03-14T05:25:29.109Z"
   },
   {
    "duration": 16,
    "start_time": "2022-03-14T05:25:29.251Z"
   },
   {
    "duration": 25,
    "start_time": "2022-03-14T05:25:29.269Z"
   },
   {
    "duration": 3,
    "start_time": "2022-03-14T05:25:29.296Z"
   },
   {
    "duration": 37,
    "start_time": "2022-03-14T05:25:29.301Z"
   },
   {
    "duration": 6,
    "start_time": "2022-03-14T05:25:29.340Z"
   },
   {
    "duration": 26,
    "start_time": "2022-03-14T05:25:29.348Z"
   },
   {
    "duration": 17,
    "start_time": "2022-03-14T05:25:29.376Z"
   },
   {
    "duration": 46,
    "start_time": "2022-03-14T05:25:29.395Z"
   },
   {
    "duration": 59,
    "start_time": "2022-03-14T05:25:29.443Z"
   },
   {
    "duration": 75,
    "start_time": "2022-03-14T05:25:29.504Z"
   },
   {
    "duration": 61,
    "start_time": "2022-03-14T05:25:29.581Z"
   },
   {
    "duration": 424,
    "start_time": "2022-03-14T05:25:29.643Z"
   },
   {
    "duration": 1364,
    "start_time": "2022-03-14T05:25:28.705Z"
   },
   {
    "duration": 1351,
    "start_time": "2022-03-14T05:25:28.719Z"
   },
   {
    "duration": 1340,
    "start_time": "2022-03-14T05:25:28.731Z"
   },
   {
    "duration": 1322,
    "start_time": "2022-03-14T05:25:28.750Z"
   },
   {
    "duration": 1305,
    "start_time": "2022-03-14T05:25:28.767Z"
   },
   {
    "duration": 1289,
    "start_time": "2022-03-14T05:25:28.784Z"
   },
   {
    "duration": 1230,
    "start_time": "2022-03-14T05:25:28.844Z"
   },
   {
    "duration": 1213,
    "start_time": "2022-03-14T05:25:28.862Z"
   },
   {
    "duration": 1188,
    "start_time": "2022-03-14T05:25:28.888Z"
   },
   {
    "duration": 1171,
    "start_time": "2022-03-14T05:25:28.906Z"
   },
   {
    "duration": 1150,
    "start_time": "2022-03-14T05:25:28.928Z"
   },
   {
    "duration": 1120,
    "start_time": "2022-03-14T05:25:28.959Z"
   },
   {
    "duration": 1107,
    "start_time": "2022-03-14T05:25:28.972Z"
   },
   {
    "duration": 1093,
    "start_time": "2022-03-14T05:25:28.987Z"
   },
   {
    "duration": 1083,
    "start_time": "2022-03-14T05:25:28.998Z"
   },
   {
    "duration": 1070,
    "start_time": "2022-03-14T05:25:29.012Z"
   },
   {
    "duration": 1060,
    "start_time": "2022-03-14T05:25:29.024Z"
   },
   {
    "duration": 1048,
    "start_time": "2022-03-14T05:25:29.037Z"
   },
   {
    "duration": 1037,
    "start_time": "2022-03-14T05:25:29.048Z"
   },
   {
    "duration": 1012,
    "start_time": "2022-03-14T05:25:29.075Z"
   },
   {
    "duration": 1008,
    "start_time": "2022-03-14T05:25:29.080Z"
   },
   {
    "duration": 1003,
    "start_time": "2022-03-14T05:25:29.086Z"
   },
   {
    "duration": 999,
    "start_time": "2022-03-14T05:25:29.091Z"
   },
   {
    "duration": 996,
    "start_time": "2022-03-14T05:25:29.095Z"
   },
   {
    "duration": 571,
    "start_time": "2022-03-14T05:25:59.246Z"
   },
   {
    "duration": 128,
    "start_time": "2022-03-14T05:25:59.819Z"
   },
   {
    "duration": 17,
    "start_time": "2022-03-14T05:25:59.950Z"
   },
   {
    "duration": 27,
    "start_time": "2022-03-14T05:25:59.969Z"
   },
   {
    "duration": 5,
    "start_time": "2022-03-14T05:25:59.998Z"
   },
   {
    "duration": 40,
    "start_time": "2022-03-14T05:26:00.005Z"
   },
   {
    "duration": 18,
    "start_time": "2022-03-14T05:26:00.047Z"
   },
   {
    "duration": 26,
    "start_time": "2022-03-14T05:26:00.069Z"
   },
   {
    "duration": 21,
    "start_time": "2022-03-14T05:26:00.097Z"
   },
   {
    "duration": 33,
    "start_time": "2022-03-14T05:26:00.120Z"
   },
   {
    "duration": 64,
    "start_time": "2022-03-14T05:26:00.155Z"
   },
   {
    "duration": 80,
    "start_time": "2022-03-14T05:26:00.221Z"
   },
   {
    "duration": 74,
    "start_time": "2022-03-14T05:26:00.303Z"
   },
   {
    "duration": 230,
    "start_time": "2022-03-14T05:26:00.379Z"
   },
   {
    "duration": 1610,
    "start_time": "2022-03-14T05:25:59.001Z"
   },
   {
    "duration": 1604,
    "start_time": "2022-03-14T05:25:59.008Z"
   },
   {
    "duration": 1592,
    "start_time": "2022-03-14T05:25:59.022Z"
   },
   {
    "duration": 1587,
    "start_time": "2022-03-14T05:25:59.028Z"
   },
   {
    "duration": 1583,
    "start_time": "2022-03-14T05:25:59.033Z"
   },
   {
    "duration": 1578,
    "start_time": "2022-03-14T05:25:59.039Z"
   },
   {
    "duration": 1575,
    "start_time": "2022-03-14T05:25:59.043Z"
   },
   {
    "duration": 1572,
    "start_time": "2022-03-14T05:25:59.047Z"
   },
   {
    "duration": 1567,
    "start_time": "2022-03-14T05:25:59.053Z"
   },
   {
    "duration": 1565,
    "start_time": "2022-03-14T05:25:59.057Z"
   },
   {
    "duration": 1561,
    "start_time": "2022-03-14T05:25:59.062Z"
   },
   {
    "duration": 1558,
    "start_time": "2022-03-14T05:25:59.066Z"
   },
   {
    "duration": 1554,
    "start_time": "2022-03-14T05:25:59.072Z"
   },
   {
    "duration": 1551,
    "start_time": "2022-03-14T05:25:59.076Z"
   },
   {
    "duration": 1548,
    "start_time": "2022-03-14T05:25:59.080Z"
   },
   {
    "duration": 1545,
    "start_time": "2022-03-14T05:25:59.084Z"
   },
   {
    "duration": 1542,
    "start_time": "2022-03-14T05:25:59.088Z"
   },
   {
    "duration": 1539,
    "start_time": "2022-03-14T05:25:59.092Z"
   },
   {
    "duration": 1536,
    "start_time": "2022-03-14T05:25:59.097Z"
   },
   {
    "duration": 1533,
    "start_time": "2022-03-14T05:25:59.101Z"
   },
   {
    "duration": 1529,
    "start_time": "2022-03-14T05:25:59.105Z"
   },
   {
    "duration": 1526,
    "start_time": "2022-03-14T05:25:59.109Z"
   },
   {
    "duration": 1522,
    "start_time": "2022-03-14T05:25:59.114Z"
   },
   {
    "duration": 1509,
    "start_time": "2022-03-14T05:25:59.128Z"
   },
   {
    "duration": 599,
    "start_time": "2022-03-14T05:26:21.227Z"
   },
   {
    "duration": 138,
    "start_time": "2022-03-14T05:26:21.828Z"
   },
   {
    "duration": 18,
    "start_time": "2022-03-14T05:26:21.968Z"
   },
   {
    "duration": 30,
    "start_time": "2022-03-14T05:26:21.988Z"
   },
   {
    "duration": 20,
    "start_time": "2022-03-14T05:26:22.020Z"
   },
   {
    "duration": 17,
    "start_time": "2022-03-14T05:26:22.042Z"
   },
   {
    "duration": 6,
    "start_time": "2022-03-14T05:26:22.061Z"
   },
   {
    "duration": 24,
    "start_time": "2022-03-14T05:26:22.070Z"
   },
   {
    "duration": 49,
    "start_time": "2022-03-14T05:26:22.097Z"
   },
   {
    "duration": 25,
    "start_time": "2022-03-14T05:26:22.148Z"
   },
   {
    "duration": 82,
    "start_time": "2022-03-14T05:26:22.175Z"
   },
   {
    "duration": 83,
    "start_time": "2022-03-14T05:26:22.260Z"
   },
   {
    "duration": 58,
    "start_time": "2022-03-14T05:26:22.345Z"
   },
   {
    "duration": 248,
    "start_time": "2022-03-14T05:26:22.405Z"
   },
   {
    "duration": 1522,
    "start_time": "2022-03-14T05:26:21.134Z"
   },
   {
    "duration": 1518,
    "start_time": "2022-03-14T05:26:21.139Z"
   },
   {
    "duration": 1512,
    "start_time": "2022-03-14T05:26:21.146Z"
   },
   {
    "duration": 1507,
    "start_time": "2022-03-14T05:26:21.153Z"
   },
   {
    "duration": 1502,
    "start_time": "2022-03-14T05:26:21.159Z"
   },
   {
    "duration": 1485,
    "start_time": "2022-03-14T05:26:21.178Z"
   },
   {
    "duration": 1478,
    "start_time": "2022-03-14T05:26:21.186Z"
   },
   {
    "duration": 1476,
    "start_time": "2022-03-14T05:26:21.190Z"
   },
   {
    "duration": 1473,
    "start_time": "2022-03-14T05:26:21.194Z"
   },
   {
    "duration": 1458,
    "start_time": "2022-03-14T05:26:21.211Z"
   },
   {
    "duration": 1454,
    "start_time": "2022-03-14T05:26:21.216Z"
   },
   {
    "duration": 1452,
    "start_time": "2022-03-14T05:26:21.220Z"
   },
   {
    "duration": 1448,
    "start_time": "2022-03-14T05:26:21.225Z"
   },
   {
    "duration": 1446,
    "start_time": "2022-03-14T05:26:21.229Z"
   },
   {
    "duration": 1443,
    "start_time": "2022-03-14T05:26:21.233Z"
   },
   {
    "duration": 1438,
    "start_time": "2022-03-14T05:26:21.240Z"
   },
   {
    "duration": 1435,
    "start_time": "2022-03-14T05:26:21.244Z"
   },
   {
    "duration": 1432,
    "start_time": "2022-03-14T05:26:21.249Z"
   },
   {
    "duration": 1430,
    "start_time": "2022-03-14T05:26:21.253Z"
   },
   {
    "duration": 1428,
    "start_time": "2022-03-14T05:26:21.257Z"
   },
   {
    "duration": 1422,
    "start_time": "2022-03-14T05:26:21.264Z"
   },
   {
    "duration": 1417,
    "start_time": "2022-03-14T05:26:21.270Z"
   },
   {
    "duration": 1413,
    "start_time": "2022-03-14T05:26:21.276Z"
   },
   {
    "duration": 1408,
    "start_time": "2022-03-14T05:26:21.282Z"
   },
   {
    "duration": 561,
    "start_time": "2022-03-14T05:26:40.806Z"
   },
   {
    "duration": 131,
    "start_time": "2022-03-14T05:26:41.369Z"
   },
   {
    "duration": 28,
    "start_time": "2022-03-14T05:26:41.502Z"
   },
   {
    "duration": 32,
    "start_time": "2022-03-14T05:26:41.533Z"
   },
   {
    "duration": 3,
    "start_time": "2022-03-14T05:26:41.567Z"
   },
   {
    "duration": 15,
    "start_time": "2022-03-14T05:26:41.572Z"
   },
   {
    "duration": 6,
    "start_time": "2022-03-14T05:26:41.589Z"
   },
   {
    "duration": 25,
    "start_time": "2022-03-14T05:26:41.597Z"
   },
   {
    "duration": 17,
    "start_time": "2022-03-14T05:26:41.637Z"
   },
   {
    "duration": 23,
    "start_time": "2022-03-14T05:26:41.656Z"
   },
   {
    "duration": 79,
    "start_time": "2022-03-14T05:26:41.681Z"
   },
   {
    "duration": 60,
    "start_time": "2022-03-14T05:26:41.762Z"
   },
   {
    "duration": 65,
    "start_time": "2022-03-14T05:26:41.824Z"
   },
   {
    "duration": 236,
    "start_time": "2022-03-14T05:26:41.890Z"
   },
   {
    "duration": 1554,
    "start_time": "2022-03-14T05:26:40.574Z"
   },
   {
    "duration": 1547,
    "start_time": "2022-03-14T05:26:40.582Z"
   },
   {
    "duration": 1542,
    "start_time": "2022-03-14T05:26:40.588Z"
   },
   {
    "duration": 1535,
    "start_time": "2022-03-14T05:26:40.596Z"
   },
   {
    "duration": 1530,
    "start_time": "2022-03-14T05:26:40.603Z"
   },
   {
    "duration": 1524,
    "start_time": "2022-03-14T05:26:40.610Z"
   },
   {
    "duration": 1518,
    "start_time": "2022-03-14T05:26:40.617Z"
   },
   {
    "duration": 1512,
    "start_time": "2022-03-14T05:26:40.624Z"
   },
   {
    "duration": 1506,
    "start_time": "2022-03-14T05:26:40.631Z"
   },
   {
    "duration": 1501,
    "start_time": "2022-03-14T05:26:40.637Z"
   },
   {
    "duration": 1496,
    "start_time": "2022-03-14T05:26:40.643Z"
   },
   {
    "duration": 1489,
    "start_time": "2022-03-14T05:26:40.650Z"
   },
   {
    "duration": 1484,
    "start_time": "2022-03-14T05:26:40.656Z"
   },
   {
    "duration": 1465,
    "start_time": "2022-03-14T05:26:40.676Z"
   },
   {
    "duration": 1459,
    "start_time": "2022-03-14T05:26:40.683Z"
   },
   {
    "duration": 1454,
    "start_time": "2022-03-14T05:26:40.690Z"
   },
   {
    "duration": 1448,
    "start_time": "2022-03-14T05:26:40.697Z"
   },
   {
    "duration": 1443,
    "start_time": "2022-03-14T05:26:40.703Z"
   },
   {
    "duration": 1432,
    "start_time": "2022-03-14T05:26:40.715Z"
   },
   {
    "duration": 1426,
    "start_time": "2022-03-14T05:26:40.722Z"
   },
   {
    "duration": 1422,
    "start_time": "2022-03-14T05:26:40.727Z"
   },
   {
    "duration": 1416,
    "start_time": "2022-03-14T05:26:40.734Z"
   },
   {
    "duration": 1413,
    "start_time": "2022-03-14T05:26:40.738Z"
   },
   {
    "duration": 1409,
    "start_time": "2022-03-14T05:26:40.743Z"
   },
   {
    "duration": 534,
    "start_time": "2022-03-14T05:28:35.794Z"
   },
   {
    "duration": 134,
    "start_time": "2022-03-14T05:28:36.330Z"
   },
   {
    "duration": 16,
    "start_time": "2022-03-14T05:28:36.466Z"
   },
   {
    "duration": 23,
    "start_time": "2022-03-14T05:28:36.484Z"
   },
   {
    "duration": 3,
    "start_time": "2022-03-14T05:28:36.509Z"
   },
   {
    "duration": 33,
    "start_time": "2022-03-14T05:28:36.514Z"
   },
   {
    "duration": 10,
    "start_time": "2022-03-14T05:28:36.549Z"
   },
   {
    "duration": 24,
    "start_time": "2022-03-14T05:28:36.562Z"
   },
   {
    "duration": 16,
    "start_time": "2022-03-14T05:28:36.589Z"
   },
   {
    "duration": 40,
    "start_time": "2022-03-14T05:28:36.606Z"
   },
   {
    "duration": 61,
    "start_time": "2022-03-14T05:28:36.647Z"
   },
   {
    "duration": 78,
    "start_time": "2022-03-14T05:28:36.709Z"
   },
   {
    "duration": 57,
    "start_time": "2022-03-14T05:28:36.789Z"
   },
   {
    "duration": 228,
    "start_time": "2022-03-14T05:28:36.847Z"
   },
   {
    "duration": 1628,
    "start_time": "2022-03-14T05:28:35.450Z"
   },
   {
    "duration": 1621,
    "start_time": "2022-03-14T05:28:35.458Z"
   },
   {
    "duration": 1616,
    "start_time": "2022-03-14T05:28:35.464Z"
   },
   {
    "duration": 1610,
    "start_time": "2022-03-14T05:28:35.471Z"
   },
   {
    "duration": 1586,
    "start_time": "2022-03-14T05:28:35.496Z"
   },
   {
    "duration": 1577,
    "start_time": "2022-03-14T05:28:35.506Z"
   },
   {
    "duration": 1570,
    "start_time": "2022-03-14T05:28:35.514Z"
   },
   {
    "duration": 1561,
    "start_time": "2022-03-14T05:28:35.524Z"
   },
   {
    "duration": 1555,
    "start_time": "2022-03-14T05:28:35.531Z"
   },
   {
    "duration": 1545,
    "start_time": "2022-03-14T05:28:35.542Z"
   },
   {
    "duration": 1539,
    "start_time": "2022-03-14T05:28:35.549Z"
   },
   {
    "duration": 1529,
    "start_time": "2022-03-14T05:28:35.560Z"
   },
   {
    "duration": 1522,
    "start_time": "2022-03-14T05:28:35.568Z"
   },
   {
    "duration": 1513,
    "start_time": "2022-03-14T05:28:35.578Z"
   },
   {
    "duration": 1507,
    "start_time": "2022-03-14T05:28:35.585Z"
   },
   {
    "duration": 1483,
    "start_time": "2022-03-14T05:28:35.610Z"
   },
   {
    "duration": 1476,
    "start_time": "2022-03-14T05:28:35.618Z"
   },
   {
    "duration": 1468,
    "start_time": "2022-03-14T05:28:35.628Z"
   },
   {
    "duration": 1459,
    "start_time": "2022-03-14T05:28:35.638Z"
   },
   {
    "duration": 1451,
    "start_time": "2022-03-14T05:28:35.647Z"
   },
   {
    "duration": 1447,
    "start_time": "2022-03-14T05:28:35.652Z"
   },
   {
    "duration": 1441,
    "start_time": "2022-03-14T05:28:35.659Z"
   },
   {
    "duration": 1435,
    "start_time": "2022-03-14T05:28:35.665Z"
   },
   {
    "duration": 1429,
    "start_time": "2022-03-14T05:28:35.672Z"
   },
   {
    "duration": 559,
    "start_time": "2022-03-14T05:29:04.966Z"
   },
   {
    "duration": 142,
    "start_time": "2022-03-14T05:29:05.527Z"
   },
   {
    "duration": 18,
    "start_time": "2022-03-14T05:29:05.671Z"
   },
   {
    "duration": 28,
    "start_time": "2022-03-14T05:29:05.691Z"
   },
   {
    "duration": 4,
    "start_time": "2022-03-14T05:29:05.721Z"
   },
   {
    "duration": 15,
    "start_time": "2022-03-14T05:29:05.738Z"
   },
   {
    "duration": 10,
    "start_time": "2022-03-14T05:29:05.755Z"
   },
   {
    "duration": 27,
    "start_time": "2022-03-14T05:29:05.767Z"
   },
   {
    "duration": 31,
    "start_time": "2022-03-14T05:29:05.797Z"
   },
   {
    "duration": 25,
    "start_time": "2022-03-14T05:29:05.838Z"
   },
   {
    "duration": 78,
    "start_time": "2022-03-14T05:29:05.865Z"
   },
   {
    "duration": 64,
    "start_time": "2022-03-14T05:29:05.944Z"
   },
   {
    "duration": 65,
    "start_time": "2022-03-14T05:29:06.009Z"
   },
   {
    "duration": 272,
    "start_time": "2022-03-14T05:29:06.075Z"
   },
   {
    "duration": 1624,
    "start_time": "2022-03-14T05:29:04.725Z"
   },
   {
    "duration": 1603,
    "start_time": "2022-03-14T05:29:04.747Z"
   },
   {
    "duration": 1597,
    "start_time": "2022-03-14T05:29:04.754Z"
   },
   {
    "duration": 1593,
    "start_time": "2022-03-14T05:29:04.759Z"
   },
   {
    "duration": 1589,
    "start_time": "2022-03-14T05:29:04.764Z"
   },
   {
    "duration": 1582,
    "start_time": "2022-03-14T05:29:04.772Z"
   },
   {
    "duration": 1576,
    "start_time": "2022-03-14T05:29:04.778Z"
   },
   {
    "duration": 1572,
    "start_time": "2022-03-14T05:29:04.783Z"
   },
   {
    "duration": 1564,
    "start_time": "2022-03-14T05:29:04.792Z"
   },
   {
    "duration": 1559,
    "start_time": "2022-03-14T05:29:04.798Z"
   },
   {
    "duration": 1553,
    "start_time": "2022-03-14T05:29:04.805Z"
   },
   {
    "duration": 1548,
    "start_time": "2022-03-14T05:29:04.811Z"
   },
   {
    "duration": 1544,
    "start_time": "2022-03-14T05:29:04.816Z"
   },
   {
    "duration": 1536,
    "start_time": "2022-03-14T05:29:04.824Z"
   },
   {
    "duration": 1533,
    "start_time": "2022-03-14T05:29:04.828Z"
   },
   {
    "duration": 1529,
    "start_time": "2022-03-14T05:29:04.833Z"
   },
   {
    "duration": 1523,
    "start_time": "2022-03-14T05:29:04.841Z"
   },
   {
    "duration": 1502,
    "start_time": "2022-03-14T05:29:04.863Z"
   },
   {
    "duration": 1492,
    "start_time": "2022-03-14T05:29:04.874Z"
   },
   {
    "duration": 1485,
    "start_time": "2022-03-14T05:29:04.882Z"
   },
   {
    "duration": 1479,
    "start_time": "2022-03-14T05:29:04.889Z"
   },
   {
    "duration": 1472,
    "start_time": "2022-03-14T05:29:04.897Z"
   },
   {
    "duration": 1467,
    "start_time": "2022-03-14T05:29:04.903Z"
   },
   {
    "duration": 1459,
    "start_time": "2022-03-14T05:29:04.912Z"
   },
   {
    "duration": 180,
    "start_time": "2022-03-14T05:29:14.022Z"
   },
   {
    "duration": 3,
    "start_time": "2022-03-14T05:29:34.749Z"
   },
   {
    "duration": 27,
    "start_time": "2022-03-14T05:29:37.312Z"
   },
   {
    "duration": 7,
    "start_time": "2022-03-14T05:29:39.629Z"
   },
   {
    "duration": 32,
    "start_time": "2022-03-14T05:29:42.852Z"
   },
   {
    "duration": 185,
    "start_time": "2022-03-14T05:29:44.854Z"
   },
   {
    "duration": 33,
    "start_time": "2022-03-14T05:30:20.205Z"
   },
   {
    "duration": 3,
    "start_time": "2022-03-14T05:47:38.415Z"
   },
   {
    "duration": 360,
    "start_time": "2022-03-14T15:25:23.940Z"
   },
   {
    "duration": 331,
    "start_time": "2022-03-14T15:26:24.926Z"
   },
   {
    "duration": 602,
    "start_time": "2022-03-14T15:27:27.091Z"
   },
   {
    "duration": 127,
    "start_time": "2022-03-14T15:27:27.695Z"
   },
   {
    "duration": 14,
    "start_time": "2022-03-14T15:27:27.824Z"
   },
   {
    "duration": 28,
    "start_time": "2022-03-14T15:27:27.839Z"
   },
   {
    "duration": 3,
    "start_time": "2022-03-14T15:27:27.869Z"
   },
   {
    "duration": 14,
    "start_time": "2022-03-14T15:27:27.873Z"
   },
   {
    "duration": 12,
    "start_time": "2022-03-14T15:27:27.889Z"
   },
   {
    "duration": 19,
    "start_time": "2022-03-14T15:27:27.903Z"
   },
   {
    "duration": 15,
    "start_time": "2022-03-14T15:27:27.924Z"
   },
   {
    "duration": 19,
    "start_time": "2022-03-14T15:27:27.940Z"
   },
   {
    "duration": 71,
    "start_time": "2022-03-14T15:27:27.960Z"
   },
   {
    "duration": 55,
    "start_time": "2022-03-14T15:27:28.033Z"
   },
   {
    "duration": 54,
    "start_time": "2022-03-14T15:27:28.090Z"
   },
   {
    "duration": 347,
    "start_time": "2022-03-14T15:27:28.145Z"
   },
   {
    "duration": 10801047,
    "start_time": "2022-03-14T12:27:27.447Z"
   },
   {
    "duration": 10801040,
    "start_time": "2022-03-14T12:27:27.455Z"
   },
   {
    "duration": 10801033,
    "start_time": "2022-03-14T12:27:27.462Z"
   },
   {
    "duration": 10801028,
    "start_time": "2022-03-14T12:27:27.468Z"
   },
   {
    "duration": 10801021,
    "start_time": "2022-03-14T12:27:27.476Z"
   },
   {
    "duration": 10801017,
    "start_time": "2022-03-14T12:27:27.481Z"
   },
   {
    "duration": 10801012,
    "start_time": "2022-03-14T12:27:27.487Z"
   },
   {
    "duration": 10801008,
    "start_time": "2022-03-14T12:27:27.492Z"
   },
   {
    "duration": 10801001,
    "start_time": "2022-03-14T12:27:27.500Z"
   },
   {
    "duration": 10800996,
    "start_time": "2022-03-14T12:27:27.505Z"
   },
   {
    "duration": 10800989,
    "start_time": "2022-03-14T12:27:27.513Z"
   },
   {
    "duration": 10800981,
    "start_time": "2022-03-14T12:27:27.522Z"
   },
   {
    "duration": 10800951,
    "start_time": "2022-03-14T12:27:27.553Z"
   },
   {
    "duration": 10800945,
    "start_time": "2022-03-14T12:27:27.560Z"
   },
   {
    "duration": 10800934,
    "start_time": "2022-03-14T12:27:27.571Z"
   },
   {
    "duration": 10800929,
    "start_time": "2022-03-14T12:27:27.577Z"
   },
   {
    "duration": 10800924,
    "start_time": "2022-03-14T12:27:27.583Z"
   },
   {
    "duration": 10800913,
    "start_time": "2022-03-14T12:27:27.595Z"
   },
   {
    "duration": 10800906,
    "start_time": "2022-03-14T12:27:27.603Z"
   },
   {
    "duration": 10800901,
    "start_time": "2022-03-14T12:27:27.609Z"
   },
   {
    "duration": 10800893,
    "start_time": "2022-03-14T12:27:27.617Z"
   },
   {
    "duration": 10800888,
    "start_time": "2022-03-14T12:27:27.623Z"
   },
   {
    "duration": 10800885,
    "start_time": "2022-03-14T12:27:27.627Z"
   },
   {
    "duration": 10800879,
    "start_time": "2022-03-14T12:27:27.634Z"
   },
   {
    "duration": 2,
    "start_time": "2022-03-14T15:27:43.953Z"
   },
   {
    "duration": 22,
    "start_time": "2022-03-14T15:27:46.875Z"
   },
   {
    "duration": 7,
    "start_time": "2022-03-14T15:27:50.334Z"
   },
   {
    "duration": 31,
    "start_time": "2022-03-14T15:27:55.017Z"
   },
   {
    "duration": 3,
    "start_time": "2022-03-14T15:27:58.425Z"
   },
   {
    "duration": 16,
    "start_time": "2022-03-14T15:28:02.725Z"
   },
   {
    "duration": 14,
    "start_time": "2022-03-14T15:29:12.160Z"
   },
   {
    "duration": 14,
    "start_time": "2022-03-14T15:29:36.696Z"
   },
   {
    "duration": 13,
    "start_time": "2022-03-14T15:29:49.666Z"
   },
   {
    "duration": 20,
    "start_time": "2022-03-14T15:31:28.006Z"
   },
   {
    "duration": 15,
    "start_time": "2022-03-14T15:31:33.905Z"
   },
   {
    "duration": 16,
    "start_time": "2022-03-14T15:35:33.069Z"
   },
   {
    "duration": 11,
    "start_time": "2022-03-14T15:38:47.514Z"
   },
   {
    "duration": 10,
    "start_time": "2022-03-14T15:43:44.810Z"
   },
   {
    "duration": 9,
    "start_time": "2022-03-14T15:43:57.261Z"
   },
   {
    "duration": 133,
    "start_time": "2022-03-14T15:45:03.657Z"
   },
   {
    "duration": 10,
    "start_time": "2022-03-14T15:45:11.844Z"
   },
   {
    "duration": 12,
    "start_time": "2022-03-14T15:45:16.319Z"
   },
   {
    "duration": 19,
    "start_time": "2022-03-14T15:45:33.721Z"
   },
   {
    "duration": 12,
    "start_time": "2022-03-14T15:56:56.866Z"
   },
   {
    "duration": 334,
    "start_time": "2022-03-14T16:01:17.066Z"
   },
   {
    "duration": 4,
    "start_time": "2022-03-14T16:01:26.845Z"
   },
   {
    "duration": 610,
    "start_time": "2022-03-14T16:01:31.360Z"
   },
   {
    "duration": 666,
    "start_time": "2022-03-14T16:01:48.427Z"
   },
   {
    "duration": 4,
    "start_time": "2022-03-14T16:04:31.008Z"
   },
   {
    "duration": 4,
    "start_time": "2022-03-14T16:04:36.495Z"
   },
   {
    "duration": 8,
    "start_time": "2022-03-14T16:04:50.830Z"
   },
   {
    "duration": 584,
    "start_time": "2022-03-14T16:05:24.689Z"
   },
   {
    "duration": 119,
    "start_time": "2022-03-14T16:05:25.275Z"
   },
   {
    "duration": 14,
    "start_time": "2022-03-14T16:05:25.397Z"
   },
   {
    "duration": 23,
    "start_time": "2022-03-14T16:05:25.413Z"
   },
   {
    "duration": 5,
    "start_time": "2022-03-14T16:05:25.438Z"
   },
   {
    "duration": 12,
    "start_time": "2022-03-14T16:05:25.445Z"
   },
   {
    "duration": 4,
    "start_time": "2022-03-14T16:05:25.458Z"
   },
   {
    "duration": 49,
    "start_time": "2022-03-14T16:05:25.465Z"
   },
   {
    "duration": 17,
    "start_time": "2022-03-14T16:05:25.517Z"
   },
   {
    "duration": 22,
    "start_time": "2022-03-14T16:05:25.535Z"
   },
   {
    "duration": 81,
    "start_time": "2022-03-14T16:05:25.559Z"
   },
   {
    "duration": 71,
    "start_time": "2022-03-14T16:05:25.642Z"
   },
   {
    "duration": 49,
    "start_time": "2022-03-14T16:05:25.715Z"
   },
   {
    "duration": 345,
    "start_time": "2022-03-14T16:05:25.767Z"
   },
   {
    "duration": 243,
    "start_time": "2022-03-14T16:05:25.872Z"
   },
   {
    "duration": 234,
    "start_time": "2022-03-14T16:05:25.881Z"
   },
   {
    "duration": 228,
    "start_time": "2022-03-14T16:05:25.888Z"
   },
   {
    "duration": 208,
    "start_time": "2022-03-14T16:05:25.909Z"
   },
   {
    "duration": 203,
    "start_time": "2022-03-14T16:05:25.915Z"
   },
   {
    "duration": 196,
    "start_time": "2022-03-14T16:05:25.923Z"
   },
   {
    "duration": 192,
    "start_time": "2022-03-14T16:05:25.928Z"
   },
   {
    "duration": 185,
    "start_time": "2022-03-14T16:05:25.936Z"
   },
   {
    "duration": 180,
    "start_time": "2022-03-14T16:05:25.942Z"
   },
   {
    "duration": 175,
    "start_time": "2022-03-14T16:05:25.948Z"
   },
   {
    "duration": 170,
    "start_time": "2022-03-14T16:05:25.954Z"
   },
   {
    "duration": 165,
    "start_time": "2022-03-14T16:05:25.960Z"
   },
   {
    "duration": 161,
    "start_time": "2022-03-14T16:05:25.965Z"
   },
   {
    "duration": 156,
    "start_time": "2022-03-14T16:05:25.971Z"
   },
   {
    "duration": 152,
    "start_time": "2022-03-14T16:05:25.975Z"
   },
   {
    "duration": 149,
    "start_time": "2022-03-14T16:05:25.980Z"
   },
   {
    "duration": 146,
    "start_time": "2022-03-14T16:05:25.984Z"
   },
   {
    "duration": 140,
    "start_time": "2022-03-14T16:05:25.991Z"
   },
   {
    "duration": 134,
    "start_time": "2022-03-14T16:05:25.997Z"
   },
   {
    "duration": 130,
    "start_time": "2022-03-14T16:05:26.002Z"
   },
   {
    "duration": 112,
    "start_time": "2022-03-14T16:05:26.021Z"
   },
   {
    "duration": 107,
    "start_time": "2022-03-14T16:05:26.027Z"
   },
   {
    "duration": 104,
    "start_time": "2022-03-14T16:05:26.031Z"
   },
   {
    "duration": 99,
    "start_time": "2022-03-14T16:05:26.036Z"
   },
   {
    "duration": 649,
    "start_time": "2022-03-14T16:07:15.289Z"
   },
   {
    "duration": 133,
    "start_time": "2022-03-14T16:07:15.940Z"
   },
   {
    "duration": 15,
    "start_time": "2022-03-14T16:07:16.075Z"
   },
   {
    "duration": 28,
    "start_time": "2022-03-14T16:07:16.092Z"
   },
   {
    "duration": 4,
    "start_time": "2022-03-14T16:07:16.121Z"
   },
   {
    "duration": 13,
    "start_time": "2022-03-14T16:07:16.127Z"
   },
   {
    "duration": 5,
    "start_time": "2022-03-14T16:07:16.142Z"
   },
   {
    "duration": 28,
    "start_time": "2022-03-14T16:07:16.149Z"
   },
   {
    "duration": 37,
    "start_time": "2022-03-14T16:07:16.179Z"
   },
   {
    "duration": 20,
    "start_time": "2022-03-14T16:07:16.218Z"
   },
   {
    "duration": 70,
    "start_time": "2022-03-14T16:07:16.240Z"
   },
   {
    "duration": 62,
    "start_time": "2022-03-14T16:07:16.311Z"
   },
   {
    "duration": 431,
    "start_time": "2022-03-14T16:07:16.374Z"
   },
   {
    "duration": 249,
    "start_time": "2022-03-14T16:07:16.558Z"
   },
   {
    "duration": 243,
    "start_time": "2022-03-14T16:07:16.565Z"
   },
   {
    "duration": 235,
    "start_time": "2022-03-14T16:07:16.574Z"
   },
   {
    "duration": 229,
    "start_time": "2022-03-14T16:07:16.582Z"
   },
   {
    "duration": 136,
    "start_time": "2022-03-14T16:07:16.676Z"
   },
   {
    "duration": 70,
    "start_time": "2022-03-14T16:07:16.743Z"
   },
   {
    "duration": 58,
    "start_time": "2022-03-14T16:07:16.756Z"
   },
   {
    "duration": 51,
    "start_time": "2022-03-14T16:07:16.764Z"
   },
   {
    "duration": 45,
    "start_time": "2022-03-14T16:07:16.771Z"
   },
   {
    "duration": 39,
    "start_time": "2022-03-14T16:07:16.778Z"
   },
   {
    "duration": 32,
    "start_time": "2022-03-14T16:07:16.786Z"
   },
   {
    "duration": 26,
    "start_time": "2022-03-14T16:07:16.793Z"
   },
   {
    "duration": 18,
    "start_time": "2022-03-14T16:07:16.802Z"
   },
   {
    "duration": 12,
    "start_time": "2022-03-14T16:07:16.809Z"
   },
   {
    "duration": 6,
    "start_time": "2022-03-14T16:07:16.816Z"
   },
   {
    "duration": -11,
    "start_time": "2022-03-14T16:07:16.833Z"
   },
   {
    "duration": -17,
    "start_time": "2022-03-14T16:07:16.840Z"
   },
   {
    "duration": -22,
    "start_time": "2022-03-14T16:07:16.846Z"
   },
   {
    "duration": -36,
    "start_time": "2022-03-14T16:07:16.861Z"
   },
   {
    "duration": -42,
    "start_time": "2022-03-14T16:07:16.867Z"
   },
   {
    "duration": -47,
    "start_time": "2022-03-14T16:07:16.873Z"
   },
   {
    "duration": -53,
    "start_time": "2022-03-14T16:07:16.880Z"
   },
   {
    "duration": -58,
    "start_time": "2022-03-14T16:07:16.886Z"
   },
   {
    "duration": -62,
    "start_time": "2022-03-14T16:07:16.891Z"
   },
   {
    "duration": -68,
    "start_time": "2022-03-14T16:07:16.898Z"
   },
   {
    "duration": 302,
    "start_time": "2022-03-14T16:07:43.377Z"
   },
   {
    "duration": 295,
    "start_time": "2022-03-14T16:07:47.816Z"
   },
   {
    "duration": 292,
    "start_time": "2022-03-14T16:07:52.500Z"
   },
   {
    "duration": 352,
    "start_time": "2022-03-14T16:08:54.924Z"
   },
   {
    "duration": 617,
    "start_time": "2022-03-14T16:23:50.294Z"
   },
   {
    "duration": 132,
    "start_time": "2022-03-14T16:23:50.913Z"
   },
   {
    "duration": 16,
    "start_time": "2022-03-14T16:23:51.047Z"
   },
   {
    "duration": 36,
    "start_time": "2022-03-14T16:23:51.065Z"
   },
   {
    "duration": 4,
    "start_time": "2022-03-14T16:23:51.103Z"
   },
   {
    "duration": 13,
    "start_time": "2022-03-14T16:23:51.109Z"
   },
   {
    "duration": 5,
    "start_time": "2022-03-14T16:23:51.124Z"
   },
   {
    "duration": 23,
    "start_time": "2022-03-14T16:23:51.133Z"
   },
   {
    "duration": 50,
    "start_time": "2022-03-14T16:23:51.159Z"
   },
   {
    "duration": 24,
    "start_time": "2022-03-14T16:23:51.211Z"
   },
   {
    "duration": 78,
    "start_time": "2022-03-14T16:23:51.237Z"
   },
   {
    "duration": 63,
    "start_time": "2022-03-14T16:23:51.316Z"
   },
   {
    "duration": 65,
    "start_time": "2022-03-14T16:23:51.381Z"
   },
   {
    "duration": 7,
    "start_time": "2022-03-14T16:23:51.447Z"
   },
   {
    "duration": 3,
    "start_time": "2022-03-14T16:23:51.455Z"
   },
   {
    "duration": 51,
    "start_time": "2022-03-14T16:23:51.459Z"
   },
   {
    "duration": 8,
    "start_time": "2022-03-14T16:23:51.512Z"
   },
   {
    "duration": 29,
    "start_time": "2022-03-14T16:23:51.522Z"
   },
   {
    "duration": 56,
    "start_time": "2022-03-14T16:23:51.553Z"
   },
   {
    "duration": 4,
    "start_time": "2022-03-14T16:23:51.611Z"
   },
   {
    "duration": 18,
    "start_time": "2022-03-14T16:23:51.617Z"
   },
   {
    "duration": 14,
    "start_time": "2022-03-14T16:23:51.637Z"
   },
   {
    "duration": 14,
    "start_time": "2022-03-14T16:23:51.655Z"
   },
   {
    "duration": 39,
    "start_time": "2022-03-14T16:23:51.671Z"
   },
   {
    "duration": 16,
    "start_time": "2022-03-14T16:23:51.712Z"
   },
   {
    "duration": 14,
    "start_time": "2022-03-14T16:23:51.730Z"
   },
   {
    "duration": 3,
    "start_time": "2022-03-14T16:23:51.746Z"
   },
   {
    "duration": 12,
    "start_time": "2022-03-14T16:23:51.751Z"
   },
   {
    "duration": 37,
    "start_time": "2022-03-14T16:23:51.764Z"
   },
   {
    "duration": 4,
    "start_time": "2022-03-14T16:23:51.803Z"
   },
   {
    "duration": 666,
    "start_time": "2022-03-14T16:23:51.809Z"
   },
   {
    "duration": 236,
    "start_time": "2022-03-14T16:23:52.241Z"
   },
   {
    "duration": 229,
    "start_time": "2022-03-14T16:23:52.249Z"
   },
   {
    "duration": 223,
    "start_time": "2022-03-14T16:23:52.255Z"
   },
   {
    "duration": 217,
    "start_time": "2022-03-14T16:23:52.262Z"
   },
   {
    "duration": 212,
    "start_time": "2022-03-14T16:23:52.268Z"
   },
   {
    "duration": 202,
    "start_time": "2022-03-14T16:23:52.278Z"
   },
   {
    "duration": 195,
    "start_time": "2022-03-14T16:23:52.286Z"
   },
   {
    "duration": 601,
    "start_time": "2022-03-14T16:32:05.566Z"
   },
   {
    "duration": 143,
    "start_time": "2022-03-14T16:32:06.169Z"
   },
   {
    "duration": 18,
    "start_time": "2022-03-14T16:32:06.314Z"
   },
   {
    "duration": 25,
    "start_time": "2022-03-14T16:32:06.335Z"
   },
   {
    "duration": 4,
    "start_time": "2022-03-14T16:32:06.361Z"
   },
   {
    "duration": 39,
    "start_time": "2022-03-14T16:32:06.367Z"
   },
   {
    "duration": 3,
    "start_time": "2022-03-14T16:32:06.408Z"
   },
   {
    "duration": 22,
    "start_time": "2022-03-14T16:32:06.414Z"
   },
   {
    "duration": 16,
    "start_time": "2022-03-14T16:32:06.438Z"
   },
   {
    "duration": 58,
    "start_time": "2022-03-14T16:32:06.455Z"
   },
   {
    "duration": 55,
    "start_time": "2022-03-14T16:32:06.515Z"
   },
   {
    "duration": 75,
    "start_time": "2022-03-14T16:32:06.572Z"
   },
   {
    "duration": 64,
    "start_time": "2022-03-14T16:32:06.649Z"
   },
   {
    "duration": 7,
    "start_time": "2022-03-14T16:32:06.715Z"
   },
   {
    "duration": 3,
    "start_time": "2022-03-14T16:32:06.724Z"
   },
   {
    "duration": 24,
    "start_time": "2022-03-14T16:32:06.729Z"
   },
   {
    "duration": 7,
    "start_time": "2022-03-14T16:32:06.755Z"
   },
   {
    "duration": 61,
    "start_time": "2022-03-14T16:32:06.764Z"
   },
   {
    "duration": 28,
    "start_time": "2022-03-14T16:32:06.827Z"
   },
   {
    "duration": 3,
    "start_time": "2022-03-14T16:32:06.857Z"
   },
   {
    "duration": 40,
    "start_time": "2022-03-14T16:32:06.862Z"
   },
   {
    "duration": 14,
    "start_time": "2022-03-14T16:32:06.904Z"
   },
   {
    "duration": 15,
    "start_time": "2022-03-14T16:32:06.921Z"
   },
   {
    "duration": 13,
    "start_time": "2022-03-14T16:32:06.938Z"
   },
   {
    "duration": 51,
    "start_time": "2022-03-14T16:32:06.953Z"
   },
   {
    "duration": 13,
    "start_time": "2022-03-14T16:32:07.006Z"
   },
   {
    "duration": 4,
    "start_time": "2022-03-14T16:32:07.021Z"
   },
   {
    "duration": 13,
    "start_time": "2022-03-14T16:32:07.026Z"
   },
   {
    "duration": 9,
    "start_time": "2022-03-14T16:32:07.040Z"
   },
   {
    "duration": 4,
    "start_time": "2022-03-14T16:32:07.051Z"
   },
   {
    "duration": 712,
    "start_time": "2022-03-14T16:32:07.057Z"
   },
   {
    "duration": 282,
    "start_time": "2022-03-14T16:32:07.489Z"
   },
   {
    "duration": 266,
    "start_time": "2022-03-14T16:32:07.506Z"
   },
   {
    "duration": 260,
    "start_time": "2022-03-14T16:32:07.514Z"
   },
   {
    "duration": 255,
    "start_time": "2022-03-14T16:32:07.520Z"
   },
   {
    "duration": 249,
    "start_time": "2022-03-14T16:32:07.527Z"
   },
   {
    "duration": 243,
    "start_time": "2022-03-14T16:32:07.534Z"
   },
   {
    "duration": 239,
    "start_time": "2022-03-14T16:32:07.540Z"
   },
   {
    "duration": 815,
    "start_time": "2022-03-14T16:32:46.069Z"
   },
   {
    "duration": 179,
    "start_time": "2022-03-14T16:32:46.886Z"
   },
   {
    "duration": 22,
    "start_time": "2022-03-14T16:32:47.068Z"
   },
   {
    "duration": 34,
    "start_time": "2022-03-14T16:32:47.092Z"
   },
   {
    "duration": 4,
    "start_time": "2022-03-14T16:32:47.127Z"
   },
   {
    "duration": 13,
    "start_time": "2022-03-14T16:32:47.133Z"
   },
   {
    "duration": 5,
    "start_time": "2022-03-14T16:32:47.148Z"
   },
   {
    "duration": 22,
    "start_time": "2022-03-14T16:32:47.155Z"
   },
   {
    "duration": 15,
    "start_time": "2022-03-14T16:32:47.202Z"
   },
   {
    "duration": 20,
    "start_time": "2022-03-14T16:32:47.219Z"
   },
   {
    "duration": 77,
    "start_time": "2022-03-14T16:32:47.241Z"
   },
   {
    "duration": 55,
    "start_time": "2022-03-14T16:32:47.320Z"
   },
   {
    "duration": 81,
    "start_time": "2022-03-14T16:32:47.377Z"
   },
   {
    "duration": 8,
    "start_time": "2022-03-14T16:32:47.460Z"
   },
   {
    "duration": 2,
    "start_time": "2022-03-14T16:32:47.470Z"
   },
   {
    "duration": 44,
    "start_time": "2022-03-14T16:32:47.473Z"
   },
   {
    "duration": 6,
    "start_time": "2022-03-14T16:32:47.519Z"
   },
   {
    "duration": 28,
    "start_time": "2022-03-14T16:32:47.526Z"
   },
   {
    "duration": 49,
    "start_time": "2022-03-14T16:32:47.555Z"
   },
   {
    "duration": 3,
    "start_time": "2022-03-14T16:32:47.606Z"
   },
   {
    "duration": 20,
    "start_time": "2022-03-14T16:32:47.610Z"
   },
   {
    "duration": 14,
    "start_time": "2022-03-14T16:32:47.631Z"
   },
   {
    "duration": 13,
    "start_time": "2022-03-14T16:32:47.648Z"
   },
   {
    "duration": 43,
    "start_time": "2022-03-14T16:32:47.663Z"
   },
   {
    "duration": 15,
    "start_time": "2022-03-14T16:32:47.707Z"
   },
   {
    "duration": 12,
    "start_time": "2022-03-14T16:32:47.724Z"
   },
   {
    "duration": 3,
    "start_time": "2022-03-14T16:32:47.738Z"
   },
   {
    "duration": 13,
    "start_time": "2022-03-14T16:32:47.743Z"
   },
   {
    "duration": 46,
    "start_time": "2022-03-14T16:32:47.757Z"
   },
   {
    "duration": 3,
    "start_time": "2022-03-14T16:32:47.805Z"
   },
   {
    "duration": 642,
    "start_time": "2022-03-14T16:32:47.810Z"
   },
   {
    "duration": 294,
    "start_time": "2022-03-14T16:32:48.159Z"
   },
   {
    "duration": 283,
    "start_time": "2022-03-14T16:32:48.171Z"
   },
   {
    "duration": 278,
    "start_time": "2022-03-14T16:32:48.177Z"
   },
   {
    "duration": 274,
    "start_time": "2022-03-14T16:32:48.182Z"
   },
   {
    "duration": 268,
    "start_time": "2022-03-14T16:32:48.189Z"
   },
   {
    "duration": 263,
    "start_time": "2022-03-14T16:32:48.194Z"
   },
   {
    "duration": 245,
    "start_time": "2022-03-14T16:32:48.213Z"
   },
   {
    "duration": 594,
    "start_time": "2022-03-14T16:34:30.347Z"
   },
   {
    "duration": 132,
    "start_time": "2022-03-14T16:34:30.943Z"
   },
   {
    "duration": 26,
    "start_time": "2022-03-14T16:34:31.077Z"
   },
   {
    "duration": 25,
    "start_time": "2022-03-14T16:34:31.105Z"
   },
   {
    "duration": 4,
    "start_time": "2022-03-14T16:34:31.132Z"
   },
   {
    "duration": 16,
    "start_time": "2022-03-14T16:34:31.138Z"
   },
   {
    "duration": 8,
    "start_time": "2022-03-14T16:34:31.155Z"
   },
   {
    "duration": 39,
    "start_time": "2022-03-14T16:34:31.166Z"
   },
   {
    "duration": 17,
    "start_time": "2022-03-14T16:34:31.207Z"
   },
   {
    "duration": 23,
    "start_time": "2022-03-14T16:34:31.226Z"
   },
   {
    "duration": 113,
    "start_time": "2022-03-14T16:34:31.252Z"
   },
   {
    "duration": 99,
    "start_time": "2022-03-14T16:34:31.368Z"
   },
   {
    "duration": 78,
    "start_time": "2022-03-14T16:34:31.470Z"
   },
   {
    "duration": 9,
    "start_time": "2022-03-14T16:34:31.549Z"
   },
   {
    "duration": 3,
    "start_time": "2022-03-14T16:34:31.560Z"
   },
   {
    "duration": 51,
    "start_time": "2022-03-14T16:34:31.565Z"
   },
   {
    "duration": 9,
    "start_time": "2022-03-14T16:34:31.618Z"
   },
   {
    "duration": 46,
    "start_time": "2022-03-14T16:34:31.629Z"
   },
   {
    "duration": 64,
    "start_time": "2022-03-14T16:34:31.677Z"
   },
   {
    "duration": 4,
    "start_time": "2022-03-14T16:34:31.743Z"
   },
   {
    "duration": 27,
    "start_time": "2022-03-14T16:34:31.749Z"
   },
   {
    "duration": 36,
    "start_time": "2022-03-14T16:34:31.778Z"
   },
   {
    "duration": 15,
    "start_time": "2022-03-14T16:34:31.817Z"
   },
   {
    "duration": 13,
    "start_time": "2022-03-14T16:34:31.834Z"
   },
   {
    "duration": 15,
    "start_time": "2022-03-14T16:34:31.848Z"
   },
   {
    "duration": 42,
    "start_time": "2022-03-14T16:34:31.865Z"
   },
   {
    "duration": 3,
    "start_time": "2022-03-14T16:34:31.909Z"
   },
   {
    "duration": 14,
    "start_time": "2022-03-14T16:34:31.914Z"
   },
   {
    "duration": 8,
    "start_time": "2022-03-14T16:34:31.930Z"
   },
   {
    "duration": 6,
    "start_time": "2022-03-14T16:34:31.939Z"
   },
   {
    "duration": 680,
    "start_time": "2022-03-14T16:34:31.946Z"
   },
   {
    "duration": 275,
    "start_time": "2022-03-14T16:34:32.353Z"
   },
   {
    "duration": 271,
    "start_time": "2022-03-14T16:34:32.358Z"
   },
   {
    "duration": 267,
    "start_time": "2022-03-14T16:34:32.363Z"
   },
   {
    "duration": 263,
    "start_time": "2022-03-14T16:34:32.368Z"
   },
   {
    "duration": 257,
    "start_time": "2022-03-14T16:34:32.375Z"
   },
   {
    "duration": 249,
    "start_time": "2022-03-14T16:34:32.384Z"
   },
   {
    "duration": 242,
    "start_time": "2022-03-14T16:34:32.392Z"
   },
   {
    "duration": 643,
    "start_time": "2022-03-14T16:36:06.679Z"
   },
   {
    "duration": 645,
    "start_time": "2022-03-14T16:36:44.440Z"
   },
   {
    "duration": 569,
    "start_time": "2022-03-14T16:41:33.202Z"
   },
   {
    "duration": 141,
    "start_time": "2022-03-14T16:41:33.773Z"
   },
   {
    "duration": 15,
    "start_time": "2022-03-14T16:41:33.916Z"
   },
   {
    "duration": 24,
    "start_time": "2022-03-14T16:41:33.933Z"
   },
   {
    "duration": 4,
    "start_time": "2022-03-14T16:41:33.959Z"
   },
   {
    "duration": 39,
    "start_time": "2022-03-14T16:41:33.965Z"
   },
   {
    "duration": 4,
    "start_time": "2022-03-14T16:41:34.006Z"
   },
   {
    "duration": 30,
    "start_time": "2022-03-14T16:41:34.013Z"
   },
   {
    "duration": 18,
    "start_time": "2022-03-14T16:41:34.045Z"
   },
   {
    "duration": 44,
    "start_time": "2022-03-14T16:41:34.064Z"
   },
   {
    "duration": 60,
    "start_time": "2022-03-14T16:41:34.110Z"
   },
   {
    "duration": 72,
    "start_time": "2022-03-14T16:41:34.171Z"
   },
   {
    "duration": 57,
    "start_time": "2022-03-14T16:41:34.245Z"
   },
   {
    "duration": 6,
    "start_time": "2022-03-14T16:41:34.303Z"
   },
   {
    "duration": 3,
    "start_time": "2022-03-14T16:41:34.310Z"
   },
   {
    "duration": 23,
    "start_time": "2022-03-14T16:41:34.315Z"
   },
   {
    "duration": 7,
    "start_time": "2022-03-14T16:41:34.340Z"
   },
   {
    "duration": 56,
    "start_time": "2022-03-14T16:41:34.349Z"
   },
   {
    "duration": 28,
    "start_time": "2022-03-14T16:41:34.407Z"
   },
   {
    "duration": 3,
    "start_time": "2022-03-14T16:41:34.437Z"
   },
   {
    "duration": 19,
    "start_time": "2022-03-14T16:41:34.441Z"
   },
   {
    "duration": 14,
    "start_time": "2022-03-14T16:41:34.461Z"
   },
   {
    "duration": 13,
    "start_time": "2022-03-14T16:41:34.502Z"
   },
   {
    "duration": 12,
    "start_time": "2022-03-14T16:41:34.517Z"
   },
   {
    "duration": 14,
    "start_time": "2022-03-14T16:41:34.531Z"
   },
   {
    "duration": 13,
    "start_time": "2022-03-14T16:41:34.546Z"
   },
   {
    "duration": 4,
    "start_time": "2022-03-14T16:41:34.561Z"
   },
   {
    "duration": 41,
    "start_time": "2022-03-14T16:41:34.566Z"
   },
   {
    "duration": 8,
    "start_time": "2022-03-14T16:41:34.608Z"
   },
   {
    "duration": 3,
    "start_time": "2022-03-14T16:41:34.618Z"
   },
   {
    "duration": 669,
    "start_time": "2022-03-14T16:41:34.623Z"
   },
   {
    "duration": 298,
    "start_time": "2022-03-14T16:41:34.996Z"
   },
   {
    "duration": 278,
    "start_time": "2022-03-14T16:41:35.017Z"
   },
   {
    "duration": 270,
    "start_time": "2022-03-14T16:41:35.026Z"
   },
   {
    "duration": 265,
    "start_time": "2022-03-14T16:41:35.032Z"
   },
   {
    "duration": 256,
    "start_time": "2022-03-14T16:41:35.041Z"
   },
   {
    "duration": 250,
    "start_time": "2022-03-14T16:41:35.048Z"
   },
   {
    "duration": 243,
    "start_time": "2022-03-14T16:41:35.056Z"
   },
   {
    "duration": 619,
    "start_time": "2022-03-14T16:46:39.270Z"
   },
   {
    "duration": 143,
    "start_time": "2022-03-14T16:46:39.891Z"
   },
   {
    "duration": 18,
    "start_time": "2022-03-14T16:46:40.036Z"
   },
   {
    "duration": 24,
    "start_time": "2022-03-14T16:46:40.056Z"
   },
   {
    "duration": 4,
    "start_time": "2022-03-14T16:46:40.101Z"
   },
   {
    "duration": 13,
    "start_time": "2022-03-14T16:46:40.107Z"
   },
   {
    "duration": 5,
    "start_time": "2022-03-14T16:46:40.122Z"
   },
   {
    "duration": 23,
    "start_time": "2022-03-14T16:46:40.130Z"
   },
   {
    "duration": 47,
    "start_time": "2022-03-14T16:46:40.155Z"
   },
   {
    "duration": 21,
    "start_time": "2022-03-14T16:46:40.204Z"
   },
   {
    "duration": 57,
    "start_time": "2022-03-14T16:46:40.227Z"
   },
   {
    "duration": 64,
    "start_time": "2022-03-14T16:46:40.307Z"
   },
   {
    "duration": 66,
    "start_time": "2022-03-14T16:46:40.373Z"
   },
   {
    "duration": 7,
    "start_time": "2022-03-14T16:46:40.441Z"
   },
   {
    "duration": 3,
    "start_time": "2022-03-14T16:46:40.450Z"
   },
   {
    "duration": 47,
    "start_time": "2022-03-14T16:46:40.455Z"
   },
   {
    "duration": 8,
    "start_time": "2022-03-14T16:46:40.504Z"
   },
   {
    "duration": 29,
    "start_time": "2022-03-14T16:46:40.514Z"
   },
   {
    "duration": 28,
    "start_time": "2022-03-14T16:46:40.544Z"
   },
   {
    "duration": 3,
    "start_time": "2022-03-14T16:46:40.602Z"
   },
   {
    "duration": 21,
    "start_time": "2022-03-14T16:46:40.607Z"
   },
   {
    "duration": 15,
    "start_time": "2022-03-14T16:46:40.630Z"
   },
   {
    "duration": 16,
    "start_time": "2022-03-14T16:46:40.649Z"
   },
   {
    "duration": 44,
    "start_time": "2022-03-14T16:46:40.668Z"
   },
   {
    "duration": 19,
    "start_time": "2022-03-14T16:46:40.714Z"
   },
   {
    "duration": 17,
    "start_time": "2022-03-14T16:46:40.735Z"
   },
   {
    "duration": 5,
    "start_time": "2022-03-14T16:46:40.754Z"
   },
   {
    "duration": 43,
    "start_time": "2022-03-14T16:46:40.760Z"
   },
   {
    "duration": 12,
    "start_time": "2022-03-14T16:46:40.805Z"
   },
   {
    "duration": 5,
    "start_time": "2022-03-14T16:46:40.819Z"
   },
   {
    "duration": 760,
    "start_time": "2022-03-14T16:46:40.825Z"
   },
   {
    "duration": 312,
    "start_time": "2022-03-14T16:46:41.275Z"
   },
   {
    "duration": 295,
    "start_time": "2022-03-14T16:46:41.293Z"
   },
   {
    "duration": 283,
    "start_time": "2022-03-14T16:46:41.307Z"
   },
   {
    "duration": 279,
    "start_time": "2022-03-14T16:46:41.312Z"
   },
   {
    "duration": 273,
    "start_time": "2022-03-14T16:46:41.319Z"
   },
   {
    "duration": 269,
    "start_time": "2022-03-14T16:46:41.325Z"
   },
   {
    "duration": 264,
    "start_time": "2022-03-14T16:46:41.331Z"
   },
   {
    "duration": 636,
    "start_time": "2022-03-14T16:47:34.402Z"
   },
   {
    "duration": 142,
    "start_time": "2022-03-14T16:47:35.040Z"
   },
   {
    "duration": 20,
    "start_time": "2022-03-14T16:47:35.184Z"
   },
   {
    "duration": 25,
    "start_time": "2022-03-14T16:47:35.206Z"
   },
   {
    "duration": 7,
    "start_time": "2022-03-14T16:47:35.233Z"
   },
   {
    "duration": 14,
    "start_time": "2022-03-14T16:47:35.242Z"
   },
   {
    "duration": 15,
    "start_time": "2022-03-14T16:47:35.257Z"
   },
   {
    "duration": 35,
    "start_time": "2022-03-14T16:47:35.274Z"
   },
   {
    "duration": 17,
    "start_time": "2022-03-14T16:47:35.311Z"
   },
   {
    "duration": 22,
    "start_time": "2022-03-14T16:47:35.330Z"
   },
   {
    "duration": 78,
    "start_time": "2022-03-14T16:47:35.354Z"
   },
   {
    "duration": 68,
    "start_time": "2022-03-14T16:47:35.434Z"
   },
   {
    "duration": 54,
    "start_time": "2022-03-14T16:47:35.503Z"
   },
   {
    "duration": 7,
    "start_time": "2022-03-14T16:47:35.559Z"
   },
   {
    "duration": 5,
    "start_time": "2022-03-14T16:47:35.567Z"
   },
   {
    "duration": 47,
    "start_time": "2022-03-14T16:47:35.573Z"
   },
   {
    "duration": 7,
    "start_time": "2022-03-14T16:47:35.621Z"
   },
   {
    "duration": 30,
    "start_time": "2022-03-14T16:47:35.630Z"
   },
   {
    "duration": 63,
    "start_time": "2022-03-14T16:47:35.662Z"
   },
   {
    "duration": 5,
    "start_time": "2022-03-14T16:47:35.727Z"
   },
   {
    "duration": 23,
    "start_time": "2022-03-14T16:47:35.734Z"
   },
   {
    "duration": 16,
    "start_time": "2022-03-14T16:47:35.759Z"
   },
   {
    "duration": 18,
    "start_time": "2022-03-14T16:47:35.802Z"
   },
   {
    "duration": 13,
    "start_time": "2022-03-14T16:47:35.822Z"
   },
   {
    "duration": 16,
    "start_time": "2022-03-14T16:47:35.836Z"
   },
   {
    "duration": 49,
    "start_time": "2022-03-14T16:47:35.853Z"
   },
   {
    "duration": 4,
    "start_time": "2022-03-14T16:47:35.904Z"
   },
   {
    "duration": 17,
    "start_time": "2022-03-14T16:47:35.910Z"
   },
   {
    "duration": 13,
    "start_time": "2022-03-14T16:47:35.930Z"
   },
   {
    "duration": 4,
    "start_time": "2022-03-14T16:47:35.946Z"
   },
   {
    "duration": 763,
    "start_time": "2022-03-14T16:47:35.952Z"
   },
   {
    "duration": 326,
    "start_time": "2022-03-14T16:47:36.391Z"
   },
   {
    "duration": 309,
    "start_time": "2022-03-14T16:47:36.410Z"
   },
   {
    "duration": 303,
    "start_time": "2022-03-14T16:47:36.417Z"
   },
   {
    "duration": 293,
    "start_time": "2022-03-14T16:47:36.429Z"
   },
   {
    "duration": 266,
    "start_time": "2022-03-14T16:47:36.457Z"
   },
   {
    "duration": 262,
    "start_time": "2022-03-14T16:47:36.463Z"
   },
   {
    "duration": 257,
    "start_time": "2022-03-14T16:47:36.470Z"
   },
   {
    "duration": 583,
    "start_time": "2022-03-14T17:02:51.478Z"
   },
   {
    "duration": 145,
    "start_time": "2022-03-14T17:02:52.063Z"
   },
   {
    "duration": 16,
    "start_time": "2022-03-14T17:02:52.210Z"
   },
   {
    "duration": 23,
    "start_time": "2022-03-14T17:02:52.227Z"
   },
   {
    "duration": 4,
    "start_time": "2022-03-14T17:02:52.251Z"
   },
   {
    "duration": 12,
    "start_time": "2022-03-14T17:02:52.257Z"
   },
   {
    "duration": 30,
    "start_time": "2022-03-14T17:02:52.271Z"
   },
   {
    "duration": 42,
    "start_time": "2022-03-14T17:02:52.304Z"
   },
   {
    "duration": 17,
    "start_time": "2022-03-14T17:02:52.348Z"
   },
   {
    "duration": 35,
    "start_time": "2022-03-14T17:02:52.367Z"
   },
   {
    "duration": 53,
    "start_time": "2022-03-14T17:02:52.404Z"
   },
   {
    "duration": 74,
    "start_time": "2022-03-14T17:02:52.459Z"
   },
   {
    "duration": 48,
    "start_time": "2022-03-14T17:02:52.535Z"
   },
   {
    "duration": 19,
    "start_time": "2022-03-14T17:02:52.585Z"
   },
   {
    "duration": 3,
    "start_time": "2022-03-14T17:02:52.606Z"
   },
   {
    "duration": 22,
    "start_time": "2022-03-14T17:02:52.611Z"
   },
   {
    "duration": 6,
    "start_time": "2022-03-14T17:02:52.635Z"
   },
   {
    "duration": 28,
    "start_time": "2022-03-14T17:02:52.643Z"
   },
   {
    "duration": 69,
    "start_time": "2022-03-14T17:02:52.673Z"
   },
   {
    "duration": 4,
    "start_time": "2022-03-14T17:02:52.744Z"
   },
   {
    "duration": 20,
    "start_time": "2022-03-14T17:02:52.749Z"
   },
   {
    "duration": 39,
    "start_time": "2022-03-14T17:02:52.771Z"
   },
   {
    "duration": 13,
    "start_time": "2022-03-14T17:02:52.814Z"
   },
   {
    "duration": 13,
    "start_time": "2022-03-14T17:02:52.829Z"
   },
   {
    "duration": 17,
    "start_time": "2022-03-14T17:02:52.844Z"
   },
   {
    "duration": 44,
    "start_time": "2022-03-14T17:02:52.863Z"
   },
   {
    "duration": 4,
    "start_time": "2022-03-14T17:02:52.909Z"
   },
   {
    "duration": 11,
    "start_time": "2022-03-14T17:02:52.915Z"
   },
   {
    "duration": 9,
    "start_time": "2022-03-14T17:02:52.928Z"
   },
   {
    "duration": 5,
    "start_time": "2022-03-14T17:02:52.939Z"
   },
   {
    "duration": 8632,
    "start_time": "2022-03-14T17:02:52.945Z"
   },
   {
    "duration": 312,
    "start_time": "2022-03-14T17:03:01.267Z"
   },
   {
    "duration": 301,
    "start_time": "2022-03-14T17:03:01.280Z"
   },
   {
    "duration": 297,
    "start_time": "2022-03-14T17:03:01.285Z"
   },
   {
    "duration": 295,
    "start_time": "2022-03-14T17:03:01.288Z"
   },
   {
    "duration": 293,
    "start_time": "2022-03-14T17:03:01.291Z"
   },
   {
    "duration": 290,
    "start_time": "2022-03-14T17:03:01.295Z"
   },
   {
    "duration": 286,
    "start_time": "2022-03-14T17:03:01.300Z"
   },
   {
    "duration": 836,
    "start_time": "2022-03-14T17:04:13.116Z"
   },
   {
    "duration": 123,
    "start_time": "2022-03-14T17:04:13.954Z"
   },
   {
    "duration": 24,
    "start_time": "2022-03-14T17:04:14.081Z"
   },
   {
    "duration": 23,
    "start_time": "2022-03-14T17:04:14.106Z"
   },
   {
    "duration": 4,
    "start_time": "2022-03-14T17:04:14.131Z"
   },
   {
    "duration": 12,
    "start_time": "2022-03-14T17:04:14.137Z"
   },
   {
    "duration": 4,
    "start_time": "2022-03-14T17:04:14.152Z"
   },
   {
    "duration": 48,
    "start_time": "2022-03-14T17:04:14.158Z"
   },
   {
    "duration": 15,
    "start_time": "2022-03-14T17:04:14.208Z"
   },
   {
    "duration": 20,
    "start_time": "2022-03-14T17:04:14.225Z"
   },
   {
    "duration": 74,
    "start_time": "2022-03-14T17:04:14.247Z"
   },
   {
    "duration": 59,
    "start_time": "2022-03-14T17:04:14.323Z"
   },
   {
    "duration": 63,
    "start_time": "2022-03-14T17:04:14.384Z"
   },
   {
    "duration": 6,
    "start_time": "2022-03-14T17:04:14.449Z"
   },
   {
    "duration": 3,
    "start_time": "2022-03-14T17:04:14.457Z"
   },
   {
    "duration": 41,
    "start_time": "2022-03-14T17:04:14.461Z"
   },
   {
    "duration": 7,
    "start_time": "2022-03-14T17:04:14.503Z"
   },
   {
    "duration": 30,
    "start_time": "2022-03-14T17:04:14.511Z"
   },
   {
    "duration": 28,
    "start_time": "2022-03-14T17:04:14.543Z"
   },
   {
    "duration": 3,
    "start_time": "2022-03-14T17:04:14.572Z"
   },
   {
    "duration": 15,
    "start_time": "2022-03-14T17:04:14.600Z"
   },
   {
    "duration": 13,
    "start_time": "2022-03-14T17:04:14.618Z"
   },
   {
    "duration": 14,
    "start_time": "2022-03-14T17:04:14.633Z"
   },
   {
    "duration": 12,
    "start_time": "2022-03-14T17:04:14.649Z"
   },
   {
    "duration": 47,
    "start_time": "2022-03-14T17:04:14.662Z"
   },
   {
    "duration": 12,
    "start_time": "2022-03-14T17:04:14.711Z"
   },
   {
    "duration": 4,
    "start_time": "2022-03-14T17:04:14.724Z"
   },
   {
    "duration": 10,
    "start_time": "2022-03-14T17:04:14.730Z"
   },
   {
    "duration": 7,
    "start_time": "2022-03-14T17:04:14.742Z"
   },
   {
    "duration": 4,
    "start_time": "2022-03-14T17:04:14.751Z"
   },
   {
    "duration": 8612,
    "start_time": "2022-03-14T17:04:14.757Z"
   },
   {
    "duration": 281,
    "start_time": "2022-03-14T17:04:23.090Z"
   },
   {
    "duration": 275,
    "start_time": "2022-03-14T17:04:23.097Z"
   },
   {
    "duration": 270,
    "start_time": "2022-03-14T17:04:23.103Z"
   },
   {
    "duration": 267,
    "start_time": "2022-03-14T17:04:23.107Z"
   },
   {
    "duration": 265,
    "start_time": "2022-03-14T17:04:23.110Z"
   },
   {
    "duration": 262,
    "start_time": "2022-03-14T17:04:23.113Z"
   },
   {
    "duration": 260,
    "start_time": "2022-03-14T17:04:23.116Z"
   },
   {
    "duration": 594,
    "start_time": "2022-03-14T17:10:59.855Z"
   },
   {
    "duration": 196,
    "start_time": "2022-03-14T17:11:00.452Z"
   },
   {
    "duration": 23,
    "start_time": "2022-03-14T17:11:00.651Z"
   },
   {
    "duration": 53,
    "start_time": "2022-03-14T17:11:00.677Z"
   },
   {
    "duration": 4,
    "start_time": "2022-03-14T17:11:00.733Z"
   },
   {
    "duration": 15,
    "start_time": "2022-03-14T17:11:00.739Z"
   },
   {
    "duration": 10,
    "start_time": "2022-03-14T17:11:00.756Z"
   },
   {
    "duration": 58,
    "start_time": "2022-03-14T17:11:00.769Z"
   },
   {
    "duration": 21,
    "start_time": "2022-03-14T17:11:00.829Z"
   },
   {
    "duration": 24,
    "start_time": "2022-03-14T17:11:00.852Z"
   },
   {
    "duration": 81,
    "start_time": "2022-03-14T17:11:00.878Z"
   },
   {
    "duration": 60,
    "start_time": "2022-03-14T17:11:00.961Z"
   },
   {
    "duration": 64,
    "start_time": "2022-03-14T17:11:01.023Z"
   },
   {
    "duration": 18,
    "start_time": "2022-03-14T17:11:01.089Z"
   },
   {
    "duration": 27,
    "start_time": "2022-03-14T17:11:01.108Z"
   },
   {
    "duration": 30,
    "start_time": "2022-03-14T17:11:01.138Z"
   },
   {
    "duration": 8,
    "start_time": "2022-03-14T17:11:01.171Z"
   },
   {
    "duration": 48,
    "start_time": "2022-03-14T17:11:01.181Z"
   },
   {
    "duration": 32,
    "start_time": "2022-03-14T17:11:01.230Z"
   },
   {
    "duration": 4,
    "start_time": "2022-03-14T17:11:01.264Z"
   },
   {
    "duration": 48,
    "start_time": "2022-03-14T17:11:01.271Z"
   },
   {
    "duration": 15,
    "start_time": "2022-03-14T17:11:01.321Z"
   },
   {
    "duration": 13,
    "start_time": "2022-03-14T17:11:01.339Z"
   },
   {
    "duration": 13,
    "start_time": "2022-03-14T17:11:01.354Z"
   },
   {
    "duration": 45,
    "start_time": "2022-03-14T17:11:01.369Z"
   },
   {
    "duration": 15,
    "start_time": "2022-03-14T17:11:01.416Z"
   },
   {
    "duration": 4,
    "start_time": "2022-03-14T17:11:01.433Z"
   },
   {
    "duration": 14,
    "start_time": "2022-03-14T17:11:01.439Z"
   },
   {
    "duration": 10,
    "start_time": "2022-03-14T17:11:01.455Z"
   },
   {
    "duration": 5,
    "start_time": "2022-03-14T17:11:01.467Z"
   },
   {
    "duration": 8503,
    "start_time": "2022-03-14T17:11:01.474Z"
   },
   {
    "duration": 306,
    "start_time": "2022-03-14T17:11:09.673Z"
   },
   {
    "duration": 299,
    "start_time": "2022-03-14T17:11:09.681Z"
   },
   {
    "duration": 287,
    "start_time": "2022-03-14T17:11:09.694Z"
   },
   {
    "duration": 280,
    "start_time": "2022-03-14T17:11:09.702Z"
   },
   {
    "duration": 276,
    "start_time": "2022-03-14T17:11:09.707Z"
   },
   {
    "duration": 267,
    "start_time": "2022-03-14T17:11:09.717Z"
   },
   {
    "duration": 262,
    "start_time": "2022-03-14T17:11:09.723Z"
   },
   {
    "duration": 586,
    "start_time": "2022-03-14T17:18:00.858Z"
   },
   {
    "duration": 150,
    "start_time": "2022-03-14T17:18:01.446Z"
   },
   {
    "duration": 21,
    "start_time": "2022-03-14T17:18:01.598Z"
   },
   {
    "duration": 30,
    "start_time": "2022-03-14T17:18:01.621Z"
   },
   {
    "duration": 4,
    "start_time": "2022-03-14T17:18:01.653Z"
   },
   {
    "duration": 15,
    "start_time": "2022-03-14T17:18:01.659Z"
   },
   {
    "duration": 6,
    "start_time": "2022-03-14T17:18:01.701Z"
   },
   {
    "duration": 35,
    "start_time": "2022-03-14T17:18:01.711Z"
   },
   {
    "duration": 19,
    "start_time": "2022-03-14T17:18:01.749Z"
   },
   {
    "duration": 46,
    "start_time": "2022-03-14T17:18:01.770Z"
   },
   {
    "duration": 68,
    "start_time": "2022-03-14T17:18:01.818Z"
   },
   {
    "duration": 79,
    "start_time": "2022-03-14T17:18:01.888Z"
   },
   {
    "duration": 67,
    "start_time": "2022-03-14T17:18:01.969Z"
   },
   {
    "duration": 6,
    "start_time": "2022-03-14T17:18:02.037Z"
   },
   {
    "duration": 2,
    "start_time": "2022-03-14T17:18:02.045Z"
   },
   {
    "duration": 24,
    "start_time": "2022-03-14T17:18:02.049Z"
   },
   {
    "duration": 30,
    "start_time": "2022-03-14T17:18:02.074Z"
   },
   {
    "duration": 37,
    "start_time": "2022-03-14T17:18:02.107Z"
   },
   {
    "duration": 38,
    "start_time": "2022-03-14T17:18:02.146Z"
   },
   {
    "duration": 16,
    "start_time": "2022-03-14T17:18:02.186Z"
   },
   {
    "duration": 27,
    "start_time": "2022-03-14T17:18:02.204Z"
   },
   {
    "duration": 17,
    "start_time": "2022-03-14T17:18:02.233Z"
   },
   {
    "duration": 17,
    "start_time": "2022-03-14T17:18:02.254Z"
   },
   {
    "duration": 47,
    "start_time": "2022-03-14T17:18:02.273Z"
   },
   {
    "duration": 20,
    "start_time": "2022-03-14T17:18:02.324Z"
   },
   {
    "duration": 18,
    "start_time": "2022-03-14T17:18:02.346Z"
   },
   {
    "duration": 12,
    "start_time": "2022-03-14T17:18:02.366Z"
   },
   {
    "duration": 15,
    "start_time": "2022-03-14T17:18:02.402Z"
   },
   {
    "duration": 12,
    "start_time": "2022-03-14T17:18:02.419Z"
   },
   {
    "duration": 7,
    "start_time": "2022-03-14T17:18:02.434Z"
   },
   {
    "duration": 9493,
    "start_time": "2022-03-14T17:18:02.443Z"
   },
   {
    "duration": 303,
    "start_time": "2022-03-14T17:18:11.635Z"
   },
   {
    "duration": 299,
    "start_time": "2022-03-14T17:18:11.640Z"
   },
   {
    "duration": 296,
    "start_time": "2022-03-14T17:18:11.644Z"
   },
   {
    "duration": 294,
    "start_time": "2022-03-14T17:18:11.647Z"
   },
   {
    "duration": 293,
    "start_time": "2022-03-14T17:18:11.650Z"
   },
   {
    "duration": 292,
    "start_time": "2022-03-14T17:18:11.653Z"
   },
   {
    "duration": 291,
    "start_time": "2022-03-14T17:18:11.656Z"
   },
   {
    "duration": 621,
    "start_time": "2022-03-14T17:22:38.515Z"
   },
   {
    "duration": 141,
    "start_time": "2022-03-14T17:22:39.137Z"
   },
   {
    "duration": 22,
    "start_time": "2022-03-14T17:22:39.280Z"
   },
   {
    "duration": 43,
    "start_time": "2022-03-14T17:22:39.304Z"
   },
   {
    "duration": 25,
    "start_time": "2022-03-14T17:22:39.349Z"
   },
   {
    "duration": 40,
    "start_time": "2022-03-14T17:22:39.376Z"
   },
   {
    "duration": 9,
    "start_time": "2022-03-14T17:22:39.419Z"
   },
   {
    "duration": 45,
    "start_time": "2022-03-14T17:22:39.431Z"
   },
   {
    "duration": 28,
    "start_time": "2022-03-14T17:22:39.478Z"
   },
   {
    "duration": 46,
    "start_time": "2022-03-14T17:22:39.508Z"
   },
   {
    "duration": 70,
    "start_time": "2022-03-14T17:22:39.555Z"
   },
   {
    "duration": 88,
    "start_time": "2022-03-14T17:22:39.627Z"
   },
   {
    "duration": 53,
    "start_time": "2022-03-14T17:22:39.717Z"
   },
   {
    "duration": 6,
    "start_time": "2022-03-14T17:22:39.772Z"
   },
   {
    "duration": 7,
    "start_time": "2022-03-14T17:22:39.779Z"
   },
   {
    "duration": 61,
    "start_time": "2022-03-14T17:22:39.788Z"
   },
   {
    "duration": 19,
    "start_time": "2022-03-14T17:22:39.851Z"
   },
   {
    "duration": 53,
    "start_time": "2022-03-14T17:22:39.871Z"
   },
   {
    "duration": 30,
    "start_time": "2022-03-14T17:22:39.926Z"
   },
   {
    "duration": 3,
    "start_time": "2022-03-14T17:22:39.959Z"
   },
   {
    "duration": 46,
    "start_time": "2022-03-14T17:22:39.964Z"
   },
   {
    "duration": 38,
    "start_time": "2022-03-14T17:22:40.012Z"
   },
   {
    "duration": 28,
    "start_time": "2022-03-14T17:22:40.053Z"
   },
   {
    "duration": 12,
    "start_time": "2022-03-14T17:22:40.083Z"
   },
   {
    "duration": 18,
    "start_time": "2022-03-14T17:22:40.097Z"
   },
   {
    "duration": 20,
    "start_time": "2022-03-14T17:22:40.117Z"
   },
   {
    "duration": 10,
    "start_time": "2022-03-14T17:22:40.139Z"
   },
   {
    "duration": 21,
    "start_time": "2022-03-14T17:22:40.150Z"
   },
   {
    "duration": 18,
    "start_time": "2022-03-14T17:22:40.173Z"
   },
   {
    "duration": 6,
    "start_time": "2022-03-14T17:22:40.193Z"
   },
   {
    "duration": 9034,
    "start_time": "2022-03-14T17:22:40.201Z"
   },
   {
    "duration": 312,
    "start_time": "2022-03-14T17:22:48.926Z"
   },
   {
    "duration": 305,
    "start_time": "2022-03-14T17:22:48.934Z"
   },
   {
    "duration": 299,
    "start_time": "2022-03-14T17:22:48.941Z"
   },
   {
    "duration": 294,
    "start_time": "2022-03-14T17:22:48.947Z"
   },
   {
    "duration": 290,
    "start_time": "2022-03-14T17:22:48.952Z"
   },
   {
    "duration": 287,
    "start_time": "2022-03-14T17:22:48.956Z"
   },
   {
    "duration": 283,
    "start_time": "2022-03-14T17:22:48.961Z"
   },
   {
    "duration": 605,
    "start_time": "2022-03-14T17:22:56.054Z"
   },
   {
    "duration": 184,
    "start_time": "2022-03-14T17:22:56.661Z"
   },
   {
    "duration": 23,
    "start_time": "2022-03-14T17:22:56.848Z"
   },
   {
    "duration": 51,
    "start_time": "2022-03-14T17:22:56.873Z"
   },
   {
    "duration": 5,
    "start_time": "2022-03-14T17:22:56.926Z"
   },
   {
    "duration": 16,
    "start_time": "2022-03-14T17:22:56.933Z"
   },
   {
    "duration": 6,
    "start_time": "2022-03-14T17:22:56.951Z"
   },
   {
    "duration": 49,
    "start_time": "2022-03-14T17:22:56.960Z"
   },
   {
    "duration": 26,
    "start_time": "2022-03-14T17:22:57.012Z"
   },
   {
    "duration": 36,
    "start_time": "2022-03-14T17:22:57.040Z"
   },
   {
    "duration": 106,
    "start_time": "2022-03-14T17:22:57.078Z"
   },
   {
    "duration": 92,
    "start_time": "2022-03-14T17:22:57.186Z"
   },
   {
    "duration": 81,
    "start_time": "2022-03-14T17:22:57.280Z"
   },
   {
    "duration": 9,
    "start_time": "2022-03-14T17:22:57.363Z"
   },
   {
    "duration": 3,
    "start_time": "2022-03-14T17:22:57.374Z"
   },
   {
    "duration": 49,
    "start_time": "2022-03-14T17:22:57.378Z"
   },
   {
    "duration": 8,
    "start_time": "2022-03-14T17:22:57.429Z"
   },
   {
    "duration": 46,
    "start_time": "2022-03-14T17:22:57.439Z"
   },
   {
    "duration": 46,
    "start_time": "2022-03-14T17:22:57.503Z"
   },
   {
    "duration": 4,
    "start_time": "2022-03-14T17:22:57.551Z"
   },
   {
    "duration": 28,
    "start_time": "2022-03-14T17:22:57.557Z"
   },
   {
    "duration": 34,
    "start_time": "2022-03-14T17:22:57.587Z"
   },
   {
    "duration": 20,
    "start_time": "2022-03-14T17:22:57.625Z"
   },
   {
    "duration": 18,
    "start_time": "2022-03-14T17:22:57.647Z"
   },
   {
    "duration": 54,
    "start_time": "2022-03-14T17:22:57.667Z"
   },
   {
    "duration": 14,
    "start_time": "2022-03-14T17:22:57.722Z"
   },
   {
    "duration": 5,
    "start_time": "2022-03-14T17:22:57.738Z"
   },
   {
    "duration": 14,
    "start_time": "2022-03-14T17:22:57.745Z"
   },
   {
    "duration": 9,
    "start_time": "2022-03-14T17:22:57.761Z"
   },
   {
    "duration": 4,
    "start_time": "2022-03-14T17:22:57.771Z"
   },
   {
    "duration": 8762,
    "start_time": "2022-03-14T17:22:57.802Z"
   },
   {
    "duration": 312,
    "start_time": "2022-03-14T17:23:06.254Z"
   },
   {
    "duration": 294,
    "start_time": "2022-03-14T17:23:06.273Z"
   },
   {
    "duration": 286,
    "start_time": "2022-03-14T17:23:06.282Z"
   },
   {
    "duration": 279,
    "start_time": "2022-03-14T17:23:06.289Z"
   },
   {
    "duration": 274,
    "start_time": "2022-03-14T17:23:06.295Z"
   },
   {
    "duration": 270,
    "start_time": "2022-03-14T17:23:06.300Z"
   },
   {
    "duration": 267,
    "start_time": "2022-03-14T17:23:06.303Z"
   },
   {
    "duration": 591,
    "start_time": "2022-03-14T17:28:23.811Z"
   },
   {
    "duration": 133,
    "start_time": "2022-03-14T17:28:24.403Z"
   },
   {
    "duration": 16,
    "start_time": "2022-03-14T17:28:24.539Z"
   },
   {
    "duration": 23,
    "start_time": "2022-03-14T17:28:24.556Z"
   },
   {
    "duration": 22,
    "start_time": "2022-03-14T17:28:24.580Z"
   },
   {
    "duration": 12,
    "start_time": "2022-03-14T17:28:24.604Z"
   },
   {
    "duration": 5,
    "start_time": "2022-03-14T17:28:24.618Z"
   },
   {
    "duration": 20,
    "start_time": "2022-03-14T17:28:24.626Z"
   },
   {
    "duration": 14,
    "start_time": "2022-03-14T17:28:24.648Z"
   },
   {
    "duration": 48,
    "start_time": "2022-03-14T17:28:24.664Z"
   },
   {
    "duration": 51,
    "start_time": "2022-03-14T17:28:24.713Z"
   },
   {
    "duration": 67,
    "start_time": "2022-03-14T17:28:24.766Z"
   },
   {
    "duration": 45,
    "start_time": "2022-03-14T17:28:24.834Z"
   },
   {
    "duration": 6,
    "start_time": "2022-03-14T17:28:24.881Z"
   },
   {
    "duration": 13,
    "start_time": "2022-03-14T17:28:24.888Z"
   },
   {
    "duration": 23,
    "start_time": "2022-03-14T17:28:24.903Z"
   },
   {
    "duration": 7,
    "start_time": "2022-03-14T17:28:24.927Z"
   },
   {
    "duration": 29,
    "start_time": "2022-03-14T17:28:24.935Z"
   },
   {
    "duration": 53,
    "start_time": "2022-03-14T17:28:24.965Z"
   },
   {
    "duration": 4,
    "start_time": "2022-03-14T17:28:25.020Z"
   },
   {
    "duration": 18,
    "start_time": "2022-03-14T17:28:25.026Z"
   },
   {
    "duration": 13,
    "start_time": "2022-03-14T17:28:25.045Z"
   },
   {
    "duration": 42,
    "start_time": "2022-03-14T17:28:25.062Z"
   },
   {
    "duration": 12,
    "start_time": "2022-03-14T17:28:25.106Z"
   },
   {
    "duration": 15,
    "start_time": "2022-03-14T17:28:25.119Z"
   },
   {
    "duration": 13,
    "start_time": "2022-03-14T17:28:25.136Z"
   },
   {
    "duration": 5,
    "start_time": "2022-03-14T17:28:25.150Z"
   },
   {
    "duration": 11,
    "start_time": "2022-03-14T17:28:25.156Z"
   },
   {
    "duration": 41,
    "start_time": "2022-03-14T17:28:25.169Z"
   },
   {
    "duration": 5,
    "start_time": "2022-03-14T17:28:25.212Z"
   },
   {
    "duration": 8776,
    "start_time": "2022-03-14T17:28:25.218Z"
   },
   {
    "duration": 334,
    "start_time": "2022-03-14T17:28:33.662Z"
   },
   {
    "duration": 329,
    "start_time": "2022-03-14T17:28:33.668Z"
   },
   {
    "duration": 326,
    "start_time": "2022-03-14T17:28:33.673Z"
   },
   {
    "duration": 320,
    "start_time": "2022-03-14T17:28:33.680Z"
   },
   {
    "duration": 313,
    "start_time": "2022-03-14T17:28:33.688Z"
   },
   {
    "duration": 308,
    "start_time": "2022-03-14T17:28:33.694Z"
   },
   {
    "duration": 303,
    "start_time": "2022-03-14T17:28:33.700Z"
   },
   {
    "duration": 9,
    "start_time": "2022-03-14T17:28:58.367Z"
   },
   {
    "duration": 717,
    "start_time": "2022-03-14T17:29:32.525Z"
   },
   {
    "duration": 172,
    "start_time": "2022-03-14T17:29:33.244Z"
   },
   {
    "duration": 21,
    "start_time": "2022-03-14T17:29:33.418Z"
   },
   {
    "duration": 37,
    "start_time": "2022-03-14T17:29:33.441Z"
   },
   {
    "duration": 22,
    "start_time": "2022-03-14T17:29:33.480Z"
   },
   {
    "duration": 13,
    "start_time": "2022-03-14T17:29:33.504Z"
   },
   {
    "duration": 6,
    "start_time": "2022-03-14T17:29:33.518Z"
   },
   {
    "duration": 21,
    "start_time": "2022-03-14T17:29:33.526Z"
   },
   {
    "duration": 16,
    "start_time": "2022-03-14T17:29:33.549Z"
   },
   {
    "duration": 51,
    "start_time": "2022-03-14T17:29:33.566Z"
   },
   {
    "duration": 54,
    "start_time": "2022-03-14T17:29:33.619Z"
   },
   {
    "duration": 71,
    "start_time": "2022-03-14T17:29:33.674Z"
   },
   {
    "duration": 55,
    "start_time": "2022-03-14T17:29:33.747Z"
   },
   {
    "duration": 6,
    "start_time": "2022-03-14T17:29:33.803Z"
   },
   {
    "duration": 3,
    "start_time": "2022-03-14T17:29:33.811Z"
   },
   {
    "duration": 24,
    "start_time": "2022-03-14T17:29:33.815Z"
   },
   {
    "duration": 7,
    "start_time": "2022-03-14T17:29:33.840Z"
   },
   {
    "duration": 62,
    "start_time": "2022-03-14T17:29:33.848Z"
   },
   {
    "duration": 30,
    "start_time": "2022-03-14T17:29:33.912Z"
   },
   {
    "duration": 4,
    "start_time": "2022-03-14T17:29:33.944Z"
   },
   {
    "duration": 17,
    "start_time": "2022-03-14T17:29:33.949Z"
   },
   {
    "duration": 45,
    "start_time": "2022-03-14T17:29:33.968Z"
   },
   {
    "duration": 20,
    "start_time": "2022-03-14T17:29:34.017Z"
   },
   {
    "duration": 18,
    "start_time": "2022-03-14T17:29:34.039Z"
   },
   {
    "duration": 43,
    "start_time": "2022-03-14T17:29:34.059Z"
   },
   {
    "duration": 18,
    "start_time": "2022-03-14T17:29:34.104Z"
   },
   {
    "duration": 9,
    "start_time": "2022-03-14T17:29:34.124Z"
   },
   {
    "duration": 11,
    "start_time": "2022-03-14T17:29:34.135Z"
   },
   {
    "duration": 7,
    "start_time": "2022-03-14T17:29:34.148Z"
   },
   {
    "duration": 4,
    "start_time": "2022-03-14T17:29:34.157Z"
   },
   {
    "duration": 8461,
    "start_time": "2022-03-14T17:29:34.163Z"
   },
   {
    "duration": 326,
    "start_time": "2022-03-14T17:29:42.300Z"
   },
   {
    "duration": 318,
    "start_time": "2022-03-14T17:29:42.309Z"
   },
   {
    "duration": 306,
    "start_time": "2022-03-14T17:29:42.322Z"
   },
   {
    "duration": 302,
    "start_time": "2022-03-14T17:29:42.327Z"
   },
   {
    "duration": 296,
    "start_time": "2022-03-14T17:29:42.334Z"
   },
   {
    "duration": 287,
    "start_time": "2022-03-14T17:29:42.344Z"
   },
   {
    "duration": 282,
    "start_time": "2022-03-14T17:29:42.350Z"
   },
   {
    "duration": 570,
    "start_time": "2022-03-14T17:34:02.643Z"
   },
   {
    "duration": 140,
    "start_time": "2022-03-14T17:34:03.215Z"
   },
   {
    "duration": 18,
    "start_time": "2022-03-14T17:34:03.357Z"
   },
   {
    "duration": 34,
    "start_time": "2022-03-14T17:34:03.376Z"
   },
   {
    "duration": 6,
    "start_time": "2022-03-14T17:34:03.411Z"
   },
   {
    "duration": 12,
    "start_time": "2022-03-14T17:34:03.418Z"
   },
   {
    "duration": 6,
    "start_time": "2022-03-14T17:34:03.431Z"
   },
   {
    "duration": 21,
    "start_time": "2022-03-14T17:34:03.439Z"
   },
   {
    "duration": 46,
    "start_time": "2022-03-14T17:34:03.462Z"
   },
   {
    "duration": 33,
    "start_time": "2022-03-14T17:34:03.510Z"
   },
   {
    "duration": 68,
    "start_time": "2022-03-14T17:34:03.545Z"
   },
   {
    "duration": 56,
    "start_time": "2022-03-14T17:34:03.615Z"
   },
   {
    "duration": 63,
    "start_time": "2022-03-14T17:34:03.673Z"
   },
   {
    "duration": 6,
    "start_time": "2022-03-14T17:34:03.737Z"
   },
   {
    "duration": 3,
    "start_time": "2022-03-14T17:34:03.745Z"
   },
   {
    "duration": 60,
    "start_time": "2022-03-14T17:34:03.750Z"
   },
   {
    "duration": 7,
    "start_time": "2022-03-14T17:34:03.811Z"
   },
   {
    "duration": 31,
    "start_time": "2022-03-14T17:34:03.820Z"
   },
   {
    "duration": 29,
    "start_time": "2022-03-14T17:34:03.853Z"
   },
   {
    "duration": 3,
    "start_time": "2022-03-14T17:34:03.883Z"
   },
   {
    "duration": 32,
    "start_time": "2022-03-14T17:34:03.887Z"
   },
   {
    "duration": 15,
    "start_time": "2022-03-14T17:34:03.920Z"
   },
   {
    "duration": 66,
    "start_time": "2022-03-14T17:34:03.938Z"
   },
   {
    "duration": 18,
    "start_time": "2022-03-14T17:34:04.007Z"
   },
   {
    "duration": 14,
    "start_time": "2022-03-14T17:34:04.027Z"
   },
   {
    "duration": 13,
    "start_time": "2022-03-14T17:34:04.042Z"
   },
   {
    "duration": 7,
    "start_time": "2022-03-14T17:34:04.056Z"
   },
   {
    "duration": 10,
    "start_time": "2022-03-14T17:34:04.065Z"
   },
   {
    "duration": 38,
    "start_time": "2022-03-14T17:34:04.076Z"
   },
   {
    "duration": 4,
    "start_time": "2022-03-14T17:34:04.115Z"
   },
   {
    "duration": 26,
    "start_time": "2022-03-14T17:34:04.121Z"
   },
   {
    "duration": 11,
    "start_time": "2022-03-14T17:34:04.149Z"
   },
   {
    "duration": 2,
    "start_time": "2022-03-14T17:34:04.161Z"
   },
   {
    "duration": 8,
    "start_time": "2022-03-14T17:34:04.165Z"
   },
   {
    "duration": 9,
    "start_time": "2022-03-14T17:34:04.175Z"
   },
   {
    "duration": 13,
    "start_time": "2022-03-14T17:34:04.186Z"
   },
   {
    "duration": 13,
    "start_time": "2022-03-14T17:34:04.202Z"
   },
   {
    "duration": 6,
    "start_time": "2022-03-14T17:34:04.217Z"
   },
   {
    "duration": 598,
    "start_time": "2022-03-14T17:39:40.715Z"
   },
   {
    "duration": 123,
    "start_time": "2022-03-14T17:39:41.314Z"
   },
   {
    "duration": 41,
    "start_time": "2022-03-14T17:39:41.439Z"
   },
   {
    "duration": 135,
    "start_time": "2022-03-14T17:39:41.482Z"
   },
   {
    "duration": 115,
    "start_time": "2022-03-14T17:39:41.619Z"
   },
   {
    "duration": 138,
    "start_time": "2022-03-14T17:39:41.736Z"
   },
   {
    "duration": 174,
    "start_time": "2022-03-14T17:39:41.876Z"
   },
   {
    "duration": 240,
    "start_time": "2022-03-14T17:39:42.053Z"
   },
   {
    "duration": 357,
    "start_time": "2022-03-14T17:39:42.295Z"
   },
   {
    "duration": 278,
    "start_time": "2022-03-14T17:39:42.653Z"
   },
   {
    "duration": 261,
    "start_time": "2022-03-14T17:39:42.933Z"
   },
   {
    "duration": 123,
    "start_time": "2022-03-14T17:39:43.196Z"
   },
   {
    "duration": 211,
    "start_time": "2022-03-14T17:39:43.321Z"
   },
   {
    "duration": 108,
    "start_time": "2022-03-14T17:39:43.534Z"
   },
   {
    "duration": 291,
    "start_time": "2022-03-14T17:39:43.643Z"
   },
   {
    "duration": 143,
    "start_time": "2022-03-14T17:39:43.936Z"
   },
   {
    "duration": 75,
    "start_time": "2022-03-14T17:39:44.081Z"
   },
   {
    "duration": 125,
    "start_time": "2022-03-14T17:39:44.158Z"
   },
   {
    "duration": 147,
    "start_time": "2022-03-14T17:39:44.285Z"
   },
   {
    "duration": 181,
    "start_time": "2022-03-14T17:39:44.434Z"
   },
   {
    "duration": 483,
    "start_time": "2022-03-14T17:39:44.617Z"
   },
   {
    "duration": 124,
    "start_time": "2022-03-14T17:39:45.102Z"
   },
   {
    "duration": 151,
    "start_time": "2022-03-14T17:39:45.229Z"
   },
   {
    "duration": 133,
    "start_time": "2022-03-14T17:39:45.382Z"
   },
   {
    "duration": 209,
    "start_time": "2022-03-14T17:39:45.517Z"
   },
   {
    "duration": 136,
    "start_time": "2022-03-14T17:39:45.728Z"
   },
   {
    "duration": 279,
    "start_time": "2022-03-14T17:39:45.866Z"
   },
   {
    "duration": 110,
    "start_time": "2022-03-14T17:39:46.147Z"
   },
   {
    "duration": 139,
    "start_time": "2022-03-14T17:39:46.258Z"
   },
   {
    "duration": 161,
    "start_time": "2022-03-14T17:39:46.399Z"
   },
   {
    "duration": 577,
    "start_time": "2022-03-14T17:39:46.561Z"
   },
   {
    "duration": 248,
    "start_time": "2022-03-14T17:39:47.140Z"
   },
   {
    "duration": 276,
    "start_time": "2022-03-14T17:39:47.389Z"
   },
   {
    "duration": 227,
    "start_time": "2022-03-14T17:39:47.666Z"
   },
   {
    "duration": 266,
    "start_time": "2022-03-14T17:39:47.894Z"
   },
   {
    "duration": 335,
    "start_time": "2022-03-14T17:39:48.162Z"
   },
   {
    "duration": 223,
    "start_time": "2022-03-14T17:39:48.499Z"
   },
   {
    "duration": 328,
    "start_time": "2022-03-14T17:39:48.724Z"
   },
   {
    "duration": 675,
    "start_time": "2022-03-14T17:40:57.134Z"
   },
   {
    "duration": 171,
    "start_time": "2022-03-14T17:40:57.811Z"
   },
   {
    "duration": 28,
    "start_time": "2022-03-14T17:40:57.984Z"
   },
   {
    "duration": 277,
    "start_time": "2022-03-14T17:40:58.014Z"
   },
   {
    "duration": 434,
    "start_time": "2022-03-14T17:40:58.292Z"
   },
   {
    "duration": 152,
    "start_time": "2022-03-14T17:40:58.728Z"
   },
   {
    "duration": 175,
    "start_time": "2022-03-14T17:40:58.881Z"
   },
   {
    "duration": 197,
    "start_time": "2022-03-14T17:40:59.058Z"
   },
   {
    "duration": 339,
    "start_time": "2022-03-14T17:40:59.257Z"
   },
   {
    "duration": 179,
    "start_time": "2022-03-14T17:40:59.597Z"
   },
   {
    "duration": 189,
    "start_time": "2022-03-14T17:40:59.778Z"
   },
   {
    "duration": 121,
    "start_time": "2022-03-14T17:40:59.969Z"
   },
   {
    "duration": 71,
    "start_time": "2022-03-14T17:41:00.092Z"
   },
   {
    "duration": 110,
    "start_time": "2022-03-14T17:41:00.165Z"
   },
   {
    "duration": 210,
    "start_time": "2022-03-14T17:41:00.276Z"
   },
   {
    "duration": 261,
    "start_time": "2022-03-14T17:41:00.487Z"
   },
   {
    "duration": 145,
    "start_time": "2022-03-14T17:41:00.750Z"
   },
   {
    "duration": 218,
    "start_time": "2022-03-14T17:41:00.896Z"
   },
   {
    "duration": 314,
    "start_time": "2022-03-14T17:41:01.115Z"
   },
   {
    "duration": 313,
    "start_time": "2022-03-14T17:41:01.431Z"
   },
   {
    "duration": 422,
    "start_time": "2022-03-14T17:41:01.746Z"
   },
   {
    "duration": 182,
    "start_time": "2022-03-14T17:41:02.170Z"
   },
   {
    "duration": 376,
    "start_time": "2022-03-14T17:41:02.355Z"
   },
   {
    "duration": 248,
    "start_time": "2022-03-14T17:41:02.733Z"
   },
   {
    "duration": 183,
    "start_time": "2022-03-14T17:41:02.982Z"
   },
   {
    "duration": 103,
    "start_time": "2022-03-14T17:41:03.167Z"
   },
   {
    "duration": 184,
    "start_time": "2022-03-14T17:41:03.272Z"
   },
   {
    "duration": 256,
    "start_time": "2022-03-14T17:41:03.457Z"
   },
   {
    "duration": 353,
    "start_time": "2022-03-14T17:41:03.715Z"
   },
   {
    "duration": 283,
    "start_time": "2022-03-14T17:41:04.069Z"
   },
   {
    "duration": 223,
    "start_time": "2022-03-14T17:41:04.353Z"
   },
   {
    "duration": 359,
    "start_time": "2022-03-14T17:41:04.578Z"
   },
   {
    "duration": 117,
    "start_time": "2022-03-14T17:41:04.939Z"
   },
   {
    "duration": 84,
    "start_time": "2022-03-14T17:41:05.058Z"
   },
   {
    "duration": 220,
    "start_time": "2022-03-14T17:41:05.144Z"
   },
   {
    "duration": 317,
    "start_time": "2022-03-14T17:41:05.366Z"
   },
   {
    "duration": 161,
    "start_time": "2022-03-14T17:41:05.685Z"
   },
   {
    "duration": 229,
    "start_time": "2022-03-14T17:41:05.848Z"
   },
   {
    "duration": 572,
    "start_time": "2022-03-14T17:41:49.431Z"
   },
   {
    "duration": 134,
    "start_time": "2022-03-14T17:41:50.004Z"
   },
   {
    "duration": 187,
    "start_time": "2022-03-14T17:41:50.140Z"
   },
   {
    "duration": 431,
    "start_time": "2022-03-14T17:41:50.329Z"
   },
   {
    "duration": 534,
    "start_time": "2022-03-14T17:41:50.762Z"
   },
   {
    "duration": 257,
    "start_time": "2022-03-14T17:41:51.297Z"
   },
   {
    "duration": 364,
    "start_time": "2022-03-14T17:41:51.556Z"
   },
   {
    "duration": 251,
    "start_time": "2022-03-14T17:41:51.922Z"
   },
   {
    "duration": 265,
    "start_time": "2022-03-14T17:41:52.175Z"
   },
   {
    "duration": 185,
    "start_time": "2022-03-14T17:41:52.441Z"
   },
   {
    "duration": 300,
    "start_time": "2022-03-14T17:41:52.628Z"
   },
   {
    "duration": 195,
    "start_time": "2022-03-14T17:41:52.930Z"
   },
   {
    "duration": 240,
    "start_time": "2022-03-14T17:41:53.127Z"
   },
   {
    "duration": 137,
    "start_time": "2022-03-14T17:41:53.369Z"
   },
   {
    "duration": 521,
    "start_time": "2022-03-14T17:41:53.508Z"
   },
   {
    "duration": 462,
    "start_time": "2022-03-14T17:41:54.030Z"
   },
   {
    "duration": 211,
    "start_time": "2022-03-14T17:41:54.494Z"
   },
   {
    "duration": 373,
    "start_time": "2022-03-14T17:41:54.706Z"
   },
   {
    "duration": 645,
    "start_time": "2022-03-14T17:41:55.081Z"
   },
   {
    "duration": 836,
    "start_time": "2022-03-14T17:41:55.727Z"
   },
   {
    "duration": 1944,
    "start_time": "2022-03-14T17:41:56.565Z"
   },
   {
    "duration": 987,
    "start_time": "2022-03-14T17:41:58.511Z"
   },
   {
    "duration": 354,
    "start_time": "2022-03-14T17:41:59.501Z"
   },
   {
    "duration": 35,
    "start_time": "2022-03-14T17:41:59.857Z"
   },
   {
    "duration": 20,
    "start_time": "2022-03-14T17:41:59.894Z"
   },
   {
    "duration": 12,
    "start_time": "2022-03-14T17:41:59.916Z"
   },
   {
    "duration": 54,
    "start_time": "2022-03-14T17:41:59.930Z"
   },
   {
    "duration": 80,
    "start_time": "2022-03-14T17:41:59.986Z"
   },
   {
    "duration": 58,
    "start_time": "2022-03-14T17:42:00.067Z"
   },
   {
    "duration": 8,
    "start_time": "2022-03-14T17:42:00.127Z"
   },
   {
    "duration": 27,
    "start_time": "2022-03-14T17:42:00.137Z"
   },
   {
    "duration": 134,
    "start_time": "2022-03-14T17:42:00.167Z"
   },
   {
    "duration": 1067,
    "start_time": "2022-03-14T17:42:00.303Z"
   },
   {
    "duration": 918,
    "start_time": "2022-03-14T17:42:01.371Z"
   },
   {
    "duration": 382,
    "start_time": "2022-03-14T17:42:02.290Z"
   },
   {
    "duration": 141,
    "start_time": "2022-03-14T17:42:02.674Z"
   },
   {
    "duration": 21,
    "start_time": "2022-03-14T17:42:02.817Z"
   },
   {
    "duration": 288,
    "start_time": "2022-03-14T17:42:02.840Z"
   },
   {
    "duration": 597,
    "start_time": "2022-03-14T17:42:51.796Z"
   },
   {
    "duration": 307,
    "start_time": "2022-03-14T17:42:52.395Z"
   },
   {
    "duration": 478,
    "start_time": "2022-03-14T17:42:52.704Z"
   },
   {
    "duration": 854,
    "start_time": "2022-03-14T17:42:53.183Z"
   },
   {
    "duration": 926,
    "start_time": "2022-03-14T17:42:54.038Z"
   },
   {
    "duration": 602,
    "start_time": "2022-03-14T17:42:54.966Z"
   },
   {
    "duration": 923,
    "start_time": "2022-03-14T17:42:55.570Z"
   },
   {
    "duration": 1138,
    "start_time": "2022-03-14T17:42:56.495Z"
   },
   {
    "duration": 683,
    "start_time": "2022-03-14T17:42:57.635Z"
   },
   {
    "duration": 1119,
    "start_time": "2022-03-14T17:42:58.319Z"
   },
   {
    "duration": 506,
    "start_time": "2022-03-14T17:42:59.439Z"
   },
   {
    "duration": 327,
    "start_time": "2022-03-14T17:42:59.946Z"
   },
   {
    "duration": 396,
    "start_time": "2022-03-14T17:43:00.275Z"
   },
   {
    "duration": 471,
    "start_time": "2022-03-14T17:43:00.673Z"
   },
   {
    "duration": 781,
    "start_time": "2022-03-14T17:43:01.146Z"
   },
   {
    "duration": 855,
    "start_time": "2022-03-14T17:43:01.929Z"
   },
   {
    "duration": 953,
    "start_time": "2022-03-14T17:43:02.786Z"
   },
   {
    "duration": 598,
    "start_time": "2022-03-14T17:43:03.741Z"
   },
   {
    "duration": 781,
    "start_time": "2022-03-14T17:43:04.341Z"
   },
   {
    "duration": 899,
    "start_time": "2022-03-14T17:43:05.124Z"
   },
   {
    "duration": 310,
    "start_time": "2022-03-14T17:43:06.025Z"
   },
   {
    "duration": 229,
    "start_time": "2022-03-14T17:43:06.336Z"
   },
   {
    "duration": 167,
    "start_time": "2022-03-14T17:43:06.568Z"
   },
   {
    "duration": 225,
    "start_time": "2022-03-14T17:43:06.737Z"
   },
   {
    "duration": 178,
    "start_time": "2022-03-14T17:43:06.963Z"
   },
   {
    "duration": 191,
    "start_time": "2022-03-14T17:43:07.142Z"
   },
   {
    "duration": 377,
    "start_time": "2022-03-14T17:43:07.335Z"
   },
   {
    "duration": 389,
    "start_time": "2022-03-14T17:43:07.714Z"
   },
   {
    "duration": 846,
    "start_time": "2022-03-14T17:43:08.106Z"
   },
   {
    "duration": 1667,
    "start_time": "2022-03-14T17:43:08.953Z"
   },
   {
    "duration": 1167,
    "start_time": "2022-03-14T17:43:10.622Z"
   },
   {
    "duration": 1538,
    "start_time": "2022-03-14T17:43:11.790Z"
   },
   {
    "duration": 715,
    "start_time": "2022-03-14T17:43:13.330Z"
   },
   {
    "duration": 575,
    "start_time": "2022-03-14T17:43:14.047Z"
   },
   {
    "duration": 981,
    "start_time": "2022-03-14T17:43:14.624Z"
   },
   {
    "duration": 450,
    "start_time": "2022-03-14T17:43:15.607Z"
   },
   {
    "duration": 448,
    "start_time": "2022-03-14T17:43:16.058Z"
   },
   {
    "duration": 332,
    "start_time": "2022-03-14T17:43:16.508Z"
   },
   {
    "duration": 601,
    "start_time": "2022-03-14T17:48:24.857Z"
   },
   {
    "duration": 536,
    "start_time": "2022-03-14T17:48:25.460Z"
   },
   {
    "duration": 523,
    "start_time": "2022-03-14T17:48:25.998Z"
   },
   {
    "duration": 620,
    "start_time": "2022-03-14T17:48:26.523Z"
   },
   {
    "duration": 501,
    "start_time": "2022-03-14T17:48:27.144Z"
   },
   {
    "duration": 387,
    "start_time": "2022-03-14T17:48:27.647Z"
   },
   {
    "duration": 484,
    "start_time": "2022-03-14T17:48:28.036Z"
   },
   {
    "duration": 382,
    "start_time": "2022-03-14T17:48:28.522Z"
   },
   {
    "duration": 262,
    "start_time": "2022-03-14T17:48:28.907Z"
   },
   {
    "duration": 386,
    "start_time": "2022-03-14T17:48:29.170Z"
   },
   {
    "duration": 555,
    "start_time": "2022-03-14T17:48:29.557Z"
   },
   {
    "duration": 446,
    "start_time": "2022-03-14T17:48:30.114Z"
   },
   {
    "duration": 637,
    "start_time": "2022-03-14T17:48:30.562Z"
   },
   {
    "duration": 801,
    "start_time": "2022-03-14T17:48:31.203Z"
   },
   {
    "duration": 551,
    "start_time": "2022-03-14T17:48:32.006Z"
   },
   {
    "duration": 581,
    "start_time": "2022-03-14T17:48:32.559Z"
   },
   {
    "duration": 440,
    "start_time": "2022-03-14T17:48:33.141Z"
   },
   {
    "duration": 465,
    "start_time": "2022-03-14T17:48:33.582Z"
   },
   {
    "duration": 465,
    "start_time": "2022-03-14T17:48:34.048Z"
   },
   {
    "duration": 569,
    "start_time": "2022-03-14T17:48:34.514Z"
   },
   {
    "duration": 698,
    "start_time": "2022-03-14T17:48:35.085Z"
   },
   {
    "duration": 333,
    "start_time": "2022-03-14T17:48:35.784Z"
   },
   {
    "duration": 549,
    "start_time": "2022-03-14T17:48:36.120Z"
   },
   {
    "duration": 454,
    "start_time": "2022-03-14T17:48:36.671Z"
   },
   {
    "duration": 660,
    "start_time": "2022-03-14T17:48:37.127Z"
   },
   {
    "duration": 370,
    "start_time": "2022-03-14T17:48:37.789Z"
   },
   {
    "duration": 492,
    "start_time": "2022-03-14T17:48:38.161Z"
   },
   {
    "duration": 493,
    "start_time": "2022-03-14T17:48:38.655Z"
   },
   {
    "duration": 427,
    "start_time": "2022-03-14T17:48:39.149Z"
   },
   {
    "duration": 685,
    "start_time": "2022-03-14T17:48:39.578Z"
   },
   {
    "duration": 1038,
    "start_time": "2022-03-14T17:48:40.265Z"
   },
   {
    "duration": 1283,
    "start_time": "2022-03-14T17:48:41.304Z"
   },
   {
    "duration": 479,
    "start_time": "2022-03-14T17:48:42.589Z"
   },
   {
    "duration": 857,
    "start_time": "2022-03-14T17:48:43.070Z"
   },
   {
    "duration": 590,
    "start_time": "2022-03-14T17:48:43.929Z"
   },
   {
    "duration": 307,
    "start_time": "2022-03-14T17:48:44.521Z"
   },
   {
    "duration": 610,
    "start_time": "2022-03-14T17:48:44.830Z"
   },
   {
    "duration": 710,
    "start_time": "2022-03-14T17:48:45.441Z"
   },
   {
    "duration": 552,
    "start_time": "2022-03-14T17:55:24.228Z"
   },
   {
    "duration": 754,
    "start_time": "2022-03-14T17:55:24.782Z"
   },
   {
    "duration": 648,
    "start_time": "2022-03-14T17:55:25.538Z"
   },
   {
    "duration": 357,
    "start_time": "2022-03-14T17:55:26.188Z"
   },
   {
    "duration": 540,
    "start_time": "2022-03-14T17:55:26.547Z"
   },
   {
    "duration": 701,
    "start_time": "2022-03-14T17:55:27.089Z"
   },
   {
    "duration": 325,
    "start_time": "2022-03-14T17:55:27.792Z"
   },
   {
    "duration": 367,
    "start_time": "2022-03-14T17:55:28.120Z"
   },
   {
    "duration": 395,
    "start_time": "2022-03-14T17:55:28.489Z"
   },
   {
    "duration": 208,
    "start_time": "2022-03-14T17:55:28.886Z"
   },
   {
    "duration": 458,
    "start_time": "2022-03-14T17:55:29.096Z"
   },
   {
    "duration": 299,
    "start_time": "2022-03-14T17:55:29.555Z"
   },
   {
    "duration": 528,
    "start_time": "2022-03-14T17:55:29.856Z"
   },
   {
    "duration": 528,
    "start_time": "2022-03-14T17:55:30.386Z"
   },
   {
    "duration": 766,
    "start_time": "2022-03-14T17:55:30.916Z"
   },
   {
    "duration": 751,
    "start_time": "2022-03-14T17:55:31.684Z"
   },
   {
    "duration": 474,
    "start_time": "2022-03-14T17:55:32.437Z"
   },
   {
    "duration": 985,
    "start_time": "2022-03-14T17:55:32.913Z"
   },
   {
    "duration": 477,
    "start_time": "2022-03-14T17:55:33.899Z"
   },
   {
    "duration": 314,
    "start_time": "2022-03-14T17:55:34.378Z"
   },
   {
    "duration": 194,
    "start_time": "2022-03-14T17:55:34.694Z"
   },
   {
    "duration": 87,
    "start_time": "2022-03-14T17:55:34.889Z"
   },
   {
    "duration": 173,
    "start_time": "2022-03-14T17:55:34.979Z"
   },
   {
    "duration": 232,
    "start_time": "2022-03-14T17:55:35.154Z"
   },
   {
    "duration": 418,
    "start_time": "2022-03-14T17:55:35.388Z"
   },
   {
    "duration": 236,
    "start_time": "2022-03-14T17:55:35.807Z"
   },
   {
    "duration": 272,
    "start_time": "2022-03-14T17:55:36.045Z"
   },
   {
    "duration": 268,
    "start_time": "2022-03-14T17:55:36.319Z"
   },
   {
    "duration": 305,
    "start_time": "2022-03-14T17:55:36.588Z"
   },
   {
    "duration": 418,
    "start_time": "2022-03-14T17:55:36.895Z"
   },
   {
    "duration": 664,
    "start_time": "2022-03-14T17:55:37.314Z"
   },
   {
    "duration": 651,
    "start_time": "2022-03-14T17:55:37.980Z"
   },
   {
    "duration": 676,
    "start_time": "2022-03-14T17:55:38.633Z"
   },
   {
    "duration": 485,
    "start_time": "2022-03-14T17:55:39.310Z"
   },
   {
    "duration": 719,
    "start_time": "2022-03-14T17:55:39.797Z"
   },
   {
    "duration": 336,
    "start_time": "2022-03-14T17:55:40.182Z"
   },
   {
    "duration": 331,
    "start_time": "2022-03-14T17:55:40.188Z"
   },
   {
    "duration": 146,
    "start_time": "2022-03-14T17:55:40.373Z"
   },
   {
    "duration": 574,
    "start_time": "2022-03-14T17:57:43.800Z"
   },
   {
    "duration": 132,
    "start_time": "2022-03-14T17:57:44.376Z"
   },
   {
    "duration": 191,
    "start_time": "2022-03-14T17:57:44.510Z"
   },
   {
    "duration": 327,
    "start_time": "2022-03-14T17:57:44.702Z"
   },
   {
    "duration": 365,
    "start_time": "2022-03-14T17:57:45.031Z"
   },
   {
    "duration": 267,
    "start_time": "2022-03-14T17:57:45.398Z"
   },
   {
    "duration": 483,
    "start_time": "2022-03-14T17:57:45.666Z"
   },
   {
    "duration": 492,
    "start_time": "2022-03-14T17:57:46.151Z"
   },
   {
    "duration": 250,
    "start_time": "2022-03-14T17:57:46.644Z"
   },
   {
    "duration": 316,
    "start_time": "2022-03-14T17:57:46.895Z"
   },
   {
    "duration": 363,
    "start_time": "2022-03-14T17:57:47.212Z"
   },
   {
    "duration": 451,
    "start_time": "2022-03-14T17:57:47.576Z"
   },
   {
    "duration": 295,
    "start_time": "2022-03-14T17:57:48.029Z"
   },
   {
    "duration": 178,
    "start_time": "2022-03-14T17:57:48.326Z"
   },
   {
    "duration": 183,
    "start_time": "2022-03-14T17:57:48.506Z"
   },
   {
    "duration": 258,
    "start_time": "2022-03-14T17:57:48.690Z"
   },
   {
    "duration": 569,
    "start_time": "2022-03-14T17:57:48.949Z"
   },
   {
    "duration": 321,
    "start_time": "2022-03-14T17:57:49.520Z"
   },
   {
    "duration": 321,
    "start_time": "2022-03-14T17:57:49.843Z"
   },
   {
    "duration": 277,
    "start_time": "2022-03-14T17:57:50.165Z"
   },
   {
    "duration": 385,
    "start_time": "2022-03-14T17:57:50.443Z"
   },
   {
    "duration": 531,
    "start_time": "2022-03-14T17:57:50.830Z"
   },
   {
    "duration": 839,
    "start_time": "2022-03-14T17:57:51.365Z"
   },
   {
    "duration": 472,
    "start_time": "2022-03-14T17:57:52.206Z"
   },
   {
    "duration": 315,
    "start_time": "2022-03-14T17:57:52.680Z"
   },
   {
    "duration": 401,
    "start_time": "2022-03-14T17:57:52.997Z"
   },
   {
    "duration": 430,
    "start_time": "2022-03-14T17:57:53.400Z"
   },
   {
    "duration": 554,
    "start_time": "2022-03-14T17:57:53.831Z"
   },
   {
    "duration": 232,
    "start_time": "2022-03-14T17:57:54.387Z"
   },
   {
    "duration": 103,
    "start_time": "2022-03-14T17:57:54.621Z"
   },
   {
    "duration": 299,
    "start_time": "2022-03-14T17:57:54.725Z"
   },
   {
    "duration": 569,
    "start_time": "2022-03-14T17:57:55.025Z"
   },
   {
    "duration": 307,
    "start_time": "2022-03-14T17:57:55.596Z"
   },
   {
    "duration": 193,
    "start_time": "2022-03-14T17:57:55.904Z"
   },
   {
    "duration": 661,
    "start_time": "2022-03-14T17:57:56.099Z"
   },
   {
    "duration": 329,
    "start_time": "2022-03-14T17:57:56.433Z"
   },
   {
    "duration": 325,
    "start_time": "2022-03-14T17:57:56.438Z"
   },
   {
    "duration": 51,
    "start_time": "2022-03-14T17:57:56.713Z"
   },
   {
    "duration": 599,
    "start_time": "2022-03-14T18:00:46.982Z"
   },
   {
    "duration": 203,
    "start_time": "2022-03-14T18:00:47.583Z"
   },
   {
    "duration": 207,
    "start_time": "2022-03-14T18:00:47.788Z"
   },
   {
    "duration": 399,
    "start_time": "2022-03-14T18:00:47.998Z"
   },
   {
    "duration": 236,
    "start_time": "2022-03-14T18:00:48.398Z"
   },
   {
    "duration": 313,
    "start_time": "2022-03-14T18:00:48.636Z"
   },
   {
    "duration": 316,
    "start_time": "2022-03-14T18:00:48.951Z"
   },
   {
    "duration": 335,
    "start_time": "2022-03-14T18:00:49.270Z"
   },
   {
    "duration": 193,
    "start_time": "2022-03-14T18:00:49.607Z"
   },
   {
    "duration": 171,
    "start_time": "2022-03-14T18:00:49.801Z"
   },
   {
    "duration": 146,
    "start_time": "2022-03-14T18:00:49.974Z"
   },
   {
    "duration": 132,
    "start_time": "2022-03-14T18:00:50.121Z"
   },
   {
    "duration": 283,
    "start_time": "2022-03-14T18:00:50.254Z"
   },
   {
    "duration": 168,
    "start_time": "2022-03-14T18:00:50.539Z"
   },
   {
    "duration": 92,
    "start_time": "2022-03-14T18:00:50.709Z"
   },
   {
    "duration": 266,
    "start_time": "2022-03-14T18:00:50.803Z"
   },
   {
    "duration": 214,
    "start_time": "2022-03-14T18:00:51.071Z"
   },
   {
    "duration": 197,
    "start_time": "2022-03-14T18:00:51.287Z"
   },
   {
    "duration": 240,
    "start_time": "2022-03-14T18:00:51.486Z"
   },
   {
    "duration": 98,
    "start_time": "2022-03-14T18:00:51.727Z"
   },
   {
    "duration": 282,
    "start_time": "2022-03-14T18:00:51.827Z"
   },
   {
    "duration": 207,
    "start_time": "2022-03-14T18:00:52.111Z"
   },
   {
    "duration": 311,
    "start_time": "2022-03-14T18:00:52.321Z"
   },
   {
    "duration": 167,
    "start_time": "2022-03-14T18:00:52.635Z"
   },
   {
    "duration": 156,
    "start_time": "2022-03-14T18:00:52.804Z"
   },
   {
    "duration": 293,
    "start_time": "2022-03-14T18:00:52.962Z"
   },
   {
    "duration": 163,
    "start_time": "2022-03-14T18:00:53.256Z"
   },
   {
    "duration": 231,
    "start_time": "2022-03-14T18:00:53.421Z"
   },
   {
    "duration": 337,
    "start_time": "2022-03-14T18:00:53.653Z"
   },
   {
    "duration": 421,
    "start_time": "2022-03-14T18:00:53.991Z"
   },
   {
    "duration": 269,
    "start_time": "2022-03-14T18:00:54.414Z"
   },
   {
    "duration": 312,
    "start_time": "2022-03-14T18:00:54.685Z"
   },
   {
    "duration": 152,
    "start_time": "2022-03-14T18:00:54.999Z"
   },
   {
    "duration": 169,
    "start_time": "2022-03-14T18:00:55.152Z"
   },
   {
    "duration": 471,
    "start_time": "2022-03-14T18:00:55.322Z"
   },
   {
    "duration": 334,
    "start_time": "2022-03-14T18:00:55.461Z"
   },
   {
    "duration": 333,
    "start_time": "2022-03-14T18:00:55.464Z"
   },
   {
    "duration": 331,
    "start_time": "2022-03-14T18:00:55.467Z"
   },
   {
    "duration": 554,
    "start_time": "2022-03-14T18:01:22.060Z"
   },
   {
    "duration": 125,
    "start_time": "2022-03-14T18:01:22.615Z"
   },
   {
    "duration": 40,
    "start_time": "2022-03-14T18:01:22.742Z"
   },
   {
    "duration": 108,
    "start_time": "2022-03-14T18:01:22.785Z"
   },
   {
    "duration": 106,
    "start_time": "2022-03-14T18:01:22.895Z"
   },
   {
    "duration": 126,
    "start_time": "2022-03-14T18:01:23.003Z"
   },
   {
    "duration": 295,
    "start_time": "2022-03-14T18:01:23.130Z"
   },
   {
    "duration": 286,
    "start_time": "2022-03-14T18:01:23.428Z"
   },
   {
    "duration": 137,
    "start_time": "2022-03-14T18:01:23.716Z"
   },
   {
    "duration": 179,
    "start_time": "2022-03-14T18:01:23.854Z"
   },
   {
    "duration": 179,
    "start_time": "2022-03-14T18:01:24.034Z"
   },
   {
    "duration": 157,
    "start_time": "2022-03-14T18:01:24.215Z"
   },
   {
    "duration": 218,
    "start_time": "2022-03-14T18:01:24.374Z"
   },
   {
    "duration": 167,
    "start_time": "2022-03-14T18:01:24.593Z"
   },
   {
    "duration": 110,
    "start_time": "2022-03-14T18:01:24.762Z"
   },
   {
    "duration": 242,
    "start_time": "2022-03-14T18:01:24.874Z"
   },
   {
    "duration": 251,
    "start_time": "2022-03-14T18:01:25.117Z"
   },
   {
    "duration": 146,
    "start_time": "2022-03-14T18:01:25.369Z"
   },
   {
    "duration": 182,
    "start_time": "2022-03-14T18:01:25.516Z"
   },
   {
    "duration": 127,
    "start_time": "2022-03-14T18:01:25.699Z"
   },
   {
    "duration": 168,
    "start_time": "2022-03-14T18:01:25.828Z"
   },
   {
    "duration": 202,
    "start_time": "2022-03-14T18:01:25.998Z"
   },
   {
    "duration": 245,
    "start_time": "2022-03-14T18:01:26.203Z"
   },
   {
    "duration": 169,
    "start_time": "2022-03-14T18:01:26.450Z"
   },
   {
    "duration": 128,
    "start_time": "2022-03-14T18:01:26.621Z"
   },
   {
    "duration": 86,
    "start_time": "2022-03-14T18:01:26.751Z"
   },
   {
    "duration": 273,
    "start_time": "2022-03-14T18:01:26.839Z"
   },
   {
    "duration": 117,
    "start_time": "2022-03-14T18:01:27.114Z"
   },
   {
    "duration": 90,
    "start_time": "2022-03-14T18:01:27.232Z"
   },
   {
    "duration": 107,
    "start_time": "2022-03-14T18:01:27.323Z"
   },
   {
    "duration": 194,
    "start_time": "2022-03-14T18:01:27.431Z"
   },
   {
    "duration": 174,
    "start_time": "2022-03-14T18:01:27.627Z"
   },
   {
    "duration": 129,
    "start_time": "2022-03-14T18:01:27.803Z"
   },
   {
    "duration": 150,
    "start_time": "2022-03-14T18:01:27.933Z"
   },
   {
    "duration": 523,
    "start_time": "2022-03-14T18:01:28.085Z"
   },
   {
    "duration": 395,
    "start_time": "2022-03-14T18:01:28.215Z"
   },
   {
    "duration": 389,
    "start_time": "2022-03-14T18:01:28.222Z"
   },
   {
    "duration": 373,
    "start_time": "2022-03-14T18:01:28.239Z"
   },
   {
    "duration": 590,
    "start_time": "2022-03-14T18:02:25.283Z"
   },
   {
    "duration": 183,
    "start_time": "2022-03-14T18:02:25.875Z"
   },
   {
    "duration": 505,
    "start_time": "2022-03-14T18:02:26.060Z"
   },
   {
    "duration": 1028,
    "start_time": "2022-03-14T18:02:26.566Z"
   },
   {
    "duration": 345,
    "start_time": "2022-03-14T18:02:27.596Z"
   },
   {
    "duration": 311,
    "start_time": "2022-03-14T18:02:27.943Z"
   },
   {
    "duration": 426,
    "start_time": "2022-03-14T18:02:28.256Z"
   },
   {
    "duration": 344,
    "start_time": "2022-03-14T18:02:28.685Z"
   },
   {
    "duration": 355,
    "start_time": "2022-03-14T18:02:29.031Z"
   },
   {
    "duration": 491,
    "start_time": "2022-03-14T18:02:29.387Z"
   },
   {
    "duration": 364,
    "start_time": "2022-03-14T18:02:29.880Z"
   },
   {
    "duration": 411,
    "start_time": "2022-03-14T18:02:30.246Z"
   },
   {
    "duration": 788,
    "start_time": "2022-03-14T18:02:30.659Z"
   },
   {
    "duration": 448,
    "start_time": "2022-03-14T18:02:31.449Z"
   },
   {
    "duration": 203,
    "start_time": "2022-03-14T18:02:31.899Z"
   },
   {
    "duration": 756,
    "start_time": "2022-03-14T18:02:32.104Z"
   },
   {
    "duration": 620,
    "start_time": "2022-03-14T18:02:32.862Z"
   },
   {
    "duration": 537,
    "start_time": "2022-03-14T18:02:33.484Z"
   },
   {
    "duration": 198,
    "start_time": "2022-03-14T18:02:34.023Z"
   },
   {
    "duration": 136,
    "start_time": "2022-03-14T18:02:34.222Z"
   },
   {
    "duration": 435,
    "start_time": "2022-03-14T18:02:34.360Z"
   },
   {
    "duration": 257,
    "start_time": "2022-03-14T18:02:34.797Z"
   },
   {
    "duration": 498,
    "start_time": "2022-03-14T18:02:35.057Z"
   },
   {
    "duration": 650,
    "start_time": "2022-03-14T18:02:35.557Z"
   },
   {
    "duration": 1017,
    "start_time": "2022-03-14T18:02:36.209Z"
   },
   {
    "duration": 735,
    "start_time": "2022-03-14T18:02:37.228Z"
   },
   {
    "duration": 619,
    "start_time": "2022-03-14T18:02:37.964Z"
   },
   {
    "duration": 745,
    "start_time": "2022-03-14T18:02:38.585Z"
   },
   {
    "duration": 652,
    "start_time": "2022-03-14T18:02:39.331Z"
   },
   {
    "duration": 326,
    "start_time": "2022-03-14T18:02:39.984Z"
   },
   {
    "duration": 256,
    "start_time": "2022-03-14T18:02:40.311Z"
   },
   {
    "duration": 459,
    "start_time": "2022-03-14T18:02:40.569Z"
   },
   {
    "duration": 447,
    "start_time": "2022-03-14T18:02:41.029Z"
   },
   {
    "duration": 468,
    "start_time": "2022-03-14T18:02:41.477Z"
   },
   {
    "duration": 299,
    "start_time": "2022-03-14T18:02:41.947Z"
   },
   {
    "duration": 287,
    "start_time": "2022-03-14T18:02:42.248Z"
   },
   {
    "duration": 396,
    "start_time": "2022-03-14T18:02:42.537Z"
   },
   {
    "duration": 265,
    "start_time": "2022-03-14T18:02:42.935Z"
   },
   {
    "duration": 608,
    "start_time": "2022-03-14T18:08:09.064Z"
   },
   {
    "duration": 141,
    "start_time": "2022-03-14T18:08:09.674Z"
   },
   {
    "duration": 154,
    "start_time": "2022-03-14T18:08:09.817Z"
   },
   {
    "duration": 354,
    "start_time": "2022-03-14T18:08:09.973Z"
   },
   {
    "duration": 310,
    "start_time": "2022-03-14T18:08:10.328Z"
   },
   {
    "duration": 340,
    "start_time": "2022-03-14T18:08:10.640Z"
   },
   {
    "duration": 348,
    "start_time": "2022-03-14T18:08:10.982Z"
   },
   {
    "duration": 139,
    "start_time": "2022-03-14T18:08:11.332Z"
   },
   {
    "duration": 226,
    "start_time": "2022-03-14T18:08:11.474Z"
   },
   {
    "duration": 249,
    "start_time": "2022-03-14T18:08:11.703Z"
   },
   {
    "duration": 341,
    "start_time": "2022-03-14T18:08:11.954Z"
   },
   {
    "duration": 155,
    "start_time": "2022-03-14T18:08:12.297Z"
   },
   {
    "duration": 307,
    "start_time": "2022-03-14T18:08:12.454Z"
   },
   {
    "duration": 377,
    "start_time": "2022-03-14T18:08:12.763Z"
   },
   {
    "duration": 220,
    "start_time": "2022-03-14T18:08:13.142Z"
   },
   {
    "duration": 280,
    "start_time": "2022-03-14T18:08:13.364Z"
   },
   {
    "duration": 161,
    "start_time": "2022-03-14T18:08:13.645Z"
   },
   {
    "duration": 106,
    "start_time": "2022-03-14T18:08:13.808Z"
   },
   {
    "duration": 192,
    "start_time": "2022-03-14T18:08:13.915Z"
   },
   {
    "duration": 178,
    "start_time": "2022-03-14T18:08:14.109Z"
   },
   {
    "duration": 369,
    "start_time": "2022-03-14T18:08:14.289Z"
   },
   {
    "duration": 435,
    "start_time": "2022-03-14T18:08:14.660Z"
   },
   {
    "duration": 562,
    "start_time": "2022-03-14T18:08:15.096Z"
   },
   {
    "duration": 280,
    "start_time": "2022-03-14T18:08:15.659Z"
   },
   {
    "duration": 260,
    "start_time": "2022-03-14T18:08:15.940Z"
   },
   {
    "duration": 260,
    "start_time": "2022-03-14T18:08:16.202Z"
   },
   {
    "duration": 245,
    "start_time": "2022-03-14T18:08:16.466Z"
   },
   {
    "duration": 233,
    "start_time": "2022-03-14T18:08:16.713Z"
   },
   {
    "duration": 284,
    "start_time": "2022-03-14T18:08:16.948Z"
   },
   {
    "duration": 318,
    "start_time": "2022-03-14T18:08:17.234Z"
   },
   {
    "duration": 360,
    "start_time": "2022-03-14T18:08:17.554Z"
   },
   {
    "duration": 502,
    "start_time": "2022-03-14T18:08:17.916Z"
   },
   {
    "duration": 160,
    "start_time": "2022-03-14T18:08:18.420Z"
   },
   {
    "duration": 174,
    "start_time": "2022-03-14T18:08:18.581Z"
   },
   {
    "duration": 169,
    "start_time": "2022-03-14T18:08:18.756Z"
   },
   {
    "duration": 407,
    "start_time": "2022-03-14T18:08:18.926Z"
   },
   {
    "duration": 676,
    "start_time": "2022-03-14T18:08:19.335Z"
   },
   {
    "duration": 309,
    "start_time": "2022-03-14T18:08:19.704Z"
   },
   {
    "duration": 674,
    "start_time": "2022-03-14T18:10:06.676Z"
   },
   {
    "duration": 147,
    "start_time": "2022-03-14T18:10:07.352Z"
   },
   {
    "duration": 131,
    "start_time": "2022-03-14T18:10:07.501Z"
   },
   {
    "duration": 314,
    "start_time": "2022-03-14T18:10:07.634Z"
   },
   {
    "duration": 251,
    "start_time": "2022-03-14T18:10:07.950Z"
   },
   {
    "duration": 298,
    "start_time": "2022-03-14T18:10:08.203Z"
   },
   {
    "duration": 249,
    "start_time": "2022-03-14T18:10:08.503Z"
   },
   {
    "duration": 282,
    "start_time": "2022-03-14T18:10:08.755Z"
   },
   {
    "duration": 185,
    "start_time": "2022-03-14T18:10:09.039Z"
   },
   {
    "duration": 299,
    "start_time": "2022-03-14T18:10:09.226Z"
   },
   {
    "duration": 392,
    "start_time": "2022-03-14T18:10:09.526Z"
   },
   {
    "duration": 369,
    "start_time": "2022-03-14T18:10:09.920Z"
   },
   {
    "duration": 311,
    "start_time": "2022-03-14T18:10:10.291Z"
   },
   {
    "duration": 195,
    "start_time": "2022-03-14T18:10:10.603Z"
   },
   {
    "duration": 267,
    "start_time": "2022-03-14T18:10:10.800Z"
   },
   {
    "duration": 324,
    "start_time": "2022-03-14T18:10:11.069Z"
   },
   {
    "duration": 205,
    "start_time": "2022-03-14T18:10:11.395Z"
   },
   {
    "duration": 296,
    "start_time": "2022-03-14T18:10:11.601Z"
   },
   {
    "duration": 322,
    "start_time": "2022-03-14T18:10:11.899Z"
   },
   {
    "duration": 229,
    "start_time": "2022-03-14T18:10:12.223Z"
   },
   {
    "duration": 475,
    "start_time": "2022-03-14T18:10:12.454Z"
   },
   {
    "duration": 274,
    "start_time": "2022-03-14T18:10:12.930Z"
   },
   {
    "duration": 473,
    "start_time": "2022-03-14T18:10:13.207Z"
   },
   {
    "duration": 360,
    "start_time": "2022-03-14T18:10:13.682Z"
   },
   {
    "duration": 377,
    "start_time": "2022-03-14T18:10:14.043Z"
   },
   {
    "duration": 454,
    "start_time": "2022-03-14T18:10:14.421Z"
   },
   {
    "duration": 488,
    "start_time": "2022-03-14T18:10:14.877Z"
   },
   {
    "duration": 474,
    "start_time": "2022-03-14T18:10:15.367Z"
   },
   {
    "duration": 420,
    "start_time": "2022-03-14T18:10:15.843Z"
   },
   {
    "duration": 445,
    "start_time": "2022-03-14T18:10:16.265Z"
   },
   {
    "duration": 598,
    "start_time": "2022-03-14T18:10:16.713Z"
   },
   {
    "duration": 802,
    "start_time": "2022-03-14T18:10:17.313Z"
   },
   {
    "duration": 320,
    "start_time": "2022-03-14T18:10:17.797Z"
   },
   {
    "duration": 131,
    "start_time": "2022-03-14T18:10:17.987Z"
   },
   {
    "duration": 121,
    "start_time": "2022-03-14T18:10:17.999Z"
   },
   {
    "duration": 116,
    "start_time": "2022-03-14T18:10:18.005Z"
   },
   {
    "duration": 111,
    "start_time": "2022-03-14T18:10:18.011Z"
   },
   {
    "duration": 106,
    "start_time": "2022-03-14T18:10:18.017Z"
   },
   {
    "duration": 886,
    "start_time": "2022-03-14T18:10:52.896Z"
   },
   {
    "duration": 141,
    "start_time": "2022-03-14T18:10:53.784Z"
   },
   {
    "duration": 340,
    "start_time": "2022-03-14T18:10:53.927Z"
   },
   {
    "duration": 135,
    "start_time": "2022-03-14T18:10:54.269Z"
   },
   {
    "duration": 183,
    "start_time": "2022-03-14T18:10:54.406Z"
   },
   {
    "duration": 341,
    "start_time": "2022-03-14T18:10:54.591Z"
   },
   {
    "duration": 146,
    "start_time": "2022-03-14T18:10:54.934Z"
   },
   {
    "duration": 209,
    "start_time": "2022-03-14T18:10:55.083Z"
   },
   {
    "duration": 410,
    "start_time": "2022-03-14T18:10:55.294Z"
   },
   {
    "duration": 334,
    "start_time": "2022-03-14T18:10:55.706Z"
   },
   {
    "duration": 351,
    "start_time": "2022-03-14T18:10:56.043Z"
   },
   {
    "duration": 260,
    "start_time": "2022-03-14T18:10:56.396Z"
   },
   {
    "duration": 237,
    "start_time": "2022-03-14T18:10:56.658Z"
   },
   {
    "duration": 142,
    "start_time": "2022-03-14T18:10:56.897Z"
   },
   {
    "duration": 222,
    "start_time": "2022-03-14T18:10:57.042Z"
   },
   {
    "duration": 285,
    "start_time": "2022-03-14T18:10:57.267Z"
   },
   {
    "duration": 372,
    "start_time": "2022-03-14T18:10:57.554Z"
   },
   {
    "duration": 262,
    "start_time": "2022-03-14T18:10:57.928Z"
   },
   {
    "duration": 497,
    "start_time": "2022-03-14T18:10:58.192Z"
   },
   {
    "duration": 360,
    "start_time": "2022-03-14T18:10:58.691Z"
   },
   {
    "duration": 193,
    "start_time": "2022-03-14T18:10:59.053Z"
   },
   {
    "duration": 166,
    "start_time": "2022-03-14T18:10:59.248Z"
   },
   {
    "duration": 396,
    "start_time": "2022-03-14T18:10:59.417Z"
   },
   {
    "duration": 371,
    "start_time": "2022-03-14T18:10:59.816Z"
   },
   {
    "duration": 229,
    "start_time": "2022-03-14T18:11:00.189Z"
   },
   {
    "duration": 394,
    "start_time": "2022-03-14T18:11:00.420Z"
   },
   {
    "duration": 154,
    "start_time": "2022-03-14T18:11:00.816Z"
   },
   {
    "duration": 203,
    "start_time": "2022-03-14T18:11:00.972Z"
   },
   {
    "duration": 281,
    "start_time": "2022-03-14T18:11:01.177Z"
   },
   {
    "duration": 264,
    "start_time": "2022-03-14T18:11:01.460Z"
   },
   {
    "duration": 127,
    "start_time": "2022-03-14T18:11:01.726Z"
   },
   {
    "duration": 472,
    "start_time": "2022-03-14T18:11:01.855Z"
   },
   {
    "duration": 193,
    "start_time": "2022-03-14T18:11:02.329Z"
   },
   {
    "duration": 200,
    "start_time": "2022-03-14T18:11:02.523Z"
   },
   {
    "duration": 203,
    "start_time": "2022-03-14T18:11:02.725Z"
   },
   {
    "duration": 223,
    "start_time": "2022-03-14T18:11:02.929Z"
   },
   {
    "duration": 664,
    "start_time": "2022-03-14T18:11:03.154Z"
   },
   {
    "duration": 405,
    "start_time": "2022-03-14T18:11:03.415Z"
   },
   {
    "duration": 328,
    "start_time": "2022-03-14T18:13:08.811Z"
   },
   {
    "duration": 7,
    "start_time": "2022-03-14T18:14:23.091Z"
   },
   {
    "duration": 4,
    "start_time": "2022-03-14T18:14:31.934Z"
   },
   {
    "duration": 1611,
    "start_time": "2022-03-14T18:35:09.762Z"
   },
   {
    "duration": 130,
    "start_time": "2022-03-14T18:35:11.375Z"
   },
   {
    "duration": 1019,
    "start_time": "2022-03-14T18:35:11.507Z"
   },
   {
    "duration": 477,
    "start_time": "2022-03-14T18:35:12.527Z"
   },
   {
    "duration": 480,
    "start_time": "2022-03-14T18:35:13.006Z"
   },
   {
    "duration": 154,
    "start_time": "2022-03-14T18:35:13.487Z"
   },
   {
    "duration": 199,
    "start_time": "2022-03-14T18:35:13.643Z"
   },
   {
    "duration": 318,
    "start_time": "2022-03-14T18:35:13.845Z"
   },
   {
    "duration": 441,
    "start_time": "2022-03-14T18:35:14.165Z"
   },
   {
    "duration": 506,
    "start_time": "2022-03-14T18:35:14.608Z"
   },
   {
    "duration": 344,
    "start_time": "2022-03-14T18:35:15.115Z"
   },
   {
    "duration": 419,
    "start_time": "2022-03-14T18:35:15.460Z"
   },
   {
    "duration": 1000,
    "start_time": "2022-03-14T18:35:15.881Z"
   },
   {
    "duration": 641,
    "start_time": "2022-03-14T18:35:16.882Z"
   },
   {
    "duration": 983,
    "start_time": "2022-03-14T18:35:17.525Z"
   },
   {
    "duration": 582,
    "start_time": "2022-03-14T18:35:18.510Z"
   },
   {
    "duration": 428,
    "start_time": "2022-03-14T18:35:19.093Z"
   },
   {
    "duration": 552,
    "start_time": "2022-03-14T18:35:19.523Z"
   },
   {
    "duration": 676,
    "start_time": "2022-03-14T18:35:20.077Z"
   },
   {
    "duration": 1220,
    "start_time": "2022-03-14T18:35:20.755Z"
   },
   {
    "duration": 371,
    "start_time": "2022-03-14T18:35:21.977Z"
   },
   {
    "duration": 1268,
    "start_time": "2022-03-14T18:35:22.350Z"
   },
   {
    "duration": 669,
    "start_time": "2022-03-14T18:35:23.621Z"
   },
   {
    "duration": 531,
    "start_time": "2022-03-14T18:35:24.292Z"
   },
   {
    "duration": 1002,
    "start_time": "2022-03-14T18:35:24.825Z"
   },
   {
    "duration": 505,
    "start_time": "2022-03-14T18:35:25.828Z"
   },
   {
    "duration": 427,
    "start_time": "2022-03-14T18:35:26.335Z"
   },
   {
    "duration": 694,
    "start_time": "2022-03-14T18:35:26.764Z"
   },
   {
    "duration": 576,
    "start_time": "2022-03-14T18:35:27.459Z"
   },
   {
    "duration": 685,
    "start_time": "2022-03-14T18:35:28.036Z"
   },
   {
    "duration": 664,
    "start_time": "2022-03-14T18:35:28.723Z"
   },
   {
    "duration": 1198,
    "start_time": "2022-03-14T18:35:29.389Z"
   },
   {
    "duration": 555,
    "start_time": "2022-03-14T18:35:30.589Z"
   },
   {
    "duration": 974,
    "start_time": "2022-03-14T18:35:31.145Z"
   },
   {
    "duration": 509,
    "start_time": "2022-03-14T18:35:32.120Z"
   },
   {
    "duration": 1323,
    "start_time": "2022-03-14T18:35:32.631Z"
   },
   {
    "duration": 476,
    "start_time": "2022-03-14T18:35:33.956Z"
   },
   {
    "duration": 888,
    "start_time": "2022-03-14T18:35:34.434Z"
   },
   {
    "duration": 455,
    "start_time": "2022-04-01T15:11:04.046Z"
   },
   {
    "duration": 177,
    "start_time": "2022-04-01T15:11:04.503Z"
   },
   {
    "duration": 19,
    "start_time": "2022-04-01T15:11:04.682Z"
   },
   {
    "duration": 46,
    "start_time": "2022-04-01T15:11:04.703Z"
   },
   {
    "duration": 4,
    "start_time": "2022-04-01T15:11:04.751Z"
   },
   {
    "duration": 9,
    "start_time": "2022-04-01T15:11:04.757Z"
   },
   {
    "duration": 14,
    "start_time": "2022-04-01T15:11:04.767Z"
   },
   {
    "duration": 35,
    "start_time": "2022-04-01T15:11:04.783Z"
   },
   {
    "duration": 33,
    "start_time": "2022-04-01T15:11:04.820Z"
   },
   {
    "duration": 27,
    "start_time": "2022-04-01T15:11:04.856Z"
   },
   {
    "duration": 92,
    "start_time": "2022-04-01T15:11:04.885Z"
   },
   {
    "duration": 92,
    "start_time": "2022-04-01T15:11:04.979Z"
   },
   {
    "duration": 76,
    "start_time": "2022-04-01T15:11:05.073Z"
   },
   {
    "duration": 8,
    "start_time": "2022-04-01T15:11:05.151Z"
   },
   {
    "duration": 23,
    "start_time": "2022-04-01T15:11:05.160Z"
   },
   {
    "duration": 38,
    "start_time": "2022-04-01T15:11:05.185Z"
   },
   {
    "duration": 7,
    "start_time": "2022-04-01T15:11:05.225Z"
   },
   {
    "duration": 42,
    "start_time": "2022-04-01T15:11:05.234Z"
   },
   {
    "duration": 37,
    "start_time": "2022-04-01T15:11:05.277Z"
   },
   {
    "duration": 21,
    "start_time": "2022-04-01T15:11:05.316Z"
   },
   {
    "duration": 21,
    "start_time": "2022-04-01T15:11:05.339Z"
   },
   {
    "duration": 18,
    "start_time": "2022-04-01T15:11:05.361Z"
   },
   {
    "duration": 17,
    "start_time": "2022-04-01T15:11:05.381Z"
   },
   {
    "duration": 49,
    "start_time": "2022-04-01T15:11:05.399Z"
   },
   {
    "duration": 19,
    "start_time": "2022-04-01T15:11:05.450Z"
   },
   {
    "duration": 18,
    "start_time": "2022-04-01T15:11:05.470Z"
   },
   {
    "duration": 11,
    "start_time": "2022-04-01T15:11:05.489Z"
   },
   {
    "duration": 39,
    "start_time": "2022-04-01T15:11:05.504Z"
   },
   {
    "duration": 10,
    "start_time": "2022-04-01T15:11:05.545Z"
   },
   {
    "duration": 6,
    "start_time": "2022-04-01T15:11:05.557Z"
   },
   {
    "duration": 34,
    "start_time": "2022-04-01T15:11:05.565Z"
   },
   {
    "duration": 16,
    "start_time": "2022-04-01T15:11:05.601Z"
   },
   {
    "duration": 30,
    "start_time": "2022-04-01T15:11:05.619Z"
   },
   {
    "duration": 13,
    "start_time": "2022-04-01T15:11:05.651Z"
   },
   {
    "duration": 9,
    "start_time": "2022-04-01T15:11:05.665Z"
   },
   {
    "duration": 9,
    "start_time": "2022-04-01T15:11:05.676Z"
   },
   {
    "duration": 12,
    "start_time": "2022-04-01T15:11:05.687Z"
   },
   {
    "duration": 21,
    "start_time": "2022-04-01T15:11:05.700Z"
   },
   {
    "duration": 17,
    "start_time": "2022-04-01T15:15:39.264Z"
   },
   {
    "duration": 413,
    "start_time": "2022-04-02T09:38:14.729Z"
   },
   {
    "duration": 166,
    "start_time": "2022-04-02T09:38:15.144Z"
   },
   {
    "duration": 20,
    "start_time": "2022-04-02T09:38:15.312Z"
   },
   {
    "duration": 33,
    "start_time": "2022-04-02T09:38:15.335Z"
   },
   {
    "duration": 5,
    "start_time": "2022-04-02T09:38:15.370Z"
   },
   {
    "duration": 28,
    "start_time": "2022-04-02T09:38:15.377Z"
   },
   {
    "duration": 14,
    "start_time": "2022-04-02T09:38:15.407Z"
   },
   {
    "duration": 28,
    "start_time": "2022-04-02T09:38:15.423Z"
   },
   {
    "duration": 26,
    "start_time": "2022-04-02T09:38:15.453Z"
   },
   {
    "duration": 44,
    "start_time": "2022-04-02T09:38:15.482Z"
   },
   {
    "duration": 91,
    "start_time": "2022-04-02T09:38:15.528Z"
   },
   {
    "duration": 99,
    "start_time": "2022-04-02T09:38:15.620Z"
   },
   {
    "duration": 80,
    "start_time": "2022-04-02T09:38:15.721Z"
   },
   {
    "duration": 2,
    "start_time": "2022-04-02T09:39:03.274Z"
   },
   {
    "duration": 201,
    "start_time": "2022-04-02T09:39:03.278Z"
   },
   {
    "duration": 20,
    "start_time": "2022-04-02T09:39:03.481Z"
   },
   {
    "duration": 30,
    "start_time": "2022-04-02T09:39:03.503Z"
   },
   {
    "duration": 5,
    "start_time": "2022-04-02T09:39:03.536Z"
   },
   {
    "duration": 14,
    "start_time": "2022-04-02T09:39:03.542Z"
   },
   {
    "duration": 9,
    "start_time": "2022-04-02T09:39:03.558Z"
   },
   {
    "duration": 49,
    "start_time": "2022-04-02T09:39:03.568Z"
   },
   {
    "duration": 49,
    "start_time": "2022-04-02T09:39:03.618Z"
   },
   {
    "duration": 26,
    "start_time": "2022-04-02T09:39:03.669Z"
   },
   {
    "duration": 84,
    "start_time": "2022-04-02T09:39:03.698Z"
   },
   {
    "duration": 73,
    "start_time": "2022-04-02T09:39:03.784Z"
   },
   {
    "duration": 72,
    "start_time": "2022-04-02T09:39:03.859Z"
   },
   {
    "duration": 74,
    "start_time": "2022-04-02T09:39:57.259Z"
   },
   {
    "duration": 3,
    "start_time": "2022-04-02T09:40:12.169Z"
   },
   {
    "duration": 188,
    "start_time": "2022-04-02T09:40:12.174Z"
   },
   {
    "duration": 12,
    "start_time": "2022-04-02T09:40:12.364Z"
   },
   {
    "duration": 41,
    "start_time": "2022-04-02T09:40:12.378Z"
   },
   {
    "duration": 9,
    "start_time": "2022-04-02T09:40:12.421Z"
   },
   {
    "duration": 11,
    "start_time": "2022-04-02T09:40:12.432Z"
   },
   {
    "duration": 12,
    "start_time": "2022-04-02T09:40:12.445Z"
   },
   {
    "duration": 42,
    "start_time": "2022-04-02T09:40:12.459Z"
   },
   {
    "duration": 23,
    "start_time": "2022-04-02T09:40:12.504Z"
   },
   {
    "duration": 32,
    "start_time": "2022-04-02T09:40:12.529Z"
   },
   {
    "duration": 102,
    "start_time": "2022-04-02T09:40:12.563Z"
   },
   {
    "duration": 88,
    "start_time": "2022-04-02T09:40:12.667Z"
   },
   {
    "duration": 74,
    "start_time": "2022-04-02T09:40:12.757Z"
   },
   {
    "duration": 3,
    "start_time": "2022-04-02T09:40:26.454Z"
   },
   {
    "duration": 179,
    "start_time": "2022-04-02T09:40:26.460Z"
   },
   {
    "duration": 10,
    "start_time": "2022-04-02T09:40:26.641Z"
   },
   {
    "duration": 49,
    "start_time": "2022-04-02T09:40:26.653Z"
   },
   {
    "duration": 5,
    "start_time": "2022-04-02T09:40:26.704Z"
   },
   {
    "duration": 7,
    "start_time": "2022-04-02T09:40:26.710Z"
   },
   {
    "duration": 10,
    "start_time": "2022-04-02T09:40:26.718Z"
   },
   {
    "duration": 32,
    "start_time": "2022-04-02T09:40:26.730Z"
   },
   {
    "duration": 42,
    "start_time": "2022-04-02T09:40:26.764Z"
   },
   {
    "duration": 29,
    "start_time": "2022-04-02T09:40:26.808Z"
   },
   {
    "duration": 84,
    "start_time": "2022-04-02T09:40:26.840Z"
   },
   {
    "duration": 86,
    "start_time": "2022-04-02T09:40:26.926Z"
   },
   {
    "duration": 66,
    "start_time": "2022-04-02T09:40:27.015Z"
   },
   {
    "duration": 3,
    "start_time": "2022-04-02T09:40:40.065Z"
   },
   {
    "duration": 189,
    "start_time": "2022-04-02T09:40:40.071Z"
   },
   {
    "duration": 12,
    "start_time": "2022-04-02T09:40:40.262Z"
   },
   {
    "duration": 43,
    "start_time": "2022-04-02T09:40:40.275Z"
   },
   {
    "duration": 4,
    "start_time": "2022-04-02T09:40:40.320Z"
   },
   {
    "duration": 11,
    "start_time": "2022-04-02T09:40:40.326Z"
   },
   {
    "duration": 16,
    "start_time": "2022-04-02T09:40:40.340Z"
   },
   {
    "duration": 31,
    "start_time": "2022-04-02T09:40:40.358Z"
   },
   {
    "duration": 29,
    "start_time": "2022-04-02T09:40:40.390Z"
   },
   {
    "duration": 34,
    "start_time": "2022-04-02T09:40:40.421Z"
   },
   {
    "duration": 89,
    "start_time": "2022-04-02T09:40:40.458Z"
   },
   {
    "duration": 84,
    "start_time": "2022-04-02T09:40:40.549Z"
   },
   {
    "duration": 70,
    "start_time": "2022-04-02T09:40:40.635Z"
   },
   {
    "duration": 7,
    "start_time": "2022-04-02T09:40:44.930Z"
   },
   {
    "duration": 11,
    "start_time": "2022-04-02T09:42:59.003Z"
   },
   {
    "duration": 152,
    "start_time": "2022-04-02T09:51:19.946Z"
   },
   {
    "duration": 11,
    "start_time": "2022-04-02T09:51:24.754Z"
   },
   {
    "duration": 10,
    "start_time": "2022-04-02T09:51:35.665Z"
   },
   {
    "duration": 3,
    "start_time": "2022-04-02T09:51:42.512Z"
   },
   {
    "duration": 162,
    "start_time": "2022-04-02T09:51:42.518Z"
   },
   {
    "duration": 12,
    "start_time": "2022-04-02T09:51:42.682Z"
   },
   {
    "duration": 35,
    "start_time": "2022-04-02T09:51:42.695Z"
   },
   {
    "duration": 4,
    "start_time": "2022-04-02T09:51:42.732Z"
   },
   {
    "duration": 7,
    "start_time": "2022-04-02T09:51:42.738Z"
   },
   {
    "duration": 12,
    "start_time": "2022-04-02T09:51:42.746Z"
   },
   {
    "duration": 49,
    "start_time": "2022-04-02T09:51:42.760Z"
   },
   {
    "duration": 20,
    "start_time": "2022-04-02T09:51:42.811Z"
   },
   {
    "duration": 31,
    "start_time": "2022-04-02T09:51:42.833Z"
   },
   {
    "duration": 122,
    "start_time": "2022-04-02T09:51:42.866Z"
   },
   {
    "duration": 78,
    "start_time": "2022-04-02T09:51:42.990Z"
   },
   {
    "duration": 80,
    "start_time": "2022-04-02T09:51:43.070Z"
   },
   {
    "duration": 2,
    "start_time": "2022-04-02T09:51:51.834Z"
   },
   {
    "duration": 178,
    "start_time": "2022-04-02T09:51:51.840Z"
   },
   {
    "duration": 11,
    "start_time": "2022-04-02T09:51:52.020Z"
   },
   {
    "duration": 50,
    "start_time": "2022-04-02T09:51:52.033Z"
   },
   {
    "duration": 29,
    "start_time": "2022-04-02T09:51:52.086Z"
   },
   {
    "duration": 28,
    "start_time": "2022-04-02T09:51:52.117Z"
   },
   {
    "duration": 28,
    "start_time": "2022-04-02T09:51:52.147Z"
   },
   {
    "duration": 55,
    "start_time": "2022-04-02T09:51:52.177Z"
   },
   {
    "duration": 22,
    "start_time": "2022-04-02T09:51:52.234Z"
   },
   {
    "duration": 32,
    "start_time": "2022-04-02T09:51:52.257Z"
   },
   {
    "duration": 81,
    "start_time": "2022-04-02T09:51:52.301Z"
   },
   {
    "duration": 82,
    "start_time": "2022-04-02T09:51:52.383Z"
   },
   {
    "duration": 74,
    "start_time": "2022-04-02T09:51:52.467Z"
   },
   {
    "duration": 2,
    "start_time": "2022-04-02T09:52:10.988Z"
   },
   {
    "duration": 184,
    "start_time": "2022-04-02T09:52:10.995Z"
   },
   {
    "duration": 19,
    "start_time": "2022-04-02T09:52:11.182Z"
   },
   {
    "duration": 44,
    "start_time": "2022-04-02T09:52:11.203Z"
   },
   {
    "duration": 23,
    "start_time": "2022-04-02T09:52:11.249Z"
   },
   {
    "duration": 23,
    "start_time": "2022-04-02T09:52:11.273Z"
   },
   {
    "duration": 30,
    "start_time": "2022-04-02T09:52:11.298Z"
   },
   {
    "duration": 44,
    "start_time": "2022-04-02T09:52:11.330Z"
   },
   {
    "duration": 49,
    "start_time": "2022-04-02T09:52:11.376Z"
   },
   {
    "duration": 53,
    "start_time": "2022-04-02T09:52:11.427Z"
   },
   {
    "duration": 96,
    "start_time": "2022-04-02T09:52:11.483Z"
   },
   {
    "duration": 77,
    "start_time": "2022-04-02T09:52:11.581Z"
   },
   {
    "duration": 75,
    "start_time": "2022-04-02T09:52:11.659Z"
   },
   {
    "duration": 9,
    "start_time": "2022-04-02T09:52:21.994Z"
   },
   {
    "duration": 43,
    "start_time": "2022-04-02T09:52:45.747Z"
   },
   {
    "duration": 144,
    "start_time": "2022-04-02T09:54:08.196Z"
   },
   {
    "duration": 3,
    "start_time": "2022-04-02T09:55:54.982Z"
   },
   {
    "duration": 175,
    "start_time": "2022-04-02T09:55:54.987Z"
   },
   {
    "duration": 11,
    "start_time": "2022-04-02T09:55:55.164Z"
   },
   {
    "duration": 46,
    "start_time": "2022-04-02T09:55:55.177Z"
   },
   {
    "duration": 4,
    "start_time": "2022-04-02T09:55:55.225Z"
   },
   {
    "duration": 4,
    "start_time": "2022-04-02T09:55:55.231Z"
   },
   {
    "duration": 9,
    "start_time": "2022-04-02T09:55:55.237Z"
   },
   {
    "duration": 32,
    "start_time": "2022-04-02T09:55:55.247Z"
   },
   {
    "duration": 22,
    "start_time": "2022-04-02T09:55:55.301Z"
   },
   {
    "duration": 28,
    "start_time": "2022-04-02T09:55:55.325Z"
   },
   {
    "duration": 92,
    "start_time": "2022-04-02T09:55:55.355Z"
   },
   {
    "duration": 85,
    "start_time": "2022-04-02T09:55:55.448Z"
   },
   {
    "duration": 76,
    "start_time": "2022-04-02T09:55:55.535Z"
   },
   {
    "duration": 41,
    "start_time": "2022-04-02T09:55:55.613Z"
   },
   {
    "duration": 15,
    "start_time": "2022-04-02T09:55:55.656Z"
   },
   {
    "duration": 53,
    "start_time": "2022-04-02T09:55:55.673Z"
   },
   {
    "duration": 42,
    "start_time": "2022-04-02T09:56:45.931Z"
   },
   {
    "duration": 13,
    "start_time": "2022-04-02T09:57:39.751Z"
   },
   {
    "duration": 13,
    "start_time": "2022-04-02T09:58:03.084Z"
   },
   {
    "duration": 14,
    "start_time": "2022-04-02T09:59:45.445Z"
   },
   {
    "duration": 14,
    "start_time": "2022-04-02T10:01:02.321Z"
   },
   {
    "duration": 400,
    "start_time": "2022-04-02T10:30:17.350Z"
   },
   {
    "duration": 152,
    "start_time": "2022-04-02T10:30:17.752Z"
   },
   {
    "duration": 18,
    "start_time": "2022-04-02T10:30:17.906Z"
   },
   {
    "duration": 30,
    "start_time": "2022-04-02T10:30:17.926Z"
   },
   {
    "duration": 4,
    "start_time": "2022-04-02T10:30:17.959Z"
   },
   {
    "duration": 8,
    "start_time": "2022-04-02T10:30:17.965Z"
   },
   {
    "duration": 29,
    "start_time": "2022-04-02T10:30:17.975Z"
   },
   {
    "duration": 29,
    "start_time": "2022-04-02T10:30:18.006Z"
   },
   {
    "duration": 19,
    "start_time": "2022-04-02T10:30:18.037Z"
   },
   {
    "duration": 47,
    "start_time": "2022-04-02T10:30:18.058Z"
   },
   {
    "duration": 67,
    "start_time": "2022-04-02T10:30:18.107Z"
   },
   {
    "duration": 89,
    "start_time": "2022-04-02T10:30:18.176Z"
   },
   {
    "duration": 78,
    "start_time": "2022-04-02T10:30:18.267Z"
   },
   {
    "duration": 52,
    "start_time": "2022-04-02T10:30:18.350Z"
   },
   {
    "duration": 3,
    "start_time": "2022-04-02T10:30:18.404Z"
   },
   {
    "duration": 37,
    "start_time": "2022-04-02T10:30:18.409Z"
   },
   {
    "duration": 64,
    "start_time": "2022-04-02T10:30:18.448Z"
   },
   {
    "duration": 13,
    "start_time": "2022-04-02T10:30:18.514Z"
   },
   {
    "duration": 12,
    "start_time": "2022-04-02T10:30:18.528Z"
   },
   {
    "duration": 4,
    "start_time": "2022-04-02T10:30:18.542Z"
   },
   {
    "duration": 25,
    "start_time": "2022-04-02T10:30:18.547Z"
   },
   {
    "duration": 41,
    "start_time": "2022-04-02T10:30:18.574Z"
   },
   {
    "duration": 16,
    "start_time": "2022-04-02T10:30:18.617Z"
   },
   {
    "duration": 16,
    "start_time": "2022-04-02T10:30:18.635Z"
   },
   {
    "duration": 48,
    "start_time": "2022-04-02T10:30:18.653Z"
   },
   {
    "duration": 16,
    "start_time": "2022-04-02T10:30:18.703Z"
   },
   {
    "duration": 8,
    "start_time": "2022-04-02T10:30:18.721Z"
   },
   {
    "duration": 14,
    "start_time": "2022-04-02T10:30:18.731Z"
   },
   {
    "duration": 15,
    "start_time": "2022-04-02T10:30:18.747Z"
   },
   {
    "duration": 5,
    "start_time": "2022-04-02T10:30:18.764Z"
   },
   {
    "duration": 50,
    "start_time": "2022-04-02T10:30:18.770Z"
   },
   {
    "duration": 14,
    "start_time": "2022-04-02T10:30:18.822Z"
   },
   {
    "duration": 17,
    "start_time": "2022-04-02T10:30:18.838Z"
   },
   {
    "duration": 12,
    "start_time": "2022-04-02T10:30:18.857Z"
   },
   {
    "duration": 8,
    "start_time": "2022-04-02T10:30:18.901Z"
   },
   {
    "duration": 5,
    "start_time": "2022-04-02T10:30:18.911Z"
   },
   {
    "duration": 8,
    "start_time": "2022-04-02T10:30:18.918Z"
   },
   {
    "duration": 10,
    "start_time": "2022-04-02T10:30:18.928Z"
   },
   {
    "duration": 13,
    "start_time": "2022-04-02T10:40:22.727Z"
   },
   {
    "duration": 130,
    "start_time": "2022-04-02T10:40:41.654Z"
   },
   {
    "duration": 30,
    "start_time": "2022-04-02T10:40:45.680Z"
   }
  ],
  "colab": {
   "collapsed_sections": [
    "E0vqbgi9ay0H",
    "VUC88oWjTJw2"
   ],
   "name": "yandex_music_project_2021.2.ipynb",
   "provenance": []
  },
  "kernelspec": {
   "display_name": "Python 3 (ipykernel)",
   "language": "python",
   "name": "python3"
  },
  "language_info": {
   "codemirror_mode": {
    "name": "ipython",
    "version": 3
   },
   "file_extension": ".py",
   "mimetype": "text/x-python",
   "name": "python",
   "nbconvert_exporter": "python",
   "pygments_lexer": "ipython3",
   "version": "3.9.5"
  },
  "toc": {
   "base_numbering": 1,
   "nav_menu": {},
   "number_sections": true,
   "sideBar": true,
   "skip_h1_title": true,
   "title_cell": "Table of Contents",
   "title_sidebar": "Contents",
   "toc_cell": false,
   "toc_position": {
    "height": "calc(100% - 180px)",
    "left": "10px",
    "top": "150px",
    "width": "165px"
   },
   "toc_section_display": true,
   "toc_window_display": true
  }
 },
 "nbformat": 4,
 "nbformat_minor": 1
}
