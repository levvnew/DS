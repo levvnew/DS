{
 "cells": [
  {
   "cell_type": "markdown",
   "id": "eeeb7c1f",
   "metadata": {},
   "source": [
    "<div style=\"border:solid green 2px; padding: 20px\">\n",
    "\n",
    "Привет! Меня зовут Алёна, и я буду проверять твою работу. Предлагаю общаться на «ты» :) Но если это не удобно - дай знать, и мы перейдем на \"вы\". \n",
    "\n",
    "Ниже ты найдешь мои комментарии - пожалуйста, не перемещай, не изменяй и не удаляй их. Я буду использовать цветовую разметку:\n",
    "\n",
    "<div class=\"alert alert-danger\">\n",
    "<b>Комментарий ревьюера:</b>❌Так выделены критичные замечания. Без их отработки проект не будет принят. </div>\n",
    "\n",
    "<div class=\"alert alert-warning\">\n",
    "<b>Комментарий ревьюера:</b>⚠️ Так выделены небольшие замечания.Такие замечания в проекте допустимы, это пространство для улучшений в будущем.\n",
    "</div>\n",
    "\n",
    "<div class=\"alert alert-success\">\n",
    "<b>Комментарий ревьюера:</b>✔️Так я выделяю успешные идеи, даю советы на будущее.</div>\n",
    "\n",
    "Давай работать над проектом в диалоге: если ты что-то меняешь в проекте или отвечаешь на мои комменатри — пиши об этом. Мне будет легче отследить изменения, если ты выделишь свои комментарии:\n",
    "<div class=\"alert alert-info\"> <b>Комментарий студента:</b> Например, вот так.</div>\n",
    "\n",
    "Пожалуйста, не перемещай, не изменяй и не удаляй мои комментарии. Всё это поможет выполнить повторную проверку твоего проекта оперативнее \n",
    "    \n",
    "   "
   ]
  },
  {
   "cell_type": "markdown",
   "id": "4b647123",
   "metadata": {},
   "source": [
    "<div class=\"alert alert-success\">\n",
    "<b>Комментарий ревьюера v2 ✔️:</b>\n",
    "\n",
    "Привет, рада, что проект был доработан, он стал еще лучше :) Но трафик все еще округлен не так, как требовалось в условии :( Поправь, пожалуйста\n",
    "    \n",
    "Новые комментарии - с v2\n",
    "</div>"
   ]
  },
  {
   "cell_type": "markdown",
   "id": "05c51382",
   "metadata": {},
   "source": [
    "<div class=\"alert alert-success\">\n",
    "<b>Комментарий ревьюера v3 ✔️:</b>\n",
    "\n",
    "Привет, принимаю проект, отличная работа :) Желаю также успехов в дальнейшем обучении :)\n",
    "    \n",
    "Новые комментарии - с v3\n",
    "</div>"
   ]
  },
  {
   "cell_type": "markdown",
   "id": "12d287a9",
   "metadata": {},
   "source": [
    "# Проект №4 \"Исследование тарифов федерального мобильного оператора Мегалайн\" курс \"Аналитик Данных\" Яндекс.Практикум \n",
    "### Описание проекта\n",
    "Вы аналитик компании «Мегалайн» (скорее всего яичная трехбуквенная экосистема) — федерального оператора сотовой связи. Клиентам предлагают два тарифных плана: «Смарт» и «Ультра». Чтобы скорректировать рекламный бюджет, коммерческий департамент хочет понять, какой тариф приносит больше денег.\n",
    "\n",
    "Вам предстоит сделать предварительный анализ тарифов на небольшой выборке клиентов. В вашем распоряжении данные 500 пользователей «Мегалайна»: кто они, откуда, каким тарифом пользуются, сколько звонков и сообщений каждый отправил за 2018 год. Нужно проанализировать поведение клиентов и сделать вывод — какой тариф лучше.\n",
    "\n",
    "#### Описание тарифов\n",
    "##### Тариф «Смарт»\n",
    "* Ежемесячная плата: 550 рублей\n",
    "* Включено 500 минут разговора, 50 сообщений и 15 Гб интернет-трафика\n",
    "* Стоимость услуг сверх тарифного пакета:\n",
    "* минута разговора: 3 рубля\n",
    "* сообщение: 3 рубля\n",
    "* 1 Гб интернет-трафика: 200 рублей\n",
    "##### Тариф «Ультра»\n",
    "* Ежемесячная плата: 1950 рублей\n",
    "* Включено 3000 минут разговора, 1000 сообщений и 30 Гб интернет-трафика\n",
    "* Стоимость услуг сверх тарифного пакета:\n",
    "* минута разговора: 1 рубль\n",
    "* сообщение: 1 рубль\n",
    "* 1 Гб интернет-трафика: 150 рублей"
   ]
  },
  {
   "cell_type": "markdown",
   "id": "9054c8d4",
   "metadata": {},
   "source": [
    "<div class=\"alert alert-success\">\n",
    "<b>Комментарий ревьюера ✔️:</b>\n",
    "    \n",
    "Круто, что есть вступление. Проект выглядел бы еще лучше, если бы вступление содержало все следующие разделы:\n",
    "    \n",
    "____    \n",
    "    \n",
    "**Название проекта**\n",
    "_____\n",
    "**Описание исследования.**    \n",
    "_____\n",
    "**Цель исследования.**    \n",
    "_____\n",
    "**Задачи исследования.**\n",
    "\n",
    "Что нужно сделать, чтобы достигнуть поставленной цели\n",
    "_____\n",
    "**Исходные данные.**\n",
    "    \n",
    "Копируешь описание данных\n",
    "______\n",
    "\n",
    "**Содержание**\n",
    "\n",
    "Можно воспользоваться автообираемым оглавлением плагина toc. \n",
    "_________________\n",
    "\n",
    "\n",
    "</div>"
   ]
  },
  {
   "cell_type": "markdown",
   "id": "2c1fe59f",
   "metadata": {},
   "source": [
    "### 2.1. Прочтем файлы, приведем к нужным типам и исправим ошибки при наличие"
   ]
  },
  {
   "cell_type": "code",
   "execution_count": 1,
   "id": "d2348801",
   "metadata": {
    "scrolled": false
   },
   "outputs": [],
   "source": [
    "import pandas as pd\n",
    "import numpy as np\n",
    "import math\n",
    "from math import ceil\n",
    "import numpy as np\n",
    "from scipy import stats as st\n",
    "import copy\n",
    "import matplotlib.pyplot as plt\n",
    "import seaborn as sns\n",
    "\n",
    "try:\n",
    "    calls = pd.read_csv(r'/datasets/calls.csv')\n",
    "    internet = pd.read_csv(r'/datasets/internet.csv')\n",
    "    messages = pd.read_csv(r'/datasets/messages.csv')\n",
    "    users = pd.read_csv(r'/datasets/users.csv')\n",
    "    tariffs = pd.read_csv(r'/datasets/tariffs.csv')\n",
    "except:\n",
    "    calls = pd.read_csv(r'D:\\OneDrive\\ds\\project4\\calls.csv') # Используем r для чтения файлов с диска на ОС \"Виндоус\"\n",
    "    internet = pd.read_csv('D:\\OneDrive\\ds\\project4\\internet.csv')\n",
    "    messages = pd.read_csv('D:\\OneDrive\\ds\\project4\\messages.csv')\n",
    "    users = pd.read_csv(r'D:\\OneDrive\\ds\\project4\\users.csv')\n",
    "    tariffs = pd.read_csv(r'D:\\OneDrive\\ds\\project4\\tariffs.csv')"
   ]
  },
  {
   "cell_type": "code",
   "execution_count": 2,
   "id": "47d983f7",
   "metadata": {},
   "outputs": [
    {
     "data": {
      "text/html": [
       "<div>\n",
       "<style scoped>\n",
       "    .dataframe tbody tr th:only-of-type {\n",
       "        vertical-align: middle;\n",
       "    }\n",
       "\n",
       "    .dataframe tbody tr th {\n",
       "        vertical-align: top;\n",
       "    }\n",
       "\n",
       "    .dataframe thead th {\n",
       "        text-align: right;\n",
       "    }\n",
       "</style>\n",
       "<table border=\"1\" class=\"dataframe\">\n",
       "  <thead>\n",
       "    <tr style=\"text-align: right;\">\n",
       "      <th></th>\n",
       "      <th>messages_included</th>\n",
       "      <th>mb_per_month_included</th>\n",
       "      <th>minutes_included</th>\n",
       "      <th>rub_monthly_fee</th>\n",
       "      <th>rub_per_gb</th>\n",
       "      <th>rub_per_message</th>\n",
       "      <th>rub_per_minute</th>\n",
       "      <th>tariff_name</th>\n",
       "    </tr>\n",
       "  </thead>\n",
       "  <tbody>\n",
       "    <tr>\n",
       "      <th>0</th>\n",
       "      <td>50</td>\n",
       "      <td>15360</td>\n",
       "      <td>500</td>\n",
       "      <td>550</td>\n",
       "      <td>200</td>\n",
       "      <td>3</td>\n",
       "      <td>3</td>\n",
       "      <td>smart</td>\n",
       "    </tr>\n",
       "    <tr>\n",
       "      <th>1</th>\n",
       "      <td>1000</td>\n",
       "      <td>30720</td>\n",
       "      <td>3000</td>\n",
       "      <td>1950</td>\n",
       "      <td>150</td>\n",
       "      <td>1</td>\n",
       "      <td>1</td>\n",
       "      <td>ultra</td>\n",
       "    </tr>\n",
       "  </tbody>\n",
       "</table>\n",
       "</div>"
      ],
      "text/plain": [
       "   messages_included  mb_per_month_included  minutes_included  \\\n",
       "0                 50                  15360               500   \n",
       "1               1000                  30720              3000   \n",
       "\n",
       "   rub_monthly_fee  rub_per_gb  rub_per_message  rub_per_minute tariff_name  \n",
       "0              550         200                3               3       smart  \n",
       "1             1950         150                1               1       ultra  "
      ]
     },
     "execution_count": 2,
     "metadata": {},
     "output_type": "execute_result"
    }
   ],
   "source": [
    "tariffs"
   ]
  },
  {
   "cell_type": "code",
   "execution_count": 3,
   "id": "e9f69d08",
   "metadata": {},
   "outputs": [
    {
     "name": "stdout",
     "output_type": "stream",
     "text": [
      "550 1950\n"
     ]
    }
   ],
   "source": [
    "smart_price = tariffs.iloc[0]['rub_monthly_fee']\n",
    "ultra_price = tariffs.iloc[1]['rub_monthly_fee']\n",
    "print(smart_price, ultra_price)"
   ]
  },
  {
   "cell_type": "markdown",
   "id": "8f3084dc",
   "metadata": {},
   "source": [
    "### Шаг 2.2 Подготовка данных"
   ]
  },
  {
   "cell_type": "markdown",
   "id": "9b926890",
   "metadata": {},
   "source": [
    "<b>2.2.1. Таблица `calls` (информация о звонках):\n",
    "</b>    \n",
    "* <em>id</em> — уникальный номер звонка\n",
    "* <em>call_date</em> — дата звонка\n",
    "* <em>duration</em> — длительность звонка в минутах\n",
    "* <em>user_id</em> — идентификатор пользователя, сделавшего звонок"
   ]
  },
  {
   "cell_type": "code",
   "execution_count": 4,
   "id": "5413168e",
   "metadata": {},
   "outputs": [
    {
     "name": "stdout",
     "output_type": "stream",
     "text": [
      "<class 'pandas.core.frame.DataFrame'>\n",
      "RangeIndex: 202607 entries, 0 to 202606\n",
      "Data columns (total 4 columns):\n",
      " #   Column     Non-Null Count   Dtype  \n",
      "---  ------     --------------   -----  \n",
      " 0   id         202607 non-null  object \n",
      " 1   call_date  202607 non-null  object \n",
      " 2   duration   202607 non-null  float64\n",
      " 3   user_id    202607 non-null  int64  \n",
      "dtypes: float64(1), int64(1), object(2)\n",
      "memory usage: 6.2+ MB\n"
     ]
    },
    {
     "data": {
      "text/html": [
       "<div>\n",
       "<style scoped>\n",
       "    .dataframe tbody tr th:only-of-type {\n",
       "        vertical-align: middle;\n",
       "    }\n",
       "\n",
       "    .dataframe tbody tr th {\n",
       "        vertical-align: top;\n",
       "    }\n",
       "\n",
       "    .dataframe thead th {\n",
       "        text-align: right;\n",
       "    }\n",
       "</style>\n",
       "<table border=\"1\" class=\"dataframe\">\n",
       "  <thead>\n",
       "    <tr style=\"text-align: right;\">\n",
       "      <th></th>\n",
       "      <th>id</th>\n",
       "      <th>call_date</th>\n",
       "      <th>duration</th>\n",
       "      <th>user_id</th>\n",
       "    </tr>\n",
       "  </thead>\n",
       "  <tbody>\n",
       "    <tr>\n",
       "      <th>0</th>\n",
       "      <td>1000_0</td>\n",
       "      <td>2018-07-25</td>\n",
       "      <td>0.00</td>\n",
       "      <td>1000</td>\n",
       "    </tr>\n",
       "    <tr>\n",
       "      <th>1</th>\n",
       "      <td>1000_1</td>\n",
       "      <td>2018-08-17</td>\n",
       "      <td>0.00</td>\n",
       "      <td>1000</td>\n",
       "    </tr>\n",
       "    <tr>\n",
       "      <th>2</th>\n",
       "      <td>1000_2</td>\n",
       "      <td>2018-06-11</td>\n",
       "      <td>2.85</td>\n",
       "      <td>1000</td>\n",
       "    </tr>\n",
       "    <tr>\n",
       "      <th>3</th>\n",
       "      <td>1000_3</td>\n",
       "      <td>2018-09-21</td>\n",
       "      <td>13.80</td>\n",
       "      <td>1000</td>\n",
       "    </tr>\n",
       "    <tr>\n",
       "      <th>4</th>\n",
       "      <td>1000_4</td>\n",
       "      <td>2018-12-15</td>\n",
       "      <td>5.18</td>\n",
       "      <td>1000</td>\n",
       "    </tr>\n",
       "    <tr>\n",
       "      <th>...</th>\n",
       "      <td>...</td>\n",
       "      <td>...</td>\n",
       "      <td>...</td>\n",
       "      <td>...</td>\n",
       "    </tr>\n",
       "    <tr>\n",
       "      <th>202602</th>\n",
       "      <td>1499_215</td>\n",
       "      <td>2018-12-26</td>\n",
       "      <td>0.76</td>\n",
       "      <td>1499</td>\n",
       "    </tr>\n",
       "    <tr>\n",
       "      <th>202603</th>\n",
       "      <td>1499_216</td>\n",
       "      <td>2018-10-18</td>\n",
       "      <td>18.83</td>\n",
       "      <td>1499</td>\n",
       "    </tr>\n",
       "    <tr>\n",
       "      <th>202604</th>\n",
       "      <td>1499_217</td>\n",
       "      <td>2018-11-10</td>\n",
       "      <td>10.81</td>\n",
       "      <td>1499</td>\n",
       "    </tr>\n",
       "    <tr>\n",
       "      <th>202605</th>\n",
       "      <td>1499_218</td>\n",
       "      <td>2018-10-06</td>\n",
       "      <td>4.27</td>\n",
       "      <td>1499</td>\n",
       "    </tr>\n",
       "    <tr>\n",
       "      <th>202606</th>\n",
       "      <td>1499_219</td>\n",
       "      <td>2018-12-14</td>\n",
       "      <td>19.62</td>\n",
       "      <td>1499</td>\n",
       "    </tr>\n",
       "  </tbody>\n",
       "</table>\n",
       "<p>202607 rows × 4 columns</p>\n",
       "</div>"
      ],
      "text/plain": [
       "              id   call_date  duration  user_id\n",
       "0         1000_0  2018-07-25      0.00     1000\n",
       "1         1000_1  2018-08-17      0.00     1000\n",
       "2         1000_2  2018-06-11      2.85     1000\n",
       "3         1000_3  2018-09-21     13.80     1000\n",
       "4         1000_4  2018-12-15      5.18     1000\n",
       "...          ...         ...       ...      ...\n",
       "202602  1499_215  2018-12-26      0.76     1499\n",
       "202603  1499_216  2018-10-18     18.83     1499\n",
       "202604  1499_217  2018-11-10     10.81     1499\n",
       "202605  1499_218  2018-10-06      4.27     1499\n",
       "202606  1499_219  2018-12-14     19.62     1499\n",
       "\n",
       "[202607 rows x 4 columns]"
      ]
     },
     "execution_count": 4,
     "metadata": {},
     "output_type": "execute_result"
    }
   ],
   "source": [
    "calls.info()\n",
    "calls"
   ]
  },
  {
   "cell_type": "code",
   "execution_count": 5,
   "id": "6dccd2bd",
   "metadata": {
    "scrolled": true
   },
   "outputs": [
    {
     "name": "stdout",
     "output_type": "stream",
     "text": [
      "<class 'pandas.core.frame.DataFrame'>\n",
      "RangeIndex: 202607 entries, 0 to 202606\n",
      "Data columns (total 5 columns):\n",
      " #   Column     Non-Null Count   Dtype         \n",
      "---  ------     --------------   -----         \n",
      " 0   id         202607 non-null  int64         \n",
      " 1   call_date  202607 non-null  datetime64[ns]\n",
      " 2   duration   202607 non-null  int64         \n",
      " 3   user_id    202607 non-null  int64         \n",
      " 4   month      202607 non-null  int64         \n",
      "dtypes: datetime64[ns](1), int64(4)\n",
      "memory usage: 7.7 MB\n"
     ]
    },
    {
     "data": {
      "text/plain": [
       "0     39613\n",
       "7     11510\n",
       "6     11457\n",
       "5     11411\n",
       "8     11272\n",
       "9     10973\n",
       "4     10918\n",
       "3     10362\n",
       "10    10186\n",
       "11     9385\n",
       "2      9194\n",
       "12     8448\n",
       "1      8402\n",
       "13     7486\n",
       "14     6554\n",
       "15     5505\n",
       "16     4551\n",
       "17     3671\n",
       "18     2984\n",
       "19     2411\n",
       "20     1806\n",
       "21     1304\n",
       "22      975\n",
       "23      720\n",
       "24      468\n",
       "25      363\n",
       "26      257\n",
       "27      151\n",
       "28      104\n",
       "29       56\n",
       "30       39\n",
       "31       30\n",
       "32       17\n",
       "33       10\n",
       "35        5\n",
       "34        3\n",
       "36        2\n",
       "37        2\n",
       "38        2\n",
       "Name: duration, dtype: int64"
      ]
     },
     "execution_count": 5,
     "metadata": {},
     "output_type": "execute_result"
    }
   ],
   "source": [
    "# Приведем столбцы к нужным типам данных\n",
    "calls['id'] = calls['id'].astype(int)\n",
    "calls['call_date'] = pd.to_datetime(calls['call_date'], format='%Y-%m-%d')\n",
    "\n",
    "# Округлим значения времени звонков вверх\n",
    "def ceil_value(value):\n",
    "    return math.ceil(value)\n",
    "calls['duration'] = calls['duration'].apply(ceil_value)\n",
    "\n",
    "# Добавим столбец с месяцем звонка\n",
    "calls['month'] = calls['call_date'].dt.month\n",
    "\n",
    "calls.info()\n",
    "calls\n",
    "calls['duration'].value_counts()"
   ]
  },
  {
   "cell_type": "markdown",
   "id": "1de76f2c",
   "metadata": {},
   "source": [
    "<div class=\"alert alert-success\">\n",
    "<b>Комментарий ревьюера ✔️:</b>\n",
    "    \n",
    "Классно, что для округления использована правильная функция(ceil). На будущее будет оптимальнее использовать `np.ceil()`. Она работает быстрее, и для нее не нужно использовать apply\n",
    "    \n",
    "    calls['duration'] = np.ceil(calls['duration'])  \n",
    "    \n",
    "</div>"
   ]
  },
  {
   "cell_type": "code",
   "execution_count": 6,
   "id": "01061558",
   "metadata": {},
   "outputs": [
    {
     "name": "stdout",
     "output_type": "stream",
     "text": [
      "<class 'pandas.core.frame.DataFrame'>\n",
      "RangeIndex: 3174 entries, 0 to 3173\n",
      "Data columns (total 3 columns):\n",
      " #   Column          Non-Null Count  Dtype\n",
      "---  ------          --------------  -----\n",
      " 0   user_id         3174 non-null   int64\n",
      " 1   month           3174 non-null   int64\n",
      " 2   calls_duration  3174 non-null   int64\n",
      "dtypes: int64(3)\n",
      "memory usage: 74.5 KB\n"
     ]
    },
    {
     "data": {
      "text/html": [
       "<div>\n",
       "<style scoped>\n",
       "    .dataframe tbody tr th:only-of-type {\n",
       "        vertical-align: middle;\n",
       "    }\n",
       "\n",
       "    .dataframe tbody tr th {\n",
       "        vertical-align: top;\n",
       "    }\n",
       "\n",
       "    .dataframe thead th {\n",
       "        text-align: right;\n",
       "    }\n",
       "</style>\n",
       "<table border=\"1\" class=\"dataframe\">\n",
       "  <thead>\n",
       "    <tr style=\"text-align: right;\">\n",
       "      <th></th>\n",
       "      <th>user_id</th>\n",
       "      <th>month</th>\n",
       "      <th>calls_duration</th>\n",
       "    </tr>\n",
       "  </thead>\n",
       "  <tbody>\n",
       "    <tr>\n",
       "      <th>0</th>\n",
       "      <td>1000</td>\n",
       "      <td>5</td>\n",
       "      <td>159</td>\n",
       "    </tr>\n",
       "    <tr>\n",
       "      <th>1</th>\n",
       "      <td>1000</td>\n",
       "      <td>6</td>\n",
       "      <td>172</td>\n",
       "    </tr>\n",
       "    <tr>\n",
       "      <th>2</th>\n",
       "      <td>1000</td>\n",
       "      <td>7</td>\n",
       "      <td>340</td>\n",
       "    </tr>\n",
       "    <tr>\n",
       "      <th>3</th>\n",
       "      <td>1000</td>\n",
       "      <td>8</td>\n",
       "      <td>408</td>\n",
       "    </tr>\n",
       "    <tr>\n",
       "      <th>4</th>\n",
       "      <td>1000</td>\n",
       "      <td>9</td>\n",
       "      <td>466</td>\n",
       "    </tr>\n",
       "  </tbody>\n",
       "</table>\n",
       "</div>"
      ],
      "text/plain": [
       "   user_id  month  calls_duration\n",
       "0     1000      5             159\n",
       "1     1000      6             172\n",
       "2     1000      7             340\n",
       "3     1000      8             408\n",
       "4     1000      9             466"
      ]
     },
     "execution_count": 6,
     "metadata": {},
     "output_type": "execute_result"
    }
   ],
   "source": [
    "#Создадим сводную таблицу по месяцам\n",
    "calls_pivot = calls.pivot_table(index=['user_id', 'month'], values='duration', aggfunc='sum').reset_index()\n",
    "calls_pivot = calls_pivot.rename(columns={'duration':'calls_duration'})\n",
    "calls_pivot.info()\n",
    "calls_pivot.head()\n"
   ]
  },
  {
   "cell_type": "markdown",
   "id": "d25ce586",
   "metadata": {},
   "source": [
    "<div class=\"alert alert-success\">\n",
    "<b>Комментарий ревьюера ✔️:</b>\n",
    "    \n",
    "Все правильно\n",
    "    \n",
    "</div>"
   ]
  },
  {
   "cell_type": "markdown",
   "id": "f05de21f",
   "metadata": {},
   "source": [
    "##### Выводы 2.2.1.\n",
    "* Получили достаточное количество звонков с нулевой продолжительностью. Это могут быть неотвеченные вызовы. Не будем их убирать, т.к. они никак не повлияют на результаты исследования.\n",
    "* Пропущенные значения в столбцах отсутствуют.\n",
    "* Добавили столбец с месяцем совершенного звонка.\n",
    "* Сократили количество строк до 3174\n"
   ]
  },
  {
   "cell_type": "markdown",
   "id": "8ef50fcb",
   "metadata": {},
   "source": [
    "<b>2.2.2. Таблица `internet` (информация об интернет-сессиях):\n",
    "</b>  \n",
    "* <em>id</em> — уникальный номер сессии\n",
    "* <em>mb_used</em> — объём потраченного за сессию интернет-трафика (в мегабайтах)\n",
    "* <em>session_date</em> — дата интернет-сессии\n",
    "* <em>user_id</em> — идентификатор пользователя"
   ]
  },
  {
   "cell_type": "code",
   "execution_count": 7,
   "id": "f73e85fb",
   "metadata": {
    "scrolled": true
   },
   "outputs": [
    {
     "name": "stdout",
     "output_type": "stream",
     "text": [
      "<class 'pandas.core.frame.DataFrame'>\n",
      "RangeIndex: 149396 entries, 0 to 149395\n",
      "Data columns (total 7 columns):\n",
      " #   Column        Non-Null Count   Dtype         \n",
      "---  ------        --------------   -----         \n",
      " 0   Unnamed: 0    149396 non-null  int64         \n",
      " 1   id            149396 non-null  int64         \n",
      " 2   mb_used       149396 non-null  float64       \n",
      " 3   session_date  149396 non-null  datetime64[ns]\n",
      " 4   user_id       149396 non-null  int64         \n",
      " 5   gb_used       149396 non-null  int64         \n",
      " 6   month         149396 non-null  int64         \n",
      "dtypes: datetime64[ns](1), float64(1), int64(5)\n",
      "memory usage: 8.0 MB\n"
     ]
    },
    {
     "data": {
      "text/html": [
       "<div>\n",
       "<style scoped>\n",
       "    .dataframe tbody tr th:only-of-type {\n",
       "        vertical-align: middle;\n",
       "    }\n",
       "\n",
       "    .dataframe tbody tr th {\n",
       "        vertical-align: top;\n",
       "    }\n",
       "\n",
       "    .dataframe thead th {\n",
       "        text-align: right;\n",
       "    }\n",
       "</style>\n",
       "<table border=\"1\" class=\"dataframe\">\n",
       "  <thead>\n",
       "    <tr style=\"text-align: right;\">\n",
       "      <th></th>\n",
       "      <th>Unnamed: 0</th>\n",
       "      <th>id</th>\n",
       "      <th>mb_used</th>\n",
       "      <th>session_date</th>\n",
       "      <th>user_id</th>\n",
       "      <th>gb_used</th>\n",
       "      <th>month</th>\n",
       "    </tr>\n",
       "  </thead>\n",
       "  <tbody>\n",
       "    <tr>\n",
       "      <th>0</th>\n",
       "      <td>0</td>\n",
       "      <td>10000</td>\n",
       "      <td>112.95</td>\n",
       "      <td>2018-11-25</td>\n",
       "      <td>1000</td>\n",
       "      <td>1</td>\n",
       "      <td>11</td>\n",
       "    </tr>\n",
       "    <tr>\n",
       "      <th>1</th>\n",
       "      <td>1</td>\n",
       "      <td>10001</td>\n",
       "      <td>1052.81</td>\n",
       "      <td>2018-09-07</td>\n",
       "      <td>1000</td>\n",
       "      <td>2</td>\n",
       "      <td>9</td>\n",
       "    </tr>\n",
       "    <tr>\n",
       "      <th>2</th>\n",
       "      <td>2</td>\n",
       "      <td>10002</td>\n",
       "      <td>1197.26</td>\n",
       "      <td>2018-06-25</td>\n",
       "      <td>1000</td>\n",
       "      <td>2</td>\n",
       "      <td>6</td>\n",
       "    </tr>\n",
       "    <tr>\n",
       "      <th>3</th>\n",
       "      <td>3</td>\n",
       "      <td>10003</td>\n",
       "      <td>550.27</td>\n",
       "      <td>2018-08-22</td>\n",
       "      <td>1000</td>\n",
       "      <td>1</td>\n",
       "      <td>8</td>\n",
       "    </tr>\n",
       "    <tr>\n",
       "      <th>4</th>\n",
       "      <td>4</td>\n",
       "      <td>10004</td>\n",
       "      <td>302.56</td>\n",
       "      <td>2018-09-24</td>\n",
       "      <td>1000</td>\n",
       "      <td>1</td>\n",
       "      <td>9</td>\n",
       "    </tr>\n",
       "    <tr>\n",
       "      <th>...</th>\n",
       "      <td>...</td>\n",
       "      <td>...</td>\n",
       "      <td>...</td>\n",
       "      <td>...</td>\n",
       "      <td>...</td>\n",
       "      <td>...</td>\n",
       "      <td>...</td>\n",
       "    </tr>\n",
       "    <tr>\n",
       "      <th>149391</th>\n",
       "      <td>149391</td>\n",
       "      <td>1499152</td>\n",
       "      <td>318.90</td>\n",
       "      <td>2018-10-03</td>\n",
       "      <td>1499</td>\n",
       "      <td>1</td>\n",
       "      <td>10</td>\n",
       "    </tr>\n",
       "    <tr>\n",
       "      <th>149392</th>\n",
       "      <td>149392</td>\n",
       "      <td>1499153</td>\n",
       "      <td>490.13</td>\n",
       "      <td>2018-12-14</td>\n",
       "      <td>1499</td>\n",
       "      <td>1</td>\n",
       "      <td>12</td>\n",
       "    </tr>\n",
       "    <tr>\n",
       "      <th>149393</th>\n",
       "      <td>149393</td>\n",
       "      <td>1499154</td>\n",
       "      <td>0.00</td>\n",
       "      <td>2018-10-27</td>\n",
       "      <td>1499</td>\n",
       "      <td>0</td>\n",
       "      <td>10</td>\n",
       "    </tr>\n",
       "    <tr>\n",
       "      <th>149394</th>\n",
       "      <td>149394</td>\n",
       "      <td>1499155</td>\n",
       "      <td>1246.32</td>\n",
       "      <td>2018-11-26</td>\n",
       "      <td>1499</td>\n",
       "      <td>2</td>\n",
       "      <td>11</td>\n",
       "    </tr>\n",
       "    <tr>\n",
       "      <th>149395</th>\n",
       "      <td>149395</td>\n",
       "      <td>1499156</td>\n",
       "      <td>544.37</td>\n",
       "      <td>2018-10-26</td>\n",
       "      <td>1499</td>\n",
       "      <td>1</td>\n",
       "      <td>10</td>\n",
       "    </tr>\n",
       "  </tbody>\n",
       "</table>\n",
       "<p>149396 rows × 7 columns</p>\n",
       "</div>"
      ],
      "text/plain": [
       "        Unnamed: 0       id  mb_used session_date  user_id  gb_used  month\n",
       "0                0    10000   112.95   2018-11-25     1000        1     11\n",
       "1                1    10001  1052.81   2018-09-07     1000        2      9\n",
       "2                2    10002  1197.26   2018-06-25     1000        2      6\n",
       "3                3    10003   550.27   2018-08-22     1000        1      8\n",
       "4                4    10004   302.56   2018-09-24     1000        1      9\n",
       "...            ...      ...      ...          ...      ...      ...    ...\n",
       "149391      149391  1499152   318.90   2018-10-03     1499        1     10\n",
       "149392      149392  1499153   490.13   2018-12-14     1499        1     12\n",
       "149393      149393  1499154     0.00   2018-10-27     1499        0     10\n",
       "149394      149394  1499155  1246.32   2018-11-26     1499        2     11\n",
       "149395      149395  1499156   544.37   2018-10-26     1499        1     10\n",
       "\n",
       "[149396 rows x 7 columns]"
      ]
     },
     "execution_count": 7,
     "metadata": {},
     "output_type": "execute_result"
    }
   ],
   "source": [
    "# Приведем столбцы к нужным типам данным\n",
    "internet['id'] = internet['id'].astype(int)\n",
    "\n",
    "#Добовим столбец с объемом использованных данных в ГБ\n",
    "internet['gb_used'] = internet['mb_used'] / 1024\n",
    "#print(internet['gb_used'].sum().round(1), '- количество ГБ потреблено в общем')\n",
    "#internet['gb_used'] = np.ceil(internet['gb_used']).astype(int)\n",
    "#print(internet['gb_used'].sum(), '- количество ГБ с округлениями по правилам тарифа, за которые оплатили клиенты')\n",
    "#internet['gb_used'] = np.ceil(internet['gb_used']).astype(int)\n",
    "\n",
    "#internet = internet.drop('Unnamed: 0', axis=1)\n",
    "internet = internet.reindex()\n",
    "internet['gb_used'] = np.ceil(internet['gb_used']).astype(int)\n",
    "#internet = internet.reindex('id', 'gb_used', 'gb_used')\n",
    "\n",
    "# Добавим столбец с месяцем звонка\n",
    "internet['session_date'] = pd.to_datetime(internet['session_date'], format='%Y-%m-%d')\n",
    "internet['month'] = internet['session_date'].dt.month\n",
    "internet.info()\n",
    "internet"
   ]
  },
  {
   "cell_type": "markdown",
   "id": "de698987",
   "metadata": {},
   "source": [
    "<div class=\"alert alert-success\">\n",
    "<b>Комментарий ревьюера ✔️:</b>\n",
    "    \n",
    "`Unnamed: 0` возникает, когда данные сохраняют с указанием индекса `pd.DataFrame().to_csv(..., index=column)`. Если при чтении указать этот столбец `pd.read_csv(..., index_col=0)` - данные сразу прочитаются корректно.\n",
    "\n",
    "</div>"
   ]
  },
  {
   "cell_type": "markdown",
   "id": "009f7f07",
   "metadata": {},
   "source": [
    "<div class=\"alert alert-danger\">\n",
    "<b>Комментарий ревьюера ❌:</b>\n",
    "    \n",
    "Согласно условию использованный трафик округляется уже после суммирования:\n",
    "\n",
    "    «Мегалайн» всегда округляет секунды до минут, а мегабайты — до гигабайт. Каждый звонок округляется отдельно: даже если он длился всего 1 секунду, будет засчитан как 1 минута.\n",
    "    Для веб-трафика отдельные сессии не считаются. Вместо этого общая сумма за месяц округляется в бо́льшую сторону. Если абонент использует 1025 мегабайт в этом месяце, с него возьмут плату за 2 гигабайта.\n",
    "    \n",
    "</div>\n"
   ]
  },
  {
   "cell_type": "markdown",
   "id": "0feac25d",
   "metadata": {},
   "source": [
    "<div class=\"alert alert-info\"> <b>Комментарий студента:</b> Применил округление.</div>"
   ]
  },
  {
   "attachments": {
    "Screenshot%202022-05-12%20at%2014.55.42.png": {
     "image/png": "[encoded data removed]"
    }
   },
   "cell_type": "markdown",
   "id": "a53a933e",
   "metadata": {},
   "source": [
    "<div class=\"alert alert-danger\">\n",
    "<b>Комментарий ревьюера v2 ❌:</b>\n",
    "    \n",
    "Я имела ввиду, что округлить надо после суммирования, а здесь 2 раза округлено до :( \n",
    "    \n",
    "![Screenshot%202022-05-12%20at%2014.55.42.png](attachment:Screenshot%202022-05-12%20at%2014.55.42.png)\n",
    "\n",
    "Также после этого хорошо бы опять исправить цифры в выводах :((\n",
    "</div>\n"
   ]
  },
  {
   "cell_type": "markdown",
   "id": "3c9a2ce3",
   "metadata": {},
   "source": [
    "<div class=\"alert alert-info\"> <b>Комментарий студента v2:</b> Перенес округление под строку `internet = internet.reindex()`.</div>"
   ]
  },
  {
   "cell_type": "markdown",
   "id": "33daf04c",
   "metadata": {},
   "source": [
    "<div class=\"alert alert-warning\">\n",
    "<b>Комментарий ревьюера v3 ⚠️:</b> \n",
    "    \n",
    "Округлять нужно было не здесь, а в internet_pivot, чтобы все было согласно условию :) \n",
    "</div>"
   ]
  },
  {
   "cell_type": "code",
   "execution_count": 8,
   "id": "efda8424",
   "metadata": {},
   "outputs": [
    {
     "data": {
      "text/html": [
       "<div>\n",
       "<style scoped>\n",
       "    .dataframe tbody tr th:only-of-type {\n",
       "        vertical-align: middle;\n",
       "    }\n",
       "\n",
       "    .dataframe tbody tr th {\n",
       "        vertical-align: top;\n",
       "    }\n",
       "\n",
       "    .dataframe thead th {\n",
       "        text-align: right;\n",
       "    }\n",
       "</style>\n",
       "<table border=\"1\" class=\"dataframe\">\n",
       "  <thead>\n",
       "    <tr style=\"text-align: right;\">\n",
       "      <th></th>\n",
       "      <th>user_id</th>\n",
       "      <th>month</th>\n",
       "      <th>gb_used</th>\n",
       "    </tr>\n",
       "  </thead>\n",
       "  <tbody>\n",
       "    <tr>\n",
       "      <th>0</th>\n",
       "      <td>1000</td>\n",
       "      <td>5</td>\n",
       "      <td>4</td>\n",
       "    </tr>\n",
       "    <tr>\n",
       "      <th>1</th>\n",
       "      <td>1000</td>\n",
       "      <td>6</td>\n",
       "      <td>49</td>\n",
       "    </tr>\n",
       "    <tr>\n",
       "      <th>2</th>\n",
       "      <td>1000</td>\n",
       "      <td>7</td>\n",
       "      <td>28</td>\n",
       "    </tr>\n",
       "    <tr>\n",
       "      <th>3</th>\n",
       "      <td>1000</td>\n",
       "      <td>8</td>\n",
       "      <td>27</td>\n",
       "    </tr>\n",
       "    <tr>\n",
       "      <th>4</th>\n",
       "      <td>1000</td>\n",
       "      <td>9</td>\n",
       "      <td>26</td>\n",
       "    </tr>\n",
       "    <tr>\n",
       "      <th>...</th>\n",
       "      <td>...</td>\n",
       "      <td>...</td>\n",
       "      <td>...</td>\n",
       "    </tr>\n",
       "    <tr>\n",
       "      <th>3198</th>\n",
       "      <td>1498</td>\n",
       "      <td>10</td>\n",
       "      <td>50</td>\n",
       "    </tr>\n",
       "    <tr>\n",
       "      <th>3199</th>\n",
       "      <td>1499</td>\n",
       "      <td>9</td>\n",
       "      <td>5</td>\n",
       "    </tr>\n",
       "    <tr>\n",
       "      <th>3200</th>\n",
       "      <td>1499</td>\n",
       "      <td>10</td>\n",
       "      <td>44</td>\n",
       "    </tr>\n",
       "    <tr>\n",
       "      <th>3201</th>\n",
       "      <td>1499</td>\n",
       "      <td>11</td>\n",
       "      <td>41</td>\n",
       "    </tr>\n",
       "    <tr>\n",
       "      <th>3202</th>\n",
       "      <td>1499</td>\n",
       "      <td>12</td>\n",
       "      <td>40</td>\n",
       "    </tr>\n",
       "  </tbody>\n",
       "</table>\n",
       "<p>3203 rows × 3 columns</p>\n",
       "</div>"
      ],
      "text/plain": [
       "      user_id  month  gb_used\n",
       "0        1000      5        4\n",
       "1        1000      6       49\n",
       "2        1000      7       28\n",
       "3        1000      8       27\n",
       "4        1000      9       26\n",
       "...       ...    ...      ...\n",
       "3198     1498     10       50\n",
       "3199     1499      9        5\n",
       "3200     1499     10       44\n",
       "3201     1499     11       41\n",
       "3202     1499     12       40\n",
       "\n",
       "[3203 rows x 3 columns]"
      ]
     },
     "execution_count": 8,
     "metadata": {},
     "output_type": "execute_result"
    }
   ],
   "source": [
    "# Создадим сводную таблицу нужных значений\n",
    "internet_pivot = internet.pivot_table(index=['user_id', 'month'], values='gb_used', aggfunc='sum').reset_index()\n",
    "internet_pivot"
   ]
  },
  {
   "cell_type": "markdown",
   "id": "45a25e59",
   "metadata": {},
   "source": [
    "Выводы 2.2.2:\n",
    "* С помощью сводной таблицы сократили количество строк пользования Интернетом до 3203"
   ]
  },
  {
   "cell_type": "markdown",
   "id": "3361cb9d",
   "metadata": {},
   "source": [
    "#### 2.2.3. Таблица `messages` (информация о сообщениях):\n",
    "* <em>id</em> — уникальный номер сообщения\n",
    "* <em>message_date</em> — дата сообщения\n",
    "* <em>user_id</em> — идентификатор пользователя, отправившего сообщение"
   ]
  },
  {
   "cell_type": "code",
   "execution_count": 9,
   "id": "6eba812b",
   "metadata": {},
   "outputs": [
    {
     "name": "stdout",
     "output_type": "stream",
     "text": [
      "<class 'pandas.core.frame.DataFrame'>\n",
      "RangeIndex: 123036 entries, 0 to 123035\n",
      "Data columns (total 4 columns):\n",
      " #   Column        Non-Null Count   Dtype         \n",
      "---  ------        --------------   -----         \n",
      " 0   id            123036 non-null  int64         \n",
      " 1   message_date  123036 non-null  datetime64[ns]\n",
      " 2   user_id       123036 non-null  int64         \n",
      " 3   month         123036 non-null  int64         \n",
      "dtypes: datetime64[ns](1), int64(3)\n",
      "memory usage: 3.8 MB\n"
     ]
    },
    {
     "data": {
      "text/html": [
       "<div>\n",
       "<style scoped>\n",
       "    .dataframe tbody tr th:only-of-type {\n",
       "        vertical-align: middle;\n",
       "    }\n",
       "\n",
       "    .dataframe tbody tr th {\n",
       "        vertical-align: top;\n",
       "    }\n",
       "\n",
       "    .dataframe thead th {\n",
       "        text-align: right;\n",
       "    }\n",
       "</style>\n",
       "<table border=\"1\" class=\"dataframe\">\n",
       "  <thead>\n",
       "    <tr style=\"text-align: right;\">\n",
       "      <th></th>\n",
       "      <th>id</th>\n",
       "      <th>message_date</th>\n",
       "      <th>user_id</th>\n",
       "      <th>month</th>\n",
       "    </tr>\n",
       "  </thead>\n",
       "  <tbody>\n",
       "    <tr>\n",
       "      <th>0</th>\n",
       "      <td>10000</td>\n",
       "      <td>2018-06-27</td>\n",
       "      <td>1000</td>\n",
       "      <td>6</td>\n",
       "    </tr>\n",
       "    <tr>\n",
       "      <th>1</th>\n",
       "      <td>10001</td>\n",
       "      <td>2018-10-08</td>\n",
       "      <td>1000</td>\n",
       "      <td>10</td>\n",
       "    </tr>\n",
       "    <tr>\n",
       "      <th>2</th>\n",
       "      <td>10002</td>\n",
       "      <td>2018-08-04</td>\n",
       "      <td>1000</td>\n",
       "      <td>8</td>\n",
       "    </tr>\n",
       "    <tr>\n",
       "      <th>3</th>\n",
       "      <td>10003</td>\n",
       "      <td>2018-06-16</td>\n",
       "      <td>1000</td>\n",
       "      <td>6</td>\n",
       "    </tr>\n",
       "    <tr>\n",
       "      <th>4</th>\n",
       "      <td>10004</td>\n",
       "      <td>2018-12-05</td>\n",
       "      <td>1000</td>\n",
       "      <td>12</td>\n",
       "    </tr>\n",
       "    <tr>\n",
       "      <th>...</th>\n",
       "      <td>...</td>\n",
       "      <td>...</td>\n",
       "      <td>...</td>\n",
       "      <td>...</td>\n",
       "    </tr>\n",
       "    <tr>\n",
       "      <th>123031</th>\n",
       "      <td>1499179</td>\n",
       "      <td>2018-12-12</td>\n",
       "      <td>1499</td>\n",
       "      <td>12</td>\n",
       "    </tr>\n",
       "    <tr>\n",
       "      <th>123032</th>\n",
       "      <td>1499180</td>\n",
       "      <td>2018-09-28</td>\n",
       "      <td>1499</td>\n",
       "      <td>9</td>\n",
       "    </tr>\n",
       "    <tr>\n",
       "      <th>123033</th>\n",
       "      <td>1499181</td>\n",
       "      <td>2018-09-27</td>\n",
       "      <td>1499</td>\n",
       "      <td>9</td>\n",
       "    </tr>\n",
       "    <tr>\n",
       "      <th>123034</th>\n",
       "      <td>1499182</td>\n",
       "      <td>2018-11-15</td>\n",
       "      <td>1499</td>\n",
       "      <td>11</td>\n",
       "    </tr>\n",
       "    <tr>\n",
       "      <th>123035</th>\n",
       "      <td>1499183</td>\n",
       "      <td>2018-11-16</td>\n",
       "      <td>1499</td>\n",
       "      <td>11</td>\n",
       "    </tr>\n",
       "  </tbody>\n",
       "</table>\n",
       "<p>123036 rows × 4 columns</p>\n",
       "</div>"
      ],
      "text/plain": [
       "             id message_date  user_id  month\n",
       "0         10000   2018-06-27     1000      6\n",
       "1         10001   2018-10-08     1000     10\n",
       "2         10002   2018-08-04     1000      8\n",
       "3         10003   2018-06-16     1000      6\n",
       "4         10004   2018-12-05     1000     12\n",
       "...         ...          ...      ...    ...\n",
       "123031  1499179   2018-12-12     1499     12\n",
       "123032  1499180   2018-09-28     1499      9\n",
       "123033  1499181   2018-09-27     1499      9\n",
       "123034  1499182   2018-11-15     1499     11\n",
       "123035  1499183   2018-11-16     1499     11\n",
       "\n",
       "[123036 rows x 4 columns]"
      ]
     },
     "execution_count": 9,
     "metadata": {},
     "output_type": "execute_result"
    }
   ],
   "source": [
    "# Приведем столбцы к нужным типам данных\n",
    "messages['id'] = messages['id'].astype(int)\n",
    "messages['message_date'] = pd.to_datetime(messages['message_date'], format='%Y-%m-%d')\n",
    "\n",
    "# Добавим столбцы с сообщениями за месяц и за год:\n",
    "messages['month'] = messages['message_date'].dt.month\n",
    "messages.info()\n",
    "messages"
   ]
  },
  {
   "cell_type": "code",
   "execution_count": 10,
   "id": "40958f17",
   "metadata": {},
   "outputs": [
    {
     "data": {
      "text/html": [
       "<div>\n",
       "<style scoped>\n",
       "    .dataframe tbody tr th:only-of-type {\n",
       "        vertical-align: middle;\n",
       "    }\n",
       "\n",
       "    .dataframe tbody tr th {\n",
       "        vertical-align: top;\n",
       "    }\n",
       "\n",
       "    .dataframe thead th {\n",
       "        text-align: right;\n",
       "    }\n",
       "</style>\n",
       "<table border=\"1\" class=\"dataframe\">\n",
       "  <thead>\n",
       "    <tr style=\"text-align: right;\">\n",
       "      <th></th>\n",
       "      <th>user_id</th>\n",
       "      <th>month</th>\n",
       "      <th>messages_sum</th>\n",
       "    </tr>\n",
       "  </thead>\n",
       "  <tbody>\n",
       "    <tr>\n",
       "      <th>0</th>\n",
       "      <td>1000</td>\n",
       "      <td>5</td>\n",
       "      <td>22</td>\n",
       "    </tr>\n",
       "    <tr>\n",
       "      <th>1</th>\n",
       "      <td>1000</td>\n",
       "      <td>6</td>\n",
       "      <td>60</td>\n",
       "    </tr>\n",
       "    <tr>\n",
       "      <th>2</th>\n",
       "      <td>1000</td>\n",
       "      <td>7</td>\n",
       "      <td>75</td>\n",
       "    </tr>\n",
       "    <tr>\n",
       "      <th>3</th>\n",
       "      <td>1000</td>\n",
       "      <td>8</td>\n",
       "      <td>81</td>\n",
       "    </tr>\n",
       "    <tr>\n",
       "      <th>4</th>\n",
       "      <td>1000</td>\n",
       "      <td>9</td>\n",
       "      <td>57</td>\n",
       "    </tr>\n",
       "    <tr>\n",
       "      <th>...</th>\n",
       "      <td>...</td>\n",
       "      <td>...</td>\n",
       "      <td>...</td>\n",
       "    </tr>\n",
       "    <tr>\n",
       "      <th>2712</th>\n",
       "      <td>1498</td>\n",
       "      <td>10</td>\n",
       "      <td>42</td>\n",
       "    </tr>\n",
       "    <tr>\n",
       "      <th>2713</th>\n",
       "      <td>1499</td>\n",
       "      <td>9</td>\n",
       "      <td>11</td>\n",
       "    </tr>\n",
       "    <tr>\n",
       "      <th>2714</th>\n",
       "      <td>1499</td>\n",
       "      <td>10</td>\n",
       "      <td>48</td>\n",
       "    </tr>\n",
       "    <tr>\n",
       "      <th>2715</th>\n",
       "      <td>1499</td>\n",
       "      <td>11</td>\n",
       "      <td>59</td>\n",
       "    </tr>\n",
       "    <tr>\n",
       "      <th>2716</th>\n",
       "      <td>1499</td>\n",
       "      <td>12</td>\n",
       "      <td>66</td>\n",
       "    </tr>\n",
       "  </tbody>\n",
       "</table>\n",
       "<p>2717 rows × 3 columns</p>\n",
       "</div>"
      ],
      "text/plain": [
       "      user_id  month  messages_sum\n",
       "0        1000      5            22\n",
       "1        1000      6            60\n",
       "2        1000      7            75\n",
       "3        1000      8            81\n",
       "4        1000      9            57\n",
       "...       ...    ...           ...\n",
       "2712     1498     10            42\n",
       "2713     1499      9            11\n",
       "2714     1499     10            48\n",
       "2715     1499     11            59\n",
       "2716     1499     12            66\n",
       "\n",
       "[2717 rows x 3 columns]"
      ]
     },
     "execution_count": 10,
     "metadata": {},
     "output_type": "execute_result"
    }
   ],
   "source": [
    "messages_pivot = messages.pivot_table(index=['user_id', 'month'], values='message_date', aggfunc='count').reset_index()\n",
    "messages_pivot = messages_pivot.rename(columns={'message_date' : 'messages_sum'})\n",
    "messages_pivot"
   ]
  },
  {
   "cell_type": "markdown",
   "id": "6e962309",
   "metadata": {},
   "source": [
    "#### Вывод 2.2.3\n",
    "* Количество строк в таблице `messages` сократилось до 2717"
   ]
  },
  {
   "cell_type": "markdown",
   "id": "279788f3",
   "metadata": {},
   "source": [
    "<div class=\"alert alert-success\">\n",
    "<b>Комментарий ревьюера ✔️:</b>\n",
    "\n",
    "Здесь все отлично\n",
    "    \n",
    "</div>"
   ]
  },
  {
   "cell_type": "markdown",
   "id": "fbe625e8",
   "metadata": {},
   "source": [
    "#### 2.2.4. Таблица `users` (информация о пользователях):\n",
    "* <em>user_id</em> — уникальный идентификатор пользователя\n",
    "* <em>first_name</em> — имя пользователя\n",
    "* <em>last_name</em> — фамилия пользователя\n",
    "* <em>age</em> — возраст пользователя (годы)\n",
    "* <em>reg_date</em> — дата подключения тарифа (день, месяц, год)\n",
    "* <em>churn_date</em> — дата прекращения пользования тарифом (если значение пропущено, то тариф ещё действовал на момент выгрузки данных)\n",
    "* <em>city</em> — город проживания пользователя\n",
    "* <em>tariff</em> — название тарифного плана"
   ]
  },
  {
   "cell_type": "code",
   "execution_count": 11,
   "id": "ee339b9c",
   "metadata": {
    "scrolled": true
   },
   "outputs": [
    {
     "name": "stdout",
     "output_type": "stream",
     "text": [
      "<class 'pandas.core.frame.DataFrame'>\n",
      "RangeIndex: 500 entries, 0 to 499\n",
      "Data columns (total 9 columns):\n",
      " #   Column      Non-Null Count  Dtype         \n",
      "---  ------      --------------  -----         \n",
      " 0   user_id     500 non-null    int64         \n",
      " 1   age         500 non-null    int64         \n",
      " 2   churn_date  38 non-null     datetime64[ns]\n",
      " 3   city        500 non-null    object        \n",
      " 4   first_name  500 non-null    object        \n",
      " 5   last_name   500 non-null    object        \n",
      " 6   reg_date    500 non-null    datetime64[ns]\n",
      " 7   tariff      500 non-null    object        \n",
      " 8   tariff_id   500 non-null    int64         \n",
      "dtypes: datetime64[ns](2), int64(3), object(4)\n",
      "memory usage: 35.3+ KB\n"
     ]
    },
    {
     "data": {
      "text/html": [
       "<div>\n",
       "<style scoped>\n",
       "    .dataframe tbody tr th:only-of-type {\n",
       "        vertical-align: middle;\n",
       "    }\n",
       "\n",
       "    .dataframe tbody tr th {\n",
       "        vertical-align: top;\n",
       "    }\n",
       "\n",
       "    .dataframe thead th {\n",
       "        text-align: right;\n",
       "    }\n",
       "</style>\n",
       "<table border=\"1\" class=\"dataframe\">\n",
       "  <thead>\n",
       "    <tr style=\"text-align: right;\">\n",
       "      <th></th>\n",
       "      <th>user_id</th>\n",
       "      <th>age</th>\n",
       "      <th>churn_date</th>\n",
       "      <th>city</th>\n",
       "      <th>first_name</th>\n",
       "      <th>last_name</th>\n",
       "      <th>reg_date</th>\n",
       "      <th>tariff</th>\n",
       "      <th>tariff_id</th>\n",
       "    </tr>\n",
       "  </thead>\n",
       "  <tbody>\n",
       "    <tr>\n",
       "      <th>0</th>\n",
       "      <td>1000</td>\n",
       "      <td>52</td>\n",
       "      <td>NaT</td>\n",
       "      <td>Краснодар</td>\n",
       "      <td>Рафаил</td>\n",
       "      <td>Верещагин</td>\n",
       "      <td>2018-05-25</td>\n",
       "      <td>ultra</td>\n",
       "      <td>1</td>\n",
       "    </tr>\n",
       "    <tr>\n",
       "      <th>1</th>\n",
       "      <td>1001</td>\n",
       "      <td>41</td>\n",
       "      <td>NaT</td>\n",
       "      <td>Москва</td>\n",
       "      <td>Иван</td>\n",
       "      <td>Ежов</td>\n",
       "      <td>2018-11-01</td>\n",
       "      <td>smart</td>\n",
       "      <td>0</td>\n",
       "    </tr>\n",
       "    <tr>\n",
       "      <th>2</th>\n",
       "      <td>1002</td>\n",
       "      <td>59</td>\n",
       "      <td>NaT</td>\n",
       "      <td>Стерлитамак</td>\n",
       "      <td>Евгений</td>\n",
       "      <td>Абрамович</td>\n",
       "      <td>2018-06-17</td>\n",
       "      <td>smart</td>\n",
       "      <td>0</td>\n",
       "    </tr>\n",
       "    <tr>\n",
       "      <th>3</th>\n",
       "      <td>1003</td>\n",
       "      <td>23</td>\n",
       "      <td>NaT</td>\n",
       "      <td>Москва</td>\n",
       "      <td>Белла</td>\n",
       "      <td>Белякова</td>\n",
       "      <td>2018-08-17</td>\n",
       "      <td>ultra</td>\n",
       "      <td>1</td>\n",
       "    </tr>\n",
       "    <tr>\n",
       "      <th>4</th>\n",
       "      <td>1004</td>\n",
       "      <td>68</td>\n",
       "      <td>NaT</td>\n",
       "      <td>Новокузнецк</td>\n",
       "      <td>Татьяна</td>\n",
       "      <td>Авдеенко</td>\n",
       "      <td>2018-05-14</td>\n",
       "      <td>ultra</td>\n",
       "      <td>1</td>\n",
       "    </tr>\n",
       "    <tr>\n",
       "      <th>...</th>\n",
       "      <td>...</td>\n",
       "      <td>...</td>\n",
       "      <td>...</td>\n",
       "      <td>...</td>\n",
       "      <td>...</td>\n",
       "      <td>...</td>\n",
       "      <td>...</td>\n",
       "      <td>...</td>\n",
       "      <td>...</td>\n",
       "    </tr>\n",
       "    <tr>\n",
       "      <th>495</th>\n",
       "      <td>1495</td>\n",
       "      <td>65</td>\n",
       "      <td>NaT</td>\n",
       "      <td>Иркутск</td>\n",
       "      <td>Авксентий</td>\n",
       "      <td>Фокин</td>\n",
       "      <td>2018-08-28</td>\n",
       "      <td>ultra</td>\n",
       "      <td>1</td>\n",
       "    </tr>\n",
       "    <tr>\n",
       "      <th>496</th>\n",
       "      <td>1496</td>\n",
       "      <td>36</td>\n",
       "      <td>NaT</td>\n",
       "      <td>Вологда</td>\n",
       "      <td>Трифон</td>\n",
       "      <td>Блохин</td>\n",
       "      <td>2018-01-27</td>\n",
       "      <td>smart</td>\n",
       "      <td>0</td>\n",
       "    </tr>\n",
       "    <tr>\n",
       "      <th>497</th>\n",
       "      <td>1497</td>\n",
       "      <td>32</td>\n",
       "      <td>NaT</td>\n",
       "      <td>Челябинск</td>\n",
       "      <td>Каролина</td>\n",
       "      <td>Агеева</td>\n",
       "      <td>2018-10-09</td>\n",
       "      <td>smart</td>\n",
       "      <td>0</td>\n",
       "    </tr>\n",
       "    <tr>\n",
       "      <th>498</th>\n",
       "      <td>1498</td>\n",
       "      <td>68</td>\n",
       "      <td>2018-10-25</td>\n",
       "      <td>Владикавказ</td>\n",
       "      <td>Всеволод</td>\n",
       "      <td>Акимчин</td>\n",
       "      <td>2018-07-19</td>\n",
       "      <td>smart</td>\n",
       "      <td>0</td>\n",
       "    </tr>\n",
       "    <tr>\n",
       "      <th>499</th>\n",
       "      <td>1499</td>\n",
       "      <td>35</td>\n",
       "      <td>NaT</td>\n",
       "      <td>Пермь</td>\n",
       "      <td>Гектор</td>\n",
       "      <td>Корнилов</td>\n",
       "      <td>2018-09-27</td>\n",
       "      <td>smart</td>\n",
       "      <td>0</td>\n",
       "    </tr>\n",
       "  </tbody>\n",
       "</table>\n",
       "<p>500 rows × 9 columns</p>\n",
       "</div>"
      ],
      "text/plain": [
       "     user_id  age churn_date         city first_name  last_name   reg_date  \\\n",
       "0       1000   52        NaT    Краснодар     Рафаил  Верещагин 2018-05-25   \n",
       "1       1001   41        NaT       Москва       Иван       Ежов 2018-11-01   \n",
       "2       1002   59        NaT  Стерлитамак    Евгений  Абрамович 2018-06-17   \n",
       "3       1003   23        NaT       Москва      Белла   Белякова 2018-08-17   \n",
       "4       1004   68        NaT  Новокузнецк    Татьяна   Авдеенко 2018-05-14   \n",
       "..       ...  ...        ...          ...        ...        ...        ...   \n",
       "495     1495   65        NaT      Иркутск  Авксентий      Фокин 2018-08-28   \n",
       "496     1496   36        NaT      Вологда     Трифон     Блохин 2018-01-27   \n",
       "497     1497   32        NaT    Челябинск   Каролина     Агеева 2018-10-09   \n",
       "498     1498   68 2018-10-25  Владикавказ   Всеволод    Акимчин 2018-07-19   \n",
       "499     1499   35        NaT        Пермь     Гектор   Корнилов 2018-09-27   \n",
       "\n",
       "    tariff  tariff_id  \n",
       "0    ultra          1  \n",
       "1    smart          0  \n",
       "2    smart          0  \n",
       "3    ultra          1  \n",
       "4    ultra          1  \n",
       "..     ...        ...  \n",
       "495  ultra          1  \n",
       "496  smart          0  \n",
       "497  smart          0  \n",
       "498  smart          0  \n",
       "499  smart          0  \n",
       "\n",
       "[500 rows x 9 columns]"
      ]
     },
     "execution_count": 11,
     "metadata": {},
     "output_type": "execute_result"
    }
   ],
   "source": [
    "# Приведем столбцы к нужным типам данных\n",
    "users['churn_date'] = pd.to_datetime(users['churn_date'], format='%Y-%m-%d')\n",
    "users['reg_date'] = pd.to_datetime(users['reg_date'], format='%Y-%m-%d')\n",
    "\n",
    "# Cоздадим таблицу tariff_id с категориями тарифов\n",
    "def tariff_id(object):\n",
    "    if object == 'smart':\n",
    "        return 0 # False\n",
    "    else:\n",
    "        return 1 # True\n",
    "users['tariff_id'] = users['tariff'].apply(tariff_id)\n",
    "users.info()\n",
    "users"
   ]
  },
  {
   "cell_type": "markdown",
   "id": "204804dd",
   "metadata": {},
   "source": [
    "Оставим только нужные столбцы в таблице users и проверим наличие дубликатов"
   ]
  },
  {
   "cell_type": "code",
   "execution_count": 12,
   "id": "f9815c25",
   "metadata": {},
   "outputs": [
    {
     "data": {
      "text/html": [
       "<div>\n",
       "<style scoped>\n",
       "    .dataframe tbody tr th:only-of-type {\n",
       "        vertical-align: middle;\n",
       "    }\n",
       "\n",
       "    .dataframe tbody tr th {\n",
       "        vertical-align: top;\n",
       "    }\n",
       "\n",
       "    .dataframe thead th {\n",
       "        text-align: right;\n",
       "    }\n",
       "</style>\n",
       "<table border=\"1\" class=\"dataframe\">\n",
       "  <thead>\n",
       "    <tr style=\"text-align: right;\">\n",
       "      <th></th>\n",
       "      <th>user_id</th>\n",
       "      <th>tariff</th>\n",
       "      <th>city</th>\n",
       "    </tr>\n",
       "  </thead>\n",
       "  <tbody>\n",
       "    <tr>\n",
       "      <th>0</th>\n",
       "      <td>1000</td>\n",
       "      <td>ultra</td>\n",
       "      <td>Краснодар</td>\n",
       "    </tr>\n",
       "    <tr>\n",
       "      <th>1</th>\n",
       "      <td>1001</td>\n",
       "      <td>smart</td>\n",
       "      <td>Москва</td>\n",
       "    </tr>\n",
       "    <tr>\n",
       "      <th>2</th>\n",
       "      <td>1002</td>\n",
       "      <td>smart</td>\n",
       "      <td>Стерлитамак</td>\n",
       "    </tr>\n",
       "    <tr>\n",
       "      <th>3</th>\n",
       "      <td>1003</td>\n",
       "      <td>ultra</td>\n",
       "      <td>Москва</td>\n",
       "    </tr>\n",
       "    <tr>\n",
       "      <th>4</th>\n",
       "      <td>1004</td>\n",
       "      <td>ultra</td>\n",
       "      <td>Новокузнецк</td>\n",
       "    </tr>\n",
       "    <tr>\n",
       "      <th>...</th>\n",
       "      <td>...</td>\n",
       "      <td>...</td>\n",
       "      <td>...</td>\n",
       "    </tr>\n",
       "    <tr>\n",
       "      <th>495</th>\n",
       "      <td>1495</td>\n",
       "      <td>ultra</td>\n",
       "      <td>Иркутск</td>\n",
       "    </tr>\n",
       "    <tr>\n",
       "      <th>496</th>\n",
       "      <td>1496</td>\n",
       "      <td>smart</td>\n",
       "      <td>Вологда</td>\n",
       "    </tr>\n",
       "    <tr>\n",
       "      <th>497</th>\n",
       "      <td>1497</td>\n",
       "      <td>smart</td>\n",
       "      <td>Челябинск</td>\n",
       "    </tr>\n",
       "    <tr>\n",
       "      <th>498</th>\n",
       "      <td>1498</td>\n",
       "      <td>smart</td>\n",
       "      <td>Владикавказ</td>\n",
       "    </tr>\n",
       "    <tr>\n",
       "      <th>499</th>\n",
       "      <td>1499</td>\n",
       "      <td>smart</td>\n",
       "      <td>Пермь</td>\n",
       "    </tr>\n",
       "  </tbody>\n",
       "</table>\n",
       "<p>500 rows × 3 columns</p>\n",
       "</div>"
      ],
      "text/plain": [
       "     user_id tariff         city\n",
       "0       1000  ultra    Краснодар\n",
       "1       1001  smart       Москва\n",
       "2       1002  smart  Стерлитамак\n",
       "3       1003  ultra       Москва\n",
       "4       1004  ultra  Новокузнецк\n",
       "..       ...    ...          ...\n",
       "495     1495  ultra      Иркутск\n",
       "496     1496  smart      Вологда\n",
       "497     1497  smart    Челябинск\n",
       "498     1498  smart  Владикавказ\n",
       "499     1499  smart        Пермь\n",
       "\n",
       "[500 rows x 3 columns]"
      ]
     },
     "execution_count": 12,
     "metadata": {},
     "output_type": "execute_result"
    }
   ],
   "source": [
    "users = users[['user_id', 'tariff', 'city']]\n",
    "users = users.drop_duplicates()\n",
    "users"
   ]
  },
  {
   "cell_type": "code",
   "execution_count": 13,
   "id": "2d9b225b",
   "metadata": {},
   "outputs": [
    {
     "data": {
      "text/plain": [
       "1950"
      ]
     },
     "execution_count": 13,
     "metadata": {},
     "output_type": "execute_result"
    }
   ],
   "source": [
    "tariffs.iloc[1]['rub_monthly_fee']"
   ]
  },
  {
   "cell_type": "markdown",
   "id": "567e375f",
   "metadata": {},
   "source": [
    "#### 2.2.5. Таблица `tariffs` (информация о тарифах):"
   ]
  },
  {
   "cell_type": "code",
   "execution_count": 14,
   "id": "0e0ca63b",
   "metadata": {
    "scrolled": true
   },
   "outputs": [
    {
     "name": "stdout",
     "output_type": "stream",
     "text": [
      "<class 'pandas.core.frame.DataFrame'>\n",
      "RangeIndex: 2 entries, 0 to 1\n",
      "Data columns (total 10 columns):\n",
      " #   Column                 Non-Null Count  Dtype \n",
      "---  ------                 --------------  ----- \n",
      " 0   messages_included      2 non-null      int64 \n",
      " 1   mb_per_month_included  2 non-null      int64 \n",
      " 2   minutes_included       2 non-null      int64 \n",
      " 3   rub_monthly_fee        2 non-null      int64 \n",
      " 4   rub_per_gb             2 non-null      int64 \n",
      " 5   rub_per_message        2 non-null      int64 \n",
      " 6   rub_per_minute         2 non-null      int64 \n",
      " 7   tariff_name            2 non-null      object\n",
      " 8   tariff_id              2 non-null      int64 \n",
      " 9   gb_included            2 non-null      int64 \n",
      "dtypes: int64(9), object(1)\n",
      "memory usage: 288.0+ bytes\n"
     ]
    },
    {
     "data": {
      "text/html": [
       "<div>\n",
       "<style scoped>\n",
       "    .dataframe tbody tr th:only-of-type {\n",
       "        vertical-align: middle;\n",
       "    }\n",
       "\n",
       "    .dataframe tbody tr th {\n",
       "        vertical-align: top;\n",
       "    }\n",
       "\n",
       "    .dataframe thead th {\n",
       "        text-align: right;\n",
       "    }\n",
       "</style>\n",
       "<table border=\"1\" class=\"dataframe\">\n",
       "  <thead>\n",
       "    <tr style=\"text-align: right;\">\n",
       "      <th></th>\n",
       "      <th>tariff_id</th>\n",
       "      <th>tariff_name</th>\n",
       "      <th>gb_included</th>\n",
       "      <th>minutes_included</th>\n",
       "      <th>messages_included</th>\n",
       "      <th>rub_per_message</th>\n",
       "      <th>rub_per_minute</th>\n",
       "      <th>rub_per_gb</th>\n",
       "    </tr>\n",
       "  </thead>\n",
       "  <tbody>\n",
       "    <tr>\n",
       "      <th>0</th>\n",
       "      <td>0</td>\n",
       "      <td>smart</td>\n",
       "      <td>15</td>\n",
       "      <td>500</td>\n",
       "      <td>50</td>\n",
       "      <td>3</td>\n",
       "      <td>3</td>\n",
       "      <td>200</td>\n",
       "    </tr>\n",
       "    <tr>\n",
       "      <th>1</th>\n",
       "      <td>1</td>\n",
       "      <td>ultra</td>\n",
       "      <td>30</td>\n",
       "      <td>3000</td>\n",
       "      <td>1000</td>\n",
       "      <td>1</td>\n",
       "      <td>1</td>\n",
       "      <td>150</td>\n",
       "    </tr>\n",
       "  </tbody>\n",
       "</table>\n",
       "</div>"
      ],
      "text/plain": [
       "   tariff_id tariff_name  gb_included  minutes_included  messages_included  \\\n",
       "0          0       smart           15               500                 50   \n",
       "1          1       ultra           30              3000               1000   \n",
       "\n",
       "   rub_per_message  rub_per_minute  rub_per_gb  \n",
       "0                3               3         200  \n",
       "1                1               1         150  "
      ]
     },
     "execution_count": 14,
     "metadata": {},
     "output_type": "execute_result"
    }
   ],
   "source": [
    "tariffs['tariff_id'] = tariffs['tariff_name'].apply(tariff_id)\n",
    "\n",
    "# Добавим столбец, в котором лимит трафика будет в ГБ\n",
    "tariffs['gb_included'] = (tariffs['mb_per_month_included']/1024).astype(int)\n",
    "#tariffs = tariffs.rename(columns={'rub_monthly_fee' : 'price_month'})\n",
    "\n",
    "tariffs.info()\n",
    "\n",
    "tariffs.drop(['mb_per_month_included'], axis=1, inplace=True)\n",
    "tariffs = tariffs[['tariff_id', 'tariff_name',\n",
    "                          'gb_included', 'minutes_included', 'messages_included',\n",
    "                          'rub_per_message', 'rub_per_minute', 'rub_per_gb']]\n",
    "\n",
    "tariffs"
   ]
  },
  {
   "cell_type": "markdown",
   "id": "1fdd90f2",
   "metadata": {},
   "source": [
    "<b>Выводы 2.2.5:</b>\n",
    "* Создал столбец `gb_included` с лимитом в ГБ на каждом из тарифов\n",
    "* Отсортировал в таблице `tariffs` столбцы более комфортным образом.\n"
   ]
  },
  {
   "cell_type": "markdown",
   "id": "6cb3ee47",
   "metadata": {},
   "source": [
    "<div class=\"alert alert-success\">\n",
    "<b>Комментарий ревьюера ✔️:</b>\n",
    "\n",
    "Предобработка данных сделана :)\n",
    "    \n",
    "</div>"
   ]
  },
  {
   "cell_type": "markdown",
   "id": "a56ef3f7",
   "metadata": {},
   "source": [
    "### <i>Вывод шаг 2.2</i>\n",
    "* Привели данные к нужным типам.\n",
    "* Создали сводные таблицы, в которых посчитали количество потраченных минут, смс и трафика по месяцам"
   ]
  },
  {
   "cell_type": "markdown",
   "id": "aec4005d",
   "metadata": {},
   "source": [
    "### 2.2. продолжение Создание сводных таблиц и объединение"
   ]
  },
  {
   "cell_type": "code",
   "execution_count": 15,
   "id": "dbcc4f73",
   "metadata": {},
   "outputs": [
    {
     "name": "stdout",
     "output_type": "stream",
     "text": [
      "<class 'pandas.core.frame.DataFrame'>\n",
      "Int64Index: 3216 entries, 0 to 3215\n",
      "Data columns (total 7 columns):\n",
      " #   Column          Non-Null Count  Dtype  \n",
      "---  ------          --------------  -----  \n",
      " 0   user_id         3216 non-null   int64  \n",
      " 1   month           3214 non-null   float64\n",
      " 2   calls_duration  3174 non-null   float64\n",
      " 3   gb_used         3203 non-null   float64\n",
      " 4   messages_sum    2717 non-null   float64\n",
      " 5   tariff          3216 non-null   object \n",
      " 6   city            3216 non-null   object \n",
      "dtypes: float64(4), int64(1), object(2)\n",
      "memory usage: 201.0+ KB\n"
     ]
    },
    {
     "data": {
      "text/html": [
       "<div>\n",
       "<style scoped>\n",
       "    .dataframe tbody tr th:only-of-type {\n",
       "        vertical-align: middle;\n",
       "    }\n",
       "\n",
       "    .dataframe tbody tr th {\n",
       "        vertical-align: top;\n",
       "    }\n",
       "\n",
       "    .dataframe thead th {\n",
       "        text-align: right;\n",
       "    }\n",
       "</style>\n",
       "<table border=\"1\" class=\"dataframe\">\n",
       "  <thead>\n",
       "    <tr style=\"text-align: right;\">\n",
       "      <th></th>\n",
       "      <th>user_id</th>\n",
       "      <th>month</th>\n",
       "      <th>calls_duration</th>\n",
       "      <th>gb_used</th>\n",
       "      <th>messages_sum</th>\n",
       "      <th>tariff</th>\n",
       "      <th>city</th>\n",
       "    </tr>\n",
       "  </thead>\n",
       "  <tbody>\n",
       "    <tr>\n",
       "      <th>0</th>\n",
       "      <td>1000</td>\n",
       "      <td>5.0</td>\n",
       "      <td>159.0</td>\n",
       "      <td>4.0</td>\n",
       "      <td>22.0</td>\n",
       "      <td>ultra</td>\n",
       "      <td>Краснодар</td>\n",
       "    </tr>\n",
       "    <tr>\n",
       "      <th>1</th>\n",
       "      <td>1000</td>\n",
       "      <td>6.0</td>\n",
       "      <td>172.0</td>\n",
       "      <td>49.0</td>\n",
       "      <td>60.0</td>\n",
       "      <td>ultra</td>\n",
       "      <td>Краснодар</td>\n",
       "    </tr>\n",
       "    <tr>\n",
       "      <th>2</th>\n",
       "      <td>1000</td>\n",
       "      <td>7.0</td>\n",
       "      <td>340.0</td>\n",
       "      <td>28.0</td>\n",
       "      <td>75.0</td>\n",
       "      <td>ultra</td>\n",
       "      <td>Краснодар</td>\n",
       "    </tr>\n",
       "    <tr>\n",
       "      <th>3</th>\n",
       "      <td>1000</td>\n",
       "      <td>8.0</td>\n",
       "      <td>408.0</td>\n",
       "      <td>27.0</td>\n",
       "      <td>81.0</td>\n",
       "      <td>ultra</td>\n",
       "      <td>Краснодар</td>\n",
       "    </tr>\n",
       "    <tr>\n",
       "      <th>4</th>\n",
       "      <td>1000</td>\n",
       "      <td>9.0</td>\n",
       "      <td>466.0</td>\n",
       "      <td>26.0</td>\n",
       "      <td>57.0</td>\n",
       "      <td>ultra</td>\n",
       "      <td>Краснодар</td>\n",
       "    </tr>\n",
       "    <tr>\n",
       "      <th>...</th>\n",
       "      <td>...</td>\n",
       "      <td>...</td>\n",
       "      <td>...</td>\n",
       "      <td>...</td>\n",
       "      <td>...</td>\n",
       "      <td>...</td>\n",
       "      <td>...</td>\n",
       "    </tr>\n",
       "    <tr>\n",
       "      <th>3211</th>\n",
       "      <td>1489</td>\n",
       "      <td>10.0</td>\n",
       "      <td>NaN</td>\n",
       "      <td>52.0</td>\n",
       "      <td>21.0</td>\n",
       "      <td>smart</td>\n",
       "      <td>Санкт-Петербург</td>\n",
       "    </tr>\n",
       "    <tr>\n",
       "      <th>3212</th>\n",
       "      <td>1489</td>\n",
       "      <td>11.0</td>\n",
       "      <td>NaN</td>\n",
       "      <td>46.0</td>\n",
       "      <td>20.0</td>\n",
       "      <td>smart</td>\n",
       "      <td>Санкт-Петербург</td>\n",
       "    </tr>\n",
       "    <tr>\n",
       "      <th>3213</th>\n",
       "      <td>1489</td>\n",
       "      <td>12.0</td>\n",
       "      <td>NaN</td>\n",
       "      <td>45.0</td>\n",
       "      <td>35.0</td>\n",
       "      <td>smart</td>\n",
       "      <td>Санкт-Петербург</td>\n",
       "    </tr>\n",
       "    <tr>\n",
       "      <th>3214</th>\n",
       "      <td>1128</td>\n",
       "      <td>NaN</td>\n",
       "      <td>NaN</td>\n",
       "      <td>NaN</td>\n",
       "      <td>NaN</td>\n",
       "      <td>ultra</td>\n",
       "      <td>Волжский</td>\n",
       "    </tr>\n",
       "    <tr>\n",
       "      <th>3215</th>\n",
       "      <td>1371</td>\n",
       "      <td>NaN</td>\n",
       "      <td>NaN</td>\n",
       "      <td>NaN</td>\n",
       "      <td>NaN</td>\n",
       "      <td>smart</td>\n",
       "      <td>Омск</td>\n",
       "    </tr>\n",
       "  </tbody>\n",
       "</table>\n",
       "<p>3216 rows × 7 columns</p>\n",
       "</div>"
      ],
      "text/plain": [
       "      user_id  month  calls_duration  gb_used  messages_sum tariff  \\\n",
       "0        1000    5.0           159.0      4.0          22.0  ultra   \n",
       "1        1000    6.0           172.0     49.0          60.0  ultra   \n",
       "2        1000    7.0           340.0     28.0          75.0  ultra   \n",
       "3        1000    8.0           408.0     27.0          81.0  ultra   \n",
       "4        1000    9.0           466.0     26.0          57.0  ultra   \n",
       "...       ...    ...             ...      ...           ...    ...   \n",
       "3211     1489   10.0             NaN     52.0          21.0  smart   \n",
       "3212     1489   11.0             NaN     46.0          20.0  smart   \n",
       "3213     1489   12.0             NaN     45.0          35.0  smart   \n",
       "3214     1128    NaN             NaN      NaN           NaN  ultra   \n",
       "3215     1371    NaN             NaN      NaN           NaN  smart   \n",
       "\n",
       "                 city  \n",
       "0           Краснодар  \n",
       "1           Краснодар  \n",
       "2           Краснодар  \n",
       "3           Краснодар  \n",
       "4           Краснодар  \n",
       "...               ...  \n",
       "3211  Санкт-Петербург  \n",
       "3212  Санкт-Петербург  \n",
       "3213  Санкт-Петербург  \n",
       "3214         Волжский  \n",
       "3215             Омск  \n",
       "\n",
       "[3216 rows x 7 columns]"
      ]
     },
     "execution_count": 15,
     "metadata": {},
     "output_type": "execute_result"
    }
   ],
   "source": [
    "# Объединим таблицы расходов пакетов\n",
    "data = calls_pivot.merge(internet_pivot, on=['user_id', 'month'], how='outer')\n",
    "data = data.merge(messages_pivot, on=['user_id', 'month'], how='outer')\n",
    "# Объединим с таблицей пользователей их траты\n",
    "data = data.merge(users, on=['user_id'], how='outer')\n",
    "data.info()\n",
    "data"
   ]
  },
  {
   "cell_type": "markdown",
   "id": "5937706b",
   "metadata": {},
   "source": [
    "<div class=\"alert alert-success\">\n",
    "<b>Комментарий ревьюера ✔️:</b>\n",
    "\n",
    "Объединено правильно :)\n",
    "    \n",
    "Совет. Хорошая идея изначально сделать датафрейм пользователь - месяц, в котором для каждого пользователя есть каждый месяц, в котором он был клиентом(то есть все месяца от reg_date включительно до churn_date включительно). А потом присоединять таблицы уже к этому датафрейму по пользователю и месяцу.  \n",
    "\n",
    "Такой вариант предпочтительнее в будущем, потому что даты могут выпадать. Часто с таким сталкиваюсь. Например, человек может совершать покупки не каждый месяц, и если не сделать изначально датафрейм месяц-дата, то у нас не будет записей по человеку за некоторые месяцы в результируюзем датафрейме, и может получиться немного не то распределение :) \n",
    "    \n",
    "</div>"
   ]
  },
  {
   "cell_type": "markdown",
   "id": "a013837c",
   "metadata": {},
   "source": [
    "Для оптимизации проведем предобратоку данных общей таблицы"
   ]
  },
  {
   "cell_type": "code",
   "execution_count": 16,
   "id": "9f698dd7",
   "metadata": {},
   "outputs": [
    {
     "name": "stdout",
     "output_type": "stream",
     "text": [
      "<class 'pandas.core.frame.DataFrame'>\n",
      "Int64Index: 3216 entries, 0 to 3215\n",
      "Data columns (total 7 columns):\n",
      " #   Column          Non-Null Count  Dtype \n",
      "---  ------          --------------  ----- \n",
      " 0   user_id         3216 non-null   int64 \n",
      " 1   month           3216 non-null   int64 \n",
      " 2   calls_duration  3216 non-null   int64 \n",
      " 3   gb_used         3216 non-null   int64 \n",
      " 4   messages_sum    3216 non-null   int64 \n",
      " 5   tariff          3216 non-null   object\n",
      " 6   city            3216 non-null   object\n",
      "dtypes: int64(5), object(2)\n",
      "memory usage: 201.0+ KB\n"
     ]
    }
   ],
   "source": [
    "data['month'] = data['month'].fillna(0).astype(int)\n",
    "data['calls_duration'] = data['calls_duration'].fillna(0).astype(int)\n",
    "data['gb_used'] = data['gb_used'].fillna(0).astype(int)\n",
    "data['messages_sum'] = data['messages_sum'].fillna(0).astype(int)\n",
    "data['user_id'] = data['user_id'].astype(int)\n",
    "data.info()"
   ]
  },
  {
   "cell_type": "markdown",
   "id": "ade80335",
   "metadata": {},
   "source": [
    "<div class=\"alert alert-success\">\n",
    "<b>Комментарий ревьюера ✔️:</b>\n",
    "\n",
    "И это важный шаг :) Возможно стоит посмотреть на пользователей с нулем в месяце и удалить их, если нужно\n",
    "    \n",
    "</div>"
   ]
  },
  {
   "cell_type": "markdown",
   "id": "fcf02751",
   "metadata": {},
   "source": [
    "### <i>Выводы продолжения  шага 2.2:</i>\n",
    "* В созданной сводной таблице привели значения столбцов в типу int\n",
    "* Заменили пропуски нулями\n"
   ]
  },
  {
   "cell_type": "markdown",
   "id": "dff23483",
   "metadata": {},
   "source": [
    "### 2.3. Помесячная выручка с каждого пользователя"
   ]
  },
  {
   "cell_type": "code",
   "execution_count": 17,
   "id": "0cce19cc",
   "metadata": {},
   "outputs": [
    {
     "name": "stdout",
     "output_type": "stream",
     "text": [
      "<class 'pandas.core.frame.DataFrame'>\n",
      "Int64Index: 3216 entries, 0 to 3215\n",
      "Data columns (total 8 columns):\n",
      " #   Column            Non-Null Count  Dtype \n",
      "---  ------            --------------  ----- \n",
      " 0   user_id           3216 non-null   int64 \n",
      " 1   month             3216 non-null   int64 \n",
      " 2   calls_duration    3216 non-null   int64 \n",
      " 3   gb_used           3216 non-null   int64 \n",
      " 4   messages_sum      3216 non-null   int64 \n",
      " 5   tariff            3216 non-null   object\n",
      " 6   city              3216 non-null   object\n",
      " 7   spent_this_month  3216 non-null   int64 \n",
      "dtypes: int64(6), object(2)\n",
      "memory usage: 226.1+ KB\n"
     ]
    },
    {
     "data": {
      "text/html": [
       "<div>\n",
       "<style scoped>\n",
       "    .dataframe tbody tr th:only-of-type {\n",
       "        vertical-align: middle;\n",
       "    }\n",
       "\n",
       "    .dataframe tbody tr th {\n",
       "        vertical-align: top;\n",
       "    }\n",
       "\n",
       "    .dataframe thead th {\n",
       "        text-align: right;\n",
       "    }\n",
       "</style>\n",
       "<table border=\"1\" class=\"dataframe\">\n",
       "  <thead>\n",
       "    <tr style=\"text-align: right;\">\n",
       "      <th></th>\n",
       "      <th>user_id</th>\n",
       "      <th>month</th>\n",
       "      <th>calls_duration</th>\n",
       "      <th>gb_used</th>\n",
       "      <th>messages_sum</th>\n",
       "      <th>tariff</th>\n",
       "      <th>city</th>\n",
       "      <th>spent_this_month</th>\n",
       "    </tr>\n",
       "  </thead>\n",
       "  <tbody>\n",
       "    <tr>\n",
       "      <th>0</th>\n",
       "      <td>1000</td>\n",
       "      <td>5</td>\n",
       "      <td>159</td>\n",
       "      <td>4</td>\n",
       "      <td>22</td>\n",
       "      <td>ultra</td>\n",
       "      <td>Краснодар</td>\n",
       "      <td>1950</td>\n",
       "    </tr>\n",
       "    <tr>\n",
       "      <th>1</th>\n",
       "      <td>1000</td>\n",
       "      <td>6</td>\n",
       "      <td>172</td>\n",
       "      <td>49</td>\n",
       "      <td>60</td>\n",
       "      <td>ultra</td>\n",
       "      <td>Краснодар</td>\n",
       "      <td>4800</td>\n",
       "    </tr>\n",
       "    <tr>\n",
       "      <th>2</th>\n",
       "      <td>1000</td>\n",
       "      <td>7</td>\n",
       "      <td>340</td>\n",
       "      <td>28</td>\n",
       "      <td>75</td>\n",
       "      <td>ultra</td>\n",
       "      <td>Краснодар</td>\n",
       "      <td>1950</td>\n",
       "    </tr>\n",
       "    <tr>\n",
       "      <th>3</th>\n",
       "      <td>1000</td>\n",
       "      <td>8</td>\n",
       "      <td>408</td>\n",
       "      <td>27</td>\n",
       "      <td>81</td>\n",
       "      <td>ultra</td>\n",
       "      <td>Краснодар</td>\n",
       "      <td>1950</td>\n",
       "    </tr>\n",
       "    <tr>\n",
       "      <th>4</th>\n",
       "      <td>1000</td>\n",
       "      <td>9</td>\n",
       "      <td>466</td>\n",
       "      <td>26</td>\n",
       "      <td>57</td>\n",
       "      <td>ultra</td>\n",
       "      <td>Краснодар</td>\n",
       "      <td>1950</td>\n",
       "    </tr>\n",
       "    <tr>\n",
       "      <th>...</th>\n",
       "      <td>...</td>\n",
       "      <td>...</td>\n",
       "      <td>...</td>\n",
       "      <td>...</td>\n",
       "      <td>...</td>\n",
       "      <td>...</td>\n",
       "      <td>...</td>\n",
       "      <td>...</td>\n",
       "    </tr>\n",
       "    <tr>\n",
       "      <th>3211</th>\n",
       "      <td>1489</td>\n",
       "      <td>10</td>\n",
       "      <td>0</td>\n",
       "      <td>52</td>\n",
       "      <td>21</td>\n",
       "      <td>smart</td>\n",
       "      <td>Санкт-Петербург</td>\n",
       "      <td>7950</td>\n",
       "    </tr>\n",
       "    <tr>\n",
       "      <th>3212</th>\n",
       "      <td>1489</td>\n",
       "      <td>11</td>\n",
       "      <td>0</td>\n",
       "      <td>46</td>\n",
       "      <td>20</td>\n",
       "      <td>smart</td>\n",
       "      <td>Санкт-Петербург</td>\n",
       "      <td>6750</td>\n",
       "    </tr>\n",
       "    <tr>\n",
       "      <th>3213</th>\n",
       "      <td>1489</td>\n",
       "      <td>12</td>\n",
       "      <td>0</td>\n",
       "      <td>45</td>\n",
       "      <td>35</td>\n",
       "      <td>smart</td>\n",
       "      <td>Санкт-Петербург</td>\n",
       "      <td>6550</td>\n",
       "    </tr>\n",
       "    <tr>\n",
       "      <th>3214</th>\n",
       "      <td>1128</td>\n",
       "      <td>0</td>\n",
       "      <td>0</td>\n",
       "      <td>0</td>\n",
       "      <td>0</td>\n",
       "      <td>ultra</td>\n",
       "      <td>Волжский</td>\n",
       "      <td>1950</td>\n",
       "    </tr>\n",
       "    <tr>\n",
       "      <th>3215</th>\n",
       "      <td>1371</td>\n",
       "      <td>0</td>\n",
       "      <td>0</td>\n",
       "      <td>0</td>\n",
       "      <td>0</td>\n",
       "      <td>smart</td>\n",
       "      <td>Омск</td>\n",
       "      <td>550</td>\n",
       "    </tr>\n",
       "  </tbody>\n",
       "</table>\n",
       "<p>3216 rows × 8 columns</p>\n",
       "</div>"
      ],
      "text/plain": [
       "      user_id  month  calls_duration  gb_used  messages_sum tariff  \\\n",
       "0        1000      5             159        4            22  ultra   \n",
       "1        1000      6             172       49            60  ultra   \n",
       "2        1000      7             340       28            75  ultra   \n",
       "3        1000      8             408       27            81  ultra   \n",
       "4        1000      9             466       26            57  ultra   \n",
       "...       ...    ...             ...      ...           ...    ...   \n",
       "3211     1489     10               0       52            21  smart   \n",
       "3212     1489     11               0       46            20  smart   \n",
       "3213     1489     12               0       45            35  smart   \n",
       "3214     1128      0               0        0             0  ultra   \n",
       "3215     1371      0               0        0             0  smart   \n",
       "\n",
       "                 city  spent_this_month  \n",
       "0           Краснодар              1950  \n",
       "1           Краснодар              4800  \n",
       "2           Краснодар              1950  \n",
       "3           Краснодар              1950  \n",
       "4           Краснодар              1950  \n",
       "...               ...               ...  \n",
       "3211  Санкт-Петербург              7950  \n",
       "3212  Санкт-Петербург              6750  \n",
       "3213  Санкт-Петербург              6550  \n",
       "3214         Волжский              1950  \n",
       "3215             Омск               550  \n",
       "\n",
       "[3216 rows x 8 columns]"
      ]
     },
     "execution_count": 17,
     "metadata": {},
     "output_type": "execute_result"
    }
   ],
   "source": [
    "# Изменение цифр на значения при обращении к ячейкам таблицы\n",
    "def price(df):\n",
    "    calls_duration = df['calls_duration']\n",
    "    messages_sum = df['messages_sum']\n",
    "    gb_used = df['gb_used']\n",
    "    tariff = df['tariff']\n",
    "# Рассчет выручки тарифа \"Смарт\"    \n",
    "    if tariff == 'smart':\n",
    "        if calls_duration > tariffs.iloc[0]['minutes_included']: #стоимость минут потраченных сверх тарифа\n",
    "            #calls_above_limit_price = (calls_duration-500)*3 #стоимость минут потраченных сверх тарифа\n",
    "            calls_above_limit_price = (calls_duration-tariffs.iloc[0]['minutes_included']) * tariffs.iloc[0]['rub_per_minute'] \n",
    "        else:\n",
    "            calls_above_limit_price = 0\n",
    "        if messages_sum > tariffs.iloc[0]['messages_included']: #стоимость сообщений потраченных сверх тарифа\n",
    "            #messages_above_limit_price = (messages_sum-50)*3 #стоимость сообщений потраченных сверх тарифа\n",
    "            messages_above_limit_price = (messages_sum-tariffs.iloc[0]['messages_included']) * tariffs.iloc[0]['rub_per_message']\n",
    "        else:\n",
    "            messages_above_limit_price = 0\n",
    "        if gb_used > tariffs.iloc[0]['gb_included']: #стоимость гб потраченных сверх тарифа\n",
    "            #gb_above_limit_price = (gb_used-15)*200 #стоимость гб потраченных сверх тарифа\n",
    "            gb_above_limit_price = (gb_used-tariffs.iloc[0]['gb_included']) * tariffs.iloc[0]['rub_per_gb'] \n",
    "        else:\n",
    "            gb_above_limit_price = 0\n",
    "            \n",
    "        #return calls_above_limit_price + messages_above_limit_price + gb_above_limit_price + 550 #общие траты за месяц \"Smart\"\n",
    "        return calls_above_limit_price + messages_above_limit_price + gb_above_limit_price + smart_price #общие траты за месяц \"Smart\"\n",
    "\n",
    "# Hccxtn выручки для тарифа Ультра\n",
    "    elif tariff == 'ultra':\n",
    "        if calls_duration > tariffs.iloc[1]['minutes_included']:\n",
    "            #calls_above_limit_price = calls_duration-3000 #стоимость минут потраченных сверх тарифа\n",
    "            calls_above_limit_price = calls_duration - tariffs.iloc[1]['minutes_included'] #стоимость минут потраченных сверх тарифа\n",
    "        else:\n",
    "            calls_above_limit_price = 0\n",
    "        if messages_sum > tariffs.iloc[1]['messages_included']:\n",
    "            #messages_above_limit_price = messages_sum-1000 #стоимость сообщений потраченных сверх тарифа\n",
    "            messages_above_limit_price = messages_sum - tariffs.iloc[1]['messages_included'] #стоимость сообщений потраченных сверх тарифа\n",
    "        else:\n",
    "            messages_above_limit_price = 0\n",
    "        if gb_used > tariffs.iloc[1]['gb_included']:\n",
    "            #gb_above_limit_price = (gb_used-30)*150 #стоимость гб потраченных сверх тарифа\n",
    "            gb_above_limit_price = (gb_used-tariffs.iloc[1]['gb_included'])*tariffs.iloc[1]['rub_per_gb'] #стоимость гб потраченных сверх тарифа\n",
    "        else:\n",
    "            gb_above_limit_price = 0\n",
    "            \n",
    "        #return calls_above_limit_price + messages_above_limit_price + gb_above_limit_price + 1950 #общие траты за месяц \"Ultra\"\n",
    "        return calls_above_limit_price + messages_above_limit_price + gb_above_limit_price + ultra_price #общие траты за месяц \"Ultra\"\n",
    "            \n",
    "  \n",
    "   \n",
    "data['spent_this_month'] =  data.apply(price, axis=1) #новый столбец, функцию ко всей строке\n",
    "data.info()\n",
    "data"
   ]
  },
  {
   "cell_type": "markdown",
   "id": "17dec832",
   "metadata": {},
   "source": [
    "<div class=\"alert alert-warning\">\n",
    "<b>Комментарий ревьюера ⚠️:</b> \n",
    "    \n",
    "Посчитано верно, хорошая функция ✔️ \n",
    "    \n",
    "Удобнее будет вместо того, чтобы явно писать в функции параметры тарифов обращаться к соответствующим полям таблицы tariffs. Иначе при изменениях цифр в тарифах придется вручную их переписывать :)\n",
    "</div>"
   ]
  },
  {
   "cell_type": "markdown",
   "id": "25d47c29",
   "metadata": {},
   "source": [
    "<div class=\"alert alert-info\"> <b>Комментарий студента v2:</b> Обращаюсь в коде только к значениям таблицы tariffs. Внося численные изменения в тариф, изменятся результаты.</div>"
   ]
  },
  {
   "cell_type": "markdown",
   "id": "5eef58a9",
   "metadata": {},
   "source": [
    "<div class=\"alert alert-success\">\n",
    "<b>Комментарий ревьюера v3 ✔️:</b>\n",
    "\n",
    "Можно сделать так:\n",
    "    \n",
    "    tariff_row = tariffs[tariffs.tariff_name == tariff].iloc[0]\n",
    "    \n",
    "И брать соответствующие параметры тарифов из tariff_row. Тогда не будет отдельных блоков кода для разных тарифов, останется только один общий\n",
    "    \n",
    "</div>"
   ]
  },
  {
   "cell_type": "markdown",
   "id": "115d04d5",
   "metadata": {},
   "source": [
    "Информация по тарифу Ультра"
   ]
  },
  {
   "cell_type": "code",
   "execution_count": 18,
   "id": "c22c4e83",
   "metadata": {},
   "outputs": [
    {
     "data": {
      "text/html": [
       "<div>\n",
       "<style scoped>\n",
       "    .dataframe tbody tr th:only-of-type {\n",
       "        vertical-align: middle;\n",
       "    }\n",
       "\n",
       "    .dataframe tbody tr th {\n",
       "        vertical-align: top;\n",
       "    }\n",
       "\n",
       "    .dataframe thead th {\n",
       "        text-align: right;\n",
       "    }\n",
       "</style>\n",
       "<table border=\"1\" class=\"dataframe\">\n",
       "  <thead>\n",
       "    <tr style=\"text-align: right;\">\n",
       "      <th></th>\n",
       "      <th>user_id</th>\n",
       "      <th>month</th>\n",
       "      <th>calls_duration</th>\n",
       "      <th>gb_used</th>\n",
       "      <th>messages_sum</th>\n",
       "      <th>spent_this_month</th>\n",
       "    </tr>\n",
       "  </thead>\n",
       "  <tbody>\n",
       "    <tr>\n",
       "      <th>count</th>\n",
       "      <td>986.000000</td>\n",
       "      <td>986.000000</td>\n",
       "      <td>986.000000</td>\n",
       "      <td>986.000000</td>\n",
       "      <td>986.000000</td>\n",
       "      <td>986.000000</td>\n",
       "    </tr>\n",
       "    <tr>\n",
       "      <th>mean</th>\n",
       "      <td>1262.957404</td>\n",
       "      <td>8.242394</td>\n",
       "      <td>526.089249</td>\n",
       "      <td>38.125761</td>\n",
       "      <td>49.313387</td>\n",
       "      <td>3842.494929</td>\n",
       "    </tr>\n",
       "    <tr>\n",
       "      <th>std</th>\n",
       "      <td>140.689268</td>\n",
       "      <td>2.882305</td>\n",
       "      <td>317.887549</td>\n",
       "      <td>19.592457</td>\n",
       "      <td>47.806040</td>\n",
       "      <td>2165.879726</td>\n",
       "    </tr>\n",
       "    <tr>\n",
       "      <th>min</th>\n",
       "      <td>1000.000000</td>\n",
       "      <td>0.000000</td>\n",
       "      <td>0.000000</td>\n",
       "      <td>0.000000</td>\n",
       "      <td>0.000000</td>\n",
       "      <td>1950.000000</td>\n",
       "    </tr>\n",
       "    <tr>\n",
       "      <th>25%</th>\n",
       "      <td>1143.000000</td>\n",
       "      <td>6.000000</td>\n",
       "      <td>282.500000</td>\n",
       "      <td>23.000000</td>\n",
       "      <td>6.000000</td>\n",
       "      <td>1950.000000</td>\n",
       "    </tr>\n",
       "    <tr>\n",
       "      <th>50%</th>\n",
       "      <td>1277.000000</td>\n",
       "      <td>9.000000</td>\n",
       "      <td>518.000000</td>\n",
       "      <td>38.000000</td>\n",
       "      <td>38.000000</td>\n",
       "      <td>3150.000000</td>\n",
       "    </tr>\n",
       "    <tr>\n",
       "      <th>75%</th>\n",
       "      <td>1381.000000</td>\n",
       "      <td>11.000000</td>\n",
       "      <td>751.750000</td>\n",
       "      <td>52.000000</td>\n",
       "      <td>78.750000</td>\n",
       "      <td>5250.000000</td>\n",
       "    </tr>\n",
       "    <tr>\n",
       "      <th>max</th>\n",
       "      <td>1495.000000</td>\n",
       "      <td>12.000000</td>\n",
       "      <td>1673.000000</td>\n",
       "      <td>98.000000</td>\n",
       "      <td>224.000000</td>\n",
       "      <td>12150.000000</td>\n",
       "    </tr>\n",
       "  </tbody>\n",
       "</table>\n",
       "</div>"
      ],
      "text/plain": [
       "           user_id       month  calls_duration     gb_used  messages_sum  \\\n",
       "count   986.000000  986.000000      986.000000  986.000000    986.000000   \n",
       "mean   1262.957404    8.242394      526.089249   38.125761     49.313387   \n",
       "std     140.689268    2.882305      317.887549   19.592457     47.806040   \n",
       "min    1000.000000    0.000000        0.000000    0.000000      0.000000   \n",
       "25%    1143.000000    6.000000      282.500000   23.000000      6.000000   \n",
       "50%    1277.000000    9.000000      518.000000   38.000000     38.000000   \n",
       "75%    1381.000000   11.000000      751.750000   52.000000     78.750000   \n",
       "max    1495.000000   12.000000     1673.000000   98.000000    224.000000   \n",
       "\n",
       "       spent_this_month  \n",
       "count        986.000000  \n",
       "mean        3842.494929  \n",
       "std         2165.879726  \n",
       "min         1950.000000  \n",
       "25%         1950.000000  \n",
       "50%         3150.000000  \n",
       "75%         5250.000000  \n",
       "max        12150.000000  "
      ]
     },
     "execution_count": 18,
     "metadata": {},
     "output_type": "execute_result"
    }
   ],
   "source": [
    "data_ultra = data.query(\"tariff == 'ultra'\")\n",
    "data_ultra.describe()"
   ]
  },
  {
   "cell_type": "markdown",
   "id": "42016066",
   "metadata": {},
   "source": [
    "Информация по тарифу Смарт"
   ]
  },
  {
   "cell_type": "code",
   "execution_count": 19,
   "id": "78283659",
   "metadata": {},
   "outputs": [
    {
     "data": {
      "text/html": [
       "<div>\n",
       "<style scoped>\n",
       "    .dataframe tbody tr th:only-of-type {\n",
       "        vertical-align: middle;\n",
       "    }\n",
       "\n",
       "    .dataframe tbody tr th {\n",
       "        vertical-align: top;\n",
       "    }\n",
       "\n",
       "    .dataframe thead th {\n",
       "        text-align: right;\n",
       "    }\n",
       "</style>\n",
       "<table border=\"1\" class=\"dataframe\">\n",
       "  <thead>\n",
       "    <tr style=\"text-align: right;\">\n",
       "      <th></th>\n",
       "      <th>user_id</th>\n",
       "      <th>month</th>\n",
       "      <th>calls_duration</th>\n",
       "      <th>gb_used</th>\n",
       "      <th>messages_sum</th>\n",
       "      <th>spent_this_month</th>\n",
       "    </tr>\n",
       "  </thead>\n",
       "  <tbody>\n",
       "    <tr>\n",
       "      <th>count</th>\n",
       "      <td>2230.000000</td>\n",
       "      <td>2230.000000</td>\n",
       "      <td>2230.000000</td>\n",
       "      <td>2230.000000</td>\n",
       "      <td>2230.000000</td>\n",
       "      <td>2230.000000</td>\n",
       "    </tr>\n",
       "    <tr>\n",
       "      <th>mean</th>\n",
       "      <td>1246.562332</td>\n",
       "      <td>8.343049</td>\n",
       "      <td>417.747534</td>\n",
       "      <td>42.399103</td>\n",
       "      <td>33.369058</td>\n",
       "      <td>6244.529596</td>\n",
       "    </tr>\n",
       "    <tr>\n",
       "      <th>std</th>\n",
       "      <td>146.110501</td>\n",
       "      <td>2.925006</td>\n",
       "      <td>190.476754</td>\n",
       "      <td>14.966731</td>\n",
       "      <td>28.230396</td>\n",
       "      <td>2895.582681</td>\n",
       "    </tr>\n",
       "    <tr>\n",
       "      <th>min</th>\n",
       "      <td>1001.000000</td>\n",
       "      <td>0.000000</td>\n",
       "      <td>0.000000</td>\n",
       "      <td>0.000000</td>\n",
       "      <td>0.000000</td>\n",
       "      <td>550.000000</td>\n",
       "    </tr>\n",
       "    <tr>\n",
       "      <th>25%</th>\n",
       "      <td>1121.000000</td>\n",
       "      <td>6.000000</td>\n",
       "      <td>282.000000</td>\n",
       "      <td>34.000000</td>\n",
       "      <td>10.000000</td>\n",
       "      <td>4498.500000</td>\n",
       "    </tr>\n",
       "    <tr>\n",
       "      <th>50%</th>\n",
       "      <td>1240.000000</td>\n",
       "      <td>9.000000</td>\n",
       "      <td>421.500000</td>\n",
       "      <td>43.000000</td>\n",
       "      <td>28.000000</td>\n",
       "      <td>6350.000000</td>\n",
       "    </tr>\n",
       "    <tr>\n",
       "      <th>75%</th>\n",
       "      <td>1376.000000</td>\n",
       "      <td>11.000000</td>\n",
       "      <td>545.000000</td>\n",
       "      <td>52.000000</td>\n",
       "      <td>51.000000</td>\n",
       "      <td>8064.500000</td>\n",
       "    </tr>\n",
       "    <tr>\n",
       "      <th>max</th>\n",
       "      <td>1499.000000</td>\n",
       "      <td>12.000000</td>\n",
       "      <td>1435.000000</td>\n",
       "      <td>101.000000</td>\n",
       "      <td>143.000000</td>\n",
       "      <td>19370.000000</td>\n",
       "    </tr>\n",
       "  </tbody>\n",
       "</table>\n",
       "</div>"
      ],
      "text/plain": [
       "           user_id        month  calls_duration      gb_used  messages_sum  \\\n",
       "count  2230.000000  2230.000000     2230.000000  2230.000000   2230.000000   \n",
       "mean   1246.562332     8.343049      417.747534    42.399103     33.369058   \n",
       "std     146.110501     2.925006      190.476754    14.966731     28.230396   \n",
       "min    1001.000000     0.000000        0.000000     0.000000      0.000000   \n",
       "25%    1121.000000     6.000000      282.000000    34.000000     10.000000   \n",
       "50%    1240.000000     9.000000      421.500000    43.000000     28.000000   \n",
       "75%    1376.000000    11.000000      545.000000    52.000000     51.000000   \n",
       "max    1499.000000    12.000000     1435.000000   101.000000    143.000000   \n",
       "\n",
       "       spent_this_month  \n",
       "count       2230.000000  \n",
       "mean        6244.529596  \n",
       "std         2895.582681  \n",
       "min          550.000000  \n",
       "25%         4498.500000  \n",
       "50%         6350.000000  \n",
       "75%         8064.500000  \n",
       "max        19370.000000  "
      ]
     },
     "execution_count": 19,
     "metadata": {},
     "output_type": "execute_result"
    }
   ],
   "source": [
    "data_smart = data.query(\"tariff == 'smart'\")\n",
    "data_smart.describe()"
   ]
  },
  {
   "cell_type": "markdown",
   "id": "1512dda9",
   "metadata": {},
   "source": [
    "### <i>Выводы 2.3.</i>\n",
    "* При расчете превышения лимитов, сделали допущение, что при использовании хотя бы 1 сек или 1 байта данных оплата спишется за полную минуту или гигабайт.\n",
    "* Люди мало отправляют смс на любом из тарифов\n",
    "* На обоих тарифах люди выходят за пределы тарифов и платят больше, чем абонплата\n",
    "* На тарифе Смарт компания имеет бóльшую выручку, как в абсолютном, так и в относительном выражении\n",
    "* Подавляющее число людей на тарифе Смарт платит от 4500 до 8000 р/м, что часто в 10 раз больше абонплаты 550р\n",
    "* Половина юзеров тарифа Ультра платит больше 3150 р/м ежемесячно, что также больше абонплаты, которая составляет 1950 р/м.\n",
    "* Половина пользователей платит почти на 1000 руб. больше, чем базовая стоимость тарифа Ultra, которая равняется 1950р.\n",
    "* <b>Окночательный вывод: тариф Смарт приносит существенно больше денег, чем тариф Ультра по всем показателям. Подтвердим это графиками.</b>"
   ]
  },
  {
   "cell_type": "markdown",
   "id": "117eb9ff",
   "metadata": {},
   "source": [
    "<div class=\"alert alert-success\">\n",
    "<b>Комментарий ревьюера ✔️:</b>\n",
    "\n",
    "Круто, что ты анализируешь тарифы уже здесь :)\n",
    "    \n",
    "</div>"
   ]
  },
  {
   "cell_type": "markdown",
   "id": "1352a138",
   "metadata": {},
   "source": [
    "<div class=\"alert alert-danger\">\n",
    "<b>Комментарий ревьюера  ❌:</b> \n",
    "    \n",
    "Оставляю комментарий, так как после правильного округления гигабайт вывод может измениться\n",
    "</div>"
   ]
  },
  {
   "cell_type": "markdown",
   "id": "db57a0fe",
   "metadata": {},
   "source": [
    "<div class=\"alert alert-info\"> <b>Комментарий студента v2:</b> Выводы и цифры актуальны.</div>"
   ]
  },
  {
   "cell_type": "markdown",
   "id": "b5bf0f5e",
   "metadata": {},
   "source": [
    "## 3.1. Анализ тарифа Ultra\n",
    "Минуты разговора в тарифе Ультра"
   ]
  },
  {
   "cell_type": "code",
   "execution_count": 20,
   "id": "9e39d93b",
   "metadata": {},
   "outputs": [
    {
     "data": {
      "text/plain": [
       "Text(0, 0.5, 'Частота использования')"
      ]
     },
     "execution_count": 20,
     "metadata": {},
     "output_type": "execute_result"
    },
    {
     "data": {
      "image/png": "[encoded data removed]",
      "text/plain": [
       "<Figure size 432x288 with 1 Axes>"
      ]
     },
     "metadata": {
      "needs_background": "light"
     },
     "output_type": "display_data"
    }
   ],
   "source": [
    "sns.histplot(data_ultra['calls_duration'],\n",
    "             bins=50, kde=True,\n",
    "             stat=\"density\", linewidth=1,\n",
    "             edgecolor = 'grey',\n",
    "             color='green').set_title('Потраченные минуты на тарифе Ультра')\n",
    "# Названия осей\n",
    "plt.xlabel('Количество минут')\n",
    "plt.ylabel('Частота использования')"
   ]
  },
  {
   "cell_type": "markdown",
   "id": "c0316c31",
   "metadata": {},
   "source": [
    "<div class=\"alert alert-success\">\n",
    "<b>Комментарий ревьюера ✔️:</b>\n",
    " \n",
    "График выглядит хорошо, есть подписи и название :)\n",
    "    \n",
    "В будущих версиях seaborn функции distplot не будет. Можно вместо нее использовать histplot, добавив    \n",
    "    `kde=True, stat=\"density\", linewidth=1, edgecolor = 'grey', color='green'`:\n",
    "    \n",
    "    sns.histplot(data, bins=..., kde=True, stat=\"density\", linewidth=1, edgecolor = 'grey', color='green')\n",
    "\n",
    "С помощью следующего кода можно убрать warnings, но лучше этого не делать на этапе написания кода:\n",
    "    \n",
    "    import warnings\n",
    "    warnings.filterwarnings('ignore')\n",
    "    \n",
    "\n",
    "</div>"
   ]
  },
  {
   "cell_type": "markdown",
   "id": "40e54341",
   "metadata": {},
   "source": [
    "<div class=\"alert alert-info\"> <b>Комментарий студента v1:</b> Все графики постороил заново по вашей рекомендации, благодарю!</div>"
   ]
  },
  {
   "cell_type": "markdown",
   "id": "b3548a3c",
   "metadata": {},
   "source": [
    "Отправленные СМС на тарифе Ультра"
   ]
  },
  {
   "cell_type": "code",
   "execution_count": 21,
   "id": "911c92eb",
   "metadata": {},
   "outputs": [
    {
     "data": {
      "text/plain": [
       "Text(0, 0.5, 'Частота использования')"
      ]
     },
     "execution_count": 21,
     "metadata": {},
     "output_type": "execute_result"
    },
    {
     "data": {
      "image/png": "[encoded data removed]",
      "text/plain": [
       "<Figure size 432x288 with 1 Axes>"
      ]
     },
     "metadata": {
      "needs_background": "light"
     },
     "output_type": "display_data"
    }
   ],
   "source": [
    "#sns.distplot(data_ultra['messages_sum'], hist=True,\n",
    "#            bins=50, color='green', hist_kws={'edgecolor':'grey'}).set_title('Отправленные СМС на тарифе Ультра')\n",
    "sns.histplot(data_ultra['messages_sum'],\n",
    "             bins=50, kde=True,\n",
    "             stat=\"density\", linewidth=1,\n",
    "             edgecolor = 'grey',\n",
    "             color='green').set_title('Отправленные СМС на тарифе Ультра')\n",
    "# Названия осей\n",
    "plt.xlabel('Отправлено сообщений на тарифе Ультра')\n",
    "plt.ylabel('Частота использования')"
   ]
  },
  {
   "cell_type": "markdown",
   "id": "2feb3515",
   "metadata": {},
   "source": [
    "Интернет-трафик на тарифе Ультра"
   ]
  },
  {
   "cell_type": "code",
   "execution_count": 22,
   "id": "8b7fe32c",
   "metadata": {},
   "outputs": [
    {
     "name": "stdout",
     "output_type": "stream",
     "text": [
      "49.3 % от выручки тарифа Ультра составляет превышение потребления трафика\n",
      "93450 руб. - Выручка за избыточный трафик составила\n"
     ]
    },
    {
     "data": {
      "image/png": "[encoded data removed]",
      "text/plain": [
       "<Figure size 432x288 with 1 Axes>"
      ]
     },
     "metadata": {
      "needs_background": "light"
     },
     "output_type": "display_data"
    }
   ],
   "source": [
    "#sns.distplot(data_ultra['gb_used'], hist=True,\n",
    "#            bins=20, color='green', hist_kws={'edgecolor':'grey'}).set_title('Интернет-трафик на тарифе Ультра')\n",
    "sns.histplot(data_ultra['gb_used'],\n",
    "             bins=50, kde=True,\n",
    "             stat=\"density\", linewidth=1,\n",
    "             edgecolor = 'grey',\n",
    "             color='green').set_title('Интернет-трафик на тарифе Ультра')\n",
    "# Названия осей\n",
    "plt.xlabel('Использовано ГБ на тарифе Ультра')\n",
    "plt.ylabel('Частота использования')\n",
    "\n",
    "# Юзеры, превысившие лимит\n",
    "gb_excess_ultra_revenue = ((1 - ultra_price*(data_ultra['month'].count()) / data_ultra['spent_this_month'].sum()) * 100).round(1)\n",
    "#gb_excess=((1-1950*(data_ultra['month'].count()) / data_ultra['spent_this_month'].sum())*100).round(1)\n",
    "print(gb_excess_ultra_revenue, '% от выручки тарифа Ультра составляет превышение потребления трафика')\n",
    "\n",
    "\n",
    "print ((data_ultra['gb_used'] > tariffs.iloc[1]['gb_included']).sum() * tariffs.iloc[1]['rub_per_gb'],\n",
    "       'руб. - ''Выручка за избыточный трафик составила')"
   ]
  },
  {
   "cell_type": "markdown",
   "id": "f16fd63a",
   "metadata": {},
   "source": [
    "<div class=\"alert alert-warning\">\n",
    "<b>Комментарий ревьюера ⚠️:</b> \n",
    "\n",
    "Кажется, во втором print уже нужно использовать столбец по интернету, а не по выручке\n",
    "</div>"
   ]
  },
  {
   "cell_type": "markdown",
   "id": "31537a8d",
   "metadata": {},
   "source": [
    "<div class=\"alert alert-info\"> <b>Комментарий студента:</b> Исправил на `gb_used` в последней строке, поменял цифры в выводах.</div>"
   ]
  },
  {
   "cell_type": "markdown",
   "id": "f91b8a3d",
   "metadata": {},
   "source": [
    "<div class=\"alert alert-success\">\n",
    "<b>Комментарий ревьюера ✔️:</b>\n",
    " \n",
    "Лучше не использовать цифры в коде, а обращаться к соответствующим полям таблицы тарифов\n",
    "    \n",
    "Также рекомендую строить гистограммы по разным тарифам на одном графике или рядом, чтобы было удобнее их сравнивать\n",
    "</div>"
   ]
  },
  {
   "cell_type": "markdown",
   "id": "f23092a1",
   "metadata": {},
   "source": [
    "<div class=\"alert alert-info\"> <b>Комментарий студента:</b> Да, верное замечание исправил там, где это было необходимо.</div>"
   ]
  },
  {
   "cell_type": "markdown",
   "id": "1b73b2a7",
   "metadata": {},
   "source": [
    "<div class=\"alert alert-success\">\n",
    "<b>Комментарий ревьюера v2 ✔️:</b>\n",
    "    \n",
    "Рада, что ты это дорабатываешь :)\n",
    "\n",
    "</div>"
   ]
  },
  {
   "cell_type": "markdown",
   "id": "89f9603f",
   "metadata": {},
   "source": [
    "### Вывод 2.4.\n",
    "* Половина юзеров проговаривает в среднем 500 мин за месяц, что составляет 1/6 часть от лимита в 3000 минут. Очевидно, что популярность общения по мобильной связи неуклонно снижается.\n",
    "* Большая часть клиенов не отправили ни одного смс. В эру смартфонов смс используется в основном для взаимодействия с сервисами, а не для общения.\n",
    "* <b>49.3 % (93 450 руб.) от выручки тарифа Ультра составляет превышение потребления трафика. Оператор зарабатывает в основном на продаже трафика</b>"
   ]
  },
  {
   "cell_type": "markdown",
   "id": "c1e85481",
   "metadata": {},
   "source": [
    "<div class=\"alert alert-success\">\n",
    "<b>Комментарий ревьюера ✔️:</b>\n",
    " \n",
    "С первыми 2 пунктами абсолютно согласна, хорошая идея сравнивать с лимитом\n",
    "</div>"
   ]
  },
  {
   "cell_type": "markdown",
   "id": "8fc52ab1",
   "metadata": {},
   "source": [
    "<div class=\"alert alert-danger\">\n",
    "<b>Комментарий ревьюера  ❌:</b> \n",
    "    \n",
    "Оставляю комментарий, так как после правильного округления гигабайт 3 пункт вывода может немного измениться\n",
    "</div>"
   ]
  },
  {
   "cell_type": "markdown",
   "id": "a10745af",
   "metadata": {},
   "source": [
    "<div class=\"alert alert-info\"> <b>Комментарий студента v2:</b> Третий пункт актулен.</div>"
   ]
  },
  {
   "cell_type": "markdown",
   "id": "1ac64a01",
   "metadata": {},
   "source": [
    "## 3.2. Анализ тарифа Smart\n",
    "Минуты разговора в тарифе Смарт"
   ]
  },
  {
   "cell_type": "code",
   "execution_count": 23,
   "id": "d21db2f6",
   "metadata": {},
   "outputs": [
    {
     "name": "stdout",
     "output_type": "stream",
     "text": [
      "Примерно 2.0 % выручки тарифа Смарт идет от превышения лимита на звонки по мобильной сети\n"
     ]
    },
    {
     "data": {
      "image/png": "[encoded data removed]",
      "text/plain": [
       "<Figure size 432x288 with 1 Axes>"
      ]
     },
     "metadata": {
      "needs_background": "light"
     },
     "output_type": "display_data"
    }
   ],
   "source": [
    "#sns.distplot(data_smart['calls_duration'], hist=True,\n",
    "#            bins=50, color='FireBrick', hist_kws={'edgecolor':'grey'}).set_title('Потраченные минуты на тарифе Смарт')\n",
    "sns.histplot(data_smart['calls_duration'],\n",
    "             bins=50, kde=True,\n",
    "             stat=\"density\", linewidth=1,\n",
    "             edgecolor = 'grey',\n",
    "             color='FireBrick').set_title('Потраченные минуты на тарифе Смарт')\n",
    "# Названия осей\n",
    "plt.xlabel('Использованные минуты на тарифе Смарт')\n",
    "plt.ylabel('Частота использования')\n",
    "\n",
    "# Выручка по превышению лимитов разговоров\n",
    "#min_excess_smart = ((1-550*(data_smart['month'].count()) / data_smart['spent_this_month'].sum())*100).round(1)\n",
    "minutes_excess_count_smart = data_smart.query(\"calls_duration > 500\")['calls_duration'].sum() - data_smart.query('calls_duration > 500')['calls_duration'].count()*500\n",
    "print('Примерно', ((minutes_excess_count_smart*3 / data_smart['spent_this_month'].sum())*100).round(2),\n",
    "      '% выручки тарифа Смарт идет от превышения лимита на звонки по мобильной сети')"
   ]
  },
  {
   "cell_type": "code",
   "execution_count": 24,
   "id": "6f60d3d3",
   "metadata": {},
   "outputs": [
    {
     "name": "stdout",
     "output_type": "stream",
     "text": [
      "Примерно 0.28 % выручки тарифа Смарт идет от превышения лимита СМС\n"
     ]
    },
    {
     "data": {
      "image/png": "[encoded data removed]",
      "text/plain": [
       "<Figure size 432x288 with 1 Axes>"
      ]
     },
     "metadata": {
      "needs_background": "light"
     },
     "output_type": "display_data"
    }
   ],
   "source": [
    "#sns.distplot(data_smart['messages_sum'], hist=True,\n",
    "#            bins=50, color='FireBrick', hist_kws={'edgecolor':'grey'}).set_title('Отправленные СМС на тарифе Смарт')\n",
    "sns.histplot(data_smart['messages_sum'],\n",
    "             bins=50, kde=True,\n",
    "             stat=\"density\", linewidth=1,\n",
    "             edgecolor = 'grey',\n",
    "             color='FireBrick').set_title('Отправленные СМС на тарифе Смарт')\n",
    "# Названия осей\n",
    "plt.xlabel('Отправлено сообщений на тарифе Смарт')\n",
    "plt.ylabel('Частота использования')\n",
    "\n",
    "messages_excess_count_smart = data_smart.query('messages_sum > 50')['messages_sum'].sum() - data_smart.query('messages_sum > 50')['messages_sum'].count()*50\n",
    "print('Примерно', ((messages_excess_count_smart*3 / data_smart['spent_this_month'].sum())*100).round(2),\n",
    "      '% выручки тарифа Смарт идет от превышения лимита СМС')"
   ]
  },
  {
   "cell_type": "code",
   "execution_count": 25,
   "id": "ddc58917",
   "metadata": {},
   "outputs": [
    {
     "name": "stdout",
     "output_type": "stream",
     "text": [
      "91.2 % от выручки составляет превышения потребления трафика\n",
      "422600 руб. - выручка за избыточный трафик составила\n"
     ]
    },
    {
     "data": {
      "image/png": "[encoded data removed]",
      "text/plain": [
       "<Figure size 432x288 with 1 Axes>"
      ]
     },
     "metadata": {
      "needs_background": "light"
     },
     "output_type": "display_data"
    }
   ],
   "source": [
    "#sns.distplot(data_smart['gb_used'], hist=True,\n",
    "#            bins=20, color='FireBrick', hist_kws={'edgecolor':'grey'}).set_title('Интернет-трафик на тарифе Смарт')\n",
    "sns.histplot(data_smart['gb_used'],\n",
    "             bins=50, kde=True,\n",
    "             stat=\"density\", linewidth=1,\n",
    "             edgecolor = 'grey',\n",
    "             color='FireBrick').set_title('Интернет-трафик на тарифе Смарт')\n",
    "# Названия осей\n",
    "plt.xlabel('Использовано ГБ на тарифе Смарт')\n",
    "plt.ylabel('Частота использования')\n",
    "\n",
    "# Юзеры, превысившие лимит\n",
    "#gb_excess = (1 - 1950*(data_ultra['month'].count()) / data_ultra['spent_this_month'].sum()) * 100\n",
    "gb_excess_smart_revenue=((1-550*(data_smart['month'].count()) / data_smart['spent_this_month'].sum())*100).round(1)\n",
    "print(gb_excess_smart_revenue, '% от выручки составляет превышения потребления трафика')\n",
    "print ((data_smart['gb_used'] > tariffs.iloc[0]['gb_included']).sum()*tariffs.iloc[0]['rub_per_gb'], 'руб. - ''выручка за избыточный трафик составила')"
   ]
  },
  {
   "cell_type": "markdown",
   "id": "8d089297",
   "metadata": {},
   "source": [
    "### Вывод 2.5.\n",
    "* На превышении лимитов по звонкам и СМС в тарифе смарт компания зарабатывает около 3,3%\n",
    "* Большая часть клиенов не отправили ни одного смс. В эру смартфонов смс используется в основном для взаимодействия с сервисами, а не для общения.\n",
    "* <b>91.2 % (422 600 руб.) от выручки тарифа Смарт составляет превышение потребления трафика. Львиная доля заработка.</b>"
   ]
  },
  {
   "cell_type": "markdown",
   "id": "28a35624",
   "metadata": {},
   "source": [
    "<div class=\"alert alert-success\">\n",
    "<b>Комментарий ревьюера ✔️:</b>\n",
    " \n",
    "Супер, что ты считаешь проценты превышения\n",
    "</div>"
   ]
  },
  {
   "cell_type": "markdown",
   "id": "07139934",
   "metadata": {},
   "source": [
    "<div class=\"alert alert-danger\">\n",
    "<b>Комментарий ревьюера  ❌:</b> \n",
    "    \n",
    "Оставляю комментарий, так как после правильного округления гигабайт цифры в выводе возможно придется поменять\n",
    "</div>"
   ]
  },
  {
   "cell_type": "markdown",
   "id": "9a2f873b",
   "metadata": {},
   "source": [
    "<div class=\"alert alert-info\"> <b>Комментарий студента:</b> Внес требуемые изменения.</div>"
   ]
  },
  {
   "cell_type": "markdown",
   "id": "c2bb1ba9",
   "metadata": {},
   "source": [
    "## 4. Проверка гипотез\n",
    "### 4.1. Cредняя выручка пользователей тарифов «Ультра» и «Смарт» различаются;\n",
    "<b>Н₀</b> - гипотеза о том, что средние наших выборок равны\n",
    "\n",
    "<b>Н₁</b> - гипотеза о том, что средняя выручка тарифов Смарт и Ультра различаются\n",
    "\n",
    "Т.к. дисперсии наших выборок отличаются будем использовать метод `scipy.stats.ttest_ind (array1, array2, equal_var = False)`\n",
    "Критический уровень значимости зададим 5%."
   ]
  },
  {
   "cell_type": "markdown",
   "id": "a85baad5",
   "metadata": {},
   "source": [
    "<div class=\"alert alert-success\">\n",
    "<b>Комментарий ревьюера ✔️:</b>\n",
    " \n",
    "Нулевая и альтернативная гипотезы сформулированы правильно\n",
    "</div>"
   ]
  },
  {
   "cell_type": "code",
   "execution_count": 26,
   "id": "6f965f00",
   "metadata": {},
   "outputs": [
    {
     "name": "stdout",
     "output_type": "stream",
     "text": [
      "P-value 3.3350983697032437e-132\n",
      "Отвергаем нулевую гипотезу Н₀\n"
     ]
    }
   ],
   "source": [
    "alpha = 0.05\n",
    "\n",
    "results = st.ttest_ind(data_smart['spent_this_month'], data_ultra['spent_this_month'], equal_var=False)\n",
    "print('P-value', results.pvalue)\n",
    "\n",
    "if results.pvalue < alpha:\n",
    "    print('Отвергаем нулевую гипотезу Н₀')\n",
    "else:\n",
    "    print('Гипотезу Н₀ не удалось отвергнуть')\n"
   ]
  },
  {
   "cell_type": "markdown",
   "id": "d88634bf",
   "metadata": {},
   "source": [
    "### <i>Вывод 4.1.</i>\n",
    "Нулева гипотеза о равенстве средних наших выборок не подтвердилась. Это говорит нам о том, что вероятность случаейного совпадения наших выборок ничножно мало.\n",
    "\n",
    "А значит альтернативную гипотезу о различии средних выручек на разных тарифах принимаем за потенциально верную."
   ]
  },
  {
   "cell_type": "markdown",
   "id": "0d14c834",
   "metadata": {},
   "source": [
    "<div class=\"alert alert-success\">\n",
    "<b>Комментарий ревьюера ✔️:</b>\n",
    " \n",
    "Нулевая гипотеза и не может подтвердиться. Корректнее \"вероятность получить такие или еще более экстремальные значения средних при условии правильности нулевой гипотезы\"\n",
    "</div>"
   ]
  },
  {
   "cell_type": "markdown",
   "id": "38bce28c",
   "metadata": {},
   "source": [
    "### 4.2. Cредняя выручка пользователей из Москвы отличается от выручки пользователей в регионах.\n",
    "* <b>Н₀</b> - гипотеза о том, что средняя выручка тарифов Смарт и Ультра одинаковы\n",
    "\n",
    "* <b>Н₁</b> - гипотеза о том, средние наших выборок различаются"
   ]
  },
  {
   "cell_type": "markdown",
   "id": "57365819",
   "metadata": {},
   "source": [
    "<div class=\"alert alert-danger\">\n",
    "<b>Комментарий ревьюера  ❌:</b> \n",
    "    \n",
    "Здесь H0 и H1 перепутаны\n",
    "</div>"
   ]
  },
  {
   "cell_type": "markdown",
   "id": "903b5222",
   "metadata": {},
   "source": [
    "<div class=\"alert alert-info\"> <b>Комментарий студента:</b> Теперь всё верно!.</div>"
   ]
  },
  {
   "cell_type": "markdown",
   "id": "41034433",
   "metadata": {},
   "source": [
    "<div class=\"alert alert-success\">\n",
    "<b>Комментарий ревьюера v2 ✔️:</b>\n",
    "    \n",
    "Ура :)\n",
    "\n",
    "</div>"
   ]
  },
  {
   "cell_type": "code",
   "execution_count": 27,
   "id": "8e3e293b",
   "metadata": {},
   "outputs": [
    {
     "name": "stdout",
     "output_type": "stream",
     "text": [
      "P-value 0.2656875417083935\n",
      "Гипотезу Н₀ не удалось отвергнуть\n"
     ]
    }
   ],
   "source": [
    "# Создадим таблицы с клиентами из Москвы и регионов:\n",
    "moscow = data[data['city'] == 'Москва']\n",
    "regions = data[data['city'] != 'Москва']\n",
    "\n",
    "# Проверим соотношение пользователей разных тарифов в наших выборках\n",
    "moscow.pivot_table(index='tariff', values='spent_this_month', aggfunc='count')\n",
    "regions.pivot_table(index='tariff', values='spent_this_month', aggfunc='count')\n",
    "\n",
    "# Пора проверять гипотезу\n",
    "alpha = 0.05\n",
    "\n",
    "results = st.ttest_ind(moscow['spent_this_month'],\n",
    "                       regions['spent_this_month'],\n",
    "                       equal_var=False)\n",
    "print('P-value', results.pvalue)\n",
    "\n",
    "if results.pvalue < alpha:\n",
    "    print('Отвергаем нулевую гипотезу Н₀')\n",
    "else:\n",
    "    print('Гипотезу Н₀ не удалось отвергнуть')"
   ]
  },
  {
   "cell_type": "markdown",
   "id": "a9219f5d",
   "metadata": {},
   "source": [
    "<div class=\"alert alert-success\">\n",
    "<b>Комментарий ревьюера ✔️:</b>\n",
    " \n",
    "Код проверки гипотез правильный,  результат тоже :)\n",
    "</div>"
   ]
  },
  {
   "cell_type": "markdown",
   "id": "7d4c49fa",
   "metadata": {},
   "source": [
    "### <i>Вывод 4.2.</i>\n",
    "* Нелевую гипотезу не удалось отвергнуть, значит выручка в Москве и регионах различатся.\n",
    "* Альтернативную гипотезу об одинаковости выручки в Москве и регионах не принимаем."
   ]
  },
  {
   "cell_type": "markdown",
   "id": "edd66dc5",
   "metadata": {},
   "source": [
    "<div class=\"alert alert-danger\">\n",
    "<b>Комментарий ревьюера ❌:</b>\n",
    "\n",
    "По гипотезе о Москве и регионах\n",
    "    \n",
    "На самом деле на основе статистических тестов мы не можем сделать вывод, что не отличается. Если гипотеза не отвергается, то она при этом не принимается. У нас может быть просто недостаточно доказательств пока что(размер выборки небольшой, например)\n",
    "    \n",
    "https://allatambov.github.io/psms/pdf/hypo-test.pdf\n",
    "    \n",
    "Лучше писать просто, что не удалось отвергнуть, статистически значимых отличий нет\n",
    "    \n",
    "Также нулевая гипотеза не про различия, а, наоборот, про равенство. Я писала выше, что формулировки были перепутаны \n",
    "</div>"
   ]
  },
  {
   "cell_type": "markdown",
   "id": "795d2276",
   "metadata": {},
   "source": [
    "<div class=\"alert alert-info\"> <b>Комментарий студента:</b> Исправил формулировки на верные.</div>"
   ]
  },
  {
   "cell_type": "markdown",
   "id": "d79451e8",
   "metadata": {},
   "source": [
    "<div class=\"alert alert-warning\">\n",
    "<b>Комментарий ревьюера v2 ⚠️:</b> \n",
    "    \n",
    "Кажется, здесь пропущено \"не\": Нелевую гипотезу не удалось отвергнуть, значит выручка в Москве и регионах различатся.\n",
    "    \n",
    "Ведь нулевая гипотеза про то, что выручки не отличаются. Кроме того здесь когда гипотеза не отвергается, лучше просто писать, что не отвергается. Из того, что она не отвергается не следует то, что выручка в Москве и регионах не различатся\n",
    "    \n",
    "</div>"
   ]
  },
  {
   "cell_type": "markdown",
   "id": "9883ba7d",
   "metadata": {},
   "source": [
    "<div class=\"alert alert-info\"> <b>Комментарий студента v2:</b> Исправлено, благодарю за привлечение внимания.</div>"
   ]
  },
  {
   "cell_type": "markdown",
   "id": "47320d24",
   "metadata": {},
   "source": [
    "<div class=\"alert alert-warning\">\n",
    "<b>Комментарий ревьюера v3 ⚠️:</b> \n",
    "    \n",
    "Нулевая гипотеза - гипотеза о том, что средняя выручка тарифов Смарт и Ультра одинаковы\n",
    "\n",
    "Альтернативная - гипотеза о том, средние наших выборок различаются\n",
    "    \n",
    "Вместо:\n",
    "    \n",
    "    Нелевую гипотезу не удалось отвергнуть, значит выручка в Москве и регионах различатся.\n",
    "    Альтернативную гипотезу об одинаковости выручки в Москве и регионах не принимаем\n",
    "    \n",
    "Корректно писать так:\n",
    "    \n",
    "    Нелевую гипотезу не удалось отвергнуть, статистически значимых различий нет.\n",
    "    Альтернативную гипотезу о различии выручек в Москве и регионах не принимаем\n",
    "</div>"
   ]
  },
  {
   "cell_type": "markdown",
   "id": "9da0ecd5",
   "metadata": {},
   "source": [
    "## 5. Общие выводы\n",
    "\n",
    "<b>Тариф Смарт для компании является самым выгодным в плане заработка, т.к. в абсолютном выражении на нём компания заработывает больше только на продаже Интернета сверх лимитов, чем общая выручка по тарифу Ультра.</b>\n",
    "* Большинство людей перстали использовать СМС как средство связи друг с другом.\n",
    "* Звонками по мобильной сети на обоих тарифах люди пользуются примерно одинаково.\n",
    "* Больше половины клиентов выходят за лимиты предоставляемого объема трафика\n",
    "* От 49% до 91% выручки компания имеет на продаже трафика сверх тарифных лимитов\n",
    "\n",
    "<i>Мобильный Интернет является главной статьей заработка компании.</i> Голосовая связь и смс медленно, но верно уходят на второй план."
   ]
  },
  {
   "cell_type": "markdown",
   "id": "ef3e5c0a",
   "metadata": {},
   "source": [
    "<div class=\"alert alert-success\">\n",
    "<b>Комментарий ревьюера ✔️:</b>\n",
    "\n",
    "Отличный вывод, содержит все промежуточные выводы :)\n",
    "</div>"
   ]
  },
  {
   "cell_type": "markdown",
   "id": "23a8457a",
   "metadata": {},
   "source": [
    "<div class=\"alert alert-danger\">\n",
    "<b>Комментарий ревьюера  ❌:</b> \n",
    " \n",
    "Ответь, пожалуйста, на главный вопрос исследования - какой тариф выгоднее для компании и почему\n",
    "\n",
    "Также возможно после правильного округления гигабайт вывод придется поправить\n",
    "</div>"
   ]
  },
  {
   "cell_type": "markdown",
   "id": "62be7638",
   "metadata": {},
   "source": [
    "<div class=\"alert alert-info\"> <b>Комментарий студента:</b> Дал развернутый ответ на главный вопрос с довыдами!\n",
    "Исправил цифры после округления ГБ</div>"
   ]
  },
  {
   "cell_type": "markdown",
   "id": "916b6c1c",
   "metadata": {},
   "source": [
    "<div class=\"alert alert-success\">\n",
    "<b>Комментарий ревьюера v2 ✔️:</b>\n",
    "\n",
    "Согласна с твоими рассуждениями\n",
    "</div>"
   ]
  },
  {
   "cell_type": "markdown",
   "id": "3f26f29a",
   "metadata": {},
   "source": [
    "<div class=\"alert alert-success\">\n",
    "<b>Комментарий ревьюера ✔️:</b>\n",
    "\n",
    "<b>Проект выполнен очень хорошо. Делаются грамотные выводы, выбраны подходящие графики, код довольно чистый, вижу хорошее владение pandas/python :) \n",
    "    \n",
    "Поправь, пожалуйста, то, что обозначено красными комментариями ❌, желтые оставляю на твое усмотрение :)</b>\n",
    "</div>"
   ]
  },
  {
   "cell_type": "code",
   "execution_count": null,
   "id": "066ad8a5",
   "metadata": {},
   "outputs": [],
   "source": []
  }
 ],
 "metadata": {
  "ExecuteTimeLog": [
   {
    "duration": 100,
    "start_time": "2022-05-10T09:30:16.947Z"
   },
   {
    "duration": 2365,
    "start_time": "2022-05-10T09:30:42.943Z"
   },
   {
    "duration": 53,
    "start_time": "2022-05-10T09:30:45.311Z"
   },
   {
    "duration": 259,
    "start_time": "2022-05-10T09:30:45.366Z"
   },
   {
    "duration": 63,
    "start_time": "2022-05-10T09:30:45.628Z"
   },
   {
    "duration": 152,
    "start_time": "2022-05-10T09:30:45.693Z"
   },
   {
    "duration": 38,
    "start_time": "2022-05-10T09:30:45.847Z"
   },
   {
    "duration": 109,
    "start_time": "2022-05-10T09:30:45.887Z"
   },
   {
    "duration": 55,
    "start_time": "2022-05-10T09:30:45.999Z"
   },
   {
    "duration": 91,
    "start_time": "2022-05-10T09:30:46.057Z"
   },
   {
    "duration": 29,
    "start_time": "2022-05-10T09:30:46.154Z"
   },
   {
    "duration": 55,
    "start_time": "2022-05-10T09:30:46.186Z"
   },
   {
    "duration": 53,
    "start_time": "2022-05-10T09:30:46.243Z"
   },
   {
    "duration": 47,
    "start_time": "2022-05-10T09:30:46.298Z"
   },
   {
    "duration": 136,
    "start_time": "2022-05-10T09:30:46.348Z"
   },
   {
    "duration": 49,
    "start_time": "2022-05-10T09:30:46.487Z"
   },
   {
    "duration": 40,
    "start_time": "2022-05-10T09:30:46.538Z"
   },
   {
    "duration": 477,
    "start_time": "2022-05-10T09:30:46.580Z"
   },
   {
    "duration": 340,
    "start_time": "2022-05-10T09:30:47.060Z"
   },
   {
    "duration": 284,
    "start_time": "2022-05-10T09:30:47.403Z"
   },
   {
    "duration": 653,
    "start_time": "2022-05-10T09:30:47.689Z"
   },
   {
    "duration": 382,
    "start_time": "2022-05-10T09:30:48.345Z"
   },
   {
    "duration": 298,
    "start_time": "2022-05-10T09:30:48.729Z"
   },
   {
    "duration": 6,
    "start_time": "2022-05-10T09:30:49.030Z"
   },
   {
    "duration": 26,
    "start_time": "2022-05-10T09:30:49.038Z"
   },
   {
    "duration": 435,
    "start_time": "2022-05-10T09:31:15.797Z"
   },
   {
    "duration": 201,
    "start_time": "2022-05-10T09:31:24.605Z"
   },
   {
    "duration": 341,
    "start_time": "2022-05-10T09:31:46.138Z"
   },
   {
    "duration": 168,
    "start_time": "2022-05-10T09:32:29.789Z"
   },
   {
    "duration": 402,
    "start_time": "2022-05-10T09:32:41.361Z"
   },
   {
    "duration": 550,
    "start_time": "2022-05-10T09:33:03.609Z"
   },
   {
    "duration": 367,
    "start_time": "2022-05-10T09:34:32.791Z"
   },
   {
    "duration": 354,
    "start_time": "2022-05-10T09:34:52.055Z"
   },
   {
    "duration": 464,
    "start_time": "2022-05-10T09:34:54.772Z"
   },
   {
    "duration": 2024,
    "start_time": "2022-05-10T10:02:18.315Z"
   },
   {
    "duration": 51,
    "start_time": "2022-05-10T10:02:20.342Z"
   },
   {
    "duration": 260,
    "start_time": "2022-05-10T10:02:20.395Z"
   },
   {
    "duration": 77,
    "start_time": "2022-05-10T10:02:20.658Z"
   },
   {
    "duration": 246,
    "start_time": "2022-05-10T10:02:20.738Z"
   },
   {
    "duration": 37,
    "start_time": "2022-05-10T10:02:20.986Z"
   },
   {
    "duration": 156,
    "start_time": "2022-05-10T10:02:21.026Z"
   },
   {
    "duration": 62,
    "start_time": "2022-05-10T10:02:21.184Z"
   },
   {
    "duration": 54,
    "start_time": "2022-05-10T10:02:21.248Z"
   },
   {
    "duration": 21,
    "start_time": "2022-05-10T10:02:21.326Z"
   },
   {
    "duration": 33,
    "start_time": "2022-05-10T10:02:21.349Z"
   },
   {
    "duration": 107,
    "start_time": "2022-05-10T10:02:21.385Z"
   },
   {
    "duration": 42,
    "start_time": "2022-05-10T10:02:21.496Z"
   },
   {
    "duration": 203,
    "start_time": "2022-05-10T10:02:21.541Z"
   },
   {
    "duration": 56,
    "start_time": "2022-05-10T10:02:21.747Z"
   },
   {
    "duration": 61,
    "start_time": "2022-05-10T10:02:21.806Z"
   },
   {
    "duration": 364,
    "start_time": "2022-05-10T10:02:21.869Z"
   },
   {
    "duration": 341,
    "start_time": "2022-05-10T10:02:22.236Z"
   },
   {
    "duration": 277,
    "start_time": "2022-05-10T10:02:22.580Z"
   },
   {
    "duration": 370,
    "start_time": "2022-05-10T10:02:22.859Z"
   },
   {
    "duration": 352,
    "start_time": "2022-05-10T10:02:23.231Z"
   },
   {
    "duration": 283,
    "start_time": "2022-05-10T10:02:23.586Z"
   },
   {
    "duration": 7,
    "start_time": "2022-05-10T10:02:23.871Z"
   },
   {
    "duration": 52,
    "start_time": "2022-05-10T10:02:23.881Z"
   },
   {
    "duration": 1485,
    "start_time": "2022-05-14T12:19:02.689Z"
   },
   {
    "duration": 11,
    "start_time": "2022-05-14T12:19:04.176Z"
   },
   {
    "duration": 4,
    "start_time": "2022-05-14T12:19:04.188Z"
   },
   {
    "duration": 31,
    "start_time": "2022-05-14T12:19:04.194Z"
   },
   {
    "duration": 152,
    "start_time": "2022-05-14T12:19:04.227Z"
   },
   {
    "duration": 52,
    "start_time": "2022-05-14T12:19:04.381Z"
   },
   {
    "duration": 87,
    "start_time": "2022-05-14T12:19:04.435Z"
   },
   {
    "duration": 24,
    "start_time": "2022-05-14T12:19:04.524Z"
   },
   {
    "duration": 71,
    "start_time": "2022-05-14T12:19:04.550Z"
   },
   {
    "duration": 21,
    "start_time": "2022-05-14T12:19:04.623Z"
   },
   {
    "duration": 26,
    "start_time": "2022-05-14T12:19:04.645Z"
   },
   {
    "duration": 33,
    "start_time": "2022-05-14T12:19:04.673Z"
   },
   {
    "duration": 3,
    "start_time": "2022-05-14T12:19:04.708Z"
   },
   {
    "duration": 18,
    "start_time": "2022-05-14T12:19:04.712Z"
   },
   {
    "duration": 35,
    "start_time": "2022-05-14T12:19:04.732Z"
   },
   {
    "duration": 12,
    "start_time": "2022-05-14T12:19:04.768Z"
   },
   {
    "duration": 1601,
    "start_time": "2022-05-14T12:19:04.800Z"
   },
   {
    "duration": 21,
    "start_time": "2022-05-14T12:19:06.403Z"
   },
   {
    "duration": 22,
    "start_time": "2022-05-14T12:19:06.425Z"
   },
   {
    "duration": 218,
    "start_time": "2022-05-14T12:19:06.449Z"
   },
   {
    "duration": 176,
    "start_time": "2022-05-14T12:19:06.668Z"
   },
   {
    "duration": 170,
    "start_time": "2022-05-14T12:19:06.846Z"
   },
   {
    "duration": 210,
    "start_time": "2022-05-14T12:19:07.017Z"
   },
   {
    "duration": 195,
    "start_time": "2022-05-14T12:19:07.228Z"
   },
   {
    "duration": 199,
    "start_time": "2022-05-14T12:19:07.424Z"
   },
   {
    "duration": 5,
    "start_time": "2022-05-14T12:19:07.625Z"
   },
   {
    "duration": 20,
    "start_time": "2022-05-14T12:19:07.631Z"
   }
  ],
  "kernelspec": {
   "display_name": "Python 3 (ipykernel)",
   "language": "python",
   "name": "python3"
  },
  "language_info": {
   "codemirror_mode": {
    "name": "ipython",
    "version": 3
   },
   "file_extension": ".py",
   "mimetype": "text/x-python",
   "name": "python",
   "nbconvert_exporter": "python",
   "pygments_lexer": "ipython3",
   "version": "3.9.7"
  },
  "toc": {
   "base_numbering": 1,
   "nav_menu": {},
   "number_sections": true,
   "sideBar": true,
   "skip_h1_title": true,
   "title_cell": "Table of Contents",
   "title_sidebar": "Contents",
   "toc_cell": false,
   "toc_position": {},
   "toc_section_display": true,
   "toc_window_display": false
  }
 },
 "nbformat": 4,
 "nbformat_minor": 5
}
